{
 "cells": [
  {
   "cell_type": "code",
   "execution_count": 37,
   "outputs": [],
   "source": [
    "import numpy as np\n",
    "import pandas as pd\n",
    "import matplotlib.pyplot as plt\n",
    "import seaborn as sns\n",
    "%matplotlib inline\n",
    "import datetime\n",
    "from collections import deque"
   ],
   "metadata": {
    "collapsed": false,
    "pycharm": {
     "name": "#%%\n"
    }
   }
  },
  {
   "cell_type": "markdown",
   "source": [
    "# Feature Engineering\n",
    "features:\n",
    "FG per game by shot"
   ],
   "metadata": {
    "collapsed": false,
    "pycharm": {
     "name": "#%% md\n"
    }
   }
  },
  {
   "cell_type": "code",
   "execution_count": 45,
   "outputs": [],
   "source": [
    "df = pd.read_csv('../data/data1.csv')\n"
   ],
   "metadata": {
    "collapsed": false,
    "pycharm": {
     "name": "#%%\n"
    }
   }
  },
  {
   "cell_type": "code",
   "execution_count": 39,
   "outputs": [],
   "source": [
    "def last_5_average(df):\n",
    "    \"\"\"\n",
    "    Create a \"moving average\" for the points scored in the last 5 games.\n",
    "    :param df:\n",
    "    :return:\n",
    "    \"\"\"\n",
    "    df = df.sort_values(by=['game_date'])\n",
    "    df['last_5_games_avg'] = \"\"\n",
    "\n",
    "    average_per_game = df.groupby(['game_id'], sort=False)['shot_made_flag'].mean().reset_index(name=\"avg\")\n",
    "    avg_pts = deque(maxlen=5) # using a queue with a max number of elements\n",
    "\n",
    "    prev_res = 0\n",
    "    for i, game, avg in average_per_game.itertuples():\n",
    "        avg_pts.append(avg)\n",
    "        res = round(sum(avg_pts) / len(avg_pts),2) # max size will be 5. for the first 5 we divide by the length of the array.\n",
    "        if i == 0:\n",
    "            # we skip the first\n",
    "            df.loc[df['game_id'] == game, ['last_5_games_avg']] = 0\n",
    "        else:\n",
    "            df.loc[df['game_id'] == game, ['last_5_games_avg']] = prev_res\n",
    "\n",
    "        prev_res = res\n",
    "\n",
    "    return df\n"
   ],
   "metadata": {
    "collapsed": false,
    "pycharm": {
     "name": "#%%\n"
    }
   }
  },
  {
   "cell_type": "code",
   "execution_count": 40,
   "outputs": [],
   "source": [
    "# shot id is needed. we can delete it later\n",
    "def before_current_shot_features(df):\n",
    "    \"\"\"\n",
    "    Adding the statistics for the shots taken before the current shot\n",
    "    :param df:\n",
    "    :return:\n",
    "    \"\"\"\n",
    "    df['streak_before_shot'] = \"\"\n",
    "    df['points_before_shot'] = \"\"\n",
    "    df['fgp_before_shot'] = \"\"\n",
    "\n",
    "    for game in df.game_id.unique():\n",
    "        fgp = [0,0]\n",
    "        streak = 0\n",
    "        shots = df[df['game_id'] == game]['shot_id'].sort_values()\n",
    "        prev_streak = 0\n",
    "        points = 0\n",
    "        prev_points = 0\n",
    "        for num, shot in enumerate(shots):\n",
    "\n",
    "            row = df[(df['game_id'] == game) & (df['shot_id'] == shot)]\n",
    "\n",
    "            flag = row['shot_made_flag'].item()\n",
    "            shot_type = row['shot_type'].item()\n",
    "            period = row['period'].item()\n",
    "\n",
    "            # TODO divide per period somehow and multiply by the time remaining\n",
    "            if num == 0:\n",
    "                df.loc[(df['game_id']==game) & (df['shot_id'] == shot), ['fgp_before_shot'] ] = 0.00\n",
    "            else:\n",
    "                df.loc[(df['game_id']==game) & (df['shot_id'] == shot), ['fgp_before_shot'] ] = round(fgp[0]/fgp[1],2)\n",
    "\n",
    "            fgp[1] += 1\n",
    "            if flag == 1.0:\n",
    "                fgp[0] += 1\n",
    "                prev_streak = streak\n",
    "                prev_points = points\n",
    "                streak += 1\n",
    "\n",
    "                if shot_type == '2PT Field Goal':\n",
    "                    points += 2\n",
    "                else:\n",
    "                    points += 3\n",
    "            else:\n",
    "                prev_streak = streak\n",
    "                prev_points = points\n",
    "                streak = 0\n",
    "\n",
    "            # df.loc[(df['game_id']==game) & (df['shot_id'] == shot), ['current_streak'] ] = streak\n",
    "            df.loc[(df['game_id']==game) & (df['shot_id'] == shot), ['streak_before_shot'] ] = prev_streak\n",
    "            df.loc[(df['game_id']==game) & (df['shot_id'] == shot), ['points_before_shot'] ] = prev_points\n",
    "\n",
    "    return df"
   ],
   "metadata": {
    "collapsed": false,
    "pycharm": {
     "name": "#%%\n"
    }
   }
  },
  {
   "cell_type": "markdown",
   "source": [
    "Extracting the month, players shoot differently depending on the month"
   ],
   "metadata": {
    "collapsed": false,
    "pycharm": {
     "name": "#%% md\n"
    }
   }
  },
  {
   "cell_type": "code",
   "execution_count": 41,
   "outputs": [],
   "source": [
    "def extract_from_date(df):\n",
    "    \"\"\"\n",
    "    Extract the month from the datetime format.\n",
    "    :param df: dataframe\n",
    "    :return: modified df with the month feature\n",
    "    \"\"\"\n",
    "    df['month'] = df.game_date.apply(lambda x: datetime.datetime.strptime(x, \"%Y-%m-%d\").month)\n",
    "    df['weekday'] = df.game_date.apply(lambda x: datetime.datetime.strptime(x, \"%Y-%m-%d\").weekday())\n",
    "    return df\n"
   ],
   "metadata": {
    "collapsed": false,
    "pycharm": {
     "name": "#%%\n"
    }
   }
  },
  {
   "cell_type": "code",
   "execution_count": 42,
   "outputs": [
    {
     "data": {
      "text/plain": "         action_type combined_shot_type  game_event_id   game_id      lat  \\\n0          Jump Shot          Jump Shot             12  20000012  34.0443   \n1          Jump Shot          Jump Shot             35  20000012  33.9093   \n2          Jump Shot          Jump Shot             43  20000012  33.8693   \n3  Driving Dunk Shot               Dunk            155  20000012  34.0443   \n4          Jump Shot          Jump Shot            244  20000012  34.0553   \n\n   loc_x  loc_y       lon  period  playoffs  ...         shot_zone_area  \\\n0   -157      0 -118.4268       1         0  ...           Left Side(L)   \n1   -101    135 -118.3708       1         0  ...   Left Side Center(LC)   \n2    138    175 -118.1318       1         0  ...  Right Side Center(RC)   \n3      0      0 -118.2698       2         0  ...              Center(C)   \n4   -145    -11 -118.4148       3         0  ...           Left Side(L)   \n\n   shot_zone_basic  shot_zone_range     team_id           team_name  \\\n0        Mid-Range         8-16 ft.  1610612747  Los Angeles Lakers   \n1        Mid-Range        16-24 ft.  1610612747  Los Angeles Lakers   \n2        Mid-Range        16-24 ft.  1610612747  Los Angeles Lakers   \n3  Restricted Area  Less Than 8 ft.  1610612747  Los Angeles Lakers   \n4        Mid-Range         8-16 ft.  1610612747  Los Angeles Lakers   \n\n    game_date matchup  opponent shot_id time_remaining  \n0  2000-10-31    away       POR       2            622  \n1  2000-10-31    away       POR       3            465  \n2  2000-10-31    away       POR       4            412  \n3  2000-10-31    away       POR       5            379  \n4  2000-10-31    away       POR       6            572  \n\n[5 rows x 24 columns]",
      "text/html": "<div>\n<style scoped>\n    .dataframe tbody tr th:only-of-type {\n        vertical-align: middle;\n    }\n\n    .dataframe tbody tr th {\n        vertical-align: top;\n    }\n\n    .dataframe thead th {\n        text-align: right;\n    }\n</style>\n<table border=\"1\" class=\"dataframe\">\n  <thead>\n    <tr style=\"text-align: right;\">\n      <th></th>\n      <th>action_type</th>\n      <th>combined_shot_type</th>\n      <th>game_event_id</th>\n      <th>game_id</th>\n      <th>lat</th>\n      <th>loc_x</th>\n      <th>loc_y</th>\n      <th>lon</th>\n      <th>period</th>\n      <th>playoffs</th>\n      <th>...</th>\n      <th>shot_zone_area</th>\n      <th>shot_zone_basic</th>\n      <th>shot_zone_range</th>\n      <th>team_id</th>\n      <th>team_name</th>\n      <th>game_date</th>\n      <th>matchup</th>\n      <th>opponent</th>\n      <th>shot_id</th>\n      <th>time_remaining</th>\n    </tr>\n  </thead>\n  <tbody>\n    <tr>\n      <th>0</th>\n      <td>Jump Shot</td>\n      <td>Jump Shot</td>\n      <td>12</td>\n      <td>20000012</td>\n      <td>34.0443</td>\n      <td>-157</td>\n      <td>0</td>\n      <td>-118.4268</td>\n      <td>1</td>\n      <td>0</td>\n      <td>...</td>\n      <td>Left Side(L)</td>\n      <td>Mid-Range</td>\n      <td>8-16 ft.</td>\n      <td>1610612747</td>\n      <td>Los Angeles Lakers</td>\n      <td>2000-10-31</td>\n      <td>away</td>\n      <td>POR</td>\n      <td>2</td>\n      <td>622</td>\n    </tr>\n    <tr>\n      <th>1</th>\n      <td>Jump Shot</td>\n      <td>Jump Shot</td>\n      <td>35</td>\n      <td>20000012</td>\n      <td>33.9093</td>\n      <td>-101</td>\n      <td>135</td>\n      <td>-118.3708</td>\n      <td>1</td>\n      <td>0</td>\n      <td>...</td>\n      <td>Left Side Center(LC)</td>\n      <td>Mid-Range</td>\n      <td>16-24 ft.</td>\n      <td>1610612747</td>\n      <td>Los Angeles Lakers</td>\n      <td>2000-10-31</td>\n      <td>away</td>\n      <td>POR</td>\n      <td>3</td>\n      <td>465</td>\n    </tr>\n    <tr>\n      <th>2</th>\n      <td>Jump Shot</td>\n      <td>Jump Shot</td>\n      <td>43</td>\n      <td>20000012</td>\n      <td>33.8693</td>\n      <td>138</td>\n      <td>175</td>\n      <td>-118.1318</td>\n      <td>1</td>\n      <td>0</td>\n      <td>...</td>\n      <td>Right Side Center(RC)</td>\n      <td>Mid-Range</td>\n      <td>16-24 ft.</td>\n      <td>1610612747</td>\n      <td>Los Angeles Lakers</td>\n      <td>2000-10-31</td>\n      <td>away</td>\n      <td>POR</td>\n      <td>4</td>\n      <td>412</td>\n    </tr>\n    <tr>\n      <th>3</th>\n      <td>Driving Dunk Shot</td>\n      <td>Dunk</td>\n      <td>155</td>\n      <td>20000012</td>\n      <td>34.0443</td>\n      <td>0</td>\n      <td>0</td>\n      <td>-118.2698</td>\n      <td>2</td>\n      <td>0</td>\n      <td>...</td>\n      <td>Center(C)</td>\n      <td>Restricted Area</td>\n      <td>Less Than 8 ft.</td>\n      <td>1610612747</td>\n      <td>Los Angeles Lakers</td>\n      <td>2000-10-31</td>\n      <td>away</td>\n      <td>POR</td>\n      <td>5</td>\n      <td>379</td>\n    </tr>\n    <tr>\n      <th>4</th>\n      <td>Jump Shot</td>\n      <td>Jump Shot</td>\n      <td>244</td>\n      <td>20000012</td>\n      <td>34.0553</td>\n      <td>-145</td>\n      <td>-11</td>\n      <td>-118.4148</td>\n      <td>3</td>\n      <td>0</td>\n      <td>...</td>\n      <td>Left Side(L)</td>\n      <td>Mid-Range</td>\n      <td>8-16 ft.</td>\n      <td>1610612747</td>\n      <td>Los Angeles Lakers</td>\n      <td>2000-10-31</td>\n      <td>away</td>\n      <td>POR</td>\n      <td>6</td>\n      <td>572</td>\n    </tr>\n  </tbody>\n</table>\n<p>5 rows × 24 columns</p>\n</div>"
     },
     "execution_count": 42,
     "metadata": {},
     "output_type": "execute_result"
    }
   ],
   "source": [
    "df.head()"
   ],
   "metadata": {
    "collapsed": false,
    "pycharm": {
     "name": "#%%\n"
    }
   }
  },
  {
   "cell_type": "code",
   "execution_count": 43,
   "outputs": [
    {
     "ename": "KeyError",
     "evalue": "'month'",
     "output_type": "error",
     "traceback": [
      "\u001B[0;31m---------------------------------------------------------------------------\u001B[0m",
      "\u001B[0;31mKeyError\u001B[0m                                  Traceback (most recent call last)",
      "Input \u001B[0;32mIn [43]\u001B[0m, in \u001B[0;36m<cell line: 2>\u001B[0;34m()\u001B[0m\n\u001B[1;32m      1\u001B[0m plt\u001B[38;5;241m.\u001B[39mfigure(figsize\u001B[38;5;241m=\u001B[39m(\u001B[38;5;241m25\u001B[39m,\u001B[38;5;241m10\u001B[39m))\n\u001B[0;32m----> 2\u001B[0m df_fgp \u001B[38;5;241m=\u001B[39m \u001B[43mdf\u001B[49m\u001B[38;5;241;43m.\u001B[39;49m\u001B[43mgroupby\u001B[49m\u001B[43m(\u001B[49m\u001B[43m[\u001B[49m\u001B[38;5;124;43m'\u001B[39;49m\u001B[38;5;124;43mseason\u001B[39;49m\u001B[38;5;124;43m'\u001B[39;49m\u001B[43m,\u001B[49m\u001B[43m \u001B[49m\u001B[38;5;124;43m'\u001B[39;49m\u001B[38;5;124;43mmonth\u001B[39;49m\u001B[38;5;124;43m'\u001B[39;49m\u001B[43m]\u001B[49m\u001B[43m)\u001B[49m[\u001B[38;5;124m'\u001B[39m\u001B[38;5;124mshot_made_flag\u001B[39m\u001B[38;5;124m'\u001B[39m]\u001B[38;5;241m.\u001B[39mmean()\u001B[38;5;241m.\u001B[39mreset_index(name\u001B[38;5;241m=\u001B[39m\u001B[38;5;124m'\u001B[39m\u001B[38;5;124mFGP\u001B[39m\u001B[38;5;124m'\u001B[39m)\n\u001B[1;32m      3\u001B[0m sns\u001B[38;5;241m.\u001B[39mbarplot(data\u001B[38;5;241m=\u001B[39mdf_fgp, x\u001B[38;5;241m=\u001B[39m\u001B[38;5;124m'\u001B[39m\u001B[38;5;124mseason\u001B[39m\u001B[38;5;124m'\u001B[39m, y\u001B[38;5;241m=\u001B[39m\u001B[38;5;124m'\u001B[39m\u001B[38;5;124mFGP\u001B[39m\u001B[38;5;124m'\u001B[39m, hue\u001B[38;5;241m=\u001B[39m\u001B[38;5;124m'\u001B[39m\u001B[38;5;124mmonth\u001B[39m\u001B[38;5;124m'\u001B[39m,ci\u001B[38;5;241m=\u001B[39m\u001B[38;5;28;01mNone\u001B[39;00m, hue_order\u001B[38;5;241m=\u001B[39m[\u001B[38;5;241m10\u001B[39m,\u001B[38;5;241m11\u001B[39m,\u001B[38;5;241m12\u001B[39m,\u001B[38;5;241m1\u001B[39m,\u001B[38;5;241m2\u001B[39m,\u001B[38;5;241m3\u001B[39m,\u001B[38;5;241m4\u001B[39m,\u001B[38;5;241m5\u001B[39m,\u001B[38;5;241m6\u001B[39m])\n",
      "File \u001B[0;32m~/lib/python3.8/site-packages/pandas/core/frame.py:7712\u001B[0m, in \u001B[0;36mDataFrame.groupby\u001B[0;34m(self, by, axis, level, as_index, sort, group_keys, squeeze, observed, dropna)\u001B[0m\n\u001B[1;32m   7707\u001B[0m axis \u001B[38;5;241m=\u001B[39m \u001B[38;5;28mself\u001B[39m\u001B[38;5;241m.\u001B[39m_get_axis_number(axis)\n\u001B[1;32m   7709\u001B[0m \u001B[38;5;66;03m# https://github.com/python/mypy/issues/7642\u001B[39;00m\n\u001B[1;32m   7710\u001B[0m \u001B[38;5;66;03m# error: Argument \"squeeze\" to \"DataFrameGroupBy\" has incompatible type\u001B[39;00m\n\u001B[1;32m   7711\u001B[0m \u001B[38;5;66;03m# \"Union[bool, NoDefault]\"; expected \"bool\"\u001B[39;00m\n\u001B[0;32m-> 7712\u001B[0m \u001B[38;5;28;01mreturn\u001B[39;00m \u001B[43mDataFrameGroupBy\u001B[49m\u001B[43m(\u001B[49m\n\u001B[1;32m   7713\u001B[0m \u001B[43m    \u001B[49m\u001B[43mobj\u001B[49m\u001B[38;5;241;43m=\u001B[39;49m\u001B[38;5;28;43mself\u001B[39;49m\u001B[43m,\u001B[49m\n\u001B[1;32m   7714\u001B[0m \u001B[43m    \u001B[49m\u001B[43mkeys\u001B[49m\u001B[38;5;241;43m=\u001B[39;49m\u001B[43mby\u001B[49m\u001B[43m,\u001B[49m\n\u001B[1;32m   7715\u001B[0m \u001B[43m    \u001B[49m\u001B[43maxis\u001B[49m\u001B[38;5;241;43m=\u001B[39;49m\u001B[43maxis\u001B[49m\u001B[43m,\u001B[49m\n\u001B[1;32m   7716\u001B[0m \u001B[43m    \u001B[49m\u001B[43mlevel\u001B[49m\u001B[38;5;241;43m=\u001B[39;49m\u001B[43mlevel\u001B[49m\u001B[43m,\u001B[49m\n\u001B[1;32m   7717\u001B[0m \u001B[43m    \u001B[49m\u001B[43mas_index\u001B[49m\u001B[38;5;241;43m=\u001B[39;49m\u001B[43mas_index\u001B[49m\u001B[43m,\u001B[49m\n\u001B[1;32m   7718\u001B[0m \u001B[43m    \u001B[49m\u001B[43msort\u001B[49m\u001B[38;5;241;43m=\u001B[39;49m\u001B[43msort\u001B[49m\u001B[43m,\u001B[49m\n\u001B[1;32m   7719\u001B[0m \u001B[43m    \u001B[49m\u001B[43mgroup_keys\u001B[49m\u001B[38;5;241;43m=\u001B[39;49m\u001B[43mgroup_keys\u001B[49m\u001B[43m,\u001B[49m\n\u001B[1;32m   7720\u001B[0m \u001B[43m    \u001B[49m\u001B[43msqueeze\u001B[49m\u001B[38;5;241;43m=\u001B[39;49m\u001B[43msqueeze\u001B[49m\u001B[43m,\u001B[49m\u001B[43m  \u001B[49m\u001B[38;5;66;43;03m# type: ignore[arg-type]\u001B[39;49;00m\n\u001B[1;32m   7721\u001B[0m \u001B[43m    \u001B[49m\u001B[43mobserved\u001B[49m\u001B[38;5;241;43m=\u001B[39;49m\u001B[43mobserved\u001B[49m\u001B[43m,\u001B[49m\n\u001B[1;32m   7722\u001B[0m \u001B[43m    \u001B[49m\u001B[43mdropna\u001B[49m\u001B[38;5;241;43m=\u001B[39;49m\u001B[43mdropna\u001B[49m\u001B[43m,\u001B[49m\n\u001B[1;32m   7723\u001B[0m \u001B[43m\u001B[49m\u001B[43m)\u001B[49m\n",
      "File \u001B[0;32m~/lib/python3.8/site-packages/pandas/core/groupby/groupby.py:882\u001B[0m, in \u001B[0;36mGroupBy.__init__\u001B[0;34m(self, obj, keys, axis, level, grouper, exclusions, selection, as_index, sort, group_keys, squeeze, observed, mutated, dropna)\u001B[0m\n\u001B[1;32m    879\u001B[0m \u001B[38;5;28;01mif\u001B[39;00m grouper \u001B[38;5;129;01mis\u001B[39;00m \u001B[38;5;28;01mNone\u001B[39;00m:\n\u001B[1;32m    880\u001B[0m     \u001B[38;5;28;01mfrom\u001B[39;00m \u001B[38;5;21;01mpandas\u001B[39;00m\u001B[38;5;21;01m.\u001B[39;00m\u001B[38;5;21;01mcore\u001B[39;00m\u001B[38;5;21;01m.\u001B[39;00m\u001B[38;5;21;01mgroupby\u001B[39;00m\u001B[38;5;21;01m.\u001B[39;00m\u001B[38;5;21;01mgrouper\u001B[39;00m \u001B[38;5;28;01mimport\u001B[39;00m get_grouper\n\u001B[0;32m--> 882\u001B[0m     grouper, exclusions, obj \u001B[38;5;241m=\u001B[39m \u001B[43mget_grouper\u001B[49m\u001B[43m(\u001B[49m\n\u001B[1;32m    883\u001B[0m \u001B[43m        \u001B[49m\u001B[43mobj\u001B[49m\u001B[43m,\u001B[49m\n\u001B[1;32m    884\u001B[0m \u001B[43m        \u001B[49m\u001B[43mkeys\u001B[49m\u001B[43m,\u001B[49m\n\u001B[1;32m    885\u001B[0m \u001B[43m        \u001B[49m\u001B[43maxis\u001B[49m\u001B[38;5;241;43m=\u001B[39;49m\u001B[43maxis\u001B[49m\u001B[43m,\u001B[49m\n\u001B[1;32m    886\u001B[0m \u001B[43m        \u001B[49m\u001B[43mlevel\u001B[49m\u001B[38;5;241;43m=\u001B[39;49m\u001B[43mlevel\u001B[49m\u001B[43m,\u001B[49m\n\u001B[1;32m    887\u001B[0m \u001B[43m        \u001B[49m\u001B[43msort\u001B[49m\u001B[38;5;241;43m=\u001B[39;49m\u001B[43msort\u001B[49m\u001B[43m,\u001B[49m\n\u001B[1;32m    888\u001B[0m \u001B[43m        \u001B[49m\u001B[43mobserved\u001B[49m\u001B[38;5;241;43m=\u001B[39;49m\u001B[43mobserved\u001B[49m\u001B[43m,\u001B[49m\n\u001B[1;32m    889\u001B[0m \u001B[43m        \u001B[49m\u001B[43mmutated\u001B[49m\u001B[38;5;241;43m=\u001B[39;49m\u001B[38;5;28;43mself\u001B[39;49m\u001B[38;5;241;43m.\u001B[39;49m\u001B[43mmutated\u001B[49m\u001B[43m,\u001B[49m\n\u001B[1;32m    890\u001B[0m \u001B[43m        \u001B[49m\u001B[43mdropna\u001B[49m\u001B[38;5;241;43m=\u001B[39;49m\u001B[38;5;28;43mself\u001B[39;49m\u001B[38;5;241;43m.\u001B[39;49m\u001B[43mdropna\u001B[49m\u001B[43m,\u001B[49m\n\u001B[1;32m    891\u001B[0m \u001B[43m    \u001B[49m\u001B[43m)\u001B[49m\n\u001B[1;32m    893\u001B[0m \u001B[38;5;28mself\u001B[39m\u001B[38;5;241m.\u001B[39mobj \u001B[38;5;241m=\u001B[39m obj\n\u001B[1;32m    894\u001B[0m \u001B[38;5;28mself\u001B[39m\u001B[38;5;241m.\u001B[39maxis \u001B[38;5;241m=\u001B[39m obj\u001B[38;5;241m.\u001B[39m_get_axis_number(axis)\n",
      "File \u001B[0;32m~/lib/python3.8/site-packages/pandas/core/groupby/grouper.py:882\u001B[0m, in \u001B[0;36mget_grouper\u001B[0;34m(obj, key, axis, level, sort, observed, mutated, validate, dropna)\u001B[0m\n\u001B[1;32m    880\u001B[0m         in_axis, level, gpr \u001B[38;5;241m=\u001B[39m \u001B[38;5;28;01mFalse\u001B[39;00m, gpr, \u001B[38;5;28;01mNone\u001B[39;00m\n\u001B[1;32m    881\u001B[0m     \u001B[38;5;28;01melse\u001B[39;00m:\n\u001B[0;32m--> 882\u001B[0m         \u001B[38;5;28;01mraise\u001B[39;00m \u001B[38;5;167;01mKeyError\u001B[39;00m(gpr)\n\u001B[1;32m    883\u001B[0m \u001B[38;5;28;01melif\u001B[39;00m \u001B[38;5;28misinstance\u001B[39m(gpr, Grouper) \u001B[38;5;129;01mand\u001B[39;00m gpr\u001B[38;5;241m.\u001B[39mkey \u001B[38;5;129;01mis\u001B[39;00m \u001B[38;5;129;01mnot\u001B[39;00m \u001B[38;5;28;01mNone\u001B[39;00m:\n\u001B[1;32m    884\u001B[0m     \u001B[38;5;66;03m# Add key to exclusions\u001B[39;00m\n\u001B[1;32m    885\u001B[0m     exclusions\u001B[38;5;241m.\u001B[39madd(gpr\u001B[38;5;241m.\u001B[39mkey)\n",
      "\u001B[0;31mKeyError\u001B[0m: 'month'"
     ]
    },
    {
     "data": {
      "text/plain": "<Figure size 1800x720 with 0 Axes>"
     },
     "metadata": {},
     "output_type": "display_data"
    }
   ],
   "source": [
    "plt.figure(figsize=(25,10))\n",
    "df_fgp = df.groupby(['season', 'month'])['shot_made_flag'].mean().reset_index(name='FGP')\n",
    "sns.barplot(data=df_fgp, x='season', y='FGP', hue='month',ci=None, hue_order=[10,11,12,1,2,3,4,5,6])"
   ],
   "metadata": {
    "collapsed": false,
    "pycharm": {
     "name": "#%%\n"
    }
   }
  },
  {
   "cell_type": "markdown",
   "source": [
    "FGP per game in a season"
   ],
   "metadata": {
    "collapsed": false,
    "pycharm": {
     "name": "#%% md\n"
    }
   }
  },
  {
   "cell_type": "code",
   "execution_count": null,
   "outputs": [],
   "source": [
    "# we don't use this statistics anymore. Maybe come up with something different?\n",
    "# df.to_csv('../data/data2.csv', index=False)# df_pm = df[['season', 'plus_minus', 'game_date']].drop_duplicates()\n",
    "# g = sns.FacetGrid(df_pm, col=\"season\", col_wrap=2, size=4, aspect=2)\n",
    "# g.map(sns.barplot,'game_date', 'plus_minus', data=df_pm)"
   ],
   "metadata": {
    "collapsed": false,
    "pycharm": {
     "name": "#%%\n"
    }
   }
  },
  {
   "cell_type": "code",
   "execution_count": 44,
   "outputs": [],
   "source": [
    "df.to_csv('../data/data2.csv', index=False)"
   ],
   "metadata": {
    "collapsed": false,
    "pycharm": {
     "name": "#%%\n"
    }
   }
  },
  {
   "cell_type": "code",
   "execution_count": null,
   "outputs": [],
   "source": [],
   "metadata": {
    "collapsed": false,
    "pycharm": {
     "name": "#%%\n"
    }
   }
  }
 ],
 "metadata": {
  "kernelspec": {
   "display_name": "Python 3",
   "language": "python",
   "name": "python3"
  },
  "language_info": {
   "codemirror_mode": {
    "name": "ipython",
    "version": 2
   },
   "file_extension": ".py",
   "mimetype": "text/x-python",
   "name": "python",
   "nbconvert_exporter": "python",
   "pygments_lexer": "ipython2",
   "version": "2.7.6"
  }
 },
 "nbformat": 4,
 "nbformat_minor": 0
}
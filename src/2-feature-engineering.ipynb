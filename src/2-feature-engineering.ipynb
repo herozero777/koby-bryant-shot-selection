{
 "cells": [
  {
   "cell_type": "code",
   "execution_count": 1,
   "outputs": [],
   "source": [
    "import numpy as np\n",
    "import pandas as pd\n",
    "import matplotlib.pyplot as plt\n",
    "import seaborn as sns\n",
    "%matplotlib inline\n",
    "import datetime\n",
    "from collections import deque"
   ],
   "metadata": {
    "collapsed": false,
    "pycharm": {
     "name": "#%%\n"
    }
   }
  },
  {
   "cell_type": "markdown",
   "source": [
    "# Feature Engineering\n",
    "features:\n",
    "FG per game by shot"
   ],
   "metadata": {
    "collapsed": false,
    "pycharm": {
     "name": "#%% md\n"
    }
   }
  },
  {
   "cell_type": "code",
   "execution_count": 81,
   "outputs": [],
   "source": [
    "df = pd.read_csv('../data/data1.csv')\n"
   ],
   "metadata": {
    "collapsed": false,
    "pycharm": {
     "name": "#%%\n"
    }
   }
  },
  {
   "cell_type": "code",
   "execution_count": 81,
   "outputs": [],
   "source": [],
   "metadata": {
    "collapsed": false,
    "pycharm": {
     "name": "#%%\n"
    }
   }
  },
  {
   "cell_type": "code",
   "execution_count": 82,
   "outputs": [],
   "source": [
    "def last_5_average(df):\n",
    "    \"\"\"\n",
    "    Create a \"moving average\" for the points scored in the last 5 games.\n",
    "    :param df:\n",
    "    :return:\n",
    "    \"\"\"\n",
    "    df = df.sort_values(by=['game_date'])\n",
    "    df['last_5_games_avg'] = \"\"\n",
    "\n",
    "    average_per_game = df.groupby(['game_id'], sort=False)['shot_made_flag'].mean().reset_index(name=\"avg\")\n",
    "    avg_pts = deque(maxlen=5) # using a queue with a max number of elements\n",
    "\n",
    "    prev_res = 0\n",
    "    for i, game, avg in average_per_game.itertuples():\n",
    "        avg_pts.append(avg)\n",
    "        res = round(sum(avg_pts) / len(avg_pts),2) # max size will be 5. for the first 5 we divide by the length of the array.\n",
    "        if i == 0:\n",
    "            # we skip the first\n",
    "            df.loc[df['game_id'] == game, ['last_5_games_avg']] = 0\n",
    "        else:\n",
    "            df.loc[df['game_id'] == game, ['last_5_games_avg']] = prev_res\n",
    "\n",
    "        prev_res = res\n",
    "\n",
    "    return df\n"
   ],
   "metadata": {
    "collapsed": false,
    "pycharm": {
     "name": "#%%\n"
    }
   }
  },
  {
   "cell_type": "code",
   "execution_count": 83,
   "outputs": [],
   "source": [
    "# shot id is needed. we can delete it later\n",
    "def before_current_shot_features(df):\n",
    "    \"\"\"\n",
    "    Adding the statistics for the shots taken before the current shot\n",
    "    :param df:\n",
    "    :return:\n",
    "    \"\"\"\n",
    "    df['streak_before_shot'] = \"\"\n",
    "    df['points_before_shot'] = \"\"\n",
    "    df['fgp_before_shot'] = \"\"\n",
    "\n",
    "    for game in df.game_id.unique():\n",
    "        fgp = [0,0]\n",
    "        streak = 0\n",
    "        shots = df[df['game_id'] == game]['shot_id'].sort_values()\n",
    "        prev_streak = 0\n",
    "        points = 0\n",
    "        prev_points = 0\n",
    "        for num, shot in enumerate(shots):\n",
    "\n",
    "            row = df[(df['game_id'] == game) & (df['shot_id'] == shot)]\n",
    "\n",
    "            flag = row['shot_made_flag'].item()\n",
    "            shot_type = row['shot_type'].item()\n",
    "            period = row['period'].item()\n",
    "\n",
    "            # TODO divide per period somehow and multiply by the time remaining\n",
    "            if num == 0:\n",
    "                df.loc[(df['game_id']==game) & (df['shot_id'] == shot), ['fgp_before_shot'] ] = 0.00\n",
    "            else:\n",
    "                df.loc[(df['game_id']==game) & (df['shot_id'] == shot), ['fgp_before_shot'] ] = round(fgp[0]/fgp[1],2)\n",
    "\n",
    "            fgp[1] += 1\n",
    "            if flag == 1.0:\n",
    "                fgp[0] += 1\n",
    "                prev_streak = streak\n",
    "                prev_points = points\n",
    "                streak += 1\n",
    "\n",
    "                if shot_type == '2PT Field Goal':\n",
    "                    points += 2\n",
    "                else:\n",
    "                    points += 3\n",
    "            else:\n",
    "                prev_streak = streak\n",
    "                prev_points = points\n",
    "                streak = 0\n",
    "\n",
    "            # df.loc[(df['game_id']==game) & (df['shot_id'] == shot), ['current_streak'] ] = streak\n",
    "            df.loc[(df['game_id']==game) & (df['shot_id'] == shot), ['streak_before_shot'] ] = prev_streak\n",
    "            df.loc[(df['game_id']==game) & (df['shot_id'] == shot), ['points_before_shot'] ] = prev_points\n",
    "\n",
    "    return df"
   ],
   "metadata": {
    "collapsed": false,
    "pycharm": {
     "name": "#%%\n"
    }
   }
  },
  {
   "cell_type": "markdown",
   "source": [
    "Extracting the month, players shoot differently depending on the month"
   ],
   "metadata": {
    "collapsed": false,
    "pycharm": {
     "name": "#%% md\n"
    }
   }
  },
  {
   "cell_type": "code",
   "execution_count": 84,
   "outputs": [],
   "source": [
    "def extract_month(df):\n",
    "    \"\"\"\n",
    "    Extract the month from the datetime format.\n",
    "    :param df: dataframe\n",
    "    :return: modified df with the month feature\n",
    "    \"\"\"\n",
    "    df['month'] = df.game_date.apply(lambda x: datetime.datetime.strptime(x, \"%Y-%m-%d\").month)\n",
    "    return df\n"
   ],
   "metadata": {
    "collapsed": false,
    "pycharm": {
     "name": "#%%\n"
    }
   }
  },
  {
   "cell_type": "code",
   "execution_count": 85,
   "outputs": [],
   "source": [
    "# get points scored per game\n",
    "# shot_type = '2PT Field Goal'\n",
    "# shot_made_flag 1.0 0.0\n",
    "# df[df.game_id == 20000012].apply(lambda x: x['shot_type'], axis=1)\n",
    "\n",
    "def feature_engineering(df):\n",
    "    \"\"\"\n",
    "    Do the feature engineering on the dataframe\n",
    "    :param df: original dataset\n",
    "    :return: copy of the original but with modificaiton.\n",
    "    \"\"\"\n",
    "    df_new = df.copy(deep=True)\n",
    "    df_new = last_5_average(df_new)\n",
    "    df_new = before_current_shot_features(df_new)\n",
    "    df_new = extract_month(df_new)\n",
    "    return df_new"
   ],
   "metadata": {
    "collapsed": false,
    "pycharm": {
     "name": "#%%\n"
    }
   }
  },
  {
   "cell_type": "code",
   "execution_count": 86,
   "outputs": [],
   "source": [
    "df = feature_engineering(df)"
   ],
   "metadata": {
    "collapsed": false,
    "pycharm": {
     "name": "#%%\n"
    }
   }
  },
  {
   "cell_type": "code",
   "execution_count": 87,
   "outputs": [
    {
     "data": {
      "text/plain": "      action_type combined_shot_type  game_event_id   game_id      lat  loc_x  \\\n19214   Jump Shot          Jump Shot            102  29600027  33.9283   -140   \n19215   Jump Shot          Jump Shot            127  29600031  33.9473   -131   \n19216   Jump Shot          Jump Shot            124  29600044  33.8633   -142   \n19217   Jump Shot          Jump Shot            144  29600044  34.0443      0   \n19218   Jump Shot          Jump Shot            151  29600044  33.9063    -10   \n\n       loc_y       lon  period  playoffs  ...   game_date  matchup  opponent  \\\n19214    116 -118.4098       1         0  ...  1996-11-03     home       MIN   \n19215     97 -118.4008       2         0  ...  1996-11-05     away       NYK   \n19216    181 -118.4118       2         0  ...  1996-11-06     away       CHA   \n19217      0 -118.2698       2         0  ...  1996-11-06     away       CHA   \n19218    138 -118.2798       2         0  ...  1996-11-06     away       CHA   \n\n      shot_id time_remaining last_5_games_avg streak_before_shot  \\\n19214   22902             42                0                  0   \n19215   22903            608              0.0                  0   \n19216   22904            517              0.0                  0   \n19217   22905            394              0.0                  1   \n19218   22906            327              0.0                  0   \n\n       points_before_shot fgp_before_shot month  \n19214                   0             0.0    11  \n19215                   0             0.0    11  \n19216                   0             0.0    11  \n19217                   3             1.0    11  \n19218                   3             0.5    11  \n\n[5 rows x 29 columns]",
      "text/html": "<div>\n<style scoped>\n    .dataframe tbody tr th:only-of-type {\n        vertical-align: middle;\n    }\n\n    .dataframe tbody tr th {\n        vertical-align: top;\n    }\n\n    .dataframe thead th {\n        text-align: right;\n    }\n</style>\n<table border=\"1\" class=\"dataframe\">\n  <thead>\n    <tr style=\"text-align: right;\">\n      <th></th>\n      <th>action_type</th>\n      <th>combined_shot_type</th>\n      <th>game_event_id</th>\n      <th>game_id</th>\n      <th>lat</th>\n      <th>loc_x</th>\n      <th>loc_y</th>\n      <th>lon</th>\n      <th>period</th>\n      <th>playoffs</th>\n      <th>...</th>\n      <th>game_date</th>\n      <th>matchup</th>\n      <th>opponent</th>\n      <th>shot_id</th>\n      <th>time_remaining</th>\n      <th>last_5_games_avg</th>\n      <th>streak_before_shot</th>\n      <th>points_before_shot</th>\n      <th>fgp_before_shot</th>\n      <th>month</th>\n    </tr>\n  </thead>\n  <tbody>\n    <tr>\n      <th>19214</th>\n      <td>Jump Shot</td>\n      <td>Jump Shot</td>\n      <td>102</td>\n      <td>29600027</td>\n      <td>33.9283</td>\n      <td>-140</td>\n      <td>116</td>\n      <td>-118.4098</td>\n      <td>1</td>\n      <td>0</td>\n      <td>...</td>\n      <td>1996-11-03</td>\n      <td>home</td>\n      <td>MIN</td>\n      <td>22902</td>\n      <td>42</td>\n      <td>0</td>\n      <td>0</td>\n      <td>0</td>\n      <td>0.0</td>\n      <td>11</td>\n    </tr>\n    <tr>\n      <th>19215</th>\n      <td>Jump Shot</td>\n      <td>Jump Shot</td>\n      <td>127</td>\n      <td>29600031</td>\n      <td>33.9473</td>\n      <td>-131</td>\n      <td>97</td>\n      <td>-118.4008</td>\n      <td>2</td>\n      <td>0</td>\n      <td>...</td>\n      <td>1996-11-05</td>\n      <td>away</td>\n      <td>NYK</td>\n      <td>22903</td>\n      <td>608</td>\n      <td>0.0</td>\n      <td>0</td>\n      <td>0</td>\n      <td>0.0</td>\n      <td>11</td>\n    </tr>\n    <tr>\n      <th>19216</th>\n      <td>Jump Shot</td>\n      <td>Jump Shot</td>\n      <td>124</td>\n      <td>29600044</td>\n      <td>33.8633</td>\n      <td>-142</td>\n      <td>181</td>\n      <td>-118.4118</td>\n      <td>2</td>\n      <td>0</td>\n      <td>...</td>\n      <td>1996-11-06</td>\n      <td>away</td>\n      <td>CHA</td>\n      <td>22904</td>\n      <td>517</td>\n      <td>0.0</td>\n      <td>0</td>\n      <td>0</td>\n      <td>0.0</td>\n      <td>11</td>\n    </tr>\n    <tr>\n      <th>19217</th>\n      <td>Jump Shot</td>\n      <td>Jump Shot</td>\n      <td>144</td>\n      <td>29600044</td>\n      <td>34.0443</td>\n      <td>0</td>\n      <td>0</td>\n      <td>-118.2698</td>\n      <td>2</td>\n      <td>0</td>\n      <td>...</td>\n      <td>1996-11-06</td>\n      <td>away</td>\n      <td>CHA</td>\n      <td>22905</td>\n      <td>394</td>\n      <td>0.0</td>\n      <td>1</td>\n      <td>3</td>\n      <td>1.0</td>\n      <td>11</td>\n    </tr>\n    <tr>\n      <th>19218</th>\n      <td>Jump Shot</td>\n      <td>Jump Shot</td>\n      <td>151</td>\n      <td>29600044</td>\n      <td>33.9063</td>\n      <td>-10</td>\n      <td>138</td>\n      <td>-118.2798</td>\n      <td>2</td>\n      <td>0</td>\n      <td>...</td>\n      <td>1996-11-06</td>\n      <td>away</td>\n      <td>CHA</td>\n      <td>22906</td>\n      <td>327</td>\n      <td>0.0</td>\n      <td>0</td>\n      <td>3</td>\n      <td>0.5</td>\n      <td>11</td>\n    </tr>\n  </tbody>\n</table>\n<p>5 rows × 29 columns</p>\n</div>"
     },
     "execution_count": 87,
     "metadata": {},
     "output_type": "execute_result"
    }
   ],
   "source": [
    "df.head()"
   ],
   "metadata": {
    "collapsed": false,
    "pycharm": {
     "name": "#%%\n"
    }
   }
  },
  {
   "cell_type": "code",
   "execution_count": 92,
   "outputs": [
    {
     "data": {
      "text/plain": "<AxesSubplot:xlabel='season', ylabel='FGP'>"
     },
     "execution_count": 92,
     "metadata": {},
     "output_type": "execute_result"
    },
    {
     "data": {
      "text/plain": "<Figure size 1800x720 with 1 Axes>",
      "image/png": "[encoded data removed]"
     },
     "metadata": {
      "needs_background": "light"
     },
     "output_type": "display_data"
    }
   ],
   "source": [
    "plt.figure(figsize=(25,10))\n",
    "df_fgp = df.groupby(['season', 'month'])['shot_made_flag'].mean().reset_index(name='FGP')\n",
    "sns.barplot(data=df_fgp, x='season', y='FGP', hue='month',ci=None, hue_order=[10,11,12,1,2,3,4,5,6])"
   ],
   "metadata": {
    "collapsed": false,
    "pycharm": {
     "name": "#%%\n"
    }
   }
  },
  {
   "cell_type": "markdown",
   "source": [
    "FGP per game in a season"
   ],
   "metadata": {
    "collapsed": false,
    "pycharm": {
     "name": "#%% md\n"
    }
   }
  },
  {
   "cell_type": "code",
   "execution_count": 16,
   "outputs": [],
   "source": [
    "# we don't use this statistics anymore. Maybe come up with something different?\n",
    "# df.to_csv('../data/data2.csv', index=False)# df_pm = df[['season', 'plus_minus', 'game_date']].drop_duplicates()\n",
    "# g = sns.FacetGrid(df_pm, col=\"season\", col_wrap=2, size=4, aspect=2)\n",
    "# g.map(sns.barplot,'game_date', 'plus_minus', data=df_pm)"
   ],
   "metadata": {
    "collapsed": false,
    "pycharm": {
     "name": "#%%\n"
    }
   }
  },
  {
   "cell_type": "code",
   "execution_count": 15,
   "outputs": [],
   "source": [],
   "metadata": {
    "collapsed": false,
    "pycharm": {
     "name": "#%%\n"
    }
   }
  },
  {
   "cell_type": "code",
   "execution_count": null,
   "outputs": [],
   "source": [],
   "metadata": {
    "collapsed": false,
    "pycharm": {
     "name": "#%%\n"
    }
   }
  },
  {
   "cell_type": "code",
   "execution_count": null,
   "outputs": [],
   "source": [],
   "metadata": {
    "collapsed": false,
    "pycharm": {
     "name": "#%%\n"
    }
   }
  },
  {
   "cell_type": "code",
   "execution_count": null,
   "outputs": [],
   "source": [],
   "metadata": {
    "collapsed": false,
    "pycharm": {
     "name": "#%%\n"
    }
   }
  },
  {
   "cell_type": "code",
   "execution_count": null,
   "outputs": [],
   "source": [],
   "metadata": {
    "collapsed": false,
    "pycharm": {
     "name": "#%%\n"
    }
   }
  },
  {
   "cell_type": "code",
   "execution_count": null,
   "outputs": [],
   "source": [],
   "metadata": {
    "collapsed": false,
    "pycharm": {
     "name": "#%%\n"
    }
   }
  },
  {
   "cell_type": "code",
   "execution_count": null,
   "outputs": [],
   "source": [],
   "metadata": {
    "collapsed": false,
    "pycharm": {
     "name": "#%%\n"
    }
   }
  },
  {
   "cell_type": "code",
   "execution_count": null,
   "outputs": [],
   "source": [],
   "metadata": {
    "collapsed": false,
    "pycharm": {
     "name": "#%%\n"
    }
   }
  },
  {
   "cell_type": "code",
   "execution_count": null,
   "outputs": [],
   "source": [],
   "metadata": {
    "collapsed": false,
    "pycharm": {
     "name": "#%%\n"
    }
   }
  },
  {
   "cell_type": "code",
   "execution_count": null,
   "outputs": [],
   "source": [],
   "metadata": {
    "collapsed": false,
    "pycharm": {
     "name": "#%%\n"
    }
   }
  }
 ],
 "metadata": {
  "kernelspec": {
   "display_name": "Python 3",
   "language": "python",
   "name": "python3"
  },
  "language_info": {
   "codemirror_mode": {
    "name": "ipython",
    "version": 2
   },
   "file_extension": ".py",
   "mimetype": "text/x-python",
   "name": "python",
   "nbconvert_exporter": "python",
   "pygments_lexer": "ipython2",
   "version": "2.7.6"
  }
 },
 "nbformat": 4,
 "nbformat_minor": 0
}
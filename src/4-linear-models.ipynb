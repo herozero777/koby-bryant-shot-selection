{
 "cells": [
  {
   "cell_type": "code",
   "execution_count": 136,
   "id": "4c3859a2",
   "metadata": {
    "pycharm": {
     "name": "#%%\n"
    }
   },
   "outputs": [],
   "source": [
    "import pandas as pd\n",
    "import numpy as np\n",
    "from sklearn.linear_model import LinearRegression, Ridge, RidgeCV, Lasso, LassoCV\n",
    "from sklearn.metrics import mean_squared_error, r2_score, accuracy_score, f1_score, classification_report\n",
    "\n",
    "from sklearn.model_selection import train_test_split,  KFold, cross_val_score\n",
    "from sklearn.neural_network import MLPRegressor, MLPClassifier\n",
    "\n",
    "from IPython.core.interactiveshell import InteractiveShell\n",
    "InteractiveShell.ast_node_interactivity = \"all\"\n",
    "\n",
    "pd.set_option(\"display.max_columns\", None)"
   ]
  },
  {
   "cell_type": "code",
   "execution_count": 137,
   "id": "22554cd5",
   "metadata": {
    "pycharm": {
     "name": "#%%\n"
    }
   },
   "outputs": [],
   "source": [
    "# DATASET = 'SEASON'\n",
    "DATASET = 'TEAM'\n",
    "\n",
    "if DATASET == 'TEAM':\n",
    "    train = pd.read_csv('../data/train_team.csv')\n",
    "    test = pd.read_csv('../data/test_team.csv')\n",
    "\n",
    "if DATASET == 'SEASON':\n",
    "    train = pd.read_csv('../data/train_season.csv')\n",
    "    test = pd.read_csv('../data/test_season.csv')\n",
    "    \n",
    "train, validation = train_test_split(train, train_size=0.8, shuffle=False)"
   ]
  },
  {
   "cell_type": "code",
   "execution_count": 138,
   "id": "259f4c1f",
   "metadata": {
    "pycharm": {
     "name": "#%%\n"
    }
   },
   "outputs": [],
   "source": [
    "target_column = \"shot_made_flag\"  # y_column_name"
   ]
  },
  {
   "cell_type": "code",
   "execution_count": 139,
   "id": "7db98791",
   "metadata": {
    "pycharm": {
     "name": "#%%\n"
    }
   },
   "outputs": [],
   "source": [
    "def confusion(true, pred):\n",
    "    \"\"\"\n",
    "    Function for pretty printing confusion matrices\n",
    "    \"\"\"\n",
    "    pred = pd.Series(pred)\n",
    "    true = pd.Series(true)\n",
    "    \n",
    "    true.name = 'target'\n",
    "    pred.name = 'predicted'\n",
    "    cm = pd.crosstab(true.reset_index(drop=True), pred.reset_index(drop=True))\n",
    "    print(cm)\n",
    "    cm = cm[cm.index]\n",
    "    return cm"
   ]
  },
  {
   "cell_type": "code",
   "execution_count": 140,
   "id": "97b8d7e7",
   "metadata": {
    "pycharm": {
     "name": "#%%\n"
    }
   },
   "outputs": [],
   "source": [
    "def compute_metrics(y_true,y_pred):\n",
    "    accuracy = accuracy_score(y_true,y_pred)\n",
    "    f1_score_1 = f1_score(y_true,y_pred,average='binary',pos_label=1)\n",
    "    f1_score_0 = f1_score(y_true,y_pred,average='binary',pos_label=0)\n",
    "    f1_score_macro = f1_score(y_true,y_pred,average='macro')\n",
    "    return [accuracy,f1_score_1,f1_score_0,f1_score_macro]\n",
    "\n",
    "results = pd.DataFrame(columns=['Accuracy', 'F1-score (class 1)', 'F1-score (class 0)', 'F1-score (macro avg)'])"
   ]
  },
  {
   "cell_type": "code",
   "execution_count": 141,
   "id": "e473d5d5",
   "metadata": {
    "pycharm": {
     "name": "#%%\n"
    }
   },
   "outputs": [],
   "source": [
    "def split_x_y(df, target):\n",
    "    y = df.loc[:, [target]]\n",
    "    x = df.drop([target], axis=1)\n",
    "    return x, y\n",
    "\n",
    "def split_regular_playoff(df, season, train=None, test=None, validation=None):\n",
    "\n",
    "    # if(train + test + validation != 1):\n",
    "    #     print(\"Error dataset split\")\n",
    "    #     return None\n",
    "\n",
    "    df_validaiton = None\n",
    "\n",
    "    df_season = df[df['season'] == season]\n",
    "    isPlayoffs = df_season.playoffs == 1\n",
    "\n",
    "    df_train = df_season[~isPlayoffs]\n",
    "    df_test  = df_season[isPlayoffs]\n",
    "\n",
    "    print(f\"Size of training dataset {len(df_train)}\" )\n",
    "    print(f\"Size of test dataset {len(df_test)}\" )\n",
    "    print(f\"Size of train vs test ratio {len(df_train) / (len(df_train) + len(df_test)) }\" )\n",
    "\n",
    "    return df_train, df_test\n",
    "#     train = split_x_y(df_train, 'shot_made_flag')\n",
    "#     test = split_x_y(df_test, 'shot_made_flag')\n",
    "#     return train[0], train[1], test[0], test[1]\n",
    "#     return train, test\n",
    "\n",
    "# x_train, y_train, x_test, y_test = split_regular_playoff(df, '2010-11')\n",
    "# train, test = split_regular_playoff(df, '2010-11')"
   ]
  },
  {
   "cell_type": "markdown",
   "id": "a642be1c",
   "metadata": {
    "pycharm": {
     "name": "#%% md\n"
    }
   },
   "source": [
    "## Split X & Y"
   ]
  },
  {
   "cell_type": "code",
   "execution_count": 142,
   "id": "1e556673",
   "metadata": {
    "pycharm": {
     "name": "#%%\n"
    }
   },
   "outputs": [
    {
     "name": "stdout",
     "output_type": "stream",
     "text": [
      "Rows in training-set: 158\n",
      "Rows in validation-set: 40\n"
     ]
    }
   ],
   "source": [
    "x_train, y_train = split_x_y(train, target_column)\n",
    "x_test, y_test = split_x_y(test, target_column)\n",
    "x_val, y_val = split_x_y(validation, target_column)\n",
    "\n",
    "print(f\"Rows in training-set: {len(x_train)}\")\n",
    "print(f\"Rows in validation-set: {len(x_val)}\")"
   ]
  },
  {
   "cell_type": "code",
   "execution_count": 118,
   "id": "8a18e870",
   "metadata": {
    "pycharm": {
     "name": "#%%\n"
    }
   },
   "outputs": [],
   "source": [
    "lambdas = [1e-10,1e-5,1e-4,1e-3,1e-2,0.1, 0.5,1,5,10,50,100]"
   ]
  },
  {
   "cell_type": "markdown",
   "id": "1b2a774b",
   "metadata": {
    "pycharm": {
     "name": "#%% md\n"
    }
   },
   "source": [
    "# Linear Regression"
   ]
  },
  {
   "cell_type": "code",
   "execution_count": 143,
   "id": "2bcade37",
   "metadata": {},
   "outputs": [
    {
     "data": {
      "text/html": [
       "<div>\n",
       "<style scoped>\n",
       "    .dataframe tbody tr th:only-of-type {\n",
       "        vertical-align: middle;\n",
       "    }\n",
       "\n",
       "    .dataframe tbody tr th {\n",
       "        vertical-align: top;\n",
       "    }\n",
       "\n",
       "    .dataframe thead th {\n",
       "        text-align: right;\n",
       "    }\n",
       "</style>\n",
       "<table border=\"1\" class=\"dataframe\">\n",
       "  <thead>\n",
       "    <tr style=\"text-align: right;\">\n",
       "      <th></th>\n",
       "      <th>period</th>\n",
       "      <th>playoffs</th>\n",
       "      <th>shot_distance</th>\n",
       "      <th>shot_zone_basic</th>\n",
       "      <th>shot_zone_range</th>\n",
       "      <th>time_remaining</th>\n",
       "      <th>last_5_games_avg</th>\n",
       "      <th>streak_before_shot</th>\n",
       "      <th>points_before_shot</th>\n",
       "      <th>fgp_before_shot</th>\n",
       "      <th>month</th>\n",
       "      <th>weekday</th>\n",
       "      <th>action_type_te</th>\n",
       "      <th>opponent_te</th>\n",
       "      <th>combined_shot_type_Dunk</th>\n",
       "      <th>combined_shot_type_Jump Shot</th>\n",
       "      <th>combined_shot_type_Layup</th>\n",
       "      <th>combined_shot_type_Tip Shot</th>\n",
       "      <th>shot_type_2PT Field Goal</th>\n",
       "      <th>shot_type_3PT Field Goal</th>\n",
       "      <th>shot_zone_area_Back Court(BC)</th>\n",
       "      <th>shot_zone_area_Center(C)</th>\n",
       "      <th>shot_zone_area_Left Side Center(LC)</th>\n",
       "      <th>shot_zone_area_Left Side(L)</th>\n",
       "      <th>shot_zone_area_Right Side Center(RC)</th>\n",
       "      <th>shot_zone_area_Right Side(R)</th>\n",
       "      <th>matchup_away</th>\n",
       "      <th>matchup_home</th>\n",
       "    </tr>\n",
       "  </thead>\n",
       "  <tbody>\n",
       "    <tr>\n",
       "      <th>count</th>\n",
       "      <td>158.000000</td>\n",
       "      <td>158.0</td>\n",
       "      <td>158.000000</td>\n",
       "      <td>158.000000</td>\n",
       "      <td>158.000000</td>\n",
       "      <td>158.000000</td>\n",
       "      <td>158.000000</td>\n",
       "      <td>158.000000</td>\n",
       "      <td>158.000000</td>\n",
       "      <td>158.000000</td>\n",
       "      <td>158.000000</td>\n",
       "      <td>158.000000</td>\n",
       "      <td>158.000000</td>\n",
       "      <td>158.000000</td>\n",
       "      <td>158.000000</td>\n",
       "      <td>158.000000</td>\n",
       "      <td>158.000000</td>\n",
       "      <td>158.000000</td>\n",
       "      <td>158.000000</td>\n",
       "      <td>158.000000</td>\n",
       "      <td>158.000000</td>\n",
       "      <td>158.000000</td>\n",
       "      <td>158.000000</td>\n",
       "      <td>158.000000</td>\n",
       "      <td>158.000000</td>\n",
       "      <td>158.000000</td>\n",
       "      <td>158.00000</td>\n",
       "      <td>158.00000</td>\n",
       "    </tr>\n",
       "    <tr>\n",
       "      <th>mean</th>\n",
       "      <td>2.481013</td>\n",
       "      <td>0.0</td>\n",
       "      <td>13.240506</td>\n",
       "      <td>1.765823</td>\n",
       "      <td>1.310127</td>\n",
       "      <td>309.348101</td>\n",
       "      <td>0.489494</td>\n",
       "      <td>0.797468</td>\n",
       "      <td>9.765823</td>\n",
       "      <td>0.493861</td>\n",
       "      <td>4.170886</td>\n",
       "      <td>3.537975</td>\n",
       "      <td>0.477542</td>\n",
       "      <td>0.469697</td>\n",
       "      <td>0.044304</td>\n",
       "      <td>0.778481</td>\n",
       "      <td>0.164557</td>\n",
       "      <td>0.012658</td>\n",
       "      <td>0.854430</td>\n",
       "      <td>0.145570</td>\n",
       "      <td>0.006329</td>\n",
       "      <td>0.405063</td>\n",
       "      <td>0.139241</td>\n",
       "      <td>0.164557</td>\n",
       "      <td>0.088608</td>\n",
       "      <td>0.196203</td>\n",
       "      <td>0.50000</td>\n",
       "      <td>0.50000</td>\n",
       "    </tr>\n",
       "    <tr>\n",
       "      <th>std</th>\n",
       "      <td>1.110010</td>\n",
       "      <td>0.0</td>\n",
       "      <td>9.890116</td>\n",
       "      <td>1.277775</td>\n",
       "      <td>1.033835</td>\n",
       "      <td>221.207886</td>\n",
       "      <td>0.179155</td>\n",
       "      <td>1.110227</td>\n",
       "      <td>7.266683</td>\n",
       "      <td>0.229491</td>\n",
       "      <td>4.274339</td>\n",
       "      <td>1.558360</td>\n",
       "      <td>0.246353</td>\n",
       "      <td>0.000000</td>\n",
       "      <td>0.206423</td>\n",
       "      <td>0.416589</td>\n",
       "      <td>0.371959</td>\n",
       "      <td>0.112150</td>\n",
       "      <td>0.353796</td>\n",
       "      <td>0.353796</td>\n",
       "      <td>0.079556</td>\n",
       "      <td>0.492465</td>\n",
       "      <td>0.347298</td>\n",
       "      <td>0.371959</td>\n",
       "      <td>0.285080</td>\n",
       "      <td>0.398386</td>\n",
       "      <td>0.50159</td>\n",
       "      <td>0.50159</td>\n",
       "    </tr>\n",
       "    <tr>\n",
       "      <th>min</th>\n",
       "      <td>1.000000</td>\n",
       "      <td>0.0</td>\n",
       "      <td>0.000000</td>\n",
       "      <td>0.000000</td>\n",
       "      <td>0.000000</td>\n",
       "      <td>0.000000</td>\n",
       "      <td>0.000000</td>\n",
       "      <td>0.000000</td>\n",
       "      <td>0.000000</td>\n",
       "      <td>0.000000</td>\n",
       "      <td>1.000000</td>\n",
       "      <td>1.000000</td>\n",
       "      <td>0.000000</td>\n",
       "      <td>0.469697</td>\n",
       "      <td>0.000000</td>\n",
       "      <td>0.000000</td>\n",
       "      <td>0.000000</td>\n",
       "      <td>0.000000</td>\n",
       "      <td>0.000000</td>\n",
       "      <td>0.000000</td>\n",
       "      <td>0.000000</td>\n",
       "      <td>0.000000</td>\n",
       "      <td>0.000000</td>\n",
       "      <td>0.000000</td>\n",
       "      <td>0.000000</td>\n",
       "      <td>0.000000</td>\n",
       "      <td>0.00000</td>\n",
       "      <td>0.00000</td>\n",
       "    </tr>\n",
       "    <tr>\n",
       "      <th>25%</th>\n",
       "      <td>1.000000</td>\n",
       "      <td>0.0</td>\n",
       "      <td>6.250000</td>\n",
       "      <td>1.000000</td>\n",
       "      <td>0.000000</td>\n",
       "      <td>108.000000</td>\n",
       "      <td>0.500000</td>\n",
       "      <td>0.000000</td>\n",
       "      <td>4.000000</td>\n",
       "      <td>0.402500</td>\n",
       "      <td>1.000000</td>\n",
       "      <td>2.000000</td>\n",
       "      <td>0.366412</td>\n",
       "      <td>0.469697</td>\n",
       "      <td>0.000000</td>\n",
       "      <td>1.000000</td>\n",
       "      <td>0.000000</td>\n",
       "      <td>0.000000</td>\n",
       "      <td>1.000000</td>\n",
       "      <td>0.000000</td>\n",
       "      <td>0.000000</td>\n",
       "      <td>0.000000</td>\n",
       "      <td>0.000000</td>\n",
       "      <td>0.000000</td>\n",
       "      <td>0.000000</td>\n",
       "      <td>0.000000</td>\n",
       "      <td>0.00000</td>\n",
       "      <td>0.00000</td>\n",
       "    </tr>\n",
       "    <tr>\n",
       "      <th>50%</th>\n",
       "      <td>3.000000</td>\n",
       "      <td>0.0</td>\n",
       "      <td>14.000000</td>\n",
       "      <td>2.000000</td>\n",
       "      <td>1.000000</td>\n",
       "      <td>284.500000</td>\n",
       "      <td>0.520000</td>\n",
       "      <td>0.000000</td>\n",
       "      <td>9.000000</td>\n",
       "      <td>0.500000</td>\n",
       "      <td>2.000000</td>\n",
       "      <td>4.000000</td>\n",
       "      <td>0.366412</td>\n",
       "      <td>0.469697</td>\n",
       "      <td>0.000000</td>\n",
       "      <td>1.000000</td>\n",
       "      <td>0.000000</td>\n",
       "      <td>0.000000</td>\n",
       "      <td>1.000000</td>\n",
       "      <td>0.000000</td>\n",
       "      <td>0.000000</td>\n",
       "      <td>0.000000</td>\n",
       "      <td>0.000000</td>\n",
       "      <td>0.000000</td>\n",
       "      <td>0.000000</td>\n",
       "      <td>0.000000</td>\n",
       "      <td>0.50000</td>\n",
       "      <td>0.50000</td>\n",
       "    </tr>\n",
       "    <tr>\n",
       "      <th>75%</th>\n",
       "      <td>3.000000</td>\n",
       "      <td>0.0</td>\n",
       "      <td>18.750000</td>\n",
       "      <td>2.000000</td>\n",
       "      <td>2.000000</td>\n",
       "      <td>495.500000</td>\n",
       "      <td>0.570000</td>\n",
       "      <td>1.000000</td>\n",
       "      <td>14.000000</td>\n",
       "      <td>0.600000</td>\n",
       "      <td>4.000000</td>\n",
       "      <td>5.000000</td>\n",
       "      <td>0.750000</td>\n",
       "      <td>0.469697</td>\n",
       "      <td>0.000000</td>\n",
       "      <td>1.000000</td>\n",
       "      <td>0.000000</td>\n",
       "      <td>0.000000</td>\n",
       "      <td>1.000000</td>\n",
       "      <td>0.000000</td>\n",
       "      <td>0.000000</td>\n",
       "      <td>1.000000</td>\n",
       "      <td>0.000000</td>\n",
       "      <td>0.000000</td>\n",
       "      <td>0.000000</td>\n",
       "      <td>0.000000</td>\n",
       "      <td>1.00000</td>\n",
       "      <td>1.00000</td>\n",
       "    </tr>\n",
       "    <tr>\n",
       "      <th>max</th>\n",
       "      <td>4.000000</td>\n",
       "      <td>0.0</td>\n",
       "      <td>70.000000</td>\n",
       "      <td>6.000000</td>\n",
       "      <td>4.000000</td>\n",
       "      <td>707.000000</td>\n",
       "      <td>0.650000</td>\n",
       "      <td>5.000000</td>\n",
       "      <td>28.000000</td>\n",
       "      <td>1.000000</td>\n",
       "      <td>12.000000</td>\n",
       "      <td>6.000000</td>\n",
       "      <td>1.000000</td>\n",
       "      <td>0.469697</td>\n",
       "      <td>1.000000</td>\n",
       "      <td>1.000000</td>\n",
       "      <td>1.000000</td>\n",
       "      <td>1.000000</td>\n",
       "      <td>1.000000</td>\n",
       "      <td>1.000000</td>\n",
       "      <td>1.000000</td>\n",
       "      <td>1.000000</td>\n",
       "      <td>1.000000</td>\n",
       "      <td>1.000000</td>\n",
       "      <td>1.000000</td>\n",
       "      <td>1.000000</td>\n",
       "      <td>1.00000</td>\n",
       "      <td>1.00000</td>\n",
       "    </tr>\n",
       "  </tbody>\n",
       "</table>\n",
       "</div>"
      ],
      "text/plain": [
       "           period  playoffs  shot_distance  shot_zone_basic  shot_zone_range  \\\n",
       "count  158.000000     158.0     158.000000       158.000000       158.000000   \n",
       "mean     2.481013       0.0      13.240506         1.765823         1.310127   \n",
       "std      1.110010       0.0       9.890116         1.277775         1.033835   \n",
       "min      1.000000       0.0       0.000000         0.000000         0.000000   \n",
       "25%      1.000000       0.0       6.250000         1.000000         0.000000   \n",
       "50%      3.000000       0.0      14.000000         2.000000         1.000000   \n",
       "75%      3.000000       0.0      18.750000         2.000000         2.000000   \n",
       "max      4.000000       0.0      70.000000         6.000000         4.000000   \n",
       "\n",
       "       time_remaining  last_5_games_avg  streak_before_shot  \\\n",
       "count      158.000000        158.000000          158.000000   \n",
       "mean       309.348101          0.489494            0.797468   \n",
       "std        221.207886          0.179155            1.110227   \n",
       "min          0.000000          0.000000            0.000000   \n",
       "25%        108.000000          0.500000            0.000000   \n",
       "50%        284.500000          0.520000            0.000000   \n",
       "75%        495.500000          0.570000            1.000000   \n",
       "max        707.000000          0.650000            5.000000   \n",
       "\n",
       "       points_before_shot  fgp_before_shot       month     weekday  \\\n",
       "count          158.000000       158.000000  158.000000  158.000000   \n",
       "mean             9.765823         0.493861    4.170886    3.537975   \n",
       "std              7.266683         0.229491    4.274339    1.558360   \n",
       "min              0.000000         0.000000    1.000000    1.000000   \n",
       "25%              4.000000         0.402500    1.000000    2.000000   \n",
       "50%              9.000000         0.500000    2.000000    4.000000   \n",
       "75%             14.000000         0.600000    4.000000    5.000000   \n",
       "max             28.000000         1.000000   12.000000    6.000000   \n",
       "\n",
       "       action_type_te  opponent_te  combined_shot_type_Dunk  \\\n",
       "count      158.000000   158.000000               158.000000   \n",
       "mean         0.477542     0.469697                 0.044304   \n",
       "std          0.246353     0.000000                 0.206423   \n",
       "min          0.000000     0.469697                 0.000000   \n",
       "25%          0.366412     0.469697                 0.000000   \n",
       "50%          0.366412     0.469697                 0.000000   \n",
       "75%          0.750000     0.469697                 0.000000   \n",
       "max          1.000000     0.469697                 1.000000   \n",
       "\n",
       "       combined_shot_type_Jump Shot  combined_shot_type_Layup  \\\n",
       "count                    158.000000                158.000000   \n",
       "mean                       0.778481                  0.164557   \n",
       "std                        0.416589                  0.371959   \n",
       "min                        0.000000                  0.000000   \n",
       "25%                        1.000000                  0.000000   \n",
       "50%                        1.000000                  0.000000   \n",
       "75%                        1.000000                  0.000000   \n",
       "max                        1.000000                  1.000000   \n",
       "\n",
       "       combined_shot_type_Tip Shot  shot_type_2PT Field Goal  \\\n",
       "count                   158.000000                158.000000   \n",
       "mean                      0.012658                  0.854430   \n",
       "std                       0.112150                  0.353796   \n",
       "min                       0.000000                  0.000000   \n",
       "25%                       0.000000                  1.000000   \n",
       "50%                       0.000000                  1.000000   \n",
       "75%                       0.000000                  1.000000   \n",
       "max                       1.000000                  1.000000   \n",
       "\n",
       "       shot_type_3PT Field Goal  shot_zone_area_Back Court(BC)  \\\n",
       "count                158.000000                     158.000000   \n",
       "mean                   0.145570                       0.006329   \n",
       "std                    0.353796                       0.079556   \n",
       "min                    0.000000                       0.000000   \n",
       "25%                    0.000000                       0.000000   \n",
       "50%                    0.000000                       0.000000   \n",
       "75%                    0.000000                       0.000000   \n",
       "max                    1.000000                       1.000000   \n",
       "\n",
       "       shot_zone_area_Center(C)  shot_zone_area_Left Side Center(LC)  \\\n",
       "count                158.000000                           158.000000   \n",
       "mean                   0.405063                             0.139241   \n",
       "std                    0.492465                             0.347298   \n",
       "min                    0.000000                             0.000000   \n",
       "25%                    0.000000                             0.000000   \n",
       "50%                    0.000000                             0.000000   \n",
       "75%                    1.000000                             0.000000   \n",
       "max                    1.000000                             1.000000   \n",
       "\n",
       "       shot_zone_area_Left Side(L)  shot_zone_area_Right Side Center(RC)  \\\n",
       "count                   158.000000                            158.000000   \n",
       "mean                      0.164557                              0.088608   \n",
       "std                       0.371959                              0.285080   \n",
       "min                       0.000000                              0.000000   \n",
       "25%                       0.000000                              0.000000   \n",
       "50%                       0.000000                              0.000000   \n",
       "75%                       0.000000                              0.000000   \n",
       "max                       1.000000                              1.000000   \n",
       "\n",
       "       shot_zone_area_Right Side(R)  matchup_away  matchup_home  \n",
       "count                    158.000000     158.00000     158.00000  \n",
       "mean                       0.196203       0.50000       0.50000  \n",
       "std                        0.398386       0.50159       0.50159  \n",
       "min                        0.000000       0.00000       0.00000  \n",
       "25%                        0.000000       0.00000       0.00000  \n",
       "50%                        0.000000       0.50000       0.50000  \n",
       "75%                        0.000000       1.00000       1.00000  \n",
       "max                        1.000000       1.00000       1.00000  "
      ]
     },
     "execution_count": 143,
     "metadata": {},
     "output_type": "execute_result"
    }
   ],
   "source": [
    "x_train.describe()"
   ]
  },
  {
   "cell_type": "code",
   "execution_count": 144,
   "id": "fcd518cb",
   "metadata": {
    "pycharm": {
     "name": "#%%\n"
    }
   },
   "outputs": [
    {
     "data": {
      "text/plain": [
       "0.3577746307951094"
      ]
     },
     "execution_count": 144,
     "metadata": {},
     "output_type": "execute_result"
    }
   ],
   "source": [
    "reg = LinearRegression()\n",
    "a = reg.fit(x_train, y_train)\n",
    "reg.score(x_train, y_train)"
   ]
  },
  {
   "cell_type": "markdown",
   "id": "f71dc151",
   "metadata": {
    "pycharm": {
     "name": "#%% md\n"
    }
   },
   "source": [
    "#### train data"
   ]
  },
  {
   "cell_type": "code",
   "execution_count": 145,
   "id": "7ba7be94",
   "metadata": {
    "pycharm": {
     "name": "#%%\n"
    }
   },
   "outputs": [
    {
     "data": {
      "text/plain": [
       "0.7341772151898734"
      ]
     },
     "execution_count": 145,
     "metadata": {},
     "output_type": "execute_result"
    }
   ],
   "source": [
    "y_train_pred = reg.predict(x_train)\n",
    "y_train_pred = y_train_pred >= 0.6\n",
    "y_train_pred = np.multiply(y_train_pred, 1)\n",
    "accuracy_score(y_train.values, y_train_pred)"
   ]
  },
  {
   "cell_type": "markdown",
   "id": "7775af79",
   "metadata": {
    "pycharm": {
     "name": "#%% md\n"
    }
   },
   "source": [
    "#### Validation Data"
   ]
  },
  {
   "cell_type": "code",
   "execution_count": 146,
   "id": "d068ee71",
   "metadata": {
    "pycharm": {
     "name": "#%%\n"
    }
   },
   "outputs": [
    {
     "data": {
      "text/plain": [
       "0.825"
      ]
     },
     "execution_count": 146,
     "metadata": {},
     "output_type": "execute_result"
    },
    {
     "data": {
      "text/html": [
       "<div>\n",
       "<style scoped>\n",
       "    .dataframe tbody tr th:only-of-type {\n",
       "        vertical-align: middle;\n",
       "    }\n",
       "\n",
       "    .dataframe tbody tr th {\n",
       "        vertical-align: top;\n",
       "    }\n",
       "\n",
       "    .dataframe thead th {\n",
       "        text-align: right;\n",
       "    }\n",
       "</style>\n",
       "<table border=\"1\" class=\"dataframe\">\n",
       "  <thead>\n",
       "    <tr style=\"text-align: right;\">\n",
       "      <th></th>\n",
       "      <th>Accuracy</th>\n",
       "      <th>F1-score (class 1)</th>\n",
       "      <th>F1-score (class 0)</th>\n",
       "      <th>F1-score (macro avg)</th>\n",
       "    </tr>\n",
       "  </thead>\n",
       "  <tbody>\n",
       "    <tr>\n",
       "      <th>Linear</th>\n",
       "      <td>0.825</td>\n",
       "      <td>0.740741</td>\n",
       "      <td>0.867925</td>\n",
       "      <td>0.804333</td>\n",
       "    </tr>\n",
       "  </tbody>\n",
       "</table>\n",
       "</div>"
      ],
      "text/plain": [
       "       Accuracy F1-score (class 1) F1-score (class 0) F1-score (macro avg)\n",
       "Linear    0.825           0.740741           0.867925             0.804333"
      ]
     },
     "execution_count": 146,
     "metadata": {},
     "output_type": "execute_result"
    }
   ],
   "source": [
    "y_val_pred = reg.predict(x_val)\n",
    "y_val_pred = y_val_pred >= 0.5\n",
    "y_val_pred = np.multiply(y_val_pred, 1)\n",
    "accuracy_score(y_val.values, y_val_pred)\n",
    "results.loc['Linear',:] = compute_metrics(y_val.values, y_val_pred)\n",
    "results"
   ]
  },
  {
   "cell_type": "markdown",
   "id": "0b1e4b0c",
   "metadata": {
    "pycharm": {
     "name": "#%% md\n"
    }
   },
   "source": [
    "# Lasso Regression"
   ]
  },
  {
   "cell_type": "code",
   "execution_count": 147,
   "id": "2152111b",
   "metadata": {
    "pycharm": {
     "name": "#%%\n"
    }
   },
   "outputs": [
    {
     "name": "stderr",
     "output_type": "stream",
     "text": [
      "/home/teemo/anaconda3/envs/ds/lib/python3.9/site-packages/sklearn/linear_model/_coordinate_descent.py:633: ConvergenceWarning: Objective did not converge. You might want to increase the number of iterations. Duality gap: 1.537822411156446, tolerance: 0.0031301587301587304\n",
      "  model = cd_fast.enet_coordinate_descent_gram(\n",
      "/home/teemo/anaconda3/envs/ds/lib/python3.9/site-packages/sklearn/linear_model/_coordinate_descent.py:633: ConvergenceWarning: Objective did not converge. You might want to increase the number of iterations. Duality gap: 3.183970348342789, tolerance: 0.003146825396825396\n",
      "  model = cd_fast.enet_coordinate_descent_gram(\n",
      "/home/teemo/anaconda3/envs/ds/lib/python3.9/site-packages/sklearn/linear_model/_coordinate_descent.py:633: ConvergenceWarning: Objective did not converge. You might want to increase the number of iterations. Duality gap: 0.04288323785467085, tolerance: 0.0024749999999999998\n",
      "  model = cd_fast.enet_coordinate_descent_gram(\n",
      "/home/teemo/anaconda3/envs/ds/lib/python3.9/site-packages/sklearn/linear_model/_coordinate_descent.py:633: ConvergenceWarning: Objective did not converge. You might want to increase the number of iterations. Duality gap: 1.157369776586581, tolerance: 0.0025049504950495054\n",
      "  model = cd_fast.enet_coordinate_descent_gram(\n",
      "/home/teemo/anaconda3/envs/ds/lib/python3.9/site-packages/sklearn/linear_model/_coordinate_descent.py:633: ConvergenceWarning: Objective did not converge. You might want to increase the number of iterations. Duality gap: 0.010717502045627825, tolerance: 0.0025188118811881196\n",
      "  model = cd_fast.enet_coordinate_descent_gram(\n",
      "/home/teemo/anaconda3/envs/ds/lib/python3.9/site-packages/sklearn/linear_model/_coordinate_descent.py:633: ConvergenceWarning: Objective did not converge. You might want to increase the number of iterations. Duality gap: 1.1317926239913216, tolerance: 0.002512871287128713\n",
      "  model = cd_fast.enet_coordinate_descent_gram(\n",
      "/home/teemo/anaconda3/envs/ds/lib/python3.9/site-packages/sklearn/linear_model/_coordinate_descent.py:633: ConvergenceWarning: Objective did not converge. You might want to increase the number of iterations. Duality gap: 0.01906120953354673, tolerance: 0.0025227722772277225\n",
      "  model = cd_fast.enet_coordinate_descent_gram(\n",
      "/home/teemo/anaconda3/envs/ds/lib/python3.9/site-packages/sklearn/linear_model/_coordinate_descent.py:633: ConvergenceWarning: Objective did not converge. You might want to increase the number of iterations. Duality gap: 1.2094345444843118, tolerance: 0.002524752475247525\n",
      "  model = cd_fast.enet_coordinate_descent_gram(\n",
      "/home/teemo/anaconda3/envs/ds/lib/python3.9/site-packages/sklearn/linear_model/_coordinate_descent.py:633: ConvergenceWarning: Objective did not converge. You might want to increase the number of iterations. Duality gap: 0.05295734819399023, tolerance: 0.002499000000000001\n",
      "  model = cd_fast.enet_coordinate_descent_gram(\n",
      "/home/teemo/anaconda3/envs/ds/lib/python3.9/site-packages/sklearn/linear_model/_coordinate_descent.py:633: ConvergenceWarning: Objective did not converge. You might want to increase the number of iterations. Duality gap: 1.1975741471901316, tolerance: 0.002512871287128713\n",
      "  model = cd_fast.enet_coordinate_descent_gram(\n",
      "/home/teemo/anaconda3/envs/ds/lib/python3.9/site-packages/sklearn/linear_model/_coordinate_descent.py:633: ConvergenceWarning: Objective did not converge. You might want to increase the number of iterations. Duality gap: 1.095335471430925, tolerance: 0.0025247524752475253\n",
      "  model = cd_fast.enet_coordinate_descent_gram(\n",
      "/home/teemo/anaconda3/envs/ds/lib/python3.9/site-packages/sklearn/linear_model/_coordinate_descent.py:633: ConvergenceWarning: Objective did not converge. You might want to increase the number of iterations. Duality gap: 0.20042170499409906, tolerance: 0.002524752475247525\n",
      "  model = cd_fast.enet_coordinate_descent_gram(\n",
      "/home/teemo/anaconda3/envs/ds/lib/python3.9/site-packages/sklearn/linear_model/_coordinate_descent.py:633: ConvergenceWarning: Objective did not converge. You might want to increase the number of iterations. Duality gap: 3.013595731413119, tolerance: 0.002541176470588235\n",
      "  model = cd_fast.enet_coordinate_descent_gram(\n"
     ]
    },
    {
     "name": "stdout",
     "output_type": "stream",
     "text": [
      "Best lambda: 0.01 R2 score: 0.1686979568282047\n"
     ]
    },
    {
     "name": "stderr",
     "output_type": "stream",
     "text": [
      "/home/teemo/anaconda3/envs/ds/lib/python3.9/site-packages/sklearn/linear_model/_coordinate_descent.py:633: ConvergenceWarning: Objective did not converge. You might want to increase the number of iterations. Duality gap: 2.6278222394282844, tolerance: 0.0025490196078431374\n",
      "  model = cd_fast.enet_coordinate_descent_gram(\n"
     ]
    }
   ],
   "source": [
    "lasso_cv = LassoCV(alphas=lambdas, cv=5, max_iter=100_000)\n",
    "a = lasso_cv.fit(x_train.values, y_train.values.flatten())\n",
    "\n",
    "lasso_r2 =  np.mean(cross_val_score(lasso_cv, x_train.values, y_train.values.flatten()))\n",
    "\n",
    "print('Best lambda:', lasso_cv.alpha_, 'R2 score:',lasso_r2)"
   ]
  },
  {
   "cell_type": "code",
   "execution_count": 148,
   "id": "d00f9e77",
   "metadata": {
    "pycharm": {
     "name": "#%%\n"
    }
   },
   "outputs": [
    {
     "data": {
      "text/plain": [
       "0.7151898734177216"
      ]
     },
     "execution_count": 148,
     "metadata": {},
     "output_type": "execute_result"
    }
   ],
   "source": [
    "y_train_pred = lasso_cv.predict(x_train.values)\n",
    "y_train_pred = y_train_pred >= 0.5\n",
    "y_train_pred = np.multiply(y_train_pred, 1)\n",
    "accuracy_score(y_train.values, y_train_pred)"
   ]
  },
  {
   "cell_type": "code",
   "execution_count": 149,
   "id": "463e22f4",
   "metadata": {
    "pycharm": {
     "name": "#%%\n"
    }
   },
   "outputs": [
    {
     "data": {
      "text/plain": [
       "0.775"
      ]
     },
     "execution_count": 149,
     "metadata": {},
     "output_type": "execute_result"
    },
    {
     "data": {
      "text/html": [
       "<div>\n",
       "<style scoped>\n",
       "    .dataframe tbody tr th:only-of-type {\n",
       "        vertical-align: middle;\n",
       "    }\n",
       "\n",
       "    .dataframe tbody tr th {\n",
       "        vertical-align: top;\n",
       "    }\n",
       "\n",
       "    .dataframe thead th {\n",
       "        text-align: right;\n",
       "    }\n",
       "</style>\n",
       "<table border=\"1\" class=\"dataframe\">\n",
       "  <thead>\n",
       "    <tr style=\"text-align: right;\">\n",
       "      <th></th>\n",
       "      <th>Accuracy</th>\n",
       "      <th>F1-score (class 1)</th>\n",
       "      <th>F1-score (class 0)</th>\n",
       "      <th>F1-score (macro avg)</th>\n",
       "    </tr>\n",
       "  </thead>\n",
       "  <tbody>\n",
       "    <tr>\n",
       "      <th>Linear</th>\n",
       "      <td>0.825</td>\n",
       "      <td>0.740741</td>\n",
       "      <td>0.867925</td>\n",
       "      <td>0.804333</td>\n",
       "    </tr>\n",
       "    <tr>\n",
       "      <th>Lasso</th>\n",
       "      <td>0.775</td>\n",
       "      <td>0.64</td>\n",
       "      <td>0.836364</td>\n",
       "      <td>0.738182</td>\n",
       "    </tr>\n",
       "  </tbody>\n",
       "</table>\n",
       "</div>"
      ],
      "text/plain": [
       "       Accuracy F1-score (class 1) F1-score (class 0) F1-score (macro avg)\n",
       "Linear    0.825           0.740741           0.867925             0.804333\n",
       "Lasso     0.775               0.64           0.836364             0.738182"
      ]
     },
     "execution_count": 149,
     "metadata": {},
     "output_type": "execute_result"
    }
   ],
   "source": [
    "y_val_pred = lasso_cv.predict(x_val.values)\n",
    "y_val_pred = y_val_pred >= 0.5\n",
    "y_val_pred = np.multiply(y_val_pred, 1)\n",
    "accuracy_score(y_val.values, y_val_pred)\n",
    "results.loc['Lasso',:] = compute_metrics(y_val.values, y_val_pred)\n",
    "results"
   ]
  },
  {
   "cell_type": "markdown",
   "id": "d82152f1",
   "metadata": {
    "pycharm": {
     "name": "#%% md\n"
    }
   },
   "source": [
    "# Ridge Regression"
   ]
  },
  {
   "cell_type": "code",
   "execution_count": 150,
   "id": "1f7746fe",
   "metadata": {
    "pycharm": {
     "name": "#%%\n"
    }
   },
   "outputs": [
    {
     "name": "stderr",
     "output_type": "stream",
     "text": [
      "/home/teemo/anaconda3/envs/ds/lib/python3.9/site-packages/sklearn/linear_model/_ridge.py:157: LinAlgWarning: Ill-conditioned matrix (rcond=1.60355e-17): result may not be accurate.\n",
      "  return linalg.solve(A, Xy, sym_pos=True, overwrite_a=True).T\n",
      "/home/teemo/anaconda3/envs/ds/lib/python3.9/site-packages/sklearn/linear_model/_ridge.py:157: LinAlgWarning: Ill-conditioned matrix (rcond=1.57437e-17): result may not be accurate.\n",
      "  return linalg.solve(A, Xy, sym_pos=True, overwrite_a=True).T\n",
      "/home/teemo/anaconda3/envs/ds/lib/python3.9/site-packages/sklearn/linear_model/_ridge.py:157: LinAlgWarning: Ill-conditioned matrix (rcond=1.51167e-17): result may not be accurate.\n",
      "  return linalg.solve(A, Xy, sym_pos=True, overwrite_a=True).T\n",
      "/home/teemo/anaconda3/envs/ds/lib/python3.9/site-packages/sklearn/linear_model/_ridge.py:157: LinAlgWarning: Ill-conditioned matrix (rcond=1.59444e-17): result may not be accurate.\n",
      "  return linalg.solve(A, Xy, sym_pos=True, overwrite_a=True).T\n",
      "/home/teemo/anaconda3/envs/ds/lib/python3.9/site-packages/sklearn/linear_model/_ridge.py:157: LinAlgWarning: Ill-conditioned matrix (rcond=1.66549e-17): result may not be accurate.\n",
      "  return linalg.solve(A, Xy, sym_pos=True, overwrite_a=True).T\n"
     ]
    },
    {
     "data": {
      "text/html": [
       "<div>\n",
       "<style scoped>\n",
       "    .dataframe tbody tr th:only-of-type {\n",
       "        vertical-align: middle;\n",
       "    }\n",
       "\n",
       "    .dataframe tbody tr th {\n",
       "        vertical-align: top;\n",
       "    }\n",
       "\n",
       "    .dataframe thead th {\n",
       "        text-align: right;\n",
       "    }\n",
       "</style>\n",
       "<table border=\"1\" class=\"dataframe\">\n",
       "  <thead>\n",
       "    <tr style=\"text-align: right;\">\n",
       "      <th></th>\n",
       "      <th>mean MSE</th>\n",
       "      <th>mean norm_MSE</th>\n",
       "      <th>mean R2</th>\n",
       "    </tr>\n",
       "  </thead>\n",
       "  <tbody>\n",
       "    <tr>\n",
       "      <th>Lambda=1</th>\n",
       "      <td>0.217403</td>\n",
       "      <td>0.893311</td>\n",
       "      <td>0.106689</td>\n",
       "    </tr>\n",
       "    <tr>\n",
       "      <th>Lambda=5</th>\n",
       "      <td>0.21992</td>\n",
       "      <td>0.904081</td>\n",
       "      <td>0.095919</td>\n",
       "    </tr>\n",
       "    <tr>\n",
       "      <th>Lambda=0.5</th>\n",
       "      <td>0.220802</td>\n",
       "      <td>0.907144</td>\n",
       "      <td>0.092856</td>\n",
       "    </tr>\n",
       "    <tr>\n",
       "      <th>Lambda=10</th>\n",
       "      <td>0.227588</td>\n",
       "      <td>0.935749</td>\n",
       "      <td>0.064251</td>\n",
       "    </tr>\n",
       "    <tr>\n",
       "      <th>Lambda=0.1</th>\n",
       "      <td>0.227864</td>\n",
       "      <td>0.936096</td>\n",
       "      <td>0.063904</td>\n",
       "    </tr>\n",
       "    <tr>\n",
       "      <th>Mean</th>\n",
       "      <td>0.230403</td>\n",
       "      <td>0.946985</td>\n",
       "      <td>0.053015</td>\n",
       "    </tr>\n",
       "    <tr>\n",
       "      <th>Lambda=0.01</th>\n",
       "      <td>0.232627</td>\n",
       "      <td>0.955924</td>\n",
       "      <td>0.044076</td>\n",
       "    </tr>\n",
       "    <tr>\n",
       "      <th>Lambda=0.001</th>\n",
       "      <td>0.233484</td>\n",
       "      <td>0.959514</td>\n",
       "      <td>0.040486</td>\n",
       "    </tr>\n",
       "    <tr>\n",
       "      <th>Lambda=0.0001</th>\n",
       "      <td>0.233577</td>\n",
       "      <td>0.959906</td>\n",
       "      <td>0.040094</td>\n",
       "    </tr>\n",
       "    <tr>\n",
       "      <th>Lambda=1e-05</th>\n",
       "      <td>0.233586</td>\n",
       "      <td>0.959945</td>\n",
       "      <td>0.040055</td>\n",
       "    </tr>\n",
       "    <tr>\n",
       "      <th>Lambda=1e-10</th>\n",
       "      <td>0.233587</td>\n",
       "      <td>0.95995</td>\n",
       "      <td>0.04005</td>\n",
       "    </tr>\n",
       "    <tr>\n",
       "      <th>Lambda=50</th>\n",
       "      <td>0.241567</td>\n",
       "      <td>0.993453</td>\n",
       "      <td>0.006547</td>\n",
       "    </tr>\n",
       "    <tr>\n",
       "      <th>Lambda=100</th>\n",
       "      <td>0.242836</td>\n",
       "      <td>0.99875</td>\n",
       "      <td>0.00125</td>\n",
       "    </tr>\n",
       "  </tbody>\n",
       "</table>\n",
       "</div>"
      ],
      "text/plain": [
       "               mean MSE mean norm_MSE   mean R2\n",
       "Lambda=1       0.217403      0.893311  0.106689\n",
       "Lambda=5        0.21992      0.904081  0.095919\n",
       "Lambda=0.5     0.220802      0.907144  0.092856\n",
       "Lambda=10      0.227588      0.935749  0.064251\n",
       "Lambda=0.1     0.227864      0.936096  0.063904\n",
       "Mean           0.230403      0.946985  0.053015\n",
       "Lambda=0.01    0.232627      0.955924  0.044076\n",
       "Lambda=0.001   0.233484      0.959514  0.040486\n",
       "Lambda=0.0001  0.233577      0.959906  0.040094\n",
       "Lambda=1e-05   0.233586      0.959945  0.040055\n",
       "Lambda=1e-10   0.233587       0.95995   0.04005\n",
       "Lambda=50      0.241567      0.993453  0.006547\n",
       "Lambda=100     0.242836       0.99875   0.00125"
      ]
     },
     "execution_count": 150,
     "metadata": {},
     "output_type": "execute_result"
    }
   ],
   "source": [
    "ridge_cross_val_metrics = pd.DataFrame(columns=['mean MSE', 'mean norm_MSE', 'mean R2'])\n",
    "# We calculate the cross-validation metrics for each lambda \n",
    "for lambda_val in lambdas:\n",
    "    kf = KFold(n_splits=5)\n",
    "    i=1\n",
    "    cv_mse = []\n",
    "    cv_nmse = []\n",
    "    cv_r2 = []\n",
    "    # We compute the metrics for each fold and then perform the mean.\n",
    "    for train_index, test_index in kf.split(x_train):\n",
    "        x_train_fold = x_train.values[train_index]\n",
    "        y_train_fold = y_train.values[train_index]\n",
    "        x_test_fold = x_train.values[test_index,:]\n",
    "        y_test_fold = y_train.values[test_index]\n",
    "\n",
    "        ridge = Ridge(alpha=lambda_val)\n",
    "        a = ridge.fit(x_train_fold,y_train_fold)\n",
    "        y_pred_fold = ridge.predict(x_test_fold)\n",
    "        fold_mse = mean_squared_error(y_test_fold, y_pred_fold)\n",
    "        fold_nmse =  1-r2_score(y_test_fold, y_pred_fold)\n",
    "        fold_r2 = r2_score(y_test_fold, y_pred_fold)\n",
    "        cv_mse.append(fold_mse)\n",
    "        cv_nmse.append(fold_nmse)\n",
    "        cv_r2.append(fold_r2)\n",
    "    ridge_cross_val_metrics.loc['Lambda={}'.format(lambda_val),:] = [np.mean(cv_mse),np.mean(cv_nmse),np.mean(cv_r2)]\n",
    "\n",
    "ridge_cross_val_metrics.loc['Mean', :] = ridge_cross_val_metrics.mean()\n",
    "ridge_cv_r2 = ridge_cross_val_metrics.loc[\"Mean\", \"mean R2\"]\n",
    "\n",
    "ridge_cross_val_metrics.sort_values(by='mean R2',ascending=False)"
   ]
  },
  {
   "cell_type": "code",
   "execution_count": 151,
   "id": "613d62d3",
   "metadata": {
    "pycharm": {
     "name": "#%%\n"
    }
   },
   "outputs": [
    {
     "data": {
      "text/plain": [
       "Ridge(alpha=5)"
      ]
     },
     "execution_count": 151,
     "metadata": {},
     "output_type": "execute_result"
    },
    {
     "data": {
      "text/plain": [
       "0.7215189873417721"
      ]
     },
     "execution_count": 151,
     "metadata": {},
     "output_type": "execute_result"
    }
   ],
   "source": [
    "ridge = Ridge(alpha=5)\n",
    "\n",
    "ridge.fit(x_train.values, y_train.values.flatten())\n",
    "\n",
    "y_train_pred = ridge.predict(x_train.values)\n",
    "y_train_pred = y_train_pred >= 0.5\n",
    "y_train_pred = np.multiply(y_train_pred, 1)\n",
    "accuracy_score(y_train.values, y_train_pred)"
   ]
  },
  {
   "cell_type": "code",
   "execution_count": 152,
   "id": "155ac85d",
   "metadata": {
    "pycharm": {
     "name": "#%%\n"
    }
   },
   "outputs": [
    {
     "data": {
      "text/plain": [
       "0.825"
      ]
     },
     "execution_count": 152,
     "metadata": {},
     "output_type": "execute_result"
    },
    {
     "data": {
      "text/html": [
       "<div>\n",
       "<style scoped>\n",
       "    .dataframe tbody tr th:only-of-type {\n",
       "        vertical-align: middle;\n",
       "    }\n",
       "\n",
       "    .dataframe tbody tr th {\n",
       "        vertical-align: top;\n",
       "    }\n",
       "\n",
       "    .dataframe thead th {\n",
       "        text-align: right;\n",
       "    }\n",
       "</style>\n",
       "<table border=\"1\" class=\"dataframe\">\n",
       "  <thead>\n",
       "    <tr style=\"text-align: right;\">\n",
       "      <th></th>\n",
       "      <th>Accuracy</th>\n",
       "      <th>F1-score (class 1)</th>\n",
       "      <th>F1-score (class 0)</th>\n",
       "      <th>F1-score (macro avg)</th>\n",
       "    </tr>\n",
       "  </thead>\n",
       "  <tbody>\n",
       "    <tr>\n",
       "      <th>Linear</th>\n",
       "      <td>0.825</td>\n",
       "      <td>0.740741</td>\n",
       "      <td>0.867925</td>\n",
       "      <td>0.804333</td>\n",
       "    </tr>\n",
       "    <tr>\n",
       "      <th>Lasso</th>\n",
       "      <td>0.775</td>\n",
       "      <td>0.64</td>\n",
       "      <td>0.836364</td>\n",
       "      <td>0.738182</td>\n",
       "    </tr>\n",
       "    <tr>\n",
       "      <th>Ridge</th>\n",
       "      <td>0.825</td>\n",
       "      <td>0.740741</td>\n",
       "      <td>0.867925</td>\n",
       "      <td>0.804333</td>\n",
       "    </tr>\n",
       "  </tbody>\n",
       "</table>\n",
       "</div>"
      ],
      "text/plain": [
       "       Accuracy F1-score (class 1) F1-score (class 0) F1-score (macro avg)\n",
       "Linear    0.825           0.740741           0.867925             0.804333\n",
       "Lasso     0.775               0.64           0.836364             0.738182\n",
       "Ridge     0.825           0.740741           0.867925             0.804333"
      ]
     },
     "execution_count": 152,
     "metadata": {},
     "output_type": "execute_result"
    }
   ],
   "source": [
    "y_val_pred = ridge.predict(x_val.values)\n",
    "y_val_pred = y_val_pred >= 0.5\n",
    "y_val_pred = np.multiply(y_val_pred, 1)\n",
    "accuracy_score(y_val.values, y_val_pred)\n",
    "results.loc['Ridge',:] = compute_metrics(y_val.values, y_val_pred)\n",
    "results"
   ]
  },
  {
   "cell_type": "markdown",
   "id": "6239670a",
   "metadata": {
    "pycharm": {
     "name": "#%% md\n"
    }
   },
   "source": [
    "# Neural Network"
   ]
  },
  {
   "cell_type": "code",
   "execution_count": 153,
   "id": "c6f66da8",
   "metadata": {
    "pycharm": {
     "name": "#%%\n"
    }
   },
   "outputs": [
    {
     "data": {
      "text/plain": [
       "MLPClassifier(hidden_layer_sizes=(12,), learning_rate_init=1e-05,\n",
       "              max_iter=1000000, tol=1e-08)"
      ]
     },
     "execution_count": 153,
     "metadata": {},
     "output_type": "execute_result"
    },
    {
     "data": {
      "text/plain": [
       "0.7974683544303798"
      ]
     },
     "execution_count": 153,
     "metadata": {},
     "output_type": "execute_result"
    }
   ],
   "source": [
    "regr = MLPClassifier(hidden_layer_sizes=(12, ), learning_rate_init=0.00001,  max_iter=1_000_000, tol=1e-8)\n",
    "regr.fit(x_train.values, y_train.values.flatten())\n",
    "y_train_pred = regr.predict(x_train.values)\n",
    "regr.score(x_train.values, y_train.values.flatten())"
   ]
  },
  {
   "cell_type": "code",
   "execution_count": 154,
   "id": "b1d601cf",
   "metadata": {
    "pycharm": {
     "name": "#%%\n"
    }
   },
   "outputs": [
    {
     "data": {
      "text/plain": [
       "0.7974683544303798"
      ]
     },
     "execution_count": 154,
     "metadata": {},
     "output_type": "execute_result"
    }
   ],
   "source": [
    "y_train_pred = regr.predict(x_train.values)\n",
    "y_train_pred = y_train_pred >= 0.5\n",
    "y_train_pred = np.multiply(y_train_pred, 1)\n",
    "accuracy_score(y_train.values, y_train_pred)"
   ]
  },
  {
   "cell_type": "code",
   "execution_count": 155,
   "id": "8986d519",
   "metadata": {
    "pycharm": {
     "name": "#%%\n"
    }
   },
   "outputs": [
    {
     "data": {
      "text/plain": [
       "0.675"
      ]
     },
     "execution_count": 155,
     "metadata": {},
     "output_type": "execute_result"
    },
    {
     "data": {
      "text/html": [
       "<div>\n",
       "<style scoped>\n",
       "    .dataframe tbody tr th:only-of-type {\n",
       "        vertical-align: middle;\n",
       "    }\n",
       "\n",
       "    .dataframe tbody tr th {\n",
       "        vertical-align: top;\n",
       "    }\n",
       "\n",
       "    .dataframe thead th {\n",
       "        text-align: right;\n",
       "    }\n",
       "</style>\n",
       "<table border=\"1\" class=\"dataframe\">\n",
       "  <thead>\n",
       "    <tr style=\"text-align: right;\">\n",
       "      <th></th>\n",
       "      <th>Accuracy</th>\n",
       "      <th>F1-score (class 1)</th>\n",
       "      <th>F1-score (class 0)</th>\n",
       "      <th>F1-score (macro avg)</th>\n",
       "    </tr>\n",
       "  </thead>\n",
       "  <tbody>\n",
       "    <tr>\n",
       "      <th>Linear</th>\n",
       "      <td>0.825</td>\n",
       "      <td>0.740741</td>\n",
       "      <td>0.867925</td>\n",
       "      <td>0.804333</td>\n",
       "    </tr>\n",
       "    <tr>\n",
       "      <th>Lasso</th>\n",
       "      <td>0.775</td>\n",
       "      <td>0.64</td>\n",
       "      <td>0.836364</td>\n",
       "      <td>0.738182</td>\n",
       "    </tr>\n",
       "    <tr>\n",
       "      <th>Ridge</th>\n",
       "      <td>0.825</td>\n",
       "      <td>0.740741</td>\n",
       "      <td>0.867925</td>\n",
       "      <td>0.804333</td>\n",
       "    </tr>\n",
       "    <tr>\n",
       "      <th>Neural Net</th>\n",
       "      <td>0.675</td>\n",
       "      <td>0.628571</td>\n",
       "      <td>0.711111</td>\n",
       "      <td>0.669841</td>\n",
       "    </tr>\n",
       "  </tbody>\n",
       "</table>\n",
       "</div>"
      ],
      "text/plain": [
       "           Accuracy F1-score (class 1) F1-score (class 0) F1-score (macro avg)\n",
       "Linear        0.825           0.740741           0.867925             0.804333\n",
       "Lasso         0.775               0.64           0.836364             0.738182\n",
       "Ridge         0.825           0.740741           0.867925             0.804333\n",
       "Neural Net    0.675           0.628571           0.711111             0.669841"
      ]
     },
     "execution_count": 155,
     "metadata": {},
     "output_type": "execute_result"
    }
   ],
   "source": [
    "y_val_pred = regr.predict(x_val.values)\n",
    "y_val_pred = y_val_pred >= 0.5\n",
    "y_val_pred = np.multiply(y_val_pred, 1)\n",
    "accuracy_score(y_val.values, y_val_pred)\n",
    "results.loc['Neural Net',:] = compute_metrics(y_val.values, y_val_pred)\n",
    "results"
   ]
  },
  {
   "cell_type": "code",
   "execution_count": 86,
   "id": "b19aac88",
   "metadata": {
    "pycharm": {
     "name": "#%%\n"
    }
   },
   "outputs": [
    {
     "ename": "NameError",
     "evalue": "name 'y_test_pred' is not defined",
     "output_type": "error",
     "traceback": [
      "\u001b[0;31m---------------------------------------------------------------------------\u001b[0m",
      "\u001b[0;31mNameError\u001b[0m                                 Traceback (most recent call last)",
      "Input \u001b[0;32mIn [86]\u001b[0m, in \u001b[0;36m<cell line: 2>\u001b[0;34m()\u001b[0m\n\u001b[1;32m      1\u001b[0m \u001b[38;5;66;03m# confusion(y_test.values.flatten(), y_test_pred)\u001b[39;00m\n\u001b[0;32m----> 2\u001b[0m confusion(\u001b[43my_test_pred\u001b[49m, y_test\u001b[38;5;241m.\u001b[39mvalues\u001b[38;5;241m.\u001b[39mflatten())\n\u001b[1;32m      4\u001b[0m \u001b[38;5;28mprint\u001b[39m( classification_report(y_test\u001b[38;5;241m.\u001b[39mvalues, y_test_pred))\n",
      "\u001b[0;31mNameError\u001b[0m: name 'y_test_pred' is not defined"
     ]
    }
   ],
   "source": [
    "# confusion(y_test.values.flatten(), y_test_pred)\n",
    "confusion(y_val_pred, y_test.values.flatten())\n",
    "\n",
    "print( classification_report(y_test.values, y_test_pred))"
   ]
  },
  {
   "cell_type": "code",
   "execution_count": 24,
   "id": "631aa3d3",
   "metadata": {
    "pycharm": {
     "name": "#%%\n"
    }
   },
   "outputs": [
    {
     "ename": "AttributeError",
     "evalue": "'MLPClassifier' object has no attribute 'feature_importances_'",
     "output_type": "error",
     "traceback": [
      "\u001b[0;31m---------------------------------------------------------------------------\u001b[0m",
      "\u001b[0;31mAttributeError\u001b[0m                            Traceback (most recent call last)",
      "Input \u001b[0;32mIn [24]\u001b[0m, in \u001b[0;36m<cell line: 2>\u001b[0;34m()\u001b[0m\n\u001b[1;32m      1\u001b[0m \u001b[38;5;66;03m# Get numerical feature importances\u001b[39;00m\n\u001b[0;32m----> 2\u001b[0m importances \u001b[38;5;241m=\u001b[39m \u001b[38;5;28mlist\u001b[39m(\u001b[43mregr\u001b[49m\u001b[38;5;241;43m.\u001b[39;49m\u001b[43mfeature_importances_\u001b[49m)\u001b[38;5;66;03m# List of tuples with variable and importance\u001b[39;00m\n\u001b[1;32m      3\u001b[0m feature_importances \u001b[38;5;241m=\u001b[39m [(feature, \u001b[38;5;28mround\u001b[39m(importance, \u001b[38;5;241m2\u001b[39m)) \u001b[38;5;28;01mfor\u001b[39;00m feature, importance \u001b[38;5;129;01min\u001b[39;00m \u001b[38;5;28mzip\u001b[39m(\u001b[38;5;28mlist\u001b[39m(x_train\u001b[38;5;241m.\u001b[39mcolumns), importances)]\u001b[38;5;66;03m# Sort the feature importances by most important first\u001b[39;00m\n\u001b[1;32m      4\u001b[0m feature_importances \u001b[38;5;241m=\u001b[39m \u001b[38;5;28msorted\u001b[39m(feature_importances, key \u001b[38;5;241m=\u001b[39m \u001b[38;5;28;01mlambda\u001b[39;00m x: x[\u001b[38;5;241m1\u001b[39m], reverse \u001b[38;5;241m=\u001b[39m \u001b[38;5;28;01mTrue\u001b[39;00m)\u001b[38;5;66;03m# Print out the feature and importances\u001b[39;00m\n",
      "\u001b[0;31mAttributeError\u001b[0m: 'MLPClassifier' object has no attribute 'feature_importances_'"
     ]
    }
   ],
   "source": [
    "# Get numerical feature importances\n",
    "importances = list(regr.feature_importances_)# List of tuples with variable and importance\n",
    "feature_importances = [(feature, round(importance, 2)) for feature, importance in zip(list(x_train.columns), importances)]# Sort the feature importances by most important first\n",
    "feature_importances = sorted(feature_importances, key = lambda x: x[1], reverse = True)# Print out the feature and importances\n",
    "[print('Variable: {:20} Importance: {}'.format(*pair)) for pair in feature_importances];"
   ]
  },
  {
   "cell_type": "code",
   "execution_count": null,
   "id": "3f8db802",
   "metadata": {
    "pycharm": {
     "name": "#%%\n"
    }
   },
   "outputs": [],
   "source": []
  }
 ],
 "metadata": {
  "kernelspec": {
   "display_name": "Python 3 (ipykernel)",
   "language": "python",
   "name": "python3"
  },
  "language_info": {
   "codemirror_mode": {
    "name": "ipython",
    "version": 3
   },
   "file_extension": ".py",
   "mimetype": "text/x-python",
   "name": "python",
   "nbconvert_exporter": "python",
   "pygments_lexer": "ipython3",
   "version": "3.9.7"
  }
 },
 "nbformat": 4,
 "nbformat_minor": 5
}

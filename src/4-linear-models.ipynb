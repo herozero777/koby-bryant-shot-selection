{
 "cells": [
  {
   "cell_type": "code",
   "execution_count": 63,
   "id": "4c3859a2",
   "metadata": {
    "pycharm": {
     "name": "#%%\n"
    }
   },
   "outputs": [],
   "source": [
    "import pandas as pd\n",
    "import numpy as np\n",
    "from sklearn.linear_model import LinearRegression, Ridge, RidgeCV, Lasso, LassoCV\n",
    "from sklearn.metrics import mean_squared_error, r2_score, accuracy_score, f1_score, classification_report\n",
    "\n",
    "from sklearn.model_selection import train_test_split,  KFold, cross_val_score\n",
    "from sklearn.neural_network import MLPRegressor, MLPClassifier\n",
    "\n",
    "from IPython.core.interactiveshell import InteractiveShell\n",
    "InteractiveShell.ast_node_interactivity = \"all\"\n",
    "\n",
    "pd.set_option(\"display.max_columns\", None)"
   ]
  },
  {
   "cell_type": "code",
   "execution_count": 87,
   "id": "22554cd5",
   "metadata": {
    "pycharm": {
     "name": "#%%\n"
    }
   },
   "outputs": [],
   "source": [
    "# DATASET = 'SEASON'\n",
    "DATASET = 'TEAM'\n",
    "\n",
    "if DATASET == 'TEAM':\n",
    "    train = pd.read_csv('../data/train_team.csv')\n",
    "    test = pd.read_csv('../data/test_team.csv')\n",
    "\n",
    "if DATASET == 'SEASON':\n",
    "    train = pd.read_csv('../data/train_season.csv')\n",
    "    test = pd.read_csv('../data/test_season.csv')\n",
    "    \n",
    "train, validation = train_test_split(train, train_size=0.8, shuffle=False)"
   ]
  },
  {
   "cell_type": "code",
   "execution_count": 88,
   "id": "259f4c1f",
   "metadata": {
    "pycharm": {
     "name": "#%%\n"
    }
   },
   "outputs": [],
   "source": [
    "target_column = \"shot_made_flag\"  # y_column_name"
   ]
  },
  {
   "cell_type": "code",
   "execution_count": 89,
   "id": "7db98791",
   "metadata": {
    "pycharm": {
     "name": "#%%\n"
    }
   },
   "outputs": [],
   "source": [
    "def confusion(true, pred):\n",
    "    \"\"\"\n",
    "    Function for pretty printing confusion matrices\n",
    "    \"\"\"\n",
    "    pred = pd.Series(pred)\n",
    "    true = pd.Series(true)\n",
    "    \n",
    "    true.name = 'target'\n",
    "    pred.name = 'predicted'\n",
    "    cm = pd.crosstab(true.reset_index(drop=True), pred.reset_index(drop=True))\n",
    "    print(cm)\n",
    "    cm = cm[cm.index]\n",
    "    return cm"
   ]
  },
  {
   "cell_type": "code",
   "execution_count": 90,
   "id": "97b8d7e7",
   "metadata": {
    "pycharm": {
     "name": "#%%\n"
    }
   },
   "outputs": [],
   "source": [
    "def compute_metrics(y_true,y_pred):\n",
    "    accuracy = accuracy_score(y_true,y_pred)\n",
    "    f1_score_1 = f1_score(y_true,y_pred,average='binary',pos_label=1)\n",
    "    f1_score_0 = f1_score(y_true,y_pred,average='binary',pos_label=0)\n",
    "    f1_score_macro = f1_score(y_true,y_pred,average='macro')\n",
    "    return [accuracy,f1_score_1,f1_score_0,f1_score_macro]\n",
    "    \n",
    "    \n",
    "\n",
    "results = pd.DataFrame(columns=['Accuracy', 'F1-score (class 1)', 'F1-score (class 0)', 'F1-score (macro avg)'])"
   ]
  },
  {
   "cell_type": "code",
   "execution_count": 91,
   "id": "e473d5d5",
   "metadata": {
    "pycharm": {
     "name": "#%%\n"
    }
   },
   "outputs": [],
   "source": [
    "def split_x_y(df, target):\n",
    "    y = df.loc[:, [target]]\n",
    "    x = df.drop([target], axis=1)\n",
    "    return x, y\n",
    "\n",
    "def split_regular_playoff(df, season, train=None, test=None, validation=None):\n",
    "\n",
    "    # if(train + test + validation != 1):\n",
    "    #     print(\"Error dataset split\")\n",
    "    #     return None\n",
    "\n",
    "    df_validaiton = None\n",
    "\n",
    "    df_season = df[df['season'] == season]\n",
    "    isPlayoffs = df_season.playoffs == 1\n",
    "\n",
    "    df_train = df_season[~isPlayoffs]\n",
    "    df_test  = df_season[isPlayoffs]\n",
    "\n",
    "    print(f\"Size of training dataset {len(df_train)}\" )\n",
    "    print(f\"Size of test dataset {len(df_test)}\" )\n",
    "    print(f\"Size of train vs test ratio {len(df_train) / (len(df_train) + len(df_test)) }\" )\n",
    "\n",
    "    return df_train, df_test\n",
    "#     train = split_x_y(df_train, 'shot_made_flag')\n",
    "#     test = split_x_y(df_test, 'shot_made_flag')\n",
    "#     return train[0], train[1], test[0], test[1]\n",
    "#     return train, test\n",
    "\n",
    "# x_train, y_train, x_test, y_test = split_regular_playoff(df, '2010-11')\n",
    "# train, test = split_regular_playoff(df, '2010-11')"
   ]
  },
  {
   "cell_type": "code",
   "execution_count": 92,
   "id": "7bb37ed4",
   "metadata": {
    "pycharm": {
     "name": "#%%\n"
    }
   },
   "outputs": [
    {
     "data": {
      "text/plain": [
       "array([0.40322581, 0.81818182, 1.        , 0.85714286, 0.22222222])"
      ]
     },
     "execution_count": 92,
     "metadata": {},
     "output_type": "execute_result"
    }
   ],
   "source": [
    "# train.describe(include='all')\n",
    "train.action_type_te.unique()"
   ]
  },
  {
   "cell_type": "markdown",
   "id": "a642be1c",
   "metadata": {
    "pycharm": {
     "name": "#%% md\n"
    }
   },
   "source": [
    "## Split X & Y"
   ]
  },
  {
   "cell_type": "code",
   "execution_count": 93,
   "id": "1e556673",
   "metadata": {
    "pycharm": {
     "name": "#%%\n"
    }
   },
   "outputs": [],
   "source": [
    "x_train, y_train = split_x_y(train, target_column)\n",
    "x_test, y_test = split_x_y(test, target_column)\n",
    "\n",
    "x_val, y_val = split_x_y(validation, target_column)"
   ]
  },
  {
   "cell_type": "code",
   "execution_count": 94,
   "id": "8a18e870",
   "metadata": {
    "pycharm": {
     "name": "#%%\n"
    }
   },
   "outputs": [],
   "source": [
    "lambdas = [1e-10,1e-5,1e-4,1e-3,1e-2,0.1, 0.5,1,5,10,50,100]"
   ]
  },
  {
   "cell_type": "markdown",
   "id": "1b2a774b",
   "metadata": {
    "pycharm": {
     "name": "#%% md\n"
    }
   },
   "source": [
    "# Linear Regression"
   ]
  },
  {
   "cell_type": "code",
   "execution_count": 95,
   "id": "60f28f3a",
   "metadata": {},
   "outputs": [
    {
     "data": {
      "text/html": [
       "<div>\n",
       "<style scoped>\n",
       "    .dataframe tbody tr th:only-of-type {\n",
       "        vertical-align: middle;\n",
       "    }\n",
       "\n",
       "    .dataframe tbody tr th {\n",
       "        vertical-align: top;\n",
       "    }\n",
       "\n",
       "    .dataframe thead th {\n",
       "        text-align: right;\n",
       "    }\n",
       "</style>\n",
       "<table border=\"1\" class=\"dataframe\">\n",
       "  <thead>\n",
       "    <tr style=\"text-align: right;\">\n",
       "      <th></th>\n",
       "      <th>period</th>\n",
       "      <th>playoffs</th>\n",
       "      <th>shot_distance</th>\n",
       "      <th>shot_zone_basic</th>\n",
       "      <th>shot_zone_range</th>\n",
       "      <th>time_remaining</th>\n",
       "      <th>last_5_games_avg</th>\n",
       "      <th>streak_before_shot</th>\n",
       "      <th>points_before_shot</th>\n",
       "      <th>fgp_before_shot</th>\n",
       "      <th>month</th>\n",
       "      <th>weekday</th>\n",
       "      <th>action_type_te</th>\n",
       "      <th>opponent_te</th>\n",
       "      <th>combined_shot_type_Dunk</th>\n",
       "      <th>combined_shot_type_Jump Shot</th>\n",
       "      <th>combined_shot_type_Layup</th>\n",
       "      <th>shot_type_2PT Field Goal</th>\n",
       "      <th>shot_type_3PT Field Goal</th>\n",
       "      <th>shot_zone_area_Center(C)</th>\n",
       "      <th>shot_zone_area_Left Side Center(LC)</th>\n",
       "      <th>shot_zone_area_Left Side(L)</th>\n",
       "      <th>shot_zone_area_Right Side Center(RC)</th>\n",
       "      <th>shot_zone_area_Right Side(R)</th>\n",
       "      <th>matchup_away</th>\n",
       "      <th>matchup_home</th>\n",
       "      <th>combined_shot_type_Tip Shot</th>\n",
       "      <th>shot_zone_area_Back Court(BC)</th>\n",
       "    </tr>\n",
       "  </thead>\n",
       "  <tbody>\n",
       "    <tr>\n",
       "      <th>count</th>\n",
       "      <td>72.000000</td>\n",
       "      <td>72.0</td>\n",
       "      <td>72.000000</td>\n",
       "      <td>72.000000</td>\n",
       "      <td>72.000000</td>\n",
       "      <td>72.000000</td>\n",
       "      <td>72.000000</td>\n",
       "      <td>72.000000</td>\n",
       "      <td>72.000000</td>\n",
       "      <td>72.000000</td>\n",
       "      <td>72.000000</td>\n",
       "      <td>72.000000</td>\n",
       "      <td>72.000000</td>\n",
       "      <td>72.000000</td>\n",
       "      <td>72.000000</td>\n",
       "      <td>72.000000</td>\n",
       "      <td>72.000000</td>\n",
       "      <td>72.000000</td>\n",
       "      <td>72.000000</td>\n",
       "      <td>72.00000</td>\n",
       "      <td>72.000000</td>\n",
       "      <td>72.000000</td>\n",
       "      <td>72.000000</td>\n",
       "      <td>72.000000</td>\n",
       "      <td>72.000000</td>\n",
       "      <td>72.000000</td>\n",
       "      <td>72.0</td>\n",
       "      <td>72.0</td>\n",
       "    </tr>\n",
       "    <tr>\n",
       "      <th>mean</th>\n",
       "      <td>2.597222</td>\n",
       "      <td>0.0</td>\n",
       "      <td>14.902778</td>\n",
       "      <td>1.944444</td>\n",
       "      <td>1.527778</td>\n",
       "      <td>297.180556</td>\n",
       "      <td>0.261944</td>\n",
       "      <td>0.486111</td>\n",
       "      <td>11.333333</td>\n",
       "      <td>0.515000</td>\n",
       "      <td>1.125000</td>\n",
       "      <td>4.486111</td>\n",
       "      <td>0.472081</td>\n",
       "      <td>0.519231</td>\n",
       "      <td>0.027778</td>\n",
       "      <td>0.819444</td>\n",
       "      <td>0.152778</td>\n",
       "      <td>0.791667</td>\n",
       "      <td>0.208333</td>\n",
       "      <td>0.37500</td>\n",
       "      <td>0.208333</td>\n",
       "      <td>0.111111</td>\n",
       "      <td>0.138889</td>\n",
       "      <td>0.166667</td>\n",
       "      <td>0.680556</td>\n",
       "      <td>0.319444</td>\n",
       "      <td>0.0</td>\n",
       "      <td>0.0</td>\n",
       "    </tr>\n",
       "    <tr>\n",
       "      <th>std</th>\n",
       "      <td>1.182736</td>\n",
       "      <td>0.0</td>\n",
       "      <td>9.314777</td>\n",
       "      <td>1.309649</td>\n",
       "      <td>1.074312</td>\n",
       "      <td>231.395420</td>\n",
       "      <td>0.217829</td>\n",
       "      <td>0.711932</td>\n",
       "      <td>6.836110</td>\n",
       "      <td>0.189082</td>\n",
       "      <td>0.603686</td>\n",
       "      <td>1.609768</td>\n",
       "      <td>0.197161</td>\n",
       "      <td>0.000000</td>\n",
       "      <td>0.165489</td>\n",
       "      <td>0.387349</td>\n",
       "      <td>0.362298</td>\n",
       "      <td>0.408966</td>\n",
       "      <td>0.408966</td>\n",
       "      <td>0.48752</td>\n",
       "      <td>0.408966</td>\n",
       "      <td>0.316475</td>\n",
       "      <td>0.348257</td>\n",
       "      <td>0.375293</td>\n",
       "      <td>0.469533</td>\n",
       "      <td>0.469533</td>\n",
       "      <td>0.0</td>\n",
       "      <td>0.0</td>\n",
       "    </tr>\n",
       "    <tr>\n",
       "      <th>min</th>\n",
       "      <td>1.000000</td>\n",
       "      <td>0.0</td>\n",
       "      <td>0.000000</td>\n",
       "      <td>0.000000</td>\n",
       "      <td>0.000000</td>\n",
       "      <td>0.000000</td>\n",
       "      <td>0.000000</td>\n",
       "      <td>0.000000</td>\n",
       "      <td>0.000000</td>\n",
       "      <td>0.000000</td>\n",
       "      <td>1.000000</td>\n",
       "      <td>2.000000</td>\n",
       "      <td>0.222222</td>\n",
       "      <td>0.519231</td>\n",
       "      <td>0.000000</td>\n",
       "      <td>0.000000</td>\n",
       "      <td>0.000000</td>\n",
       "      <td>0.000000</td>\n",
       "      <td>0.000000</td>\n",
       "      <td>0.00000</td>\n",
       "      <td>0.000000</td>\n",
       "      <td>0.000000</td>\n",
       "      <td>0.000000</td>\n",
       "      <td>0.000000</td>\n",
       "      <td>0.000000</td>\n",
       "      <td>0.000000</td>\n",
       "      <td>0.0</td>\n",
       "      <td>0.0</td>\n",
       "    </tr>\n",
       "    <tr>\n",
       "      <th>25%</th>\n",
       "      <td>1.750000</td>\n",
       "      <td>0.0</td>\n",
       "      <td>10.000000</td>\n",
       "      <td>1.000000</td>\n",
       "      <td>1.000000</td>\n",
       "      <td>90.500000</td>\n",
       "      <td>0.000000</td>\n",
       "      <td>0.000000</td>\n",
       "      <td>6.000000</td>\n",
       "      <td>0.427500</td>\n",
       "      <td>1.000000</td>\n",
       "      <td>2.000000</td>\n",
       "      <td>0.403226</td>\n",
       "      <td>0.519231</td>\n",
       "      <td>0.000000</td>\n",
       "      <td>1.000000</td>\n",
       "      <td>0.000000</td>\n",
       "      <td>1.000000</td>\n",
       "      <td>0.000000</td>\n",
       "      <td>0.00000</td>\n",
       "      <td>0.000000</td>\n",
       "      <td>0.000000</td>\n",
       "      <td>0.000000</td>\n",
       "      <td>0.000000</td>\n",
       "      <td>0.000000</td>\n",
       "      <td>0.000000</td>\n",
       "      <td>0.0</td>\n",
       "      <td>0.0</td>\n",
       "    </tr>\n",
       "    <tr>\n",
       "      <th>50%</th>\n",
       "      <td>3.000000</td>\n",
       "      <td>0.0</td>\n",
       "      <td>16.000000</td>\n",
       "      <td>2.000000</td>\n",
       "      <td>2.000000</td>\n",
       "      <td>264.000000</td>\n",
       "      <td>0.410000</td>\n",
       "      <td>0.000000</td>\n",
       "      <td>10.000000</td>\n",
       "      <td>0.500000</td>\n",
       "      <td>1.000000</td>\n",
       "      <td>5.000000</td>\n",
       "      <td>0.403226</td>\n",
       "      <td>0.519231</td>\n",
       "      <td>0.000000</td>\n",
       "      <td>1.000000</td>\n",
       "      <td>0.000000</td>\n",
       "      <td>1.000000</td>\n",
       "      <td>0.000000</td>\n",
       "      <td>0.00000</td>\n",
       "      <td>0.000000</td>\n",
       "      <td>0.000000</td>\n",
       "      <td>0.000000</td>\n",
       "      <td>0.000000</td>\n",
       "      <td>1.000000</td>\n",
       "      <td>0.000000</td>\n",
       "      <td>0.0</td>\n",
       "      <td>0.0</td>\n",
       "    </tr>\n",
       "    <tr>\n",
       "      <th>75%</th>\n",
       "      <td>4.000000</td>\n",
       "      <td>0.0</td>\n",
       "      <td>20.250000</td>\n",
       "      <td>2.000000</td>\n",
       "      <td>2.000000</td>\n",
       "      <td>496.750000</td>\n",
       "      <td>0.470000</td>\n",
       "      <td>1.000000</td>\n",
       "      <td>15.000000</td>\n",
       "      <td>0.572500</td>\n",
       "      <td>1.000000</td>\n",
       "      <td>6.000000</td>\n",
       "      <td>0.403226</td>\n",
       "      <td>0.519231</td>\n",
       "      <td>0.000000</td>\n",
       "      <td>1.000000</td>\n",
       "      <td>0.000000</td>\n",
       "      <td>1.000000</td>\n",
       "      <td>0.000000</td>\n",
       "      <td>1.00000</td>\n",
       "      <td>0.000000</td>\n",
       "      <td>0.000000</td>\n",
       "      <td>0.000000</td>\n",
       "      <td>0.000000</td>\n",
       "      <td>1.000000</td>\n",
       "      <td>1.000000</td>\n",
       "      <td>0.0</td>\n",
       "      <td>0.0</td>\n",
       "    </tr>\n",
       "    <tr>\n",
       "      <th>max</th>\n",
       "      <td>4.000000</td>\n",
       "      <td>0.0</td>\n",
       "      <td>41.000000</td>\n",
       "      <td>5.000000</td>\n",
       "      <td>3.000000</td>\n",
       "      <td>707.000000</td>\n",
       "      <td>0.470000</td>\n",
       "      <td>3.000000</td>\n",
       "      <td>28.000000</td>\n",
       "      <td>1.000000</td>\n",
       "      <td>4.000000</td>\n",
       "      <td>6.000000</td>\n",
       "      <td>1.000000</td>\n",
       "      <td>0.519231</td>\n",
       "      <td>1.000000</td>\n",
       "      <td>1.000000</td>\n",
       "      <td>1.000000</td>\n",
       "      <td>1.000000</td>\n",
       "      <td>1.000000</td>\n",
       "      <td>1.00000</td>\n",
       "      <td>1.000000</td>\n",
       "      <td>1.000000</td>\n",
       "      <td>1.000000</td>\n",
       "      <td>1.000000</td>\n",
       "      <td>1.000000</td>\n",
       "      <td>1.000000</td>\n",
       "      <td>0.0</td>\n",
       "      <td>0.0</td>\n",
       "    </tr>\n",
       "  </tbody>\n",
       "</table>\n",
       "</div>"
      ],
      "text/plain": [
       "          period  playoffs  shot_distance  shot_zone_basic  shot_zone_range  \\\n",
       "count  72.000000      72.0      72.000000        72.000000        72.000000   \n",
       "mean    2.597222       0.0      14.902778         1.944444         1.527778   \n",
       "std     1.182736       0.0       9.314777         1.309649         1.074312   \n",
       "min     1.000000       0.0       0.000000         0.000000         0.000000   \n",
       "25%     1.750000       0.0      10.000000         1.000000         1.000000   \n",
       "50%     3.000000       0.0      16.000000         2.000000         2.000000   \n",
       "75%     4.000000       0.0      20.250000         2.000000         2.000000   \n",
       "max     4.000000       0.0      41.000000         5.000000         3.000000   \n",
       "\n",
       "       time_remaining  last_5_games_avg  streak_before_shot  \\\n",
       "count       72.000000         72.000000           72.000000   \n",
       "mean       297.180556          0.261944            0.486111   \n",
       "std        231.395420          0.217829            0.711932   \n",
       "min          0.000000          0.000000            0.000000   \n",
       "25%         90.500000          0.000000            0.000000   \n",
       "50%        264.000000          0.410000            0.000000   \n",
       "75%        496.750000          0.470000            1.000000   \n",
       "max        707.000000          0.470000            3.000000   \n",
       "\n",
       "       points_before_shot  fgp_before_shot      month    weekday  \\\n",
       "count           72.000000        72.000000  72.000000  72.000000   \n",
       "mean            11.333333         0.515000   1.125000   4.486111   \n",
       "std              6.836110         0.189082   0.603686   1.609768   \n",
       "min              0.000000         0.000000   1.000000   2.000000   \n",
       "25%              6.000000         0.427500   1.000000   2.000000   \n",
       "50%             10.000000         0.500000   1.000000   5.000000   \n",
       "75%             15.000000         0.572500   1.000000   6.000000   \n",
       "max             28.000000         1.000000   4.000000   6.000000   \n",
       "\n",
       "       action_type_te  opponent_te  combined_shot_type_Dunk  \\\n",
       "count       72.000000    72.000000                72.000000   \n",
       "mean         0.472081     0.519231                 0.027778   \n",
       "std          0.197161     0.000000                 0.165489   \n",
       "min          0.222222     0.519231                 0.000000   \n",
       "25%          0.403226     0.519231                 0.000000   \n",
       "50%          0.403226     0.519231                 0.000000   \n",
       "75%          0.403226     0.519231                 0.000000   \n",
       "max          1.000000     0.519231                 1.000000   \n",
       "\n",
       "       combined_shot_type_Jump Shot  combined_shot_type_Layup  \\\n",
       "count                     72.000000                 72.000000   \n",
       "mean                       0.819444                  0.152778   \n",
       "std                        0.387349                  0.362298   \n",
       "min                        0.000000                  0.000000   \n",
       "25%                        1.000000                  0.000000   \n",
       "50%                        1.000000                  0.000000   \n",
       "75%                        1.000000                  0.000000   \n",
       "max                        1.000000                  1.000000   \n",
       "\n",
       "       shot_type_2PT Field Goal  shot_type_3PT Field Goal  \\\n",
       "count                 72.000000                 72.000000   \n",
       "mean                   0.791667                  0.208333   \n",
       "std                    0.408966                  0.408966   \n",
       "min                    0.000000                  0.000000   \n",
       "25%                    1.000000                  0.000000   \n",
       "50%                    1.000000                  0.000000   \n",
       "75%                    1.000000                  0.000000   \n",
       "max                    1.000000                  1.000000   \n",
       "\n",
       "       shot_zone_area_Center(C)  shot_zone_area_Left Side Center(LC)  \\\n",
       "count                  72.00000                            72.000000   \n",
       "mean                    0.37500                             0.208333   \n",
       "std                     0.48752                             0.408966   \n",
       "min                     0.00000                             0.000000   \n",
       "25%                     0.00000                             0.000000   \n",
       "50%                     0.00000                             0.000000   \n",
       "75%                     1.00000                             0.000000   \n",
       "max                     1.00000                             1.000000   \n",
       "\n",
       "       shot_zone_area_Left Side(L)  shot_zone_area_Right Side Center(RC)  \\\n",
       "count                    72.000000                             72.000000   \n",
       "mean                      0.111111                              0.138889   \n",
       "std                       0.316475                              0.348257   \n",
       "min                       0.000000                              0.000000   \n",
       "25%                       0.000000                              0.000000   \n",
       "50%                       0.000000                              0.000000   \n",
       "75%                       0.000000                              0.000000   \n",
       "max                       1.000000                              1.000000   \n",
       "\n",
       "       shot_zone_area_Right Side(R)  matchup_away  matchup_home  \\\n",
       "count                     72.000000     72.000000     72.000000   \n",
       "mean                       0.166667      0.680556      0.319444   \n",
       "std                        0.375293      0.469533      0.469533   \n",
       "min                        0.000000      0.000000      0.000000   \n",
       "25%                        0.000000      0.000000      0.000000   \n",
       "50%                        0.000000      1.000000      0.000000   \n",
       "75%                        0.000000      1.000000      1.000000   \n",
       "max                        1.000000      1.000000      1.000000   \n",
       "\n",
       "       combined_shot_type_Tip Shot  shot_zone_area_Back Court(BC)  \n",
       "count                         72.0                           72.0  \n",
       "mean                           0.0                            0.0  \n",
       "std                            0.0                            0.0  \n",
       "min                            0.0                            0.0  \n",
       "25%                            0.0                            0.0  \n",
       "50%                            0.0                            0.0  \n",
       "75%                            0.0                            0.0  \n",
       "max                            0.0                            0.0  "
      ]
     },
     "execution_count": 95,
     "metadata": {},
     "output_type": "execute_result"
    }
   ],
   "source": [
    "x_train.describe()"
   ]
  },
  {
   "cell_type": "code",
   "execution_count": 96,
   "id": "fcd518cb",
   "metadata": {
    "pycharm": {
     "name": "#%%\n"
    }
   },
   "outputs": [
    {
     "data": {
      "text/plain": [
       "0.49769580186193696"
      ]
     },
     "execution_count": 96,
     "metadata": {},
     "output_type": "execute_result"
    }
   ],
   "source": [
    "reg = LinearRegression()\n",
    "a = reg.fit(x_train, y_train)\n",
    "reg.score(x_train, y_train)"
   ]
  },
  {
   "cell_type": "markdown",
   "id": "f71dc151",
   "metadata": {
    "pycharm": {
     "name": "#%% md\n"
    }
   },
   "source": [
    "#### train data"
   ]
  },
  {
   "cell_type": "code",
   "execution_count": 97,
   "id": "7ba7be94",
   "metadata": {
    "pycharm": {
     "name": "#%%\n"
    }
   },
   "outputs": [
    {
     "data": {
      "text/plain": [
       "0.8055555555555556"
      ]
     },
     "execution_count": 97,
     "metadata": {},
     "output_type": "execute_result"
    }
   ],
   "source": [
    "y_train_pred = reg.predict(x_train)\n",
    "y_train_pred = y_train_pred >= 0.6\n",
    "y_train_pred = np.multiply(y_train_pred, 1)\n",
    "accuracy_score(y_train.values, y_train_pred)"
   ]
  },
  {
   "cell_type": "markdown",
   "id": "7775af79",
   "metadata": {
    "pycharm": {
     "name": "#%% md\n"
    }
   },
   "source": [
    "#### Validation Data"
   ]
  },
  {
   "cell_type": "code",
   "execution_count": 98,
   "id": "d068ee71",
   "metadata": {
    "pycharm": {
     "name": "#%%\n"
    }
   },
   "outputs": [
    {
     "data": {
      "text/plain": [
       "0.7777777777777778"
      ]
     },
     "execution_count": 98,
     "metadata": {},
     "output_type": "execute_result"
    },
    {
     "data": {
      "text/html": [
       "<div>\n",
       "<style scoped>\n",
       "    .dataframe tbody tr th:only-of-type {\n",
       "        vertical-align: middle;\n",
       "    }\n",
       "\n",
       "    .dataframe tbody tr th {\n",
       "        vertical-align: top;\n",
       "    }\n",
       "\n",
       "    .dataframe thead th {\n",
       "        text-align: right;\n",
       "    }\n",
       "</style>\n",
       "<table border=\"1\" class=\"dataframe\">\n",
       "  <thead>\n",
       "    <tr style=\"text-align: right;\">\n",
       "      <th></th>\n",
       "      <th>Accuracy</th>\n",
       "      <th>F1-score (class 1)</th>\n",
       "      <th>F1-score (class 0)</th>\n",
       "      <th>F1-score (macro avg)</th>\n",
       "    </tr>\n",
       "  </thead>\n",
       "  <tbody>\n",
       "    <tr>\n",
       "      <th>Linear</th>\n",
       "      <td>0.777778</td>\n",
       "      <td>0.6</td>\n",
       "      <td>0.846154</td>\n",
       "      <td>0.723077</td>\n",
       "    </tr>\n",
       "  </tbody>\n",
       "</table>\n",
       "</div>"
      ],
      "text/plain": [
       "        Accuracy F1-score (class 1) F1-score (class 0) F1-score (macro avg)\n",
       "Linear  0.777778                0.6           0.846154             0.723077"
      ]
     },
     "execution_count": 98,
     "metadata": {},
     "output_type": "execute_result"
    }
   ],
   "source": [
    "y_val_pred = reg.predict(x_val)\n",
    "y_val_pred = y_val_pred >= 0.5\n",
    "y_val_pred = np.multiply(y_val_pred, 1)\n",
    "accuracy_score(y_val.values, y_val_pred)\n",
    "results.loc['Linear',:] = compute_metrics(y_val.values, y_val_pred)\n",
    "results"
   ]
  },
  {
   "cell_type": "markdown",
   "id": "0b1e4b0c",
   "metadata": {
    "pycharm": {
     "name": "#%% md\n"
    }
   },
   "source": [
    "# Lasso Regression"
   ]
  },
  {
   "cell_type": "code",
   "execution_count": 99,
   "id": "2152111b",
   "metadata": {
    "pycharm": {
     "name": "#%%\n"
    }
   },
   "outputs": [
    {
     "name": "stderr",
     "output_type": "stream",
     "text": [
      "/home/teemo/anaconda3/envs/ds/lib/python3.9/site-packages/sklearn/linear_model/_coordinate_descent.py:633: ConvergenceWarning: Objective did not converge. You might want to increase the number of iterations. Duality gap: 1.6319052034042292, tolerance: 0.001326315789473684\n",
      "  model = cd_fast.enet_coordinate_descent_gram(\n",
      "/home/teemo/anaconda3/envs/ds/lib/python3.9/site-packages/sklearn/linear_model/_coordinate_descent.py:633: ConvergenceWarning: Objective did not converge. You might want to increase the number of iterations. Duality gap: 0.07888333142751502, tolerance: 0.0013263157894736837\n",
      "  model = cd_fast.enet_coordinate_descent_gram(\n",
      "/home/teemo/anaconda3/envs/ds/lib/python3.9/site-packages/sklearn/linear_model/_coordinate_descent.py:633: ConvergenceWarning: Objective did not converge. You might want to increase the number of iterations. Duality gap: 1.3536451119903101, tolerance: 0.0013879310344827585\n",
      "  model = cd_fast.enet_coordinate_descent_gram(\n",
      "/home/teemo/anaconda3/envs/ds/lib/python3.9/site-packages/sklearn/linear_model/_coordinate_descent.py:633: ConvergenceWarning: Objective did not converge. You might want to increase the number of iterations. Duality gap: 1.4498382472604754, tolerance: 0.0013879310344827585\n",
      "  model = cd_fast.enet_coordinate_descent_gram(\n",
      "/home/teemo/anaconda3/envs/ds/lib/python3.9/site-packages/sklearn/linear_model/_coordinate_descent.py:633: ConvergenceWarning: Objective did not converge. You might want to increase the number of iterations. Duality gap: 1.4853220794015116, tolerance: 0.001406896551724139\n",
      "  model = cd_fast.enet_coordinate_descent_gram(\n",
      "/home/teemo/anaconda3/envs/ds/lib/python3.9/site-packages/sklearn/linear_model/_coordinate_descent.py:633: ConvergenceWarning: Objective did not converge. You might want to increase the number of iterations. Duality gap: 0.6995730207053645, tolerance: 0.0010577777777777781\n",
      "  model = cd_fast.enet_coordinate_descent_gram(\n",
      "/home/teemo/anaconda3/envs/ds/lib/python3.9/site-packages/sklearn/linear_model/_coordinate_descent.py:633: ConvergenceWarning: Objective did not converge. You might want to increase the number of iterations. Duality gap: 1.1180100116680118, tolerance: 0.0009999999999999998\n",
      "  model = cd_fast.enet_coordinate_descent_gram(\n",
      "/home/teemo/anaconda3/envs/ds/lib/python3.9/site-packages/sklearn/linear_model/_coordinate_descent.py:633: ConvergenceWarning: Objective did not converge. You might want to increase the number of iterations. Duality gap: 1.1986790863066614, tolerance: 0.0010717391304347823\n",
      "  model = cd_fast.enet_coordinate_descent_gram(\n",
      "/home/teemo/anaconda3/envs/ds/lib/python3.9/site-packages/sklearn/linear_model/_coordinate_descent.py:633: ConvergenceWarning: Objective did not converge. You might want to increase the number of iterations. Duality gap: 1.4933208949729713, tolerance: 0.0010956521739130447\n",
      "  model = cd_fast.enet_coordinate_descent_gram(\n",
      "/home/teemo/anaconda3/envs/ds/lib/python3.9/site-packages/sklearn/linear_model/_coordinate_descent.py:633: ConvergenceWarning: Objective did not converge. You might want to increase the number of iterations. Duality gap: 1.2385288742605078, tolerance: 0.001071739130434782\n",
      "  model = cd_fast.enet_coordinate_descent_gram(\n",
      "/home/teemo/anaconda3/envs/ds/lib/python3.9/site-packages/sklearn/linear_model/_coordinate_descent.py:633: ConvergenceWarning: Objective did not converge. You might want to increase the number of iterations. Duality gap: 0.6903695386971398, tolerance: 0.0010311111111111113\n",
      "  model = cd_fast.enet_coordinate_descent_gram(\n",
      "/home/teemo/anaconda3/envs/ds/lib/python3.9/site-packages/sklearn/linear_model/_coordinate_descent.py:633: ConvergenceWarning: Objective did not converge. You might want to increase the number of iterations. Duality gap: 0.41726400534159946, tolerance: 0.0010311111111111113\n",
      "  model = cd_fast.enet_coordinate_descent_gram(\n",
      "/home/teemo/anaconda3/envs/ds/lib/python3.9/site-packages/sklearn/linear_model/_coordinate_descent.py:633: ConvergenceWarning: Objective did not converge. You might want to increase the number of iterations. Duality gap: 0.5392469777375206, tolerance: 0.001071739130434782\n",
      "  model = cd_fast.enet_coordinate_descent_gram(\n",
      "/home/teemo/anaconda3/envs/ds/lib/python3.9/site-packages/sklearn/linear_model/_coordinate_descent.py:633: ConvergenceWarning: Objective did not converge. You might want to increase the number of iterations. Duality gap: 1.7529254369717229, tolerance: 0.0010956521739130447\n",
      "  model = cd_fast.enet_coordinate_descent_gram(\n",
      "/home/teemo/anaconda3/envs/ds/lib/python3.9/site-packages/sklearn/linear_model/_coordinate_descent.py:633: ConvergenceWarning: Objective did not converge. You might want to increase the number of iterations. Duality gap: 1.286418939381893, tolerance: 0.001071739130434782\n",
      "  model = cd_fast.enet_coordinate_descent_gram(\n",
      "/home/teemo/anaconda3/envs/ds/lib/python3.9/site-packages/sklearn/linear_model/_coordinate_descent.py:633: ConvergenceWarning: Objective did not converge. You might want to increase the number of iterations. Duality gap: 0.028488644864719248, tolerance: 0.001095652173913045\n",
      "  model = cd_fast.enet_coordinate_descent_gram(\n",
      "/home/teemo/anaconda3/envs/ds/lib/python3.9/site-packages/sklearn/linear_model/_coordinate_descent.py:633: ConvergenceWarning: Objective did not converge. You might want to increase the number of iterations. Duality gap: 0.6695446154309317, tolerance: 0.001095652173913045\n",
      "  model = cd_fast.enet_coordinate_descent_gram(\n",
      "/home/teemo/anaconda3/envs/ds/lib/python3.9/site-packages/sklearn/linear_model/_coordinate_descent.py:633: ConvergenceWarning: Objective did not converge. You might want to increase the number of iterations. Duality gap: 1.4803489177513276, tolerance: 0.001071739130434782\n",
      "  model = cd_fast.enet_coordinate_descent_gram(\n",
      "/home/teemo/anaconda3/envs/ds/lib/python3.9/site-packages/sklearn/linear_model/_coordinate_descent.py:633: ConvergenceWarning: Objective did not converge. You might want to increase the number of iterations. Duality gap: 0.9010887558901763, tolerance: 0.0011489361702127655\n",
      "  model = cd_fast.enet_coordinate_descent_gram(\n",
      "/home/teemo/anaconda3/envs/ds/lib/python3.9/site-packages/sklearn/linear_model/_coordinate_descent.py:633: ConvergenceWarning: Objective did not converge. You might want to increase the number of iterations. Duality gap: 1.8967802075808111, tolerance: 0.0011319148936170208\n",
      "  model = cd_fast.enet_coordinate_descent_gram(\n",
      "/home/teemo/anaconda3/envs/ds/lib/python3.9/site-packages/sklearn/linear_model/_coordinate_descent.py:633: ConvergenceWarning: Objective did not converge. You might want to increase the number of iterations. Duality gap: 2.0911285709316934, tolerance: 0.001095652173913045\n",
      "  model = cd_fast.enet_coordinate_descent_gram(\n",
      "/home/teemo/anaconda3/envs/ds/lib/python3.9/site-packages/sklearn/linear_model/_coordinate_descent.py:633: ConvergenceWarning: Objective did not converge. You might want to increase the number of iterations. Duality gap: 0.8183299415170868, tolerance: 0.001095652173913045\n",
      "  model = cd_fast.enet_coordinate_descent_gram(\n",
      "/home/teemo/anaconda3/envs/ds/lib/python3.9/site-packages/sklearn/linear_model/_coordinate_descent.py:633: ConvergenceWarning: Objective did not converge. You might want to increase the number of iterations. Duality gap: 1.3342166867835785, tolerance: 0.001043478260869565\n",
      "  model = cd_fast.enet_coordinate_descent_gram(\n",
      "/home/teemo/anaconda3/envs/ds/lib/python3.9/site-packages/sklearn/linear_model/_coordinate_descent.py:633: ConvergenceWarning: Objective did not converge. You might want to increase the number of iterations. Duality gap: 0.07559846056081199, tolerance: 0.0011617021276595736\n",
      "  model = cd_fast.enet_coordinate_descent_gram(\n",
      "/home/teemo/anaconda3/envs/ds/lib/python3.9/site-packages/sklearn/linear_model/_coordinate_descent.py:633: ConvergenceWarning: Objective did not converge. You might want to increase the number of iterations. Duality gap: 1.1084755418136554, tolerance: 0.001131914893617021\n",
      "  model = cd_fast.enet_coordinate_descent_gram(\n",
      "/home/teemo/anaconda3/envs/ds/lib/python3.9/site-packages/sklearn/linear_model/_coordinate_descent.py:633: ConvergenceWarning: Objective did not converge. You might want to increase the number of iterations. Duality gap: 1.403144884034861, tolerance: 0.001115217391304348\n",
      "  model = cd_fast.enet_coordinate_descent_gram(\n"
     ]
    },
    {
     "name": "stderr",
     "output_type": "stream",
     "text": [
      "/home/teemo/anaconda3/envs/ds/lib/python3.9/site-packages/sklearn/linear_model/_coordinate_descent.py:633: ConvergenceWarning: Objective did not converge. You might want to increase the number of iterations. Duality gap: 0.45268776247635323, tolerance: 0.001115217391304348\n",
      "  model = cd_fast.enet_coordinate_descent_gram(\n",
      "/home/teemo/anaconda3/envs/ds/lib/python3.9/site-packages/sklearn/linear_model/_coordinate_descent.py:633: ConvergenceWarning: Objective did not converge. You might want to increase the number of iterations. Duality gap: 1.0590785725308371, tolerance: 0.001071739130434782\n",
      "  model = cd_fast.enet_coordinate_descent_gram(\n"
     ]
    },
    {
     "name": "stdout",
     "output_type": "stream",
     "text": [
      "Best lambda: 5.0 R2 score: 0.06929338938217193\n"
     ]
    },
    {
     "name": "stderr",
     "output_type": "stream",
     "text": [
      "/home/teemo/anaconda3/envs/ds/lib/python3.9/site-packages/sklearn/linear_model/_coordinate_descent.py:633: ConvergenceWarning: Objective did not converge. You might want to increase the number of iterations. Duality gap: 1.2180744002640271, tolerance: 0.0011702127659574473\n",
      "  model = cd_fast.enet_coordinate_descent_gram(\n",
      "/home/teemo/anaconda3/envs/ds/lib/python3.9/site-packages/sklearn/linear_model/_coordinate_descent.py:633: ConvergenceWarning: Objective did not converge. You might want to increase the number of iterations. Duality gap: 2.0574789628956633, tolerance: 0.001131914893617021\n",
      "  model = cd_fast.enet_coordinate_descent_gram(\n"
     ]
    }
   ],
   "source": [
    "lasso_cv = LassoCV(alphas=lambdas, cv=5, max_iter=100_000)\n",
    "a = lasso_cv.fit(x_train.values, y_train.values.flatten())\n",
    "\n",
    "lasso_r2 =  np.mean(cross_val_score(lasso_cv, x_train.values, y_train.values.flatten()))\n",
    "\n",
    "print('Best lambda:', lasso_cv.alpha_, 'R2 score:',lasso_r2)"
   ]
  },
  {
   "cell_type": "code",
   "execution_count": 100,
   "id": "d00f9e77",
   "metadata": {
    "pycharm": {
     "name": "#%%\n"
    }
   },
   "outputs": [
    {
     "data": {
      "text/plain": [
       "0.6666666666666666"
      ]
     },
     "execution_count": 100,
     "metadata": {},
     "output_type": "execute_result"
    }
   ],
   "source": [
    "y_train_pred = lasso_cv.predict(x_train.values)\n",
    "y_train_pred = y_train_pred >= 0.5\n",
    "y_train_pred = np.multiply(y_train_pred, 1)\n",
    "accuracy_score(y_train.values, y_train_pred)"
   ]
  },
  {
   "cell_type": "code",
   "execution_count": 101,
   "id": "463e22f4",
   "metadata": {
    "pycharm": {
     "name": "#%%\n"
    }
   },
   "outputs": [
    {
     "data": {
      "text/plain": [
       "0.5"
      ]
     },
     "execution_count": 101,
     "metadata": {},
     "output_type": "execute_result"
    },
    {
     "data": {
      "text/html": [
       "<div>\n",
       "<style scoped>\n",
       "    .dataframe tbody tr th:only-of-type {\n",
       "        vertical-align: middle;\n",
       "    }\n",
       "\n",
       "    .dataframe tbody tr th {\n",
       "        vertical-align: top;\n",
       "    }\n",
       "\n",
       "    .dataframe thead th {\n",
       "        text-align: right;\n",
       "    }\n",
       "</style>\n",
       "<table border=\"1\" class=\"dataframe\">\n",
       "  <thead>\n",
       "    <tr style=\"text-align: right;\">\n",
       "      <th></th>\n",
       "      <th>Accuracy</th>\n",
       "      <th>F1-score (class 1)</th>\n",
       "      <th>F1-score (class 0)</th>\n",
       "      <th>F1-score (macro avg)</th>\n",
       "    </tr>\n",
       "  </thead>\n",
       "  <tbody>\n",
       "    <tr>\n",
       "      <th>Linear</th>\n",
       "      <td>0.777778</td>\n",
       "      <td>0.6</td>\n",
       "      <td>0.846154</td>\n",
       "      <td>0.723077</td>\n",
       "    </tr>\n",
       "    <tr>\n",
       "      <th>Lasso</th>\n",
       "      <td>0.5</td>\n",
       "      <td>0.181818</td>\n",
       "      <td>0.64</td>\n",
       "      <td>0.410909</td>\n",
       "    </tr>\n",
       "  </tbody>\n",
       "</table>\n",
       "</div>"
      ],
      "text/plain": [
       "        Accuracy F1-score (class 1) F1-score (class 0) F1-score (macro avg)\n",
       "Linear  0.777778                0.6           0.846154             0.723077\n",
       "Lasso        0.5           0.181818               0.64             0.410909"
      ]
     },
     "execution_count": 101,
     "metadata": {},
     "output_type": "execute_result"
    }
   ],
   "source": [
    "y_val_pred = lasso_cv.predict(x_val.values)\n",
    "y_val_pred = y_val_pred >= 0.5\n",
    "y_val_pred = np.multiply(y_val_pred, 1)\n",
    "accuracy_score(y_val.values, y_val_pred)\n",
    "results.loc['Lasso',:] = compute_metrics(y_val.values, y_val_pred)\n",
    "results"
   ]
  },
  {
   "cell_type": "markdown",
   "id": "d82152f1",
   "metadata": {
    "pycharm": {
     "name": "#%% md\n"
    }
   },
   "source": [
    "# Ridge Regression"
   ]
  },
  {
   "cell_type": "code",
   "execution_count": 102,
   "id": "1f7746fe",
   "metadata": {
    "pycharm": {
     "name": "#%%\n"
    }
   },
   "outputs": [
    {
     "name": "stderr",
     "output_type": "stream",
     "text": [
      "/home/teemo/anaconda3/envs/ds/lib/python3.9/site-packages/sklearn/linear_model/_ridge.py:157: LinAlgWarning: Ill-conditioned matrix (rcond=2.59302e-17): result may not be accurate.\n",
      "  return linalg.solve(A, Xy, sym_pos=True, overwrite_a=True).T\n",
      "/home/teemo/anaconda3/envs/ds/lib/python3.9/site-packages/sklearn/linear_model/_ridge.py:157: LinAlgWarning: Ill-conditioned matrix (rcond=2.59397e-17): result may not be accurate.\n",
      "  return linalg.solve(A, Xy, sym_pos=True, overwrite_a=True).T\n",
      "/home/teemo/anaconda3/envs/ds/lib/python3.9/site-packages/sklearn/linear_model/_ridge.py:157: LinAlgWarning: Ill-conditioned matrix (rcond=2.51369e-17): result may not be accurate.\n",
      "  return linalg.solve(A, Xy, sym_pos=True, overwrite_a=True).T\n",
      "/home/teemo/anaconda3/envs/ds/lib/python3.9/site-packages/sklearn/linear_model/_ridge.py:157: LinAlgWarning: Ill-conditioned matrix (rcond=2.41272e-17): result may not be accurate.\n",
      "  return linalg.solve(A, Xy, sym_pos=True, overwrite_a=True).T\n",
      "/home/teemo/anaconda3/envs/ds/lib/python3.9/site-packages/sklearn/linear_model/_ridge.py:157: LinAlgWarning: Ill-conditioned matrix (rcond=2.43579e-17): result may not be accurate.\n",
      "  return linalg.solve(A, Xy, sym_pos=True, overwrite_a=True).T\n"
     ]
    },
    {
     "data": {
      "text/html": [
       "<div>\n",
       "<style scoped>\n",
       "    .dataframe tbody tr th:only-of-type {\n",
       "        vertical-align: middle;\n",
       "    }\n",
       "\n",
       "    .dataframe tbody tr th {\n",
       "        vertical-align: top;\n",
       "    }\n",
       "\n",
       "    .dataframe thead th {\n",
       "        text-align: right;\n",
       "    }\n",
       "</style>\n",
       "<table border=\"1\" class=\"dataframe\">\n",
       "  <thead>\n",
       "    <tr style=\"text-align: right;\">\n",
       "      <th></th>\n",
       "      <th>mean MSE</th>\n",
       "      <th>mean norm_MSE</th>\n",
       "      <th>mean R2</th>\n",
       "    </tr>\n",
       "  </thead>\n",
       "  <tbody>\n",
       "    <tr>\n",
       "      <th>Lambda=5</th>\n",
       "      <td>0.245636</td>\n",
       "      <td>1.04571</td>\n",
       "      <td>-0.04571</td>\n",
       "    </tr>\n",
       "    <tr>\n",
       "      <th>Lambda=10</th>\n",
       "      <td>0.24751</td>\n",
       "      <td>1.054281</td>\n",
       "      <td>-0.054281</td>\n",
       "    </tr>\n",
       "    <tr>\n",
       "      <th>Lambda=1</th>\n",
       "      <td>0.260797</td>\n",
       "      <td>1.107458</td>\n",
       "      <td>-0.107458</td>\n",
       "    </tr>\n",
       "    <tr>\n",
       "      <th>Lambda=50</th>\n",
       "      <td>0.260764</td>\n",
       "      <td>1.109455</td>\n",
       "      <td>-0.109455</td>\n",
       "    </tr>\n",
       "    <tr>\n",
       "      <th>Lambda=100</th>\n",
       "      <td>0.264872</td>\n",
       "      <td>1.126857</td>\n",
       "      <td>-0.126857</td>\n",
       "    </tr>\n",
       "    <tr>\n",
       "      <th>Lambda=0.5</th>\n",
       "      <td>0.278727</td>\n",
       "      <td>1.184594</td>\n",
       "      <td>-0.184594</td>\n",
       "    </tr>\n",
       "    <tr>\n",
       "      <th>Mean</th>\n",
       "      <td>0.304175</td>\n",
       "      <td>1.300056</td>\n",
       "      <td>-0.300056</td>\n",
       "    </tr>\n",
       "    <tr>\n",
       "      <th>Lambda=0.1</th>\n",
       "      <td>0.325114</td>\n",
       "      <td>1.389552</td>\n",
       "      <td>-0.389552</td>\n",
       "    </tr>\n",
       "    <tr>\n",
       "      <th>Lambda=0.01</th>\n",
       "      <td>0.350489</td>\n",
       "      <td>1.503676</td>\n",
       "      <td>-0.503676</td>\n",
       "    </tr>\n",
       "    <tr>\n",
       "      <th>Lambda=0.001</th>\n",
       "      <td>0.353776</td>\n",
       "      <td>1.518541</td>\n",
       "      <td>-0.518541</td>\n",
       "    </tr>\n",
       "    <tr>\n",
       "      <th>Lambda=0.0001</th>\n",
       "      <td>0.354115</td>\n",
       "      <td>1.520073</td>\n",
       "      <td>-0.520073</td>\n",
       "    </tr>\n",
       "    <tr>\n",
       "      <th>Lambda=1e-05</th>\n",
       "      <td>0.354149</td>\n",
       "      <td>1.520227</td>\n",
       "      <td>-0.520227</td>\n",
       "    </tr>\n",
       "    <tr>\n",
       "      <th>Lambda=1e-10</th>\n",
       "      <td>0.354153</td>\n",
       "      <td>1.520244</td>\n",
       "      <td>-0.520244</td>\n",
       "    </tr>\n",
       "  </tbody>\n",
       "</table>\n",
       "</div>"
      ],
      "text/plain": [
       "               mean MSE mean norm_MSE   mean R2\n",
       "Lambda=5       0.245636       1.04571  -0.04571\n",
       "Lambda=10       0.24751      1.054281 -0.054281\n",
       "Lambda=1       0.260797      1.107458 -0.107458\n",
       "Lambda=50      0.260764      1.109455 -0.109455\n",
       "Lambda=100     0.264872      1.126857 -0.126857\n",
       "Lambda=0.5     0.278727      1.184594 -0.184594\n",
       "Mean           0.304175      1.300056 -0.300056\n",
       "Lambda=0.1     0.325114      1.389552 -0.389552\n",
       "Lambda=0.01    0.350489      1.503676 -0.503676\n",
       "Lambda=0.001   0.353776      1.518541 -0.518541\n",
       "Lambda=0.0001  0.354115      1.520073 -0.520073\n",
       "Lambda=1e-05   0.354149      1.520227 -0.520227\n",
       "Lambda=1e-10   0.354153      1.520244 -0.520244"
      ]
     },
     "execution_count": 102,
     "metadata": {},
     "output_type": "execute_result"
    }
   ],
   "source": [
    "ridge_cross_val_metrics = pd.DataFrame(columns=['mean MSE', 'mean norm_MSE', 'mean R2'])\n",
    "# We calculate the cross-validation metrics for each lambda \n",
    "for lambda_val in lambdas:\n",
    "    kf = KFold(n_splits=5)\n",
    "    i=1\n",
    "    cv_mse = []\n",
    "    cv_nmse = []\n",
    "    cv_r2 = []\n",
    "    # We compute the metrics for each fold and then perform the mean.\n",
    "    for train_index, test_index in kf.split(x_train):\n",
    "        x_train_fold = x_train.values[train_index]\n",
    "        y_train_fold = y_train.values[train_index]\n",
    "        x_test_fold = x_train.values[test_index,:]\n",
    "        y_test_fold = y_train.values[test_index]\n",
    "\n",
    "        ridge = Ridge(alpha=lambda_val)\n",
    "        a = ridge.fit(x_train_fold,y_train_fold)\n",
    "        y_pred_fold = ridge.predict(x_test_fold)\n",
    "        fold_mse = mean_squared_error(y_test_fold, y_pred_fold)\n",
    "        fold_nmse =  1-r2_score(y_test_fold, y_pred_fold)\n",
    "        fold_r2 = r2_score(y_test_fold, y_pred_fold)\n",
    "        cv_mse.append(fold_mse)\n",
    "        cv_nmse.append(fold_nmse)\n",
    "        cv_r2.append(fold_r2)\n",
    "    ridge_cross_val_metrics.loc['Lambda={}'.format(lambda_val),:] = [np.mean(cv_mse),np.mean(cv_nmse),np.mean(cv_r2)]\n",
    "\n",
    "ridge_cross_val_metrics.loc['Mean', :] = ridge_cross_val_metrics.mean()\n",
    "ridge_cv_r2 = ridge_cross_val_metrics.loc[\"Mean\", \"mean R2\"]\n",
    "\n",
    "ridge_cross_val_metrics.sort_values(by='mean R2',ascending=False)"
   ]
  },
  {
   "cell_type": "code",
   "execution_count": 107,
   "id": "613d62d3",
   "metadata": {
    "pycharm": {
     "name": "#%%\n"
    }
   },
   "outputs": [
    {
     "data": {
      "text/plain": [
       "Ridge(alpha=5)"
      ]
     },
     "execution_count": 107,
     "metadata": {},
     "output_type": "execute_result"
    },
    {
     "data": {
      "text/plain": [
       "0.7777777777777778"
      ]
     },
     "execution_count": 107,
     "metadata": {},
     "output_type": "execute_result"
    }
   ],
   "source": [
    "ridge = Ridge(alpha=5)\n",
    "\n",
    "ridge.fit(x_train.values, y_train.values.flatten())\n",
    "\n",
    "y_train_pred = ridge.predict(x_train.values)\n",
    "y_train_pred = y_train_pred >= 0.5\n",
    "y_train_pred = np.multiply(y_train_pred, 1)\n",
    "accuracy_score(y_train.values, y_train_pred)"
   ]
  },
  {
   "cell_type": "code",
   "execution_count": 108,
   "id": "155ac85d",
   "metadata": {
    "pycharm": {
     "name": "#%%\n"
    }
   },
   "outputs": [
    {
     "data": {
      "text/plain": [
       "0.6666666666666666"
      ]
     },
     "execution_count": 108,
     "metadata": {},
     "output_type": "execute_result"
    },
    {
     "data": {
      "text/html": [
       "<div>\n",
       "<style scoped>\n",
       "    .dataframe tbody tr th:only-of-type {\n",
       "        vertical-align: middle;\n",
       "    }\n",
       "\n",
       "    .dataframe tbody tr th {\n",
       "        vertical-align: top;\n",
       "    }\n",
       "\n",
       "    .dataframe thead th {\n",
       "        text-align: right;\n",
       "    }\n",
       "</style>\n",
       "<table border=\"1\" class=\"dataframe\">\n",
       "  <thead>\n",
       "    <tr style=\"text-align: right;\">\n",
       "      <th></th>\n",
       "      <th>Accuracy</th>\n",
       "      <th>F1-score (class 1)</th>\n",
       "      <th>F1-score (class 0)</th>\n",
       "      <th>F1-score (macro avg)</th>\n",
       "    </tr>\n",
       "  </thead>\n",
       "  <tbody>\n",
       "    <tr>\n",
       "      <th>Linear</th>\n",
       "      <td>0.777778</td>\n",
       "      <td>0.6</td>\n",
       "      <td>0.846154</td>\n",
       "      <td>0.723077</td>\n",
       "    </tr>\n",
       "    <tr>\n",
       "      <th>Lasso</th>\n",
       "      <td>0.5</td>\n",
       "      <td>0.181818</td>\n",
       "      <td>0.64</td>\n",
       "      <td>0.410909</td>\n",
       "    </tr>\n",
       "    <tr>\n",
       "      <th>Ridge</th>\n",
       "      <td>0.666667</td>\n",
       "      <td>0.25</td>\n",
       "      <td>0.785714</td>\n",
       "      <td>0.517857</td>\n",
       "    </tr>\n",
       "  </tbody>\n",
       "</table>\n",
       "</div>"
      ],
      "text/plain": [
       "        Accuracy F1-score (class 1) F1-score (class 0) F1-score (macro avg)\n",
       "Linear  0.777778                0.6           0.846154             0.723077\n",
       "Lasso        0.5           0.181818               0.64             0.410909\n",
       "Ridge   0.666667               0.25           0.785714             0.517857"
      ]
     },
     "execution_count": 108,
     "metadata": {},
     "output_type": "execute_result"
    }
   ],
   "source": [
    "y_val_pred = ridge.predict(x_val.values)\n",
    "y_val_pred = y_val_pred >= 0.5\n",
    "y_val_pred = np.multiply(y_val_pred, 1)\n",
    "accuracy_score(y_val.values, y_val_pred)\n",
    "results.loc['Ridge',:] = compute_metrics(y_val.values, y_val_pred)\n",
    "results"
   ]
  },
  {
   "cell_type": "markdown",
   "id": "6239670a",
   "metadata": {
    "pycharm": {
     "name": "#%% md\n"
    }
   },
   "source": [
    "# Neural Network"
   ]
  },
  {
   "cell_type": "code",
   "execution_count": 83,
   "id": "c6f66da8",
   "metadata": {
    "pycharm": {
     "name": "#%%\n"
    }
   },
   "outputs": [
    {
     "data": {
      "text/plain": [
       "MLPClassifier(hidden_layer_sizes=(12,), learning_rate_init=1e-05,\n",
       "              max_iter=1000000, tol=1e-08)"
      ]
     },
     "execution_count": 83,
     "metadata": {},
     "output_type": "execute_result"
    },
    {
     "data": {
      "text/plain": [
       "1.0"
      ]
     },
     "execution_count": 83,
     "metadata": {},
     "output_type": "execute_result"
    }
   ],
   "source": [
    "regr = MLPClassifier(hidden_layer_sizes=(12, ), learning_rate_init=0.00001,  max_iter=1_000_000, tol=1e-8)\n",
    "regr.fit(x_train.values, y_train.values.flatten())\n",
    "y_train_pred = regr.predict(x_train.values)\n",
    "regr.score(x_train.values, y_train.values.flatten())"
   ]
  },
  {
   "cell_type": "code",
   "execution_count": 84,
   "id": "b1d601cf",
   "metadata": {
    "pycharm": {
     "name": "#%%\n"
    }
   },
   "outputs": [
    {
     "data": {
      "text/plain": [
       "1.0"
      ]
     },
     "execution_count": 84,
     "metadata": {},
     "output_type": "execute_result"
    }
   ],
   "source": [
    "y_train_pred = regr.predict(x_train.values)\n",
    "y_train_pred = y_train_pred >= 0.5\n",
    "y_train_pred = np.multiply(y_train_pred, 1)\n",
    "accuracy_score(y_train.values, y_train_pred)"
   ]
  },
  {
   "cell_type": "code",
   "execution_count": 85,
   "id": "8986d519",
   "metadata": {
    "pycharm": {
     "name": "#%%\n"
    }
   },
   "outputs": [
    {
     "data": {
      "text/plain": [
       "0.6666666666666666"
      ]
     },
     "execution_count": 85,
     "metadata": {},
     "output_type": "execute_result"
    },
    {
     "data": {
      "text/html": [
       "<div>\n",
       "<style scoped>\n",
       "    .dataframe tbody tr th:only-of-type {\n",
       "        vertical-align: middle;\n",
       "    }\n",
       "\n",
       "    .dataframe tbody tr th {\n",
       "        vertical-align: top;\n",
       "    }\n",
       "\n",
       "    .dataframe thead th {\n",
       "        text-align: right;\n",
       "    }\n",
       "</style>\n",
       "<table border=\"1\" class=\"dataframe\">\n",
       "  <thead>\n",
       "    <tr style=\"text-align: right;\">\n",
       "      <th></th>\n",
       "      <th>Accuracy</th>\n",
       "      <th>F1-score (class 1)</th>\n",
       "      <th>F1-score (class 0)</th>\n",
       "      <th>F1-score (macro avg)</th>\n",
       "    </tr>\n",
       "  </thead>\n",
       "  <tbody>\n",
       "    <tr>\n",
       "      <th>Linear</th>\n",
       "      <td>0.777778</td>\n",
       "      <td>0.6</td>\n",
       "      <td>0.846154</td>\n",
       "      <td>0.723077</td>\n",
       "    </tr>\n",
       "    <tr>\n",
       "      <th>Lasso</th>\n",
       "      <td>0.5</td>\n",
       "      <td>0.181818</td>\n",
       "      <td>0.64</td>\n",
       "      <td>0.410909</td>\n",
       "    </tr>\n",
       "    <tr>\n",
       "      <th>Ridge</th>\n",
       "      <td>0.666667</td>\n",
       "      <td>0.25</td>\n",
       "      <td>0.785714</td>\n",
       "      <td>0.517857</td>\n",
       "    </tr>\n",
       "    <tr>\n",
       "      <th>Neural Net</th>\n",
       "      <td>0.666667</td>\n",
       "      <td>0.25</td>\n",
       "      <td>0.785714</td>\n",
       "      <td>0.517857</td>\n",
       "    </tr>\n",
       "  </tbody>\n",
       "</table>\n",
       "</div>"
      ],
      "text/plain": [
       "            Accuracy F1-score (class 1) F1-score (class 0)  \\\n",
       "Linear      0.777778                0.6           0.846154   \n",
       "Lasso            0.5           0.181818               0.64   \n",
       "Ridge       0.666667               0.25           0.785714   \n",
       "Neural Net  0.666667               0.25           0.785714   \n",
       "\n",
       "           F1-score (macro avg)  \n",
       "Linear                 0.723077  \n",
       "Lasso                  0.410909  \n",
       "Ridge                  0.517857  \n",
       "Neural Net             0.517857  "
      ]
     },
     "execution_count": 85,
     "metadata": {},
     "output_type": "execute_result"
    }
   ],
   "source": [
    "y_val_pred = regr.predict(x_val.values)\n",
    "y_val_pred = y_val_pred >= 0.5\n",
    "y_val_pred = np.multiply(y_val_pred, 1)\n",
    "accuracy_score(y_val.values, y_val_pred)\n",
    "results.loc['Neural Net',:] = compute_metrics(y_val.values, y_val_pred)\n",
    "results"
   ]
  },
  {
   "cell_type": "code",
   "execution_count": 86,
   "id": "b19aac88",
   "metadata": {
    "pycharm": {
     "name": "#%%\n"
    }
   },
   "outputs": [
    {
     "ename": "NameError",
     "evalue": "name 'y_test_pred' is not defined",
     "output_type": "error",
     "traceback": [
      "\u001b[0;31m---------------------------------------------------------------------------\u001b[0m",
      "\u001b[0;31mNameError\u001b[0m                                 Traceback (most recent call last)",
      "Input \u001b[0;32mIn [86]\u001b[0m, in \u001b[0;36m<cell line: 2>\u001b[0;34m()\u001b[0m\n\u001b[1;32m      1\u001b[0m \u001b[38;5;66;03m# confusion(y_test.values.flatten(), y_test_pred)\u001b[39;00m\n\u001b[0;32m----> 2\u001b[0m confusion(\u001b[43my_test_pred\u001b[49m, y_test\u001b[38;5;241m.\u001b[39mvalues\u001b[38;5;241m.\u001b[39mflatten())\n\u001b[1;32m      4\u001b[0m \u001b[38;5;28mprint\u001b[39m( classification_report(y_test\u001b[38;5;241m.\u001b[39mvalues, y_test_pred))\n",
      "\u001b[0;31mNameError\u001b[0m: name 'y_test_pred' is not defined"
     ]
    }
   ],
   "source": [
    "# confusion(y_test.values.flatten(), y_test_pred)\n",
    "confusion(y_test_pred, y_test.values.flatten())\n",
    "\n",
    "print( classification_report(y_test.values, y_test_pred))"
   ]
  },
  {
   "cell_type": "code",
   "execution_count": 24,
   "id": "631aa3d3",
   "metadata": {
    "pycharm": {
     "name": "#%%\n"
    }
   },
   "outputs": [
    {
     "ename": "AttributeError",
     "evalue": "'MLPClassifier' object has no attribute 'feature_importances_'",
     "output_type": "error",
     "traceback": [
      "\u001b[0;31m---------------------------------------------------------------------------\u001b[0m",
      "\u001b[0;31mAttributeError\u001b[0m                            Traceback (most recent call last)",
      "Input \u001b[0;32mIn [24]\u001b[0m, in \u001b[0;36m<cell line: 2>\u001b[0;34m()\u001b[0m\n\u001b[1;32m      1\u001b[0m \u001b[38;5;66;03m# Get numerical feature importances\u001b[39;00m\n\u001b[0;32m----> 2\u001b[0m importances \u001b[38;5;241m=\u001b[39m \u001b[38;5;28mlist\u001b[39m(\u001b[43mregr\u001b[49m\u001b[38;5;241;43m.\u001b[39;49m\u001b[43mfeature_importances_\u001b[49m)\u001b[38;5;66;03m# List of tuples with variable and importance\u001b[39;00m\n\u001b[1;32m      3\u001b[0m feature_importances \u001b[38;5;241m=\u001b[39m [(feature, \u001b[38;5;28mround\u001b[39m(importance, \u001b[38;5;241m2\u001b[39m)) \u001b[38;5;28;01mfor\u001b[39;00m feature, importance \u001b[38;5;129;01min\u001b[39;00m \u001b[38;5;28mzip\u001b[39m(\u001b[38;5;28mlist\u001b[39m(x_train\u001b[38;5;241m.\u001b[39mcolumns), importances)]\u001b[38;5;66;03m# Sort the feature importances by most important first\u001b[39;00m\n\u001b[1;32m      4\u001b[0m feature_importances \u001b[38;5;241m=\u001b[39m \u001b[38;5;28msorted\u001b[39m(feature_importances, key \u001b[38;5;241m=\u001b[39m \u001b[38;5;28;01mlambda\u001b[39;00m x: x[\u001b[38;5;241m1\u001b[39m], reverse \u001b[38;5;241m=\u001b[39m \u001b[38;5;28;01mTrue\u001b[39;00m)\u001b[38;5;66;03m# Print out the feature and importances\u001b[39;00m\n",
      "\u001b[0;31mAttributeError\u001b[0m: 'MLPClassifier' object has no attribute 'feature_importances_'"
     ]
    }
   ],
   "source": [
    "# Get numerical feature importances\n",
    "importances = list(regr.feature_importances_)# List of tuples with variable and importance\n",
    "feature_importances = [(feature, round(importance, 2)) for feature, importance in zip(list(x_train.columns), importances)]# Sort the feature importances by most important first\n",
    "feature_importances = sorted(feature_importances, key = lambda x: x[1], reverse = True)# Print out the feature and importances\n",
    "[print('Variable: {:20} Importance: {}'.format(*pair)) for pair in feature_importances];"
   ]
  },
  {
   "cell_type": "code",
   "execution_count": null,
   "id": "3f8db802",
   "metadata": {
    "pycharm": {
     "name": "#%%\n"
    }
   },
   "outputs": [],
   "source": []
  }
 ],
 "metadata": {
  "kernelspec": {
   "display_name": "Python 3 (ipykernel)",
   "language": "python",
   "name": "python3"
  },
  "language_info": {
   "codemirror_mode": {
    "name": "ipython",
    "version": 3
   },
   "file_extension": ".py",
   "mimetype": "text/x-python",
   "name": "python",
   "nbconvert_exporter": "python",
   "pygments_lexer": "ipython3",
   "version": "3.9.7"
  }
 },
 "nbformat": 4,
 "nbformat_minor": 5
}

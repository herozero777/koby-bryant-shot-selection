{
 "cells": [
  {
   "cell_type": "code",
   "execution_count": 1,
   "id": "4c3859a2",
   "metadata": {
    "pycharm": {
     "name": "#%%\n"
    }
   },
   "outputs": [],
   "source": [
    "import pandas as pd\n",
    "import numpy as np\n",
    "from sklearn.linear_model import LinearRegression, Ridge, RidgeCV, Lasso, LassoCV\n",
    "from sklearn.metrics import mean_squared_error, r2_score, accuracy_score, f1_score, classification_report\n",
    "\n",
    "from sklearn.model_selection import train_test_split,  KFold, cross_val_score\n",
    "from sklearn.neural_network import MLPRegressor, MLPClassifier\n",
    "\n",
    "from IPython.core.interactiveshell import InteractiveShell\n",
    "InteractiveShell.ast_node_interactivity = \"all\""
   ]
  },
  {
   "cell_type": "code",
   "execution_count": 2,
   "id": "22554cd5",
   "metadata": {
    "pycharm": {
     "name": "#%%\n"
    }
   },
   "outputs": [],
   "source": [
    "DATASET = 'SEASON'\n",
    "# DATASET = 'TEAM'\n",
    "\n",
    "if DATASET == 'TEAM':\n",
    "    train = pd.read_csv('../data/train_team.csv')\n",
    "    test = pd.read_csv('../data/test_team.csv')\n",
    "\n",
    "if DATASET == 'TEAM':\n",
    "    train = pd.read_csv('../data/train_season.csv')\n",
    "    test = pd.read_csv('../data/test_season.csv')"
   ]
  },
  {
   "cell_type": "code",
   "execution_count": 3,
   "id": "259f4c1f",
   "metadata": {
    "pycharm": {
     "name": "#%%\n"
    }
   },
   "outputs": [],
   "source": [
    "target_column = \"shot_made_flag\"  # y_column_name"
   ]
  },
  {
   "cell_type": "code",
   "execution_count": 4,
   "id": "7db98791",
   "metadata": {
    "pycharm": {
     "name": "#%%\n"
    }
   },
   "outputs": [],
   "source": [
    "def confusion(true, pred):\n",
    "    \"\"\"\n",
    "    Function for pretty printing confusion matrices\n",
    "    \"\"\"\n",
    "    pred = pd.Series(pred)\n",
    "    true = pd.Series(true)\n",
    "    \n",
    "    true.name = 'target'\n",
    "    pred.name = 'predicted'\n",
    "    cm = pd.crosstab(true.reset_index(drop=True), pred.reset_index(drop=True))\n",
    "    print(cm)\n",
    "    cm = cm[cm.index]\n",
    "    return cm"
   ]
  },
  {
   "cell_type": "code",
   "execution_count": 5,
   "id": "97b8d7e7",
   "metadata": {
    "pycharm": {
     "name": "#%%\n"
    }
   },
   "outputs": [],
   "source": [
    "def compute_metrics(y_true,y_pred):\n",
    "    accuracy = accuracy_score(y_true,y_pred)\n",
    "    f1_score_1 = f1_score(y_true,y_pred,average='binary',pos_label=1)\n",
    "    f1_score_0 = f1_score(y_true,y_pred,average='binary',pos_label=0)\n",
    "    f1_score_macro = f1_score(y_true,y_pred,average='macro')\n",
    "    return [accuracy,f1_score_1,f1_score_0,f1_score_macro]\n",
    "    \n",
    "    \n",
    "\n",
    "results = pd.DataFrame(columns=['Accuracy', 'F1-score (class 1)', 'F1-score (class 0)', 'F1-score (macro avg)'])"
   ]
  },
  {
   "cell_type": "code",
   "execution_count": 6,
   "id": "e473d5d5",
   "metadata": {
    "pycharm": {
     "name": "#%%\n"
    }
   },
   "outputs": [],
   "source": [
    "def split_x_y(df, target):\n",
    "    y = df.loc[:, [target]]\n",
    "    x = df.drop([target], axis=1)\n",
    "    return x, y\n",
    "\n",
    "def split_regular_playoff(df, season, train=None, test=None, validation=None):\n",
    "\n",
    "    # if(train + test + validation != 1):\n",
    "    #     print(\"Error dataset split\")\n",
    "    #     return None\n",
    "\n",
    "    df_validaiton = None\n",
    "\n",
    "    df_season = df[df['season'] == season]\n",
    "    isPlayoffs = df_season.playoffs == 1\n",
    "\n",
    "    df_train = df_season[~isPlayoffs]\n",
    "    df_test  = df_season[isPlayoffs]\n",
    "\n",
    "    print(f\"Size of training dataset {len(df_train)}\" )\n",
    "    print(f\"Size of test dataset {len(df_test)}\" )\n",
    "    print(f\"Size of train vs test ratio {len(df_train) / (len(df_train) + len(df_test)) }\" )\n",
    "\n",
    "    return df_train, df_test\n",
    "#     train = split_x_y(df_train, 'shot_made_flag')\n",
    "#     test = split_x_y(df_test, 'shot_made_flag')\n",
    "#     return train[0], train[1], test[0], test[1]\n",
    "#     return train, test\n",
    "\n",
    "# x_train, y_train, x_test, y_test = split_regular_playoff(df, '2010-11')\n",
    "# train, test = split_regular_playoff(df, '2010-11')"
   ]
  },
  {
   "cell_type": "code",
   "execution_count": 7,
   "id": "7bb37ed4",
   "metadata": {
    "pycharm": {
     "name": "#%%\n"
    }
   },
   "outputs": [
    {
     "data": {
      "text/plain": "   period  playoffs  shot_distance  shot_made_flag  shot_zone_basic  \\\n0       1         0             17             1.0                2   \n1       4         0             11             1.0                1   \n2       4         0              1             1.0                0   \n3       4         0             26             0.0                4   \n4       4         0              2             1.0                0   \n\n   shot_zone_range  time_remaining  last_5_games_avg  streak_before_shot  \\\n0                2             652               0.0                   0   \n1                1             119               0.0                   1   \n2                0             189               0.0                   0   \n3                3             193               0.0                   4   \n4                0             239               0.0                   3   \n\n   points_before_shot  ...  shot_type_3PT Field Goal  \\\n0                   0  ...                         0   \n1                  30  ...                         0   \n2                  28  ...                         0   \n3                  28  ...                         1   \n4                  26  ...                         0   \n\n   shot_zone_area_Center(C)  shot_zone_area_Left Side Center(LC)  \\\n0                         1                                    0   \n1                         1                                    0   \n2                         1                                    0   \n3                         0                                    0   \n4                         1                                    0   \n\n   shot_zone_area_Left Side(L)  shot_zone_area_Right Side Center(RC)  \\\n0                            0                                     0   \n1                            0                                     0   \n2                            0                                     0   \n3                            0                                     1   \n4                            0                                     0   \n\n   shot_zone_area_Right Side(R)  matchup_away  matchup_home  \\\n0                             0             0             1   \n1                             0             0             1   \n2                             0             0             1   \n3                             0             0             1   \n4                             0             0             1   \n\n   shot_zone_area_Back Court(BC)  combined_shot_type_Tip Shot  \n0                              0                            0  \n1                              0                            0  \n2                              0                            0  \n3                              0                            0  \n4                              0                            0  \n\n[5 rows x 31 columns]",
      "text/html": "<div>\n<style scoped>\n    .dataframe tbody tr th:only-of-type {\n        vertical-align: middle;\n    }\n\n    .dataframe tbody tr th {\n        vertical-align: top;\n    }\n\n    .dataframe thead th {\n        text-align: right;\n    }\n</style>\n<table border=\"1\" class=\"dataframe\">\n  <thead>\n    <tr style=\"text-align: right;\">\n      <th></th>\n      <th>period</th>\n      <th>playoffs</th>\n      <th>shot_distance</th>\n      <th>shot_made_flag</th>\n      <th>shot_zone_basic</th>\n      <th>shot_zone_range</th>\n      <th>time_remaining</th>\n      <th>last_5_games_avg</th>\n      <th>streak_before_shot</th>\n      <th>points_before_shot</th>\n      <th>...</th>\n      <th>shot_type_3PT Field Goal</th>\n      <th>shot_zone_area_Center(C)</th>\n      <th>shot_zone_area_Left Side Center(LC)</th>\n      <th>shot_zone_area_Left Side(L)</th>\n      <th>shot_zone_area_Right Side Center(RC)</th>\n      <th>shot_zone_area_Right Side(R)</th>\n      <th>matchup_away</th>\n      <th>matchup_home</th>\n      <th>shot_zone_area_Back Court(BC)</th>\n      <th>combined_shot_type_Tip Shot</th>\n    </tr>\n  </thead>\n  <tbody>\n    <tr>\n      <th>0</th>\n      <td>1</td>\n      <td>0</td>\n      <td>17</td>\n      <td>1.0</td>\n      <td>2</td>\n      <td>2</td>\n      <td>652</td>\n      <td>0.0</td>\n      <td>0</td>\n      <td>0</td>\n      <td>...</td>\n      <td>0</td>\n      <td>1</td>\n      <td>0</td>\n      <td>0</td>\n      <td>0</td>\n      <td>0</td>\n      <td>0</td>\n      <td>1</td>\n      <td>0</td>\n      <td>0</td>\n    </tr>\n    <tr>\n      <th>1</th>\n      <td>4</td>\n      <td>0</td>\n      <td>11</td>\n      <td>1.0</td>\n      <td>1</td>\n      <td>1</td>\n      <td>119</td>\n      <td>0.0</td>\n      <td>1</td>\n      <td>30</td>\n      <td>...</td>\n      <td>0</td>\n      <td>1</td>\n      <td>0</td>\n      <td>0</td>\n      <td>0</td>\n      <td>0</td>\n      <td>0</td>\n      <td>1</td>\n      <td>0</td>\n      <td>0</td>\n    </tr>\n    <tr>\n      <th>2</th>\n      <td>4</td>\n      <td>0</td>\n      <td>1</td>\n      <td>1.0</td>\n      <td>0</td>\n      <td>0</td>\n      <td>189</td>\n      <td>0.0</td>\n      <td>0</td>\n      <td>28</td>\n      <td>...</td>\n      <td>0</td>\n      <td>1</td>\n      <td>0</td>\n      <td>0</td>\n      <td>0</td>\n      <td>0</td>\n      <td>0</td>\n      <td>1</td>\n      <td>0</td>\n      <td>0</td>\n    </tr>\n    <tr>\n      <th>3</th>\n      <td>4</td>\n      <td>0</td>\n      <td>26</td>\n      <td>0.0</td>\n      <td>4</td>\n      <td>3</td>\n      <td>193</td>\n      <td>0.0</td>\n      <td>4</td>\n      <td>28</td>\n      <td>...</td>\n      <td>1</td>\n      <td>0</td>\n      <td>0</td>\n      <td>0</td>\n      <td>1</td>\n      <td>0</td>\n      <td>0</td>\n      <td>1</td>\n      <td>0</td>\n      <td>0</td>\n    </tr>\n    <tr>\n      <th>4</th>\n      <td>4</td>\n      <td>0</td>\n      <td>2</td>\n      <td>1.0</td>\n      <td>0</td>\n      <td>0</td>\n      <td>239</td>\n      <td>0.0</td>\n      <td>3</td>\n      <td>26</td>\n      <td>...</td>\n      <td>0</td>\n      <td>1</td>\n      <td>0</td>\n      <td>0</td>\n      <td>0</td>\n      <td>0</td>\n      <td>0</td>\n      <td>1</td>\n      <td>0</td>\n      <td>0</td>\n    </tr>\n  </tbody>\n</table>\n<p>5 rows × 31 columns</p>\n</div>"
     },
     "execution_count": 7,
     "metadata": {},
     "output_type": "execute_result"
    }
   ],
   "source": [
    "train.head()"
   ]
  },
  {
   "cell_type": "markdown",
   "id": "a642be1c",
   "metadata": {
    "pycharm": {
     "name": "#%% md\n"
    }
   },
   "source": [
    "## Split X & Y"
   ]
  },
  {
   "cell_type": "code",
   "execution_count": 8,
   "id": "1e556673",
   "metadata": {
    "pycharm": {
     "name": "#%%\n"
    }
   },
   "outputs": [],
   "source": [
    "x_train, y_train = split_x_y(train, target_column)\n",
    "x_test, y_test = split_x_y(test, target_column)"
   ]
  },
  {
   "cell_type": "code",
   "execution_count": 9,
   "id": "8a18e870",
   "metadata": {
    "pycharm": {
     "name": "#%%\n"
    }
   },
   "outputs": [],
   "source": [
    "lambdas = [1e-10,1e-5,1e-4,1e-3,1e-2,0.1, 0.5,1,5,10,50,100]"
   ]
  },
  {
   "cell_type": "markdown",
   "id": "1b2a774b",
   "metadata": {
    "pycharm": {
     "name": "#%% md\n"
    }
   },
   "source": [
    "# Linear Regression"
   ]
  },
  {
   "cell_type": "code",
   "execution_count": 10,
   "id": "fcd518cb",
   "metadata": {
    "pycharm": {
     "name": "#%%\n"
    }
   },
   "outputs": [
    {
     "data": {
      "text/plain": "0.5045136977256841"
     },
     "execution_count": 10,
     "metadata": {},
     "output_type": "execute_result"
    }
   ],
   "source": [
    "reg = LinearRegression()\n",
    "a = reg.fit(x_train, y_train)\n",
    "reg.score(x_train, y_train)"
   ]
  },
  {
   "cell_type": "markdown",
   "id": "f71dc151",
   "metadata": {
    "pycharm": {
     "name": "#%% md\n"
    }
   },
   "source": [
    "#### train data"
   ]
  },
  {
   "cell_type": "code",
   "execution_count": 11,
   "id": "7ba7be94",
   "metadata": {
    "pycharm": {
     "name": "#%%\n"
    }
   },
   "outputs": [
    {
     "data": {
      "text/plain": "0.7916666666666666"
     },
     "execution_count": 11,
     "metadata": {},
     "output_type": "execute_result"
    }
   ],
   "source": [
    "y_train_pred = reg.predict(x_train)\n",
    "y_train_pred = y_train_pred >= 0.6\n",
    "y_train_pred = np.multiply(y_train_pred, 1)\n",
    "accuracy_score(y_train.values, y_train_pred)"
   ]
  },
  {
   "cell_type": "markdown",
   "id": "7775af79",
   "metadata": {
    "pycharm": {
     "name": "#%% md\n"
    }
   },
   "source": [
    "#### Test Data"
   ]
  },
  {
   "cell_type": "code",
   "execution_count": 12,
   "id": "d068ee71",
   "metadata": {
    "pycharm": {
     "name": "#%%\n"
    }
   },
   "outputs": [
    {
     "name": "stderr",
     "output_type": "stream",
     "text": [
      "/home/filip/lib/python3.8/site-packages/sklearn/base.py:493: FutureWarning: The feature names should match those that were passed during fit. Starting version 1.2, an error will be raised.\n",
      "Feature names must be in the same order as they were in fit.\n",
      "\n",
      "  warnings.warn(message, FutureWarning)\n"
     ]
    },
    {
     "data": {
      "text/plain": "0.5808080808080808"
     },
     "execution_count": 12,
     "metadata": {},
     "output_type": "execute_result"
    },
    {
     "data": {
      "text/plain": "        Accuracy F1-score (class 1) F1-score (class 0) F1-score (macro avg)\nLinear  0.580808           0.442953           0.663968              0.55346",
      "text/html": "<div>\n<style scoped>\n    .dataframe tbody tr th:only-of-type {\n        vertical-align: middle;\n    }\n\n    .dataframe tbody tr th {\n        vertical-align: top;\n    }\n\n    .dataframe thead th {\n        text-align: right;\n    }\n</style>\n<table border=\"1\" class=\"dataframe\">\n  <thead>\n    <tr style=\"text-align: right;\">\n      <th></th>\n      <th>Accuracy</th>\n      <th>F1-score (class 1)</th>\n      <th>F1-score (class 0)</th>\n      <th>F1-score (macro avg)</th>\n    </tr>\n  </thead>\n  <tbody>\n    <tr>\n      <th>Linear</th>\n      <td>0.580808</td>\n      <td>0.442953</td>\n      <td>0.663968</td>\n      <td>0.55346</td>\n    </tr>\n  </tbody>\n</table>\n</div>"
     },
     "execution_count": 12,
     "metadata": {},
     "output_type": "execute_result"
    }
   ],
   "source": [
    "y_test_pred = reg.predict(x_test)\n",
    "y_test_pred = y_test_pred >= 0.5\n",
    "y_test_pred = np.multiply(y_test_pred, 1)\n",
    "accuracy_score(y_test.values, y_test_pred)\n",
    "results.loc['Linear',:] = compute_metrics(y_test.values, y_test_pred)\n",
    "results"
   ]
  },
  {
   "cell_type": "markdown",
   "id": "0b1e4b0c",
   "metadata": {
    "pycharm": {
     "name": "#%% md\n"
    }
   },
   "source": [
    "# Lasso Regression"
   ]
  },
  {
   "cell_type": "code",
   "execution_count": 13,
   "id": "2152111b",
   "metadata": {
    "pycharm": {
     "name": "#%%\n"
    }
   },
   "outputs": [
    {
     "name": "stderr",
     "output_type": "stream",
     "text": [
      "/home/filip/lib/python3.8/site-packages/sklearn/linear_model/_coordinate_descent.py:633: ConvergenceWarning: Objective did not converge. You might want to increase the number of iterations. Duality gap: 0.09095582350381015, tolerance: 0.0014210526315789475\n",
      "  model = cd_fast.enet_coordinate_descent_gram(\n",
      "/home/filip/lib/python3.8/site-packages/sklearn/linear_model/_coordinate_descent.py:633: ConvergenceWarning: Objective did not converge. You might want to increase the number of iterations. Duality gap: 2.6839605179424746, tolerance: 0.0014210526315789477\n",
      "  model = cd_fast.enet_coordinate_descent_gram(\n",
      "/home/filip/lib/python3.8/site-packages/sklearn/linear_model/_coordinate_descent.py:633: ConvergenceWarning: Objective did not converge. You might want to increase the number of iterations. Duality gap: 1.6171451078992507, tolerance: 0.001434482758620689\n",
      "  model = cd_fast.enet_coordinate_descent_gram(\n",
      "/home/filip/lib/python3.8/site-packages/sklearn/linear_model/_coordinate_descent.py:633: ConvergenceWarning: Objective did not converge. You might want to increase the number of iterations. Duality gap: 1.9398879950021282, tolerance: 0.0014344827586206892\n",
      "  model = cd_fast.enet_coordinate_descent_gram(\n",
      "/home/filip/lib/python3.8/site-packages/sklearn/linear_model/_coordinate_descent.py:633: ConvergenceWarning: Objective did not converge. You might want to increase the number of iterations. Duality gap: 0.04657247356973837, tolerance: 0.0014344827586206892\n",
      "  model = cd_fast.enet_coordinate_descent_gram(\n",
      "/home/filip/lib/python3.8/site-packages/sklearn/linear_model/_coordinate_descent.py:633: ConvergenceWarning: Objective did not converge. You might want to increase the number of iterations. Duality gap: 0.6771926259649774, tolerance: 0.0011244444444444455\n",
      "  model = cd_fast.enet_coordinate_descent_gram(\n",
      "/home/filip/lib/python3.8/site-packages/sklearn/linear_model/_coordinate_descent.py:633: ConvergenceWarning: Objective did not converge. You might want to increase the number of iterations. Duality gap: 0.280052987962355, tolerance: 0.0011244444444444455\n",
      "  model = cd_fast.enet_coordinate_descent_gram(\n",
      "/home/filip/lib/python3.8/site-packages/sklearn/linear_model/_coordinate_descent.py:633: ConvergenceWarning: Objective did not converge. You might want to increase the number of iterations. Duality gap: 0.2355488920718134, tolerance: 0.0011478260869565223\n",
      "  model = cd_fast.enet_coordinate_descent_gram(\n",
      "/home/filip/lib/python3.8/site-packages/sklearn/linear_model/_coordinate_descent.py:633: ConvergenceWarning: Objective did not converge. You might want to increase the number of iterations. Duality gap: 0.037497750213056236, tolerance: 0.001130434782608696\n",
      "  model = cd_fast.enet_coordinate_descent_gram(\n",
      "/home/filip/lib/python3.8/site-packages/sklearn/linear_model/_coordinate_descent.py:633: ConvergenceWarning: Objective did not converge. You might want to increase the number of iterations. Duality gap: 0.6230656119455005, tolerance: 0.0011478260869565225\n",
      "  model = cd_fast.enet_coordinate_descent_gram(\n",
      "/home/filip/lib/python3.8/site-packages/sklearn/linear_model/_coordinate_descent.py:633: ConvergenceWarning: Objective did not converge. You might want to increase the number of iterations. Duality gap: 1.8050233695627815, tolerance: 0.0011200000000000003\n",
      "  model = cd_fast.enet_coordinate_descent_gram(\n",
      "/home/filip/lib/python3.8/site-packages/sklearn/linear_model/_coordinate_descent.py:633: ConvergenceWarning: Objective did not converge. You might want to increase the number of iterations. Duality gap: 1.6438828475839415, tolerance: 0.0011111111111111118\n",
      "  model = cd_fast.enet_coordinate_descent_gram(\n",
      "/home/filip/lib/python3.8/site-packages/sklearn/linear_model/_coordinate_descent.py:633: ConvergenceWarning: Objective did not converge. You might want to increase the number of iterations. Duality gap: 0.7891807230657129, tolerance: 0.0011478260869565223\n",
      "  model = cd_fast.enet_coordinate_descent_gram(\n",
      "/home/filip/lib/python3.8/site-packages/sklearn/linear_model/_coordinate_descent.py:633: ConvergenceWarning: Objective did not converge. You might want to increase the number of iterations. Duality gap: 2.0670827358272486, tolerance: 0.001130434782608696\n",
      "  model = cd_fast.enet_coordinate_descent_gram(\n",
      "/home/filip/lib/python3.8/site-packages/sklearn/linear_model/_coordinate_descent.py:633: ConvergenceWarning: Objective did not converge. You might want to increase the number of iterations. Duality gap: 0.788281955075913, tolerance: 0.0011478260869565225\n",
      "  model = cd_fast.enet_coordinate_descent_gram(\n",
      "/home/filip/lib/python3.8/site-packages/sklearn/linear_model/_coordinate_descent.py:633: ConvergenceWarning: Objective did not converge. You might want to increase the number of iterations. Duality gap: 0.06328441846750543, tolerance: 0.00115\n",
      "  model = cd_fast.enet_coordinate_descent_gram(\n",
      "/home/filip/lib/python3.8/site-packages/sklearn/linear_model/_coordinate_descent.py:633: ConvergenceWarning: Objective did not converge. You might want to increase the number of iterations. Duality gap: 1.6781087012232254, tolerance: 0.0011152173913043478\n",
      "  model = cd_fast.enet_coordinate_descent_gram(\n",
      "/home/filip/lib/python3.8/site-packages/sklearn/linear_model/_coordinate_descent.py:633: ConvergenceWarning: Objective did not converge. You might want to increase the number of iterations. Duality gap: 1.5231016120498904, tolerance: 0.0011478260869565223\n",
      "  model = cd_fast.enet_coordinate_descent_gram(\n",
      "/home/filip/lib/python3.8/site-packages/sklearn/linear_model/_coordinate_descent.py:633: ConvergenceWarning: Objective did not converge. You might want to increase the number of iterations. Duality gap: 1.7234120668460104, tolerance: 0.0011319148936170208\n",
      "  model = cd_fast.enet_coordinate_descent_gram(\n",
      "/home/filip/lib/python3.8/site-packages/sklearn/linear_model/_coordinate_descent.py:633: ConvergenceWarning: Objective did not converge. You might want to increase the number of iterations. Duality gap: 0.9219536542457973, tolerance: 0.0011617021276595738\n",
      "  model = cd_fast.enet_coordinate_descent_gram(\n",
      "/home/filip/lib/python3.8/site-packages/sklearn/linear_model/_coordinate_descent.py:633: ConvergenceWarning: Objective did not converge. You might want to increase the number of iterations. Duality gap: 1.1288557617185253, tolerance: 0.00115\n",
      "  model = cd_fast.enet_coordinate_descent_gram(\n",
      "/home/filip/lib/python3.8/site-packages/sklearn/linear_model/_coordinate_descent.py:633: ConvergenceWarning: Objective did not converge. You might want to increase the number of iterations. Duality gap: 2.011133096878688, tolerance: 0.0011152173913043478\n",
      "  model = cd_fast.enet_coordinate_descent_gram(\n",
      "/home/filip/lib/python3.8/site-packages/sklearn/linear_model/_coordinate_descent.py:633: ConvergenceWarning: Objective did not converge. You might want to increase the number of iterations. Duality gap: 2.308355984515024, tolerance: 0.0011304347826086962\n",
      "  model = cd_fast.enet_coordinate_descent_gram(\n",
      "/home/filip/lib/python3.8/site-packages/sklearn/linear_model/_coordinate_descent.py:633: ConvergenceWarning: Objective did not converge. You might want to increase the number of iterations. Duality gap: 0.25184954705973395, tolerance: 0.0011617021276595736\n",
      "  model = cd_fast.enet_coordinate_descent_gram(\n",
      "/home/filip/lib/python3.8/site-packages/sklearn/linear_model/_coordinate_descent.py:633: ConvergenceWarning: Objective did not converge. You might want to increase the number of iterations. Duality gap: 0.4745166257705349, tolerance: 0.0011617021276595736\n",
      "  model = cd_fast.enet_coordinate_descent_gram(\n",
      "/home/filip/lib/python3.8/site-packages/sklearn/linear_model/_coordinate_descent.py:633: ConvergenceWarning: Objective did not converge. You might want to increase the number of iterations. Duality gap: 1.5541695817673649, tolerance: 0.00115\n",
      "  model = cd_fast.enet_coordinate_descent_gram(\n",
      "/home/filip/lib/python3.8/site-packages/sklearn/linear_model/_coordinate_descent.py:633: ConvergenceWarning: Objective did not converge. You might want to increase the number of iterations. Duality gap: 1.9666402883915475, tolerance: 0.0011152173913043478\n",
      "  model = cd_fast.enet_coordinate_descent_gram(\n",
      "/home/filip/lib/python3.8/site-packages/sklearn/linear_model/_coordinate_descent.py:633: ConvergenceWarning: Objective did not converge. You might want to increase the number of iterations. Duality gap: 2.1231373290936224, tolerance: 0.0011304347826086962\n",
      "  model = cd_fast.enet_coordinate_descent_gram(\n"
     ]
    },
    {
     "name": "stdout",
     "output_type": "stream",
     "text": [
      "Best lambda: 0.01 R2 score: 0.03297614519299037\n"
     ]
    },
    {
     "name": "stderr",
     "output_type": "stream",
     "text": [
      "/home/filip/lib/python3.8/site-packages/sklearn/linear_model/_coordinate_descent.py:633: ConvergenceWarning: Objective did not converge. You might want to increase the number of iterations. Duality gap: 1.5924113099229866, tolerance: 0.0011702127659574471\n",
      "  model = cd_fast.enet_coordinate_descent_gram(\n",
      "/home/filip/lib/python3.8/site-packages/sklearn/linear_model/_coordinate_descent.py:633: ConvergenceWarning: Objective did not converge. You might want to increase the number of iterations. Duality gap: 0.9190951074153628, tolerance: 0.0011489361702127652\n",
      "  model = cd_fast.enet_coordinate_descent_gram(\n"
     ]
    }
   ],
   "source": [
    "lasso_cv = LassoCV(alphas=lambdas, cv=5, max_iter=100_000)\n",
    "a = lasso_cv.fit(x_train.values, y_train.values.flatten())\n",
    "\n",
    "lasso_r2 =  np.mean(cross_val_score(lasso_cv, x_train.values, y_train.values.flatten()))\n",
    "\n",
    "print('Best lambda:', lasso_cv.alpha_, 'R2 score:',lasso_r2)"
   ]
  },
  {
   "cell_type": "code",
   "execution_count": 14,
   "id": "d00f9e77",
   "metadata": {
    "pycharm": {
     "name": "#%%\n"
    }
   },
   "outputs": [
    {
     "data": {
      "text/plain": "0.8055555555555556"
     },
     "execution_count": 14,
     "metadata": {},
     "output_type": "execute_result"
    }
   ],
   "source": [
    "y_train_pred = lasso_cv.predict(x_train.values)\n",
    "y_train_pred = y_train_pred >= 0.5\n",
    "y_train_pred = np.multiply(y_train_pred, 1)\n",
    "accuracy_score(y_train.values, y_train_pred)"
   ]
  },
  {
   "cell_type": "code",
   "execution_count": 15,
   "id": "463e22f4",
   "metadata": {
    "pycharm": {
     "name": "#%%\n"
    }
   },
   "outputs": [
    {
     "data": {
      "text/plain": "0.6919191919191919"
     },
     "execution_count": 15,
     "metadata": {},
     "output_type": "execute_result"
    },
    {
     "data": {
      "text/plain": "        Accuracy F1-score (class 1) F1-score (class 0) F1-score (macro avg)\nLinear  0.580808           0.442953           0.663968              0.55346\nLasso   0.691919           0.625767           0.738197             0.681982",
      "text/html": "<div>\n<style scoped>\n    .dataframe tbody tr th:only-of-type {\n        vertical-align: middle;\n    }\n\n    .dataframe tbody tr th {\n        vertical-align: top;\n    }\n\n    .dataframe thead th {\n        text-align: right;\n    }\n</style>\n<table border=\"1\" class=\"dataframe\">\n  <thead>\n    <tr style=\"text-align: right;\">\n      <th></th>\n      <th>Accuracy</th>\n      <th>F1-score (class 1)</th>\n      <th>F1-score (class 0)</th>\n      <th>F1-score (macro avg)</th>\n    </tr>\n  </thead>\n  <tbody>\n    <tr>\n      <th>Linear</th>\n      <td>0.580808</td>\n      <td>0.442953</td>\n      <td>0.663968</td>\n      <td>0.55346</td>\n    </tr>\n    <tr>\n      <th>Lasso</th>\n      <td>0.691919</td>\n      <td>0.625767</td>\n      <td>0.738197</td>\n      <td>0.681982</td>\n    </tr>\n  </tbody>\n</table>\n</div>"
     },
     "execution_count": 15,
     "metadata": {},
     "output_type": "execute_result"
    }
   ],
   "source": [
    "y_test_pred = lasso_cv.predict(x_test.values)\n",
    "y_test_pred = y_test_pred >= 0.5\n",
    "y_test_pred = np.multiply(y_test_pred, 1)\n",
    "accuracy_score(y_test.values, y_test_pred)\n",
    "results.loc['Lasso',:] = compute_metrics(y_test.values, y_test_pred)\n",
    "results"
   ]
  },
  {
   "cell_type": "markdown",
   "id": "d82152f1",
   "metadata": {
    "pycharm": {
     "name": "#%% md\n"
    }
   },
   "source": [
    "# Ridge Regression"
   ]
  },
  {
   "cell_type": "code",
   "execution_count": 16,
   "id": "1f7746fe",
   "metadata": {
    "pycharm": {
     "name": "#%%\n"
    }
   },
   "outputs": [
    {
     "name": "stderr",
     "output_type": "stream",
     "text": [
      "/home/filip/lib/python3.8/site-packages/sklearn/linear_model/_ridge.py:157: LinAlgWarning: Ill-conditioned matrix (rcond=3.2475e-17): result may not be accurate.\n",
      "  return linalg.solve(A, Xy, sym_pos=True, overwrite_a=True).T\n",
      "/home/filip/lib/python3.8/site-packages/sklearn/linear_model/_ridge.py:157: LinAlgWarning: Ill-conditioned matrix (rcond=2.92723e-17): result may not be accurate.\n",
      "  return linalg.solve(A, Xy, sym_pos=True, overwrite_a=True).T\n",
      "/home/filip/lib/python3.8/site-packages/sklearn/linear_model/_ridge.py:157: LinAlgWarning: Ill-conditioned matrix (rcond=2.61014e-17): result may not be accurate.\n",
      "  return linalg.solve(A, Xy, sym_pos=True, overwrite_a=True).T\n",
      "/home/filip/lib/python3.8/site-packages/sklearn/linear_model/_ridge.py:157: LinAlgWarning: Ill-conditioned matrix (rcond=3.04635e-17): result may not be accurate.\n",
      "  return linalg.solve(A, Xy, sym_pos=True, overwrite_a=True).T\n",
      "/home/filip/lib/python3.8/site-packages/sklearn/linear_model/_ridge.py:157: LinAlgWarning: Ill-conditioned matrix (rcond=2.94501e-17): result may not be accurate.\n",
      "  return linalg.solve(A, Xy, sym_pos=True, overwrite_a=True).T\n"
     ]
    },
    {
     "data": {
      "text/plain": "               mean MSE mean norm_MSE   mean R2\nLambda=0.5     0.204973      0.833508  0.166492\nLambda=1       0.207672      0.844531  0.155469\nLambda=0.1     0.208347      0.847196  0.152804\nLambda=0.01    0.211551      0.860261  0.139739\nLambda=0.001   0.211975      0.861992  0.138008\nLambda=0.0001  0.212019      0.862171  0.137829\nLambda=1e-05   0.212023      0.862189  0.137811\nLambda=1e-10   0.212024      0.862191  0.137809\nMean           0.219136      0.890891  0.109109\nLambda=5       0.227101       0.92327   0.07673\nLambda=10      0.234841      0.954458  0.045542\nLambda=50      0.243155      0.987829  0.012171\nLambda=100     0.243958      0.991098  0.008902",
      "text/html": "<div>\n<style scoped>\n    .dataframe tbody tr th:only-of-type {\n        vertical-align: middle;\n    }\n\n    .dataframe tbody tr th {\n        vertical-align: top;\n    }\n\n    .dataframe thead th {\n        text-align: right;\n    }\n</style>\n<table border=\"1\" class=\"dataframe\">\n  <thead>\n    <tr style=\"text-align: right;\">\n      <th></th>\n      <th>mean MSE</th>\n      <th>mean norm_MSE</th>\n      <th>mean R2</th>\n    </tr>\n  </thead>\n  <tbody>\n    <tr>\n      <th>Lambda=0.5</th>\n      <td>0.204973</td>\n      <td>0.833508</td>\n      <td>0.166492</td>\n    </tr>\n    <tr>\n      <th>Lambda=1</th>\n      <td>0.207672</td>\n      <td>0.844531</td>\n      <td>0.155469</td>\n    </tr>\n    <tr>\n      <th>Lambda=0.1</th>\n      <td>0.208347</td>\n      <td>0.847196</td>\n      <td>0.152804</td>\n    </tr>\n    <tr>\n      <th>Lambda=0.01</th>\n      <td>0.211551</td>\n      <td>0.860261</td>\n      <td>0.139739</td>\n    </tr>\n    <tr>\n      <th>Lambda=0.001</th>\n      <td>0.211975</td>\n      <td>0.861992</td>\n      <td>0.138008</td>\n    </tr>\n    <tr>\n      <th>Lambda=0.0001</th>\n      <td>0.212019</td>\n      <td>0.862171</td>\n      <td>0.137829</td>\n    </tr>\n    <tr>\n      <th>Lambda=1e-05</th>\n      <td>0.212023</td>\n      <td>0.862189</td>\n      <td>0.137811</td>\n    </tr>\n    <tr>\n      <th>Lambda=1e-10</th>\n      <td>0.212024</td>\n      <td>0.862191</td>\n      <td>0.137809</td>\n    </tr>\n    <tr>\n      <th>Mean</th>\n      <td>0.219136</td>\n      <td>0.890891</td>\n      <td>0.109109</td>\n    </tr>\n    <tr>\n      <th>Lambda=5</th>\n      <td>0.227101</td>\n      <td>0.92327</td>\n      <td>0.07673</td>\n    </tr>\n    <tr>\n      <th>Lambda=10</th>\n      <td>0.234841</td>\n      <td>0.954458</td>\n      <td>0.045542</td>\n    </tr>\n    <tr>\n      <th>Lambda=50</th>\n      <td>0.243155</td>\n      <td>0.987829</td>\n      <td>0.012171</td>\n    </tr>\n    <tr>\n      <th>Lambda=100</th>\n      <td>0.243958</td>\n      <td>0.991098</td>\n      <td>0.008902</td>\n    </tr>\n  </tbody>\n</table>\n</div>"
     },
     "execution_count": 16,
     "metadata": {},
     "output_type": "execute_result"
    }
   ],
   "source": [
    "ridge_cross_val_metrics = pd.DataFrame(columns=['mean MSE', 'mean norm_MSE', 'mean R2'])\n",
    "# We calculate the cross-validation metrics for each lambda \n",
    "for lambda_val in lambdas:\n",
    "    kf = KFold(n_splits=5)\n",
    "    i=1\n",
    "    cv_mse = []\n",
    "    cv_nmse = []\n",
    "    cv_r2 = []\n",
    "    # We compute the metrics for each fold and then perform the mean.\n",
    "    for train_index, test_index in kf.split(x_train):\n",
    "        x_train_fold = x_train.values[train_index]\n",
    "        y_train_fold = y_train.values[train_index]\n",
    "        x_test_fold = x_train.values[test_index,:]\n",
    "        y_test_fold = y_train.values[test_index]\n",
    "\n",
    "        ridge = Ridge(alpha=lambda_val)\n",
    "        a = ridge.fit(x_train_fold,y_train_fold)\n",
    "        y_pred_fold = ridge.predict(x_test_fold)\n",
    "        fold_mse = mean_squared_error(y_test_fold, y_pred_fold)\n",
    "        fold_nmse =  1-r2_score(y_test_fold, y_pred_fold)\n",
    "        fold_r2 = r2_score(y_test_fold, y_pred_fold)\n",
    "        cv_mse.append(fold_mse)\n",
    "        cv_nmse.append(fold_nmse)\n",
    "        cv_r2.append(fold_r2)\n",
    "    ridge_cross_val_metrics.loc['Lambda={}'.format(lambda_val),:] = [np.mean(cv_mse),np.mean(cv_nmse),np.mean(cv_r2)]\n",
    "\n",
    "ridge_cross_val_metrics.loc['Mean', :] = ridge_cross_val_metrics.mean()\n",
    "ridge_cv_r2 = ridge_cross_val_metrics.loc[\"Mean\", \"mean R2\"]\n",
    "\n",
    "ridge_cross_val_metrics.sort_values(by='mean R2',ascending=False)"
   ]
  },
  {
   "cell_type": "code",
   "execution_count": 17,
   "id": "974bd5d5",
   "metadata": {
    "pycharm": {
     "name": "#%%\n"
    }
   },
   "outputs": [
    {
     "data": {
      "text/plain": "mean MSE         0.204973\nmean norm_MSE    0.833508\nmean R2          0.166492\nName: Lambda=0.5, dtype: object"
     },
     "execution_count": 17,
     "metadata": {},
     "output_type": "execute_result"
    }
   ],
   "source": [
    "temp_df = ridge_cross_val_metrics.sort_values(by='mean R2',ascending=False)\n",
    "temp_df.iloc[0]"
   ]
  },
  {
   "cell_type": "code",
   "execution_count": 18,
   "id": "613d62d3",
   "metadata": {
    "pycharm": {
     "name": "#%%\n"
    }
   },
   "outputs": [
    {
     "data": {
      "text/plain": "Ridge(alpha=5)"
     },
     "execution_count": 18,
     "metadata": {},
     "output_type": "execute_result"
    },
    {
     "name": "stderr",
     "output_type": "stream",
     "text": [
      "/home/filip/lib/python3.8/site-packages/sklearn/base.py:443: UserWarning: X has feature names, but Ridge was fitted without feature names\n",
      "  warnings.warn(\n"
     ]
    },
    {
     "data": {
      "text/plain": "0.8055555555555556"
     },
     "execution_count": 18,
     "metadata": {},
     "output_type": "execute_result"
    }
   ],
   "source": [
    "ridge = Ridge(alpha=5)\n",
    "\n",
    "ridge.fit(x_train.values, y_train.values.flatten())\n",
    "\n",
    "y_train_pred = ridge.predict(x_train)\n",
    "y_train_pred = y_train_pred >= 0.5\n",
    "y_train_pred = np.multiply(y_train_pred, 1)\n",
    "accuracy_score(y_train.values, y_train_pred)"
   ]
  },
  {
   "cell_type": "code",
   "execution_count": 19,
   "id": "155ac85d",
   "metadata": {
    "pycharm": {
     "name": "#%%\n"
    }
   },
   "outputs": [
    {
     "name": "stderr",
     "output_type": "stream",
     "text": [
      "/home/filip/lib/python3.8/site-packages/sklearn/base.py:443: UserWarning: X has feature names, but Ridge was fitted without feature names\n",
      "  warnings.warn(\n"
     ]
    },
    {
     "data": {
      "text/plain": "0.5909090909090909"
     },
     "execution_count": 19,
     "metadata": {},
     "output_type": "execute_result"
    },
    {
     "data": {
      "text/plain": "        Accuracy F1-score (class 1) F1-score (class 0) F1-score (macro avg)\nLinear  0.580808           0.442953           0.663968              0.55346\nLasso   0.691919           0.625767           0.738197             0.681982\nRidge   0.590909           0.584615           0.597015             0.590815",
      "text/html": "<div>\n<style scoped>\n    .dataframe tbody tr th:only-of-type {\n        vertical-align: middle;\n    }\n\n    .dataframe tbody tr th {\n        vertical-align: top;\n    }\n\n    .dataframe thead th {\n        text-align: right;\n    }\n</style>\n<table border=\"1\" class=\"dataframe\">\n  <thead>\n    <tr style=\"text-align: right;\">\n      <th></th>\n      <th>Accuracy</th>\n      <th>F1-score (class 1)</th>\n      <th>F1-score (class 0)</th>\n      <th>F1-score (macro avg)</th>\n    </tr>\n  </thead>\n  <tbody>\n    <tr>\n      <th>Linear</th>\n      <td>0.580808</td>\n      <td>0.442953</td>\n      <td>0.663968</td>\n      <td>0.55346</td>\n    </tr>\n    <tr>\n      <th>Lasso</th>\n      <td>0.691919</td>\n      <td>0.625767</td>\n      <td>0.738197</td>\n      <td>0.681982</td>\n    </tr>\n    <tr>\n      <th>Ridge</th>\n      <td>0.590909</td>\n      <td>0.584615</td>\n      <td>0.597015</td>\n      <td>0.590815</td>\n    </tr>\n  </tbody>\n</table>\n</div>"
     },
     "execution_count": 19,
     "metadata": {},
     "output_type": "execute_result"
    }
   ],
   "source": [
    "y_test_pred = ridge.predict(x_test)\n",
    "y_test_pred = y_test_pred >= 0.5\n",
    "y_test_pred = np.multiply(y_test_pred, 1)\n",
    "accuracy_score(y_test.values, y_test_pred)\n",
    "results.loc['Ridge',:] = compute_metrics(y_test.values, y_test_pred)\n",
    "results"
   ]
  },
  {
   "cell_type": "markdown",
   "id": "6239670a",
   "metadata": {
    "pycharm": {
     "name": "#%% md\n"
    }
   },
   "source": [
    "# Neural Network"
   ]
  },
  {
   "cell_type": "code",
   "execution_count": 20,
   "id": "c6f66da8",
   "metadata": {
    "pycharm": {
     "name": "#%%\n"
    }
   },
   "outputs": [
    {
     "data": {
      "text/plain": "MLPClassifier(hidden_layer_sizes=(12,), learning_rate_init=1e-05,\n              max_iter=1000000, tol=1e-08)"
     },
     "execution_count": 20,
     "metadata": {},
     "output_type": "execute_result"
    },
    {
     "data": {
      "text/plain": "0.8611111111111112"
     },
     "execution_count": 20,
     "metadata": {},
     "output_type": "execute_result"
    }
   ],
   "source": [
    "regr = MLPClassifier(hidden_layer_sizes=(12, ), learning_rate_init=0.00001,  max_iter=1_000_000, tol=1e-8)\n",
    "regr.fit(x_train.values, y_train.values.flatten())\n",
    "y_train_pred = regr.predict(x_train.values)\n",
    "regr.score(x_train.values, y_train.values.flatten())"
   ]
  },
  {
   "cell_type": "code",
   "execution_count": 21,
   "id": "b1d601cf",
   "metadata": {
    "pycharm": {
     "name": "#%%\n"
    }
   },
   "outputs": [
    {
     "data": {
      "text/plain": "0.8611111111111112"
     },
     "execution_count": 21,
     "metadata": {},
     "output_type": "execute_result"
    }
   ],
   "source": [
    "y_train_pred = regr.predict(x_train.values)\n",
    "y_train_pred = y_train_pred >= 0.5\n",
    "y_train_pred = np.multiply(y_train_pred, 1)\n",
    "accuracy_score(y_train.values, y_train_pred)"
   ]
  },
  {
   "cell_type": "code",
   "execution_count": 22,
   "id": "8986d519",
   "metadata": {
    "pycharm": {
     "name": "#%%\n"
    }
   },
   "outputs": [
    {
     "data": {
      "text/plain": "0.5"
     },
     "execution_count": 22,
     "metadata": {},
     "output_type": "execute_result"
    },
    {
     "data": {
      "text/plain": "            Accuracy F1-score (class 1) F1-score (class 0)  \\\nLinear      0.580808           0.442953           0.663968   \nLasso       0.691919           0.625767           0.738197   \nRidge       0.590909           0.584615           0.597015   \nNeural Net       0.5            0.60241           0.326531   \n\n           F1-score (macro avg)  \nLinear                  0.55346  \nLasso                  0.681982  \nRidge                  0.590815  \nNeural Net              0.46447  ",
      "text/html": "<div>\n<style scoped>\n    .dataframe tbody tr th:only-of-type {\n        vertical-align: middle;\n    }\n\n    .dataframe tbody tr th {\n        vertical-align: top;\n    }\n\n    .dataframe thead th {\n        text-align: right;\n    }\n</style>\n<table border=\"1\" class=\"dataframe\">\n  <thead>\n    <tr style=\"text-align: right;\">\n      <th></th>\n      <th>Accuracy</th>\n      <th>F1-score (class 1)</th>\n      <th>F1-score (class 0)</th>\n      <th>F1-score (macro avg)</th>\n    </tr>\n  </thead>\n  <tbody>\n    <tr>\n      <th>Linear</th>\n      <td>0.580808</td>\n      <td>0.442953</td>\n      <td>0.663968</td>\n      <td>0.55346</td>\n    </tr>\n    <tr>\n      <th>Lasso</th>\n      <td>0.691919</td>\n      <td>0.625767</td>\n      <td>0.738197</td>\n      <td>0.681982</td>\n    </tr>\n    <tr>\n      <th>Ridge</th>\n      <td>0.590909</td>\n      <td>0.584615</td>\n      <td>0.597015</td>\n      <td>0.590815</td>\n    </tr>\n    <tr>\n      <th>Neural Net</th>\n      <td>0.5</td>\n      <td>0.60241</td>\n      <td>0.326531</td>\n      <td>0.46447</td>\n    </tr>\n  </tbody>\n</table>\n</div>"
     },
     "execution_count": 22,
     "metadata": {},
     "output_type": "execute_result"
    }
   ],
   "source": [
    "y_test_pred = regr.predict(x_test.values)\n",
    "y_test_pred = y_test_pred >= 0.5\n",
    "y_test_pred = np.multiply(y_test_pred, 1)\n",
    "accuracy_score(y_test.values, y_test_pred)\n",
    "results.loc['Neural Net',:] = compute_metrics(y_test.values, y_test_pred)\n",
    "results"
   ]
  },
  {
   "cell_type": "code",
   "execution_count": 25,
   "id": "b19aac88",
   "metadata": {
    "pycharm": {
     "name": "#%%\n"
    }
   },
   "outputs": [
    {
     "name": "stdout",
     "output_type": "stream",
     "text": [
      "predicted  0.0  1.0\n",
      "target             \n",
      "0           24   18\n",
      "1           81   75\n"
     ]
    },
    {
     "data": {
      "text/plain": "predicted  0.0  1.0\ntarget             \n0           24   18\n1           81   75",
      "text/html": "<div>\n<style scoped>\n    .dataframe tbody tr th:only-of-type {\n        vertical-align: middle;\n    }\n\n    .dataframe tbody tr th {\n        vertical-align: top;\n    }\n\n    .dataframe thead th {\n        text-align: right;\n    }\n</style>\n<table border=\"1\" class=\"dataframe\">\n  <thead>\n    <tr style=\"text-align: right;\">\n      <th>predicted</th>\n      <th>0.0</th>\n      <th>1.0</th>\n    </tr>\n    <tr>\n      <th>target</th>\n      <th></th>\n      <th></th>\n    </tr>\n  </thead>\n  <tbody>\n    <tr>\n      <th>0</th>\n      <td>24</td>\n      <td>18</td>\n    </tr>\n    <tr>\n      <th>1</th>\n      <td>81</td>\n      <td>75</td>\n    </tr>\n  </tbody>\n</table>\n</div>"
     },
     "execution_count": 25,
     "metadata": {},
     "output_type": "execute_result"
    },
    {
     "name": "stdout",
     "output_type": "stream",
     "text": [
      "              precision    recall  f1-score   support\n",
      "\n",
      "         0.0       0.57      0.23      0.33       105\n",
      "         1.0       0.48      0.81      0.60        93\n",
      "\n",
      "    accuracy                           0.50       198\n",
      "   macro avg       0.53      0.52      0.46       198\n",
      "weighted avg       0.53      0.50      0.46       198\n",
      "\n"
     ]
    }
   ],
   "source": [
    "# confusion(y_test.values.flatten(), y_test_pred)\n",
    "confusion(y_test_pred, y_test.values.flatten())\n",
    "\n",
    "print( classification_report(y_test.values, y_test_pred))"
   ]
  },
  {
   "cell_type": "code",
   "execution_count": 24,
   "outputs": [
    {
     "ename": "AttributeError",
     "evalue": "'MLPClassifier' object has no attribute 'feature_importances_'",
     "output_type": "error",
     "traceback": [
      "\u001B[0;31m---------------------------------------------------------------------------\u001B[0m",
      "\u001B[0;31mAttributeError\u001B[0m                            Traceback (most recent call last)",
      "Input \u001B[0;32mIn [24]\u001B[0m, in \u001B[0;36m<cell line: 2>\u001B[0;34m()\u001B[0m\n\u001B[1;32m      1\u001B[0m \u001B[38;5;66;03m# Get numerical feature importances\u001B[39;00m\n\u001B[0;32m----> 2\u001B[0m importances \u001B[38;5;241m=\u001B[39m \u001B[38;5;28mlist\u001B[39m(\u001B[43mregr\u001B[49m\u001B[38;5;241;43m.\u001B[39;49m\u001B[43mfeature_importances_\u001B[49m)\u001B[38;5;66;03m# List of tuples with variable and importance\u001B[39;00m\n\u001B[1;32m      3\u001B[0m feature_importances \u001B[38;5;241m=\u001B[39m [(feature, \u001B[38;5;28mround\u001B[39m(importance, \u001B[38;5;241m2\u001B[39m)) \u001B[38;5;28;01mfor\u001B[39;00m feature, importance \u001B[38;5;129;01min\u001B[39;00m \u001B[38;5;28mzip\u001B[39m(\u001B[38;5;28mlist\u001B[39m(x_train\u001B[38;5;241m.\u001B[39mcolumns), importances)]\u001B[38;5;66;03m# Sort the feature importances by most important first\u001B[39;00m\n\u001B[1;32m      4\u001B[0m feature_importances \u001B[38;5;241m=\u001B[39m \u001B[38;5;28msorted\u001B[39m(feature_importances, key \u001B[38;5;241m=\u001B[39m \u001B[38;5;28;01mlambda\u001B[39;00m x: x[\u001B[38;5;241m1\u001B[39m], reverse \u001B[38;5;241m=\u001B[39m \u001B[38;5;28;01mTrue\u001B[39;00m)\u001B[38;5;66;03m# Print out the feature and importances\u001B[39;00m\n",
      "\u001B[0;31mAttributeError\u001B[0m: 'MLPClassifier' object has no attribute 'feature_importances_'"
     ]
    }
   ],
   "source": [
    "# Get numerical feature importances\n",
    "importances = list(regr.feature_importances_)# List of tuples with variable and importance\n",
    "feature_importances = [(feature, round(importance, 2)) for feature, importance in zip(list(x_train.columns), importances)]# Sort the feature importances by most important first\n",
    "feature_importances = sorted(feature_importances, key = lambda x: x[1], reverse = True)# Print out the feature and importances\n",
    "[print('Variable: {:20} Importance: {}'.format(*pair)) for pair in feature_importances];"
   ],
   "metadata": {
    "collapsed": false,
    "pycharm": {
     "name": "#%%\n"
    }
   }
  },
  {
   "cell_type": "code",
   "execution_count": null,
   "outputs": [],
   "source": [],
   "metadata": {
    "collapsed": false,
    "pycharm": {
     "name": "#%%\n"
    }
   }
  }
 ],
 "metadata": {
  "kernelspec": {
   "display_name": "Python 3 (ipykernel)",
   "language": "python",
   "name": "python3"
  },
  "language_info": {
   "codemirror_mode": {
    "name": "ipython",
    "version": 3
   },
   "file_extension": ".py",
   "mimetype": "text/x-python",
   "name": "python",
   "nbconvert_exporter": "python",
   "pygments_lexer": "ipython3",
   "version": "3.9.7"
  }
 },
 "nbformat": 4,
 "nbformat_minor": 5
}
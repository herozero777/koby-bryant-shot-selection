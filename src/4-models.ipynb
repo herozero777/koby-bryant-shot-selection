{
 "cells": [
  {
   "cell_type": "code",
   "execution_count": 11,
   "id": "4c3859a2",
   "metadata": {},
   "outputs": [],
   "source": [
    "import pandas as pd\n",
    "import numpy as np\n",
    "from sklearn.linear_model import LinearRegression, Ridge, RidgeCV, Lasso, LassoCV\n",
    "from sklearn.metrics import mean_squared_error, r2_score, accuracy_score\n",
    "from sklearn.metrics import accuracy_score\n",
    "from sklearn.model_selection import train_test_split,  KFold, cross_val_score\n",
    "from sklearn.neural_network import MLPRegressor"
   ]
  },
  {
   "cell_type": "code",
   "execution_count": 3,
   "id": "22554cd5",
   "metadata": {},
   "outputs": [],
   "source": [
    "train = pd.read_csv('../data/data3_train.csv')\n",
    "test = pd.read_csv('../data/data3_test.csv')"
   ]
  },
  {
   "cell_type": "code",
   "execution_count": 4,
   "id": "259f4c1f",
   "metadata": {},
   "outputs": [],
   "source": [
    "target_column = \"shot_made_flag\"  # y_column_name"
   ]
  },
  {
   "cell_type": "code",
   "execution_count": 5,
   "id": "e473d5d5",
   "metadata": {},
   "outputs": [],
   "source": [
    "def split_x_y(df, target):\n",
    "    y = df.loc[:, [target]]\n",
    "    x = df.drop([target], axis=1)\n",
    "    return x, y\n",
    "\n",
    "def split_regular_playoff(df, season, train=None, test=None, validation=None):\n",
    "\n",
    "    # if(train + test + validation != 1):\n",
    "    #     print(\"Error dataset split\")\n",
    "    #     return None\n",
    "\n",
    "    df_validaiton = None\n",
    "\n",
    "    df_season = df[df['season'] == season]\n",
    "    isPlayoffs = df_season.playoffs == 1\n",
    "\n",
    "    df_train = df_season[~isPlayoffs]\n",
    "    df_test  = df_season[isPlayoffs]\n",
    "\n",
    "    print(f\"Size of training dataset {len(df_train)}\" )\n",
    "    print(f\"Size of test dataset {len(df_test)}\" )\n",
    "    print(f\"Size of train vs test ratio {len(df_train) / (len(df_train) + len(df_test)) }\" )\n",
    "\n",
    "    return df_train, df_test\n",
    "#     train = split_x_y(df_train, 'shot_made_flag')\n",
    "#     test = split_x_y(df_test, 'shot_made_flag')\n",
    "#     return train[0], train[1], test[0], test[1]\n",
    "#     return train, test\n",
    "\n",
    "# x_train, y_train, x_test, y_test = split_regular_playoff(df, '2010-11')\n",
    "# train, test = split_regular_playoff(df, '2010-11')"
   ]
  },
  {
   "cell_type": "code",
   "execution_count": 6,
   "id": "7bb37ed4",
   "metadata": {},
   "outputs": [
    {
     "data": {
      "text/html": [
       "<div>\n",
       "<style scoped>\n",
       "    .dataframe tbody tr th:only-of-type {\n",
       "        vertical-align: middle;\n",
       "    }\n",
       "\n",
       "    .dataframe tbody tr th {\n",
       "        vertical-align: top;\n",
       "    }\n",
       "\n",
       "    .dataframe thead th {\n",
       "        text-align: right;\n",
       "    }\n",
       "</style>\n",
       "<table border=\"1\" class=\"dataframe\">\n",
       "  <thead>\n",
       "    <tr style=\"text-align: right;\">\n",
       "      <th></th>\n",
       "      <th>loc_x</th>\n",
       "      <th>loc_y</th>\n",
       "      <th>period</th>\n",
       "      <th>playoffs</th>\n",
       "      <th>shot_distance</th>\n",
       "      <th>shot_made_flag</th>\n",
       "      <th>shot_zone_basic</th>\n",
       "      <th>shot_zone_range</th>\n",
       "      <th>time_remaining</th>\n",
       "      <th>last_5_games_avg</th>\n",
       "      <th>...</th>\n",
       "      <th>shot_type_2PT Field Goal</th>\n",
       "      <th>shot_type_3PT Field Goal</th>\n",
       "      <th>shot_zone_area_Back Court(BC)</th>\n",
       "      <th>shot_zone_area_Center(C)</th>\n",
       "      <th>shot_zone_area_Left Side Center(LC)</th>\n",
       "      <th>shot_zone_area_Left Side(L)</th>\n",
       "      <th>shot_zone_area_Right Side Center(RC)</th>\n",
       "      <th>shot_zone_area_Right Side(R)</th>\n",
       "      <th>matchup_away</th>\n",
       "      <th>matchup_home</th>\n",
       "    </tr>\n",
       "  </thead>\n",
       "  <tbody>\n",
       "    <tr>\n",
       "      <th>0</th>\n",
       "      <td>0</td>\n",
       "      <td>0</td>\n",
       "      <td>3</td>\n",
       "      <td>0</td>\n",
       "      <td>0</td>\n",
       "      <td>0.0</td>\n",
       "      <td>0</td>\n",
       "      <td>0</td>\n",
       "      <td>225</td>\n",
       "      <td>0.0</td>\n",
       "      <td>...</td>\n",
       "      <td>1</td>\n",
       "      <td>0</td>\n",
       "      <td>0</td>\n",
       "      <td>1</td>\n",
       "      <td>0</td>\n",
       "      <td>0</td>\n",
       "      <td>0</td>\n",
       "      <td>0</td>\n",
       "      <td>0</td>\n",
       "      <td>1</td>\n",
       "    </tr>\n",
       "    <tr>\n",
       "      <th>1</th>\n",
       "      <td>0</td>\n",
       "      <td>0</td>\n",
       "      <td>3</td>\n",
       "      <td>0</td>\n",
       "      <td>0</td>\n",
       "      <td>0.0</td>\n",
       "      <td>0</td>\n",
       "      <td>0</td>\n",
       "      <td>429</td>\n",
       "      <td>0.0</td>\n",
       "      <td>...</td>\n",
       "      <td>1</td>\n",
       "      <td>0</td>\n",
       "      <td>0</td>\n",
       "      <td>1</td>\n",
       "      <td>0</td>\n",
       "      <td>0</td>\n",
       "      <td>0</td>\n",
       "      <td>0</td>\n",
       "      <td>0</td>\n",
       "      <td>1</td>\n",
       "    </tr>\n",
       "    <tr>\n",
       "      <th>2</th>\n",
       "      <td>144</td>\n",
       "      <td>41</td>\n",
       "      <td>3</td>\n",
       "      <td>0</td>\n",
       "      <td>14</td>\n",
       "      <td>1.0</td>\n",
       "      <td>2</td>\n",
       "      <td>1</td>\n",
       "      <td>159</td>\n",
       "      <td>0.0</td>\n",
       "      <td>...</td>\n",
       "      <td>1</td>\n",
       "      <td>0</td>\n",
       "      <td>0</td>\n",
       "      <td>0</td>\n",
       "      <td>0</td>\n",
       "      <td>0</td>\n",
       "      <td>0</td>\n",
       "      <td>1</td>\n",
       "      <td>0</td>\n",
       "      <td>1</td>\n",
       "    </tr>\n",
       "    <tr>\n",
       "      <th>3</th>\n",
       "      <td>-161</td>\n",
       "      <td>132</td>\n",
       "      <td>3</td>\n",
       "      <td>0</td>\n",
       "      <td>20</td>\n",
       "      <td>0.0</td>\n",
       "      <td>2</td>\n",
       "      <td>2</td>\n",
       "      <td>49</td>\n",
       "      <td>0.0</td>\n",
       "      <td>...</td>\n",
       "      <td>1</td>\n",
       "      <td>0</td>\n",
       "      <td>0</td>\n",
       "      <td>0</td>\n",
       "      <td>1</td>\n",
       "      <td>0</td>\n",
       "      <td>0</td>\n",
       "      <td>0</td>\n",
       "      <td>0</td>\n",
       "      <td>1</td>\n",
       "    </tr>\n",
       "    <tr>\n",
       "      <th>4</th>\n",
       "      <td>34</td>\n",
       "      <td>82</td>\n",
       "      <td>4</td>\n",
       "      <td>0</td>\n",
       "      <td>8</td>\n",
       "      <td>0.0</td>\n",
       "      <td>1</td>\n",
       "      <td>1</td>\n",
       "      <td>596</td>\n",
       "      <td>0.0</td>\n",
       "      <td>...</td>\n",
       "      <td>1</td>\n",
       "      <td>0</td>\n",
       "      <td>0</td>\n",
       "      <td>1</td>\n",
       "      <td>0</td>\n",
       "      <td>0</td>\n",
       "      <td>0</td>\n",
       "      <td>0</td>\n",
       "      <td>0</td>\n",
       "      <td>1</td>\n",
       "    </tr>\n",
       "  </tbody>\n",
       "</table>\n",
       "<p>5 rows × 33 columns</p>\n",
       "</div>"
      ],
      "text/plain": [
       "   loc_x  loc_y  period  playoffs  shot_distance  shot_made_flag  \\\n",
       "0      0      0       3         0              0             0.0   \n",
       "1      0      0       3         0              0             0.0   \n",
       "2    144     41       3         0             14             1.0   \n",
       "3   -161    132       3         0             20             0.0   \n",
       "4     34     82       4         0              8             0.0   \n",
       "\n",
       "   shot_zone_basic  shot_zone_range  time_remaining  last_5_games_avg  ...  \\\n",
       "0                0                0             225               0.0  ...   \n",
       "1                0                0             429               0.0  ...   \n",
       "2                2                1             159               0.0  ...   \n",
       "3                2                2              49               0.0  ...   \n",
       "4                1                1             596               0.0  ...   \n",
       "\n",
       "   shot_type_2PT Field Goal  shot_type_3PT Field Goal  \\\n",
       "0                         1                         0   \n",
       "1                         1                         0   \n",
       "2                         1                         0   \n",
       "3                         1                         0   \n",
       "4                         1                         0   \n",
       "\n",
       "   shot_zone_area_Back Court(BC)  shot_zone_area_Center(C)  \\\n",
       "0                              0                         1   \n",
       "1                              0                         1   \n",
       "2                              0                         0   \n",
       "3                              0                         0   \n",
       "4                              0                         1   \n",
       "\n",
       "   shot_zone_area_Left Side Center(LC)  shot_zone_area_Left Side(L)  \\\n",
       "0                                    0                            0   \n",
       "1                                    0                            0   \n",
       "2                                    0                            0   \n",
       "3                                    1                            0   \n",
       "4                                    0                            0   \n",
       "\n",
       "   shot_zone_area_Right Side Center(RC)  shot_zone_area_Right Side(R)  \\\n",
       "0                                     0                             0   \n",
       "1                                     0                             0   \n",
       "2                                     0                             1   \n",
       "3                                     0                             0   \n",
       "4                                     0                             0   \n",
       "\n",
       "   matchup_away  matchup_home  \n",
       "0             0             1  \n",
       "1             0             1  \n",
       "2             0             1  \n",
       "3             0             1  \n",
       "4             0             1  \n",
       "\n",
       "[5 rows x 33 columns]"
      ]
     },
     "execution_count": 6,
     "metadata": {},
     "output_type": "execute_result"
    }
   ],
   "source": [
    "train.head()"
   ]
  },
  {
   "cell_type": "markdown",
   "id": "a642be1c",
   "metadata": {},
   "source": [
    "## Split X & Y"
   ]
  },
  {
   "cell_type": "code",
   "execution_count": 48,
   "id": "1e556673",
   "metadata": {},
   "outputs": [],
   "source": [
    "x_train, y_train = split_x_y(train, target_column)\n",
    "x_test, y_test = split_x_y(test, target_column)"
   ]
  },
  {
   "cell_type": "code",
   "execution_count": 9,
   "id": "8a18e870",
   "metadata": {},
   "outputs": [],
   "source": [
    "lambdas = [1e-10,1e-5,1e-4,1e-3,1e-2,0.1, 0.5,1,5,10,50,100]"
   ]
  },
  {
   "cell_type": "markdown",
   "id": "1b2a774b",
   "metadata": {},
   "source": [
    "# Linear Regression"
   ]
  },
  {
   "cell_type": "code",
   "execution_count": 19,
   "id": "fcd518cb",
   "metadata": {},
   "outputs": [
    {
     "data": {
      "text/plain": [
       "0.2299316121604148"
      ]
     },
     "execution_count": 19,
     "metadata": {},
     "output_type": "execute_result"
    }
   ],
   "source": [
    "reg = LinearRegression()\n",
    "reg.fit(x_train, y_train)\n",
    "reg.score(x_train, y_train)"
   ]
  },
  {
   "cell_type": "markdown",
   "id": "f71dc151",
   "metadata": {},
   "source": [
    "#### train data"
   ]
  },
  {
   "cell_type": "code",
   "execution_count": 52,
   "id": "7ba7be94",
   "metadata": {},
   "outputs": [
    {
     "data": {
      "text/plain": [
       "0.7150297619047619"
      ]
     },
     "execution_count": 52,
     "metadata": {},
     "output_type": "execute_result"
    }
   ],
   "source": [
    "y_train_pred = reg.predict(x_train)\n",
    "y_train_pred = y_train_pred >= 0.6\n",
    "y_train_pred = np.multiply(y_train_pred, 1)\n",
    "accuracy_score(y_train.values, y_train_pred)"
   ]
  },
  {
   "cell_type": "markdown",
   "id": "7775af79",
   "metadata": {},
   "source": [
    "#### Test Data"
   ]
  },
  {
   "cell_type": "code",
   "execution_count": 58,
   "id": "d068ee71",
   "metadata": {},
   "outputs": [
    {
     "data": {
      "text/plain": [
       "0.6799065420560748"
      ]
     },
     "execution_count": 58,
     "metadata": {},
     "output_type": "execute_result"
    }
   ],
   "source": [
    "y_test_pred = reg.predict(x_test)\n",
    "y_test_pred = y_test_pred >= 0.5\n",
    "y_test_pred = np.multiply(y_test_pred, 1)\n",
    "accuracy_score(y_test.values, y_test_pred)"
   ]
  },
  {
   "cell_type": "markdown",
   "id": "0b1e4b0c",
   "metadata": {},
   "source": [
    "# Lasso Regression"
   ]
  },
  {
   "cell_type": "code",
   "execution_count": 15,
   "id": "16ec2209",
   "metadata": {},
   "outputs": [
    {
     "data": {
      "text/plain": [
       "array([[0.],\n",
       "       [0.],\n",
       "       [1.],\n",
       "       ...,\n",
       "       [0.],\n",
       "       [1.],\n",
       "       [1.]])"
      ]
     },
     "execution_count": 15,
     "metadata": {},
     "output_type": "execute_result"
    }
   ],
   "source": [
    "y_train.values.flatten()"
   ]
  },
  {
   "cell_type": "code",
   "execution_count": 19,
   "id": "2152111b",
   "metadata": {},
   "outputs": [
    {
     "name": "stderr",
     "output_type": "stream",
     "text": [
      "/home/teemo/anaconda3/envs/ds/lib/python3.9/site-packages/sklearn/linear_model/_coordinate_descent.py:633: ConvergenceWarning: Objective did not converge. You might want to increase the number of iterations. Duality gap: 0.23965911904753057, tolerance: 0.026618604651162787\n",
      "  model = cd_fast.enet_coordinate_descent_gram(\n",
      "/home/teemo/anaconda3/envs/ds/lib/python3.9/site-packages/sklearn/linear_model/_coordinate_descent.py:633: ConvergenceWarning: Objective did not converge. You might want to increase the number of iterations. Duality gap: 33.88716132641106, tolerance: 0.026703345724907065\n",
      "  model = cd_fast.enet_coordinate_descent_gram(\n",
      "/home/teemo/anaconda3/envs/ds/lib/python3.9/site-packages/sklearn/linear_model/_coordinate_descent.py:633: ConvergenceWarning: Objective did not converge. You might want to increase the number of iterations. Duality gap: 2.7471318485644645, tolerance: 0.02138093023255813\n",
      "  model = cd_fast.enet_coordinate_descent_gram(\n",
      "/home/teemo/anaconda3/envs/ds/lib/python3.9/site-packages/sklearn/linear_model/_coordinate_descent.py:633: ConvergenceWarning: Objective did not converge. You might want to increase the number of iterations. Duality gap: 27.540648105934764, tolerance: 0.021294883720930215\n",
      "  model = cd_fast.enet_coordinate_descent_gram(\n",
      "/home/teemo/anaconda3/envs/ds/lib/python3.9/site-packages/sklearn/linear_model/_coordinate_descent.py:633: ConvergenceWarning: Objective did not converge. You might want to increase the number of iterations. Duality gap: 0.2317315744502082, tolerance: 0.02134081395348837\n",
      "  model = cd_fast.enet_coordinate_descent_gram(\n",
      "/home/teemo/anaconda3/envs/ds/lib/python3.9/site-packages/sklearn/linear_model/_coordinate_descent.py:633: ConvergenceWarning: Objective did not converge. You might want to increase the number of iterations. Duality gap: 13.542991642655196, tolerance: 0.02142139534883721\n",
      "  model = cd_fast.enet_coordinate_descent_gram(\n",
      "/home/teemo/anaconda3/envs/ds/lib/python3.9/site-packages/sklearn/linear_model/_coordinate_descent.py:633: ConvergenceWarning: Objective did not converge. You might want to increase the number of iterations. Duality gap: 0.2025900643686498, tolerance: 0.0212093023255814\n",
      "  model = cd_fast.enet_coordinate_descent_gram(\n",
      "/home/teemo/anaconda3/envs/ds/lib/python3.9/site-packages/sklearn/linear_model/_coordinate_descent.py:633: ConvergenceWarning: Objective did not converge. You might want to increase the number of iterations. Duality gap: 0.1858738564797875, tolerance: 0.02122081395348835\n",
      "  model = cd_fast.enet_coordinate_descent_gram(\n",
      "/home/teemo/anaconda3/envs/ds/lib/python3.9/site-packages/sklearn/linear_model/_coordinate_descent.py:633: ConvergenceWarning: Objective did not converge. You might want to increase the number of iterations. Duality gap: 13.573355665486247, tolerance: 0.02123209302325581\n",
      "  model = cd_fast.enet_coordinate_descent_gram(\n",
      "/home/teemo/anaconda3/envs/ds/lib/python3.9/site-packages/sklearn/linear_model/_coordinate_descent.py:633: ConvergenceWarning: Objective did not converge. You might want to increase the number of iterations. Duality gap: 0.1729100290794463, tolerance: 0.021438488372093032\n",
      "  model = cd_fast.enet_coordinate_descent_gram(\n",
      "/home/teemo/anaconda3/envs/ds/lib/python3.9/site-packages/sklearn/linear_model/_coordinate_descent.py:633: ConvergenceWarning: Objective did not converge. You might want to increase the number of iterations. Duality gap: 13.85156231435134, tolerance: 0.02131395348837209\n",
      "  model = cd_fast.enet_coordinate_descent_gram(\n"
     ]
    },
    {
     "name": "stdout",
     "output_type": "stream",
     "text": [
      "Best lambda: 0.001 R2 score: 0.1925524666578287\n"
     ]
    },
    {
     "name": "stderr",
     "output_type": "stream",
     "text": [
      "/home/teemo/anaconda3/envs/ds/lib/python3.9/site-packages/sklearn/linear_model/_coordinate_descent.py:633: ConvergenceWarning: Objective did not converge. You might want to increase the number of iterations. Duality gap: 26.167473087145524, tolerance: 0.02131521486643436\n",
      "  model = cd_fast.enet_coordinate_descent_gram(\n"
     ]
    }
   ],
   "source": [
    "lasso_cv = LassoCV(alphas=lambdas, cv=5, max_iter=100_000)\n",
    "lasso_cv.fit(x_train.values, y_train.values.flatten())\n",
    "\n",
    "lasso_r2 =  np.mean(cross_val_score(lasso_cv, x_train.values, y_train.values.flatten()))\n",
    "\n",
    "print('Best lambda:', lasso_cv.alpha_, 'R2 score:',lasso_r2)"
   ]
  },
  {
   "cell_type": "code",
   "execution_count": 30,
   "id": "d00f9e77",
   "metadata": {},
   "outputs": [
    {
     "name": "stderr",
     "output_type": "stream",
     "text": [
      "/home/teemo/anaconda3/envs/ds/lib/python3.9/site-packages/sklearn/base.py:443: UserWarning: X has feature names, but LassoCV was fitted without feature names\n",
      "  warnings.warn(\n"
     ]
    },
    {
     "data": {
      "text/plain": [
       "0.7120535714285714"
      ]
     },
     "execution_count": 30,
     "metadata": {},
     "output_type": "execute_result"
    }
   ],
   "source": [
    "y_train_pred = lasso_cv.predict(x_train)\n",
    "y_train_pred = y_train_pred >= 0.5\n",
    "y_train_pred = np.multiply(y_train_pred, 1)\n",
    "accuracy_score(y_train.values, y_train_pred)"
   ]
  },
  {
   "cell_type": "code",
   "execution_count": 51,
   "id": "463e22f4",
   "metadata": {},
   "outputs": [
    {
     "name": "stderr",
     "output_type": "stream",
     "text": [
      "/home/teemo/anaconda3/envs/ds/lib/python3.9/site-packages/sklearn/base.py:443: UserWarning: X has feature names, but LassoCV was fitted without feature names\n",
      "  warnings.warn(\n"
     ]
    },
    {
     "data": {
      "text/plain": [
       "0.6869158878504673"
      ]
     },
     "execution_count": 51,
     "metadata": {},
     "output_type": "execute_result"
    }
   ],
   "source": [
    "y_test_pred = lasso_cv.predict(x_test)\n",
    "y_test_pred = y_test_pred >= 0.5\n",
    "y_test_pred = np.multiply(y_test_pred, 1)\n",
    "accuracy_score(y_test.values, y_test_pred)"
   ]
  },
  {
   "cell_type": "markdown",
   "id": "d82152f1",
   "metadata": {},
   "source": [
    "# Ridge Regression"
   ]
  },
  {
   "cell_type": "code",
   "execution_count": 32,
   "id": "1f7746fe",
   "metadata": {},
   "outputs": [
    {
     "name": "stderr",
     "output_type": "stream",
     "text": [
      "/home/teemo/anaconda3/envs/ds/lib/python3.9/site-packages/sklearn/linear_model/_ridge.py:157: LinAlgWarning: Ill-conditioned matrix (rcond=2.00747e-18): result may not be accurate.\n",
      "  return linalg.solve(A, Xy, sym_pos=True, overwrite_a=True).T\n",
      "/home/teemo/anaconda3/envs/ds/lib/python3.9/site-packages/sklearn/linear_model/_ridge.py:157: LinAlgWarning: Ill-conditioned matrix (rcond=2.07506e-18): result may not be accurate.\n",
      "  return linalg.solve(A, Xy, sym_pos=True, overwrite_a=True).T\n",
      "/home/teemo/anaconda3/envs/ds/lib/python3.9/site-packages/sklearn/linear_model/_ridge.py:157: LinAlgWarning: Ill-conditioned matrix (rcond=2.01917e-18): result may not be accurate.\n",
      "  return linalg.solve(A, Xy, sym_pos=True, overwrite_a=True).T\n",
      "/home/teemo/anaconda3/envs/ds/lib/python3.9/site-packages/sklearn/linear_model/_ridge.py:157: LinAlgWarning: Ill-conditioned matrix (rcond=2.03564e-18): result may not be accurate.\n",
      "  return linalg.solve(A, Xy, sym_pos=True, overwrite_a=True).T\n",
      "/home/teemo/anaconda3/envs/ds/lib/python3.9/site-packages/sklearn/linear_model/_ridge.py:157: LinAlgWarning: Ill-conditioned matrix (rcond=2.00659e-18): result may not be accurate.\n",
      "  return linalg.solve(A, Xy, sym_pos=True, overwrite_a=True).T\n"
     ]
    },
    {
     "data": {
      "text/html": [
       "<div>\n",
       "<style scoped>\n",
       "    .dataframe tbody tr th:only-of-type {\n",
       "        vertical-align: middle;\n",
       "    }\n",
       "\n",
       "    .dataframe tbody tr th {\n",
       "        vertical-align: top;\n",
       "    }\n",
       "\n",
       "    .dataframe thead th {\n",
       "        text-align: right;\n",
       "    }\n",
       "</style>\n",
       "<table border=\"1\" class=\"dataframe\">\n",
       "  <thead>\n",
       "    <tr style=\"text-align: right;\">\n",
       "      <th></th>\n",
       "      <th>mean MSE</th>\n",
       "      <th>mean norm_MSE</th>\n",
       "      <th>mean R2</th>\n",
       "    </tr>\n",
       "  </thead>\n",
       "  <tbody>\n",
       "    <tr>\n",
       "      <th>Lambda=5</th>\n",
       "      <td>0.20011</td>\n",
       "      <td>0.810713</td>\n",
       "      <td>0.189287</td>\n",
       "    </tr>\n",
       "    <tr>\n",
       "      <th>Lambda=10</th>\n",
       "      <td>0.200881</td>\n",
       "      <td>0.813862</td>\n",
       "      <td>0.186138</td>\n",
       "    </tr>\n",
       "    <tr>\n",
       "      <th>Lambda=1</th>\n",
       "      <td>0.201261</td>\n",
       "      <td>0.815277</td>\n",
       "      <td>0.184723</td>\n",
       "    </tr>\n",
       "    <tr>\n",
       "      <th>Lambda=0.5</th>\n",
       "      <td>0.201932</td>\n",
       "      <td>0.817959</td>\n",
       "      <td>0.182041</td>\n",
       "    </tr>\n",
       "    <tr>\n",
       "      <th>Lambda=0.1</th>\n",
       "      <td>0.202772</td>\n",
       "      <td>0.821318</td>\n",
       "      <td>0.178682</td>\n",
       "    </tr>\n",
       "    <tr>\n",
       "      <th>Lambda=0.01</th>\n",
       "      <td>0.203019</td>\n",
       "      <td>0.822308</td>\n",
       "      <td>0.177692</td>\n",
       "    </tr>\n",
       "    <tr>\n",
       "      <th>Lambda=0.001</th>\n",
       "      <td>0.203045</td>\n",
       "      <td>0.822413</td>\n",
       "      <td>0.177587</td>\n",
       "    </tr>\n",
       "    <tr>\n",
       "      <th>Lambda=0.0001</th>\n",
       "      <td>0.203048</td>\n",
       "      <td>0.822424</td>\n",
       "      <td>0.177576</td>\n",
       "    </tr>\n",
       "    <tr>\n",
       "      <th>Lambda=1e-05</th>\n",
       "      <td>0.203048</td>\n",
       "      <td>0.822425</td>\n",
       "      <td>0.177575</td>\n",
       "    </tr>\n",
       "    <tr>\n",
       "      <th>Lambda=1e-10</th>\n",
       "      <td>0.203049</td>\n",
       "      <td>0.822426</td>\n",
       "      <td>0.177574</td>\n",
       "    </tr>\n",
       "    <tr>\n",
       "      <th>Mean</th>\n",
       "      <td>0.204361</td>\n",
       "      <td>0.827817</td>\n",
       "      <td>0.172183</td>\n",
       "    </tr>\n",
       "    <tr>\n",
       "      <th>Lambda=50</th>\n",
       "      <td>0.211001</td>\n",
       "      <td>0.854815</td>\n",
       "      <td>0.145185</td>\n",
       "    </tr>\n",
       "    <tr>\n",
       "      <th>Lambda=100</th>\n",
       "      <td>0.21917</td>\n",
       "      <td>0.887866</td>\n",
       "      <td>0.112134</td>\n",
       "    </tr>\n",
       "  </tbody>\n",
       "</table>\n",
       "</div>"
      ],
      "text/plain": [
       "               mean MSE mean norm_MSE   mean R2\n",
       "Lambda=5        0.20011      0.810713  0.189287\n",
       "Lambda=10      0.200881      0.813862  0.186138\n",
       "Lambda=1       0.201261      0.815277  0.184723\n",
       "Lambda=0.5     0.201932      0.817959  0.182041\n",
       "Lambda=0.1     0.202772      0.821318  0.178682\n",
       "Lambda=0.01    0.203019      0.822308  0.177692\n",
       "Lambda=0.001   0.203045      0.822413  0.177587\n",
       "Lambda=0.0001  0.203048      0.822424  0.177576\n",
       "Lambda=1e-05   0.203048      0.822425  0.177575\n",
       "Lambda=1e-10   0.203049      0.822426  0.177574\n",
       "Mean           0.204361      0.827817  0.172183\n",
       "Lambda=50      0.211001      0.854815  0.145185\n",
       "Lambda=100      0.21917      0.887866  0.112134"
      ]
     },
     "execution_count": 32,
     "metadata": {},
     "output_type": "execute_result"
    }
   ],
   "source": [
    "ridge_cross_val_metrics = pd.DataFrame(columns=['mean MSE', 'mean norm_MSE', 'mean R2'])\n",
    "# We calculate the cross-validation metrics for each lambda \n",
    "for lambda_val in lambdas:\n",
    "    kf = KFold(n_splits=5)\n",
    "    i=1\n",
    "    cv_mse = []\n",
    "    cv_nmse = []\n",
    "    cv_r2 = []\n",
    "    # We compute the metrics for each fold and then perform the mean.\n",
    "    for train_index, test_index in kf.split(x_train):\n",
    "        x_train_fold = x_train.values[train_index]\n",
    "        y_train_fold = y_train.values[train_index]\n",
    "        x_test_fold = x_train.values[test_index,:]\n",
    "        y_test_fold = y_train.values[test_index]\n",
    "\n",
    "        ridge = Ridge(alpha=lambda_val)\n",
    "        ridge.fit(x_train_fold,y_train_fold)\n",
    "        y_pred_fold = ridge.predict(x_test_fold)\n",
    "        fold_mse = mean_squared_error(y_test_fold, y_pred_fold)\n",
    "        fold_nmse =  1-r2_score(y_test_fold, y_pred_fold)\n",
    "        fold_r2 = r2_score(y_test_fold, y_pred_fold)\n",
    "        cv_mse.append(fold_mse)\n",
    "        cv_nmse.append(fold_nmse)\n",
    "        cv_r2.append(fold_r2)\n",
    "    ridge_cross_val_metrics.loc['Lambda={}'.format(lambda_val),:] = [np.mean(cv_mse),np.mean(cv_nmse),np.mean(cv_r2)]\n",
    "\n",
    "ridge_cross_val_metrics.loc['Mean', :] = ridge_cross_val_metrics.mean()\n",
    "ridge_cv_r2 = ridge_cross_val_metrics.loc[\"Mean\", \"mean R2\"]\n",
    "\n",
    "ridge_cross_val_metrics.sort_values(by='mean R2',ascending=False)"
   ]
  },
  {
   "cell_type": "code",
   "execution_count": 43,
   "id": "974bd5d5",
   "metadata": {},
   "outputs": [
    {
     "data": {
      "text/plain": [
       "mean MSE          0.20011\n",
       "mean norm_MSE    0.810713\n",
       "mean R2          0.189287\n",
       "Name: Lambda=5, dtype: object"
      ]
     },
     "execution_count": 43,
     "metadata": {},
     "output_type": "execute_result"
    }
   ],
   "source": [
    "temp_df = ridge_cross_val_metrics.sort_values(by='mean R2',ascending=False)\n",
    "temp_df.iloc[0]"
   ]
  },
  {
   "cell_type": "code",
   "execution_count": 53,
   "id": "613d62d3",
   "metadata": {},
   "outputs": [
    {
     "name": "stderr",
     "output_type": "stream",
     "text": [
      "/home/teemo/anaconda3/envs/ds/lib/python3.9/site-packages/sklearn/base.py:443: UserWarning: X has feature names, but Ridge was fitted without feature names\n",
      "  warnings.warn(\n"
     ]
    },
    {
     "data": {
      "text/plain": [
       "0.7142857142857143"
      ]
     },
     "execution_count": 53,
     "metadata": {},
     "output_type": "execute_result"
    }
   ],
   "source": [
    "ridge = Ridge(alpha=5)\n",
    "\n",
    "ridge.fit(x_train.values, y_train.values.flatten())\n",
    "\n",
    "y_train_pred = ridge.predict(x_train)\n",
    "y_train_pred = y_train_pred >= 0.5\n",
    "y_train_pred = np.multiply(y_train_pred, 1)\n",
    "accuracy_score(y_train.values, y_train_pred)"
   ]
  },
  {
   "cell_type": "code",
   "execution_count": 54,
   "id": "155ac85d",
   "metadata": {},
   "outputs": [
    {
     "name": "stderr",
     "output_type": "stream",
     "text": [
      "/home/teemo/anaconda3/envs/ds/lib/python3.9/site-packages/sklearn/base.py:443: UserWarning: X has feature names, but Ridge was fitted without feature names\n",
      "  warnings.warn(\n"
     ]
    },
    {
     "data": {
      "text/plain": [
       "0.6845794392523364"
      ]
     },
     "execution_count": 54,
     "metadata": {},
     "output_type": "execute_result"
    }
   ],
   "source": [
    "y_test_pred = ridge.predict(x_test)\n",
    "y_test_pred = y_test_pred >= 0.5\n",
    "y_test_pred = np.multiply(y_test_pred, 1)\n",
    "accuracy_score(y_test.values, y_test_pred)"
   ]
  },
  {
   "cell_type": "markdown",
   "id": "6239670a",
   "metadata": {},
   "source": [
    "# Neural Network"
   ]
  },
  {
   "cell_type": "code",
   "execution_count": 71,
   "id": "4eb8f1a9",
   "metadata": {},
   "outputs": [
    {
     "data": {
      "text/plain": [
       "array([0., 0., 1., ..., 0., 1., 1.])"
      ]
     },
     "execution_count": 71,
     "metadata": {},
     "output_type": "execute_result"
    }
   ],
   "source": [
    "y_train.values.flatten()"
   ]
  },
  {
   "cell_type": "code",
   "execution_count": 145,
   "id": "c6f66da8",
   "metadata": {},
   "outputs": [
    {
     "data": {
      "text/plain": [
       "MLPRegressor(hidden_layer_sizes=(35, 15, 5), max_iter=800000, tol=1e-08)"
      ]
     },
     "execution_count": 145,
     "metadata": {},
     "output_type": "execute_result"
    }
   ],
   "source": [
    "regr = MLPRegressor(hidden_layer_sizes=(35, 15, 5), max_iter=800_000, tol=1e-8)\n",
    "regr.fit(x_train.values, y_train.values.flatten())"
   ]
  },
  {
   "cell_type": "code",
   "execution_count": 146,
   "id": "917d9526",
   "metadata": {},
   "outputs": [],
   "source": [
    "y_train_pred = regr.predict(x_train.values)\n",
    "nn_score = regr.score(x_train.values, y_train)\n",
    "nn_mse = mean_squared_error(y_train, y_pred)\n",
    "nn_r2 = r2_score(y_train, y_pred)"
   ]
  },
  {
   "cell_type": "code",
   "execution_count": 147,
   "id": "b1d601cf",
   "metadata": {},
   "outputs": [
    {
     "data": {
      "text/plain": [
       "0.5699404761904762"
      ]
     },
     "execution_count": 147,
     "metadata": {},
     "output_type": "execute_result"
    }
   ],
   "source": [
    "y_train_pred = regr.predict(x_train.values)\n",
    "y_train_pred = y_train_pred >= 0.5\n",
    "y_train_pred = np.multiply(y_train_pred, 1)\n",
    "accuracy_score(y_train.values, y_train_pred)"
   ]
  },
  {
   "cell_type": "code",
   "execution_count": 148,
   "id": "8986d519",
   "metadata": {},
   "outputs": [
    {
     "data": {
      "text/plain": [
       "0.5514018691588785"
      ]
     },
     "execution_count": 148,
     "metadata": {},
     "output_type": "execute_result"
    }
   ],
   "source": [
    "y_test_pred = regr.predict(x_test.values)\n",
    "y_test_pred = y_test_pred >= 0.5\n",
    "y_test_pred = np.multiply(y_test_pred, 1)\n",
    "accuracy_score(y_test.values, y_test_pred)"
   ]
  },
  {
   "cell_type": "code",
   "execution_count": 23,
   "id": "69c383bd",
   "metadata": {},
   "outputs": [
    {
     "data": {
      "text/html": [
       "<div>\n",
       "<style scoped>\n",
       "    .dataframe tbody tr th:only-of-type {\n",
       "        vertical-align: middle;\n",
       "    }\n",
       "\n",
       "    .dataframe tbody tr th {\n",
       "        vertical-align: top;\n",
       "    }\n",
       "\n",
       "    .dataframe thead th {\n",
       "        text-align: right;\n",
       "    }\n",
       "</style>\n",
       "<table border=\"1\" class=\"dataframe\">\n",
       "  <thead>\n",
       "    <tr style=\"text-align: right;\">\n",
       "      <th></th>\n",
       "      <th>action_type</th>\n",
       "      <th>combined_shot_type</th>\n",
       "      <th>game_event_id</th>\n",
       "      <th>game_id</th>\n",
       "      <th>lat</th>\n",
       "      <th>loc_x</th>\n",
       "      <th>loc_y</th>\n",
       "      <th>lon</th>\n",
       "      <th>period</th>\n",
       "      <th>playoffs</th>\n",
       "      <th>...</th>\n",
       "      <th>matchup</th>\n",
       "      <th>opponent</th>\n",
       "      <th>shot_id</th>\n",
       "      <th>time_remaining</th>\n",
       "      <th>last_5_games_avg</th>\n",
       "      <th>streak_before_shot</th>\n",
       "      <th>points_before_shot</th>\n",
       "      <th>fgp_before_shot</th>\n",
       "      <th>month</th>\n",
       "      <th>action_type_te</th>\n",
       "    </tr>\n",
       "  </thead>\n",
       "  <tbody>\n",
       "    <tr>\n",
       "      <th>0</th>\n",
       "      <td>Driving Layup Shot</td>\n",
       "      <td>Layup</td>\n",
       "      <td>584</td>\n",
       "      <td>21000003</td>\n",
       "      <td>34.0213</td>\n",
       "      <td>18</td>\n",
       "      <td>23</td>\n",
       "      <td>-118.2518</td>\n",
       "      <td>4</td>\n",
       "      <td>0</td>\n",
       "      <td>...</td>\n",
       "      <td>home</td>\n",
       "      <td>HOU</td>\n",
       "      <td>16453</td>\n",
       "      <td>105</td>\n",
       "      <td>0.39</td>\n",
       "      <td>0</td>\n",
       "      <td>10</td>\n",
       "      <td>0.36</td>\n",
       "      <td>10</td>\n",
       "      <td>0.706897</td>\n",
       "    </tr>\n",
       "    <tr>\n",
       "      <th>1</th>\n",
       "      <td>Jump Shot</td>\n",
       "      <td>Jump Shot</td>\n",
       "      <td>538</td>\n",
       "      <td>21000003</td>\n",
       "      <td>33.9173</td>\n",
       "      <td>-79</td>\n",
       "      <td>127</td>\n",
       "      <td>-118.3488</td>\n",
       "      <td>4</td>\n",
       "      <td>0</td>\n",
       "      <td>...</td>\n",
       "      <td>home</td>\n",
       "      <td>HOU</td>\n",
       "      <td>16452</td>\n",
       "      <td>259</td>\n",
       "      <td>0.39</td>\n",
       "      <td>0</td>\n",
       "      <td>10</td>\n",
       "      <td>0.38</td>\n",
       "      <td>10</td>\n",
       "      <td>0.326633</td>\n",
       "    </tr>\n",
       "    <tr>\n",
       "      <th>2</th>\n",
       "      <td>Jump Shot</td>\n",
       "      <td>Jump Shot</td>\n",
       "      <td>350</td>\n",
       "      <td>21000003</td>\n",
       "      <td>33.9363</td>\n",
       "      <td>-180</td>\n",
       "      <td>108</td>\n",
       "      <td>-118.4498</td>\n",
       "      <td>3</td>\n",
       "      <td>0</td>\n",
       "      <td>...</td>\n",
       "      <td>home</td>\n",
       "      <td>HOU</td>\n",
       "      <td>16450</td>\n",
       "      <td>400</td>\n",
       "      <td>0.39</td>\n",
       "      <td>2</td>\n",
       "      <td>10</td>\n",
       "      <td>0.42</td>\n",
       "      <td>10</td>\n",
       "      <td>0.326633</td>\n",
       "    </tr>\n",
       "    <tr>\n",
       "      <th>3</th>\n",
       "      <td>Jump Shot</td>\n",
       "      <td>Jump Shot</td>\n",
       "      <td>332</td>\n",
       "      <td>21000003</td>\n",
       "      <td>33.8983</td>\n",
       "      <td>-127</td>\n",
       "      <td>146</td>\n",
       "      <td>-118.3968</td>\n",
       "      <td>3</td>\n",
       "      <td>0</td>\n",
       "      <td>...</td>\n",
       "      <td>home</td>\n",
       "      <td>HOU</td>\n",
       "      <td>16449</td>\n",
       "      <td>493</td>\n",
       "      <td>0.39</td>\n",
       "      <td>1</td>\n",
       "      <td>8</td>\n",
       "      <td>0.36</td>\n",
       "      <td>10</td>\n",
       "      <td>0.326633</td>\n",
       "    </tr>\n",
       "    <tr>\n",
       "      <th>4</th>\n",
       "      <td>Jump Shot</td>\n",
       "      <td>Jump Shot</td>\n",
       "      <td>322</td>\n",
       "      <td>21000003</td>\n",
       "      <td>33.9623</td>\n",
       "      <td>-106</td>\n",
       "      <td>82</td>\n",
       "      <td>-118.3758</td>\n",
       "      <td>3</td>\n",
       "      <td>0</td>\n",
       "      <td>...</td>\n",
       "      <td>home</td>\n",
       "      <td>HOU</td>\n",
       "      <td>16448</td>\n",
       "      <td>546</td>\n",
       "      <td>0.39</td>\n",
       "      <td>0</td>\n",
       "      <td>6</td>\n",
       "      <td>0.30</td>\n",
       "      <td>10</td>\n",
       "      <td>0.326633</td>\n",
       "    </tr>\n",
       "    <tr>\n",
       "      <th>...</th>\n",
       "      <td>...</td>\n",
       "      <td>...</td>\n",
       "      <td>...</td>\n",
       "      <td>...</td>\n",
       "      <td>...</td>\n",
       "      <td>...</td>\n",
       "      <td>...</td>\n",
       "      <td>...</td>\n",
       "      <td>...</td>\n",
       "      <td>...</td>\n",
       "      <td>...</td>\n",
       "      <td>...</td>\n",
       "      <td>...</td>\n",
       "      <td>...</td>\n",
       "      <td>...</td>\n",
       "      <td>...</td>\n",
       "      <td>...</td>\n",
       "      <td>...</td>\n",
       "      <td>...</td>\n",
       "      <td>...</td>\n",
       "      <td>...</td>\n",
       "    </tr>\n",
       "    <tr>\n",
       "      <th>1355</th>\n",
       "      <td>Jump Shot</td>\n",
       "      <td>Jump Shot</td>\n",
       "      <td>468</td>\n",
       "      <td>21001230</td>\n",
       "      <td>33.9943</td>\n",
       "      <td>-98</td>\n",
       "      <td>50</td>\n",
       "      <td>-118.3678</td>\n",
       "      <td>4</td>\n",
       "      <td>0</td>\n",
       "      <td>...</td>\n",
       "      <td>away</td>\n",
       "      <td>SAC</td>\n",
       "      <td>18067</td>\n",
       "      <td>89</td>\n",
       "      <td>0.42</td>\n",
       "      <td>0</td>\n",
       "      <td>22</td>\n",
       "      <td>0.69</td>\n",
       "      <td>4</td>\n",
       "      <td>0.326633</td>\n",
       "    </tr>\n",
       "    <tr>\n",
       "      <th>1356</th>\n",
       "      <td>Jump Shot</td>\n",
       "      <td>Jump Shot</td>\n",
       "      <td>475</td>\n",
       "      <td>21001230</td>\n",
       "      <td>33.9553</td>\n",
       "      <td>144</td>\n",
       "      <td>89</td>\n",
       "      <td>-118.1258</td>\n",
       "      <td>4</td>\n",
       "      <td>0</td>\n",
       "      <td>...</td>\n",
       "      <td>away</td>\n",
       "      <td>SAC</td>\n",
       "      <td>18068</td>\n",
       "      <td>57</td>\n",
       "      <td>0.42</td>\n",
       "      <td>0</td>\n",
       "      <td>22</td>\n",
       "      <td>0.65</td>\n",
       "      <td>4</td>\n",
       "      <td>0.326633</td>\n",
       "    </tr>\n",
       "    <tr>\n",
       "      <th>1357</th>\n",
       "      <td>Jump Shot</td>\n",
       "      <td>Jump Shot</td>\n",
       "      <td>480</td>\n",
       "      <td>21001230</td>\n",
       "      <td>33.9963</td>\n",
       "      <td>-119</td>\n",
       "      <td>48</td>\n",
       "      <td>-118.3888</td>\n",
       "      <td>4</td>\n",
       "      <td>0</td>\n",
       "      <td>...</td>\n",
       "      <td>away</td>\n",
       "      <td>SAC</td>\n",
       "      <td>18069</td>\n",
       "      <td>15</td>\n",
       "      <td>0.42</td>\n",
       "      <td>0</td>\n",
       "      <td>22</td>\n",
       "      <td>0.61</td>\n",
       "      <td>4</td>\n",
       "      <td>0.326633</td>\n",
       "    </tr>\n",
       "    <tr>\n",
       "      <th>1358</th>\n",
       "      <td>Jump Shot</td>\n",
       "      <td>Jump Shot</td>\n",
       "      <td>506</td>\n",
       "      <td>21001230</td>\n",
       "      <td>33.9153</td>\n",
       "      <td>92</td>\n",
       "      <td>129</td>\n",
       "      <td>-118.1778</td>\n",
       "      <td>5</td>\n",
       "      <td>0</td>\n",
       "      <td>...</td>\n",
       "      <td>away</td>\n",
       "      <td>SAC</td>\n",
       "      <td>18071</td>\n",
       "      <td>244</td>\n",
       "      <td>0.42</td>\n",
       "      <td>1</td>\n",
       "      <td>25</td>\n",
       "      <td>0.60</td>\n",
       "      <td>4</td>\n",
       "      <td>0.326633</td>\n",
       "    </tr>\n",
       "    <tr>\n",
       "      <th>1359</th>\n",
       "      <td>Jump Shot</td>\n",
       "      <td>Jump Shot</td>\n",
       "      <td>85</td>\n",
       "      <td>21001230</td>\n",
       "      <td>33.8963</td>\n",
       "      <td>-116</td>\n",
       "      <td>148</td>\n",
       "      <td>-118.3858</td>\n",
       "      <td>1</td>\n",
       "      <td>0</td>\n",
       "      <td>...</td>\n",
       "      <td>away</td>\n",
       "      <td>SAC</td>\n",
       "      <td>18055</td>\n",
       "      <td>128</td>\n",
       "      <td>0.42</td>\n",
       "      <td>1</td>\n",
       "      <td>6</td>\n",
       "      <td>0.60</td>\n",
       "      <td>4</td>\n",
       "      <td>0.326633</td>\n",
       "    </tr>\n",
       "  </tbody>\n",
       "</table>\n",
       "<p>1360 rows × 30 columns</p>\n",
       "</div>"
      ],
      "text/plain": [
       "             action_type combined_shot_type  game_event_id   game_id      lat  \\\n",
       "0     Driving Layup Shot              Layup            584  21000003  34.0213   \n",
       "1              Jump Shot          Jump Shot            538  21000003  33.9173   \n",
       "2              Jump Shot          Jump Shot            350  21000003  33.9363   \n",
       "3              Jump Shot          Jump Shot            332  21000003  33.8983   \n",
       "4              Jump Shot          Jump Shot            322  21000003  33.9623   \n",
       "...                  ...                ...            ...       ...      ...   \n",
       "1355           Jump Shot          Jump Shot            468  21001230  33.9943   \n",
       "1356           Jump Shot          Jump Shot            475  21001230  33.9553   \n",
       "1357           Jump Shot          Jump Shot            480  21001230  33.9963   \n",
       "1358           Jump Shot          Jump Shot            506  21001230  33.9153   \n",
       "1359           Jump Shot          Jump Shot             85  21001230  33.8963   \n",
       "\n",
       "      loc_x  loc_y       lon  period  playoffs  ... matchup  opponent  \\\n",
       "0        18     23 -118.2518       4         0  ...    home       HOU   \n",
       "1       -79    127 -118.3488       4         0  ...    home       HOU   \n",
       "2      -180    108 -118.4498       3         0  ...    home       HOU   \n",
       "3      -127    146 -118.3968       3         0  ...    home       HOU   \n",
       "4      -106     82 -118.3758       3         0  ...    home       HOU   \n",
       "...     ...    ...       ...     ...       ...  ...     ...       ...   \n",
       "1355    -98     50 -118.3678       4         0  ...    away       SAC   \n",
       "1356    144     89 -118.1258       4         0  ...    away       SAC   \n",
       "1357   -119     48 -118.3888       4         0  ...    away       SAC   \n",
       "1358     92    129 -118.1778       5         0  ...    away       SAC   \n",
       "1359   -116    148 -118.3858       1         0  ...    away       SAC   \n",
       "\n",
       "      shot_id time_remaining last_5_games_avg streak_before_shot  \\\n",
       "0       16453            105             0.39                  0   \n",
       "1       16452            259             0.39                  0   \n",
       "2       16450            400             0.39                  2   \n",
       "3       16449            493             0.39                  1   \n",
       "4       16448            546             0.39                  0   \n",
       "...       ...            ...              ...                ...   \n",
       "1355    18067             89             0.42                  0   \n",
       "1356    18068             57             0.42                  0   \n",
       "1357    18069             15             0.42                  0   \n",
       "1358    18071            244             0.42                  1   \n",
       "1359    18055            128             0.42                  1   \n",
       "\n",
       "     points_before_shot  fgp_before_shot month action_type_te  \n",
       "0                    10             0.36    10       0.706897  \n",
       "1                    10             0.38    10       0.326633  \n",
       "2                    10             0.42    10       0.326633  \n",
       "3                     8             0.36    10       0.326633  \n",
       "4                     6             0.30    10       0.326633  \n",
       "...                 ...              ...   ...            ...  \n",
       "1355                 22             0.69     4       0.326633  \n",
       "1356                 22             0.65     4       0.326633  \n",
       "1357                 22             0.61     4       0.326633  \n",
       "1358                 25             0.60     4       0.326633  \n",
       "1359                  6             0.60     4       0.326633  \n",
       "\n",
       "[1360 rows x 30 columns]"
      ]
     },
     "execution_count": 23,
     "metadata": {},
     "output_type": "execute_result"
    }
   ],
   "source": [
    "target_encoding(train, \"action_type\", target_column)"
   ]
  },
  {
   "cell_type": "markdown",
   "id": "e48361fc",
   "metadata": {},
   "source": [
    "## Fit Linear Regression"
   ]
  },
  {
   "cell_type": "code",
   "execution_count": null,
   "id": "b19aac88",
   "metadata": {},
   "outputs": [],
   "source": []
  }
 ],
 "metadata": {
  "kernelspec": {
   "display_name": "Python 3 (ipykernel)",
   "language": "python",
   "name": "python3"
  },
  "language_info": {
   "codemirror_mode": {
    "name": "ipython",
    "version": 3
   },
   "file_extension": ".py",
   "mimetype": "text/x-python",
   "name": "python",
   "nbconvert_exporter": "python",
   "pygments_lexer": "ipython3",
   "version": "3.9.7"
  }
 },
 "nbformat": 4,
 "nbformat_minor": 5
}

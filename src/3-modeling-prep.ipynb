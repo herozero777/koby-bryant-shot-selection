{
 "cells": [
  {
   "cell_type": "code",
   "execution_count": 1,
   "metadata": {
    "pycharm": {
     "name": "#%%\n"
    }
   },
   "outputs": [],
   "source": [
    "import numpy as np\n",
    "import pandas as pd\n",
    "import matplotlib.pyplot as plt\n",
    "import seaborn as sns\n",
    "%matplotlib inline\n",
    "import datetime\n",
    "from sklearn.model_selection import train_test_split\n",
    "from feature_engineering import feature_engineering\n",
    "# from category_encoders import TargetEncoder"
   ]
  },
  {
   "cell_type": "code",
   "execution_count": 2,
   "metadata": {
    "pycharm": {
     "name": "#%%\n"
    }
   },
   "outputs": [],
   "source": [
    "df = pd.read_csv('../data/data2.csv')\n",
    "\n",
    "SEASON = '2009-10'\n",
    "\n",
    "TRAIN_TEAM_SEASONS = ['2000-01', '2001-02']\n",
    "TEST_TEAM_SEASONS = ['2002-03']\n",
    "TEAM = 'PHX'"
   ]
  },
  {
   "cell_type": "code",
   "execution_count": 3,
   "metadata": {
    "pycharm": {
     "name": "#%%\n"
    }
   },
   "outputs": [
    {
     "data": {
      "text/plain": "         action_type combined_shot_type  game_event_id   game_id      lat  \\\n0          Jump Shot          Jump Shot             12  20000012  34.0443   \n1          Jump Shot          Jump Shot             35  20000012  33.9093   \n2          Jump Shot          Jump Shot             43  20000012  33.8693   \n3  Driving Dunk Shot               Dunk            155  20000012  34.0443   \n4          Jump Shot          Jump Shot            244  20000012  34.0553   \n\n   loc_x  loc_y       lon  period  playoffs  ...         shot_zone_area  \\\n0   -157      0 -118.4268       1         0  ...           Left Side(L)   \n1   -101    135 -118.3708       1         0  ...   Left Side Center(LC)   \n2    138    175 -118.1318       1         0  ...  Right Side Center(RC)   \n3      0      0 -118.2698       2         0  ...              Center(C)   \n4   -145    -11 -118.4148       3         0  ...           Left Side(L)   \n\n   shot_zone_basic  shot_zone_range     team_id           team_name  \\\n0        Mid-Range         8-16 ft.  1610612747  Los Angeles Lakers   \n1        Mid-Range        16-24 ft.  1610612747  Los Angeles Lakers   \n2        Mid-Range        16-24 ft.  1610612747  Los Angeles Lakers   \n3  Restricted Area  Less Than 8 ft.  1610612747  Los Angeles Lakers   \n4        Mid-Range         8-16 ft.  1610612747  Los Angeles Lakers   \n\n    game_date matchup  opponent shot_id time_remaining  \n0  2000-10-31    away       POR       2            622  \n1  2000-10-31    away       POR       3            465  \n2  2000-10-31    away       POR       4            412  \n3  2000-10-31    away       POR       5            379  \n4  2000-10-31    away       POR       6            572  \n\n[5 rows x 24 columns]",
      "text/html": "<div>\n<style scoped>\n    .dataframe tbody tr th:only-of-type {\n        vertical-align: middle;\n    }\n\n    .dataframe tbody tr th {\n        vertical-align: top;\n    }\n\n    .dataframe thead th {\n        text-align: right;\n    }\n</style>\n<table border=\"1\" class=\"dataframe\">\n  <thead>\n    <tr style=\"text-align: right;\">\n      <th></th>\n      <th>action_type</th>\n      <th>combined_shot_type</th>\n      <th>game_event_id</th>\n      <th>game_id</th>\n      <th>lat</th>\n      <th>loc_x</th>\n      <th>loc_y</th>\n      <th>lon</th>\n      <th>period</th>\n      <th>playoffs</th>\n      <th>...</th>\n      <th>shot_zone_area</th>\n      <th>shot_zone_basic</th>\n      <th>shot_zone_range</th>\n      <th>team_id</th>\n      <th>team_name</th>\n      <th>game_date</th>\n      <th>matchup</th>\n      <th>opponent</th>\n      <th>shot_id</th>\n      <th>time_remaining</th>\n    </tr>\n  </thead>\n  <tbody>\n    <tr>\n      <th>0</th>\n      <td>Jump Shot</td>\n      <td>Jump Shot</td>\n      <td>12</td>\n      <td>20000012</td>\n      <td>34.0443</td>\n      <td>-157</td>\n      <td>0</td>\n      <td>-118.4268</td>\n      <td>1</td>\n      <td>0</td>\n      <td>...</td>\n      <td>Left Side(L)</td>\n      <td>Mid-Range</td>\n      <td>8-16 ft.</td>\n      <td>1610612747</td>\n      <td>Los Angeles Lakers</td>\n      <td>2000-10-31</td>\n      <td>away</td>\n      <td>POR</td>\n      <td>2</td>\n      <td>622</td>\n    </tr>\n    <tr>\n      <th>1</th>\n      <td>Jump Shot</td>\n      <td>Jump Shot</td>\n      <td>35</td>\n      <td>20000012</td>\n      <td>33.9093</td>\n      <td>-101</td>\n      <td>135</td>\n      <td>-118.3708</td>\n      <td>1</td>\n      <td>0</td>\n      <td>...</td>\n      <td>Left Side Center(LC)</td>\n      <td>Mid-Range</td>\n      <td>16-24 ft.</td>\n      <td>1610612747</td>\n      <td>Los Angeles Lakers</td>\n      <td>2000-10-31</td>\n      <td>away</td>\n      <td>POR</td>\n      <td>3</td>\n      <td>465</td>\n    </tr>\n    <tr>\n      <th>2</th>\n      <td>Jump Shot</td>\n      <td>Jump Shot</td>\n      <td>43</td>\n      <td>20000012</td>\n      <td>33.8693</td>\n      <td>138</td>\n      <td>175</td>\n      <td>-118.1318</td>\n      <td>1</td>\n      <td>0</td>\n      <td>...</td>\n      <td>Right Side Center(RC)</td>\n      <td>Mid-Range</td>\n      <td>16-24 ft.</td>\n      <td>1610612747</td>\n      <td>Los Angeles Lakers</td>\n      <td>2000-10-31</td>\n      <td>away</td>\n      <td>POR</td>\n      <td>4</td>\n      <td>412</td>\n    </tr>\n    <tr>\n      <th>3</th>\n      <td>Driving Dunk Shot</td>\n      <td>Dunk</td>\n      <td>155</td>\n      <td>20000012</td>\n      <td>34.0443</td>\n      <td>0</td>\n      <td>0</td>\n      <td>-118.2698</td>\n      <td>2</td>\n      <td>0</td>\n      <td>...</td>\n      <td>Center(C)</td>\n      <td>Restricted Area</td>\n      <td>Less Than 8 ft.</td>\n      <td>1610612747</td>\n      <td>Los Angeles Lakers</td>\n      <td>2000-10-31</td>\n      <td>away</td>\n      <td>POR</td>\n      <td>5</td>\n      <td>379</td>\n    </tr>\n    <tr>\n      <th>4</th>\n      <td>Jump Shot</td>\n      <td>Jump Shot</td>\n      <td>244</td>\n      <td>20000012</td>\n      <td>34.0553</td>\n      <td>-145</td>\n      <td>-11</td>\n      <td>-118.4148</td>\n      <td>3</td>\n      <td>0</td>\n      <td>...</td>\n      <td>Left Side(L)</td>\n      <td>Mid-Range</td>\n      <td>8-16 ft.</td>\n      <td>1610612747</td>\n      <td>Los Angeles Lakers</td>\n      <td>2000-10-31</td>\n      <td>away</td>\n      <td>POR</td>\n      <td>6</td>\n      <td>572</td>\n    </tr>\n  </tbody>\n</table>\n<p>5 rows × 24 columns</p>\n</div>"
     },
     "execution_count": 3,
     "metadata": {},
     "output_type": "execute_result"
    }
   ],
   "source": [
    "df.head()"
   ]
  },
  {
   "cell_type": "markdown",
   "metadata": {
    "pycharm": {
     "name": "#%% md\n"
    }
   },
   "source": [
    "***\n",
    "## Removing Redundant Columns\n",
    "There are some columns that have very high corelations with some other columns and some columns that\n",
    "\n",
    "Removing columns:\n",
    "- team_name, team_id - These have only a single value, so it doesn't add any value to the prediction\n",
    "- matchup - It has 1 to 1 corelation with the column \"opponent\""
   ]
  },
  {
   "cell_type": "code",
   "execution_count": 4,
   "outputs": [],
   "source": [
    "def remove_columns(df, remove_season=False):\n",
    "    columns_to_drop = ['game_event_id', 'lat', 'lon', 'team_name', 'team_id', 'game_id', 'shot_id', 'game_date',\n",
    "                       'season', 'loc_x', 'loc_y']\n",
    "    df = df.drop(labels=columns_to_drop, axis='columns')\n",
    "    if(type == True):\n",
    "        train.drop(['month', 'playoffs'], axis=1, inplace=True)\n",
    "    print(f\"Total columns removed: {len(columns_to_drop)}\")\n",
    "    return df"
   ],
   "metadata": {
    "collapsed": false,
    "pycharm": {
     "name": "#%%\n"
    }
   }
  },
  {
   "cell_type": "markdown",
   "source": [
    "# Preparing for modeling\n",
    "From the analyzed and preprocessed data, we continue the pre-processing in order to prepare it for the modeling phase"
   ],
   "metadata": {
    "collapsed": false,
    "pycharm": {
     "name": "#%% md\n"
    }
   }
  },
  {
   "cell_type": "code",
   "execution_count": 5,
   "outputs": [],
   "source": [
    "def target_encoding(df, col_to_encode, target_col):\n",
    "    \"\"\"\n",
    "    Performs target-encoding on the specified column. That is to convert categorical column\n",
    "    to a numerical column. Drops the col_to_encode from the returned DataFrame.\n",
    "\n",
    "    Args:\n",
    "        df (DataFrame):\n",
    "        col_to_encode (str): Column to be converted to numerical one.\n",
    "        target_col (str): Target column of the data.\n",
    "\n",
    "    Returns:\n",
    "        DataFrame: DataFrame containing the new <col_to_encode>_te column.\n",
    "    \"\"\"\n",
    "\n",
    "    encoding = df.groupby(col_to_encode)[target_col].mean().reset_index()\n",
    "    encoding = encoding.rename(columns={target_col: f\"{col_to_encode}_te\"})\n",
    "    df = df.merge(right=encoding, how='left', on=col_to_encode)\n",
    "    df.drop(col_to_encode, axis=1, inplace=True)\n",
    "\n",
    "    return df"
   ],
   "metadata": {
    "collapsed": false,
    "pycharm": {
     "name": "#%%\n"
    }
   }
  },
  {
   "cell_type": "code",
   "execution_count": 6,
   "outputs": [],
   "source": [
    "def encode_and_bind(original_dataframe, feature_to_encode):\n",
    "    dummies = pd.get_dummies(original_dataframe[[feature_to_encode]])\n",
    "    res = pd.concat([original_dataframe, dummies], axis=1)\n",
    "    res = res.drop([feature_to_encode], axis=1)\n",
    "    return res\n",
    "\n",
    "def one_hot_encoding(df):\n",
    "#     df_new = df.copy(deep=True)\n",
    "#     features_to_encode = ['combined_shot_type', 'season', 'shot_type', 'shot_zone_area', 'shot_zone_basic', 'shot_zone_range', 'opponent', 'action_type', 'matchup']\n",
    "    features_to_encode = ['combined_shot_type', 'shot_type', 'shot_zone_area', 'matchup']\n",
    "    for feature in features_to_encode:\n",
    "        df = encode_and_bind(df, feature)\n",
    "\n",
    "    return df"
   ],
   "metadata": {
    "collapsed": false,
    "pycharm": {
     "name": "#%%\n"
    }
   }
  },
  {
   "cell_type": "code",
   "execution_count": 7,
   "outputs": [],
   "source": [
    "def ordinal_encoder(df: pd.DataFrame, col_to_encode, mapper: dict) -> pd.DataFrame:\n",
    "    \"\"\"\n",
    "    Performs ordinal encoding using the given mapper. It replaces the col_to_encode's values in\n",
    "    DataFrame.\n",
    "    Args:\n",
    "        df (DataFrame):\n",
    "        col_to_encode (str): column that needs to be encoded\n",
    "        mapper (dict): contains the mapping for the column in df. \n",
    "            e.g. \"col_val\" -> 1\n",
    "\n",
    "    Returns:\n",
    "        DataFrame: returns the DataFrame with mapped values in col: col_to_encode\n",
    "    \"\"\"\n",
    "    df[col_to_encode] = df[col_to_encode].apply(lambda x: mapper[x])\n",
    "    return df"
   ],
   "metadata": {
    "collapsed": false,
    "pycharm": {
     "name": "#%%\n"
    }
   }
  },
  {
   "cell_type": "markdown",
   "source": [
    "### Encoding"
   ],
   "metadata": {
    "collapsed": false,
    "pycharm": {
     "name": "#%% md\n"
    }
   }
  },
  {
   "cell_type": "code",
   "execution_count": 8,
   "outputs": [],
   "source": [
    "shot_zone_basic_mapper = {    \n",
    "    \"Restricted Area\": 0,\n",
    "    \"In The Paint (Non-RA)\": 1,\n",
    "    \"Mid-Range\": 2,\n",
    "    \"Right Corner 3\": 3,\n",
    "    \"Above the Break 3\": 4,\n",
    "    \"Left Corner 3\": 5,\n",
    "    \"Backcourt\": 6\n",
    "}\n",
    "shot_zone_range_mapper = {\n",
    "    \"Less Than 8 ft.\": 0,\n",
    "    \"8-16 ft.\": 1,\n",
    "    \"16-24 ft.\": 2,\n",
    "    \"24+ ft.\": 3,\n",
    "    \"Back Court Shot\": 4\n",
    "}"
   ],
   "metadata": {
    "collapsed": false,
    "pycharm": {
     "name": "#%%\n"
    }
   }
  },
  {
   "cell_type": "markdown",
   "source": [
    "#### Splitting features & label (target)"
   ],
   "metadata": {
    "collapsed": false,
    "pycharm": {
     "name": "#%% md\n"
    }
   }
  },
  {
   "cell_type": "code",
   "execution_count": 9,
   "outputs": [],
   "source": [
    "def split_x_y(df, target):\n",
    "    y = df.loc[:, [target]]\n",
    "    x = df.drop([target], axis=1)\n",
    "    return x, y"
   ],
   "metadata": {
    "collapsed": false,
    "pycharm": {
     "name": "#%%\n"
    }
   }
  },
  {
   "cell_type": "markdown",
   "source": [
    "## Random"
   ],
   "metadata": {
    "collapsed": false,
    "pycharm": {
     "name": "#%% md\n"
    }
   }
  },
  {
   "cell_type": "code",
   "execution_count": 10,
   "outputs": [],
   "source": [
    "def split_random(df, train=None, test=None, validation=None):\n",
    "    # 80-20\n",
    "    train_data, rest_data = train_test_split(df, train_size=0.8, shuffle=False)\n",
    "    # test 10 val 10\n",
    "    validation_data, test_data = train_test_split(rest_data, test_size=0.5, shuffle=False)\n",
    "\n",
    "    print(f\"Size of training dataset {len(train_data)}\" )\n",
    "    print(f\"Size of validation dataset {len(validation_data)}\" )\n",
    "    print(f\"Size of test dataset {len(test_data)}\" )\n",
    "\n",
    "    # print(f\"Size of train vs test ratio {len(df_train) / (len(df_train) + len(df_test)) }\" )\n",
    "    return train_data, validation_data, test_data"
   ],
   "metadata": {
    "collapsed": false,
    "pycharm": {
     "name": "#%%\n"
    }
   }
  },
  {
   "cell_type": "markdown",
   "source": [
    "# Regular (train), playoff (test)"
   ],
   "metadata": {
    "collapsed": false,
    "pycharm": {
     "name": "#%% md\n"
    }
   }
  },
  {
   "cell_type": "code",
   "execution_count": 11,
   "outputs": [],
   "source": [
    "def split_regular_playoff(df, season, train=None, test=None, validation=None, n_way_split=False):\n",
    "\n",
    "    # if(train + test + validation != 1):\n",
    "    #     print(\"Error dataset split\")\n",
    "    #     return None\n",
    "\n",
    "    df_validaiton = None\n",
    "\n",
    "    df_season = df[df['season'] == season]\n",
    "    isPlayoffs = df_season.playoffs == 1\n",
    "\n",
    "    df_train = df_season[~isPlayoffs]\n",
    "    df_test  = df_season[isPlayoffs]\n",
    "\n",
    "    print(f\"Size of training dataset {len(df_train)}\" )\n",
    "    print(f\"Size of test dataset {len(df_test)}\" )\n",
    "    print(f\"Size of train vs test ratio {len(df_train) / (len(df_train) + len(df_test)) }\" )\n",
    "\n",
    "    if (n_way_split == True):\n",
    "        train = split_x_y(df_train, 'shot_made_flag')\n",
    "        test = split_x_y(df_test, 'shot_made_flag')\n",
    "        return train[0], train[1], test[0], test[1]\n",
    "    else:\n",
    "        return df_train, df_test\n"
   ],
   "metadata": {
    "collapsed": false,
    "pycharm": {
     "name": "#%%\n"
    }
   }
  },
  {
   "cell_type": "code",
   "execution_count": 12,
   "outputs": [
    {
     "name": "stdout",
     "output_type": "stream",
     "text": [
      "Size of training dataset 1344\n",
      "Size of test dataset 428\n",
      "Size of train vs test ratio 0.7584650112866818\n"
     ]
    }
   ],
   "source": [
    "train, test = split_regular_playoff(df, SEASON)"
   ],
   "metadata": {
    "collapsed": false,
    "pycharm": {
     "name": "#%%\n"
    }
   }
  },
  {
   "cell_type": "code",
   "execution_count": 13,
   "outputs": [
    {
     "name": "stdout",
     "output_type": "stream",
     "text": [
      "Total columns removed: 11\n",
      "Total columns removed: 11\n"
     ]
    }
   ],
   "source": [
    "train = feature_engineering(train)\n",
    "train = remove_columns(train, remove_season=True)\n",
    "\n",
    "test = feature_engineering(test)\n",
    "test = remove_columns(test, remove_season=True)\n"
   ],
   "metadata": {
    "collapsed": false,
    "pycharm": {
     "name": "#%%\n"
    }
   }
  },
  {
   "cell_type": "code",
   "execution_count": 14,
   "outputs": [],
   "source": [
    "train = target_encoding(train, 'action_type', 'shot_made_flag')\n",
    "train = target_encoding(train, 'opponent', 'shot_made_flag')\n",
    "train = one_hot_encoding(train)\n",
    "train = ordinal_encoder(train, \"shot_zone_basic\", shot_zone_basic_mapper)\n",
    "train = ordinal_encoder(train, \"shot_zone_range\", shot_zone_range_mapper)\n",
    "\n",
    "test = target_encoding(test, 'action_type', 'shot_made_flag')\n",
    "test = target_encoding(test, 'opponent', 'shot_made_flag')\n",
    "test = one_hot_encoding(test)\n",
    "test = ordinal_encoder(test, \"shot_zone_basic\", shot_zone_basic_mapper)\n",
    "test = ordinal_encoder(test, \"shot_zone_range\", shot_zone_range_mapper)"
   ],
   "metadata": {
    "collapsed": false,
    "pycharm": {
     "name": "#%%\n"
    }
   }
  },
  {
   "cell_type": "code",
   "execution_count": 15,
   "outputs": [
    {
     "data": {
      "text/plain": "   period  playoffs  shot_distance  shot_made_flag  shot_zone_basic  \\\n0       1         0              0             0.0                0   \n1       4         0              0             1.0                0   \n2       4         0             14             0.0                2   \n3       4         0             28             0.0                4   \n4       4         0              8             0.0                1   \n\n   shot_zone_range  time_remaining last_5_games_avg streak_before_shot  \\\n0                0             660                0                  0   \n1                0             113                0                  0   \n2                1             216                0                  0   \n3                3             339                0                  0   \n4                1             596                0                  0   \n\n  points_before_shot  ... shot_type_2PT Field Goal  shot_type_3PT Field Goal  \\\n0                  0  ...                        1                         0   \n1                 16  ...                        1                         0   \n2                 16  ...                        1                         0   \n3                 16  ...                        0                         1   \n4                 16  ...                        1                         0   \n\n   shot_zone_area_Back Court(BC)  shot_zone_area_Center(C)  \\\n0                              0                         1   \n1                              0                         1   \n2                              0                         0   \n3                              0                         1   \n4                              0                         1   \n\n   shot_zone_area_Left Side Center(LC)  shot_zone_area_Left Side(L)  \\\n0                                    0                            0   \n1                                    0                            0   \n2                                    0                            0   \n3                                    0                            0   \n4                                    0                            0   \n\n   shot_zone_area_Right Side Center(RC)  shot_zone_area_Right Side(R)  \\\n0                                     0                             0   \n1                                     0                             0   \n2                                     0                             1   \n3                                     0                             0   \n4                                     0                             0   \n\n   matchup_away  matchup_home  \n0             0             1  \n1             0             1  \n2             0             1  \n3             0             1  \n4             0             1  \n\n[5 rows x 31 columns]",
      "text/html": "<div>\n<style scoped>\n    .dataframe tbody tr th:only-of-type {\n        vertical-align: middle;\n    }\n\n    .dataframe tbody tr th {\n        vertical-align: top;\n    }\n\n    .dataframe thead th {\n        text-align: right;\n    }\n</style>\n<table border=\"1\" class=\"dataframe\">\n  <thead>\n    <tr style=\"text-align: right;\">\n      <th></th>\n      <th>period</th>\n      <th>playoffs</th>\n      <th>shot_distance</th>\n      <th>shot_made_flag</th>\n      <th>shot_zone_basic</th>\n      <th>shot_zone_range</th>\n      <th>time_remaining</th>\n      <th>last_5_games_avg</th>\n      <th>streak_before_shot</th>\n      <th>points_before_shot</th>\n      <th>...</th>\n      <th>shot_type_2PT Field Goal</th>\n      <th>shot_type_3PT Field Goal</th>\n      <th>shot_zone_area_Back Court(BC)</th>\n      <th>shot_zone_area_Center(C)</th>\n      <th>shot_zone_area_Left Side Center(LC)</th>\n      <th>shot_zone_area_Left Side(L)</th>\n      <th>shot_zone_area_Right Side Center(RC)</th>\n      <th>shot_zone_area_Right Side(R)</th>\n      <th>matchup_away</th>\n      <th>matchup_home</th>\n    </tr>\n  </thead>\n  <tbody>\n    <tr>\n      <th>0</th>\n      <td>1</td>\n      <td>0</td>\n      <td>0</td>\n      <td>0.0</td>\n      <td>0</td>\n      <td>0</td>\n      <td>660</td>\n      <td>0</td>\n      <td>0</td>\n      <td>0</td>\n      <td>...</td>\n      <td>1</td>\n      <td>0</td>\n      <td>0</td>\n      <td>1</td>\n      <td>0</td>\n      <td>0</td>\n      <td>0</td>\n      <td>0</td>\n      <td>0</td>\n      <td>1</td>\n    </tr>\n    <tr>\n      <th>1</th>\n      <td>4</td>\n      <td>0</td>\n      <td>0</td>\n      <td>1.0</td>\n      <td>0</td>\n      <td>0</td>\n      <td>113</td>\n      <td>0</td>\n      <td>0</td>\n      <td>16</td>\n      <td>...</td>\n      <td>1</td>\n      <td>0</td>\n      <td>0</td>\n      <td>1</td>\n      <td>0</td>\n      <td>0</td>\n      <td>0</td>\n      <td>0</td>\n      <td>0</td>\n      <td>1</td>\n    </tr>\n    <tr>\n      <th>2</th>\n      <td>4</td>\n      <td>0</td>\n      <td>14</td>\n      <td>0.0</td>\n      <td>2</td>\n      <td>1</td>\n      <td>216</td>\n      <td>0</td>\n      <td>0</td>\n      <td>16</td>\n      <td>...</td>\n      <td>1</td>\n      <td>0</td>\n      <td>0</td>\n      <td>0</td>\n      <td>0</td>\n      <td>0</td>\n      <td>0</td>\n      <td>1</td>\n      <td>0</td>\n      <td>1</td>\n    </tr>\n    <tr>\n      <th>3</th>\n      <td>4</td>\n      <td>0</td>\n      <td>28</td>\n      <td>0.0</td>\n      <td>4</td>\n      <td>3</td>\n      <td>339</td>\n      <td>0</td>\n      <td>0</td>\n      <td>16</td>\n      <td>...</td>\n      <td>0</td>\n      <td>1</td>\n      <td>0</td>\n      <td>1</td>\n      <td>0</td>\n      <td>0</td>\n      <td>0</td>\n      <td>0</td>\n      <td>0</td>\n      <td>1</td>\n    </tr>\n    <tr>\n      <th>4</th>\n      <td>4</td>\n      <td>0</td>\n      <td>8</td>\n      <td>0.0</td>\n      <td>1</td>\n      <td>1</td>\n      <td>596</td>\n      <td>0</td>\n      <td>0</td>\n      <td>16</td>\n      <td>...</td>\n      <td>1</td>\n      <td>0</td>\n      <td>0</td>\n      <td>1</td>\n      <td>0</td>\n      <td>0</td>\n      <td>0</td>\n      <td>0</td>\n      <td>0</td>\n      <td>1</td>\n    </tr>\n  </tbody>\n</table>\n<p>5 rows × 31 columns</p>\n</div>"
     },
     "execution_count": 15,
     "metadata": {},
     "output_type": "execute_result"
    }
   ],
   "source": [
    "train.head()"
   ],
   "metadata": {
    "collapsed": false,
    "pycharm": {
     "name": "#%%\n"
    }
   }
  },
  {
   "cell_type": "code",
   "execution_count": 16,
   "outputs": [],
   "source": [
    "train.to_csv('../data/train_season.csv', index=False)\n",
    "test.to_csv('../data/test_season.csv', index=False)"
   ],
   "metadata": {
    "collapsed": false,
    "pycharm": {
     "name": "#%%\n"
    }
   }
  },
  {
   "cell_type": "markdown",
   "source": [
    "# Pick one team, train seasons before, test seasons after"
   ],
   "metadata": {
    "collapsed": false,
    "pycharm": {
     "name": "#%% md\n"
    }
   }
  },
  {
   "cell_type": "markdown",
   "source": [
    "In this version of dataset we get all the matches played against a single team in one season e.g. season `2008-09` \n",
    "and then test the model against all the matches played against same team in the next season e.g. season `2009-10`"
   ],
   "metadata": {
    "collapsed": false,
    "pycharm": {
     "name": "#%% md\n"
    }
   }
  },
  {
   "cell_type": "code",
   "execution_count": 17,
   "outputs": [],
   "source": [
    "def split_team_season(df, opponent,  season_train: list, season_test: list,\n",
    "                      train=None, test=None, validation=None):\n",
    "\n",
    "    # if(train + test + validation != 1):\n",
    "    #     print(\"Error dataset split\")\n",
    "    #     return None\n",
    "\n",
    "    df_train = None\n",
    "    df_test = None\n",
    "    df_validaiton = None\n",
    "\n",
    "    if season_train == [] or season_test == []:\n",
    "        print(\"Empty seasons\")\n",
    "        return None\n",
    "\n",
    "    df_train = df[(df['season'].isin(season_train))  & (df['opponent'] == opponent) ]\n",
    "    df_test = df[(df['season'].isin(season_test)) & (df['opponent'] == opponent) ]\n",
    "    print(f\"Testing vs {opponent}\\ntraining: {season_train}\\ntesting: {season_test}\" )\n",
    "    print(f\"Size of training dataset {len(df_train)}\" )\n",
    "    print(f\"Size of test dataset {len(df_test)}\" )\n",
    "    print(f\"Size of train vs test ratio {len(df_train) / (len(df_train) + len(df_test)) }\" )\n",
    "\n",
    "    return df_train, df_test"
   ],
   "metadata": {
    "collapsed": false,
    "pycharm": {
     "name": "#%%\n"
    }
   }
  },
  {
   "cell_type": "code",
   "execution_count": 18,
   "outputs": [
    {
     "name": "stdout",
     "output_type": "stream",
     "text": [
      "Testing vs PHX\n",
      "training: ['2000-01', '2001-02']\n",
      "testing: ['2002-03']\n",
      "Size of training dataset 104\n",
      "Size of test dataset 94\n",
      "Size of train vs test ratio 0.5252525252525253\n"
     ]
    }
   ],
   "source": [
    "train2, test2 = split_team_season(df, opponent=TEAM, season_train=TRAIN_TEAM_SEASONS, season_test=TEST_TEAM_SEASONS)"
   ],
   "metadata": {
    "collapsed": false,
    "pycharm": {
     "name": "#%%\n"
    }
   }
  },
  {
   "cell_type": "code",
   "execution_count": 18,
   "outputs": [],
   "source": [],
   "metadata": {
    "collapsed": false,
    "pycharm": {
     "name": "#%%\n"
    }
   }
  },
  {
   "cell_type": "code",
   "execution_count": 19,
   "outputs": [
    {
     "name": "stdout",
     "output_type": "stream",
     "text": [
      "Total columns removed: 11\n",
      "Total columns removed: 11\n"
     ]
    }
   ],
   "source": [
    "train2 = feature_engineering(train2)\n",
    "train2 = remove_columns(train2, remove_season=False)\n",
    "\n",
    "test2 = feature_engineering(test2)\n",
    "test2 = remove_columns(test2, remove_season=False)\n"
   ],
   "metadata": {
    "collapsed": false,
    "pycharm": {
     "name": "#%%\n"
    }
   }
  },
  {
   "cell_type": "code",
   "execution_count": 20,
   "outputs": [],
   "source": [
    "train2 = target_encoding(train2, 'action_type', 'shot_made_flag')\n",
    "train2 = target_encoding(train2, 'opponent', 'shot_made_flag')\n",
    "train2 = one_hot_encoding(train2)\n",
    "train2 = ordinal_encoder(train2, \"shot_zone_basic\", shot_zone_basic_mapper)\n",
    "train2 = ordinal_encoder(train2, \"shot_zone_range\", shot_zone_range_mapper)\n",
    "\n",
    "test2 = target_encoding(test2, 'action_type', 'shot_made_flag')\n",
    "test2 = target_encoding(test2, 'opponent', 'shot_made_flag')\n",
    "test2 = one_hot_encoding(test2)\n",
    "test2 = ordinal_encoder(test2, \"shot_zone_basic\", shot_zone_basic_mapper)\n",
    "test2 = ordinal_encoder(test2, \"shot_zone_range\", shot_zone_range_mapper)"
   ],
   "metadata": {
    "collapsed": false,
    "pycharm": {
     "name": "#%%\n"
    }
   }
  },
  {
   "cell_type": "markdown",
   "source": [
    "## missing features in train2 and test2"
   ],
   "metadata": {
    "collapsed": false,
    "pycharm": {
     "name": "#%% md\n"
    }
   }
  },
  {
   "cell_type": "code",
   "execution_count": 21,
   "outputs": [
    {
     "name": "stdout",
     "output_type": "stream",
     "text": [
      "False\n"
     ]
    }
   ],
   "source": [
    "print(set(train2.columns.values) == (set(test2.columns.values)))"
   ],
   "metadata": {
    "collapsed": false,
    "pycharm": {
     "name": "#%%\n"
    }
   }
  },
  {
   "cell_type": "code",
   "execution_count": 22,
   "outputs": [
    {
     "name": "stdout",
     "output_type": "stream",
     "text": [
      "set()\n",
      "{'shot_zone_area_Back Court(BC)', 'combined_shot_type_Tip Shot'}\n"
     ]
    }
   ],
   "source": [
    "print(set(test2.columns.values).difference(set(train2.columns.values)))\n",
    "print(set(train2.columns.values).difference(set(test2.columns.values)))\n",
    "\n",
    "for train_features in set(test2.columns.values).difference(set(train2.columns.values)):\n",
    "    train2[train_features] = 0\n",
    "\n",
    "for test_features in set(train2.columns.values).difference(set(test2.columns.values)):\n",
    "    test2[test_features] = 0"
   ],
   "metadata": {
    "collapsed": false,
    "pycharm": {
     "name": "#%%\n"
    }
   }
  },
  {
   "cell_type": "code",
   "execution_count": 23,
   "outputs": [
    {
     "name": "stdout",
     "output_type": "stream",
     "text": [
      "True\n"
     ]
    }
   ],
   "source": [
    "print(set(train2.columns.values) == (set(test2.columns.values)))\n"
   ],
   "metadata": {
    "collapsed": false,
    "pycharm": {
     "name": "#%%\n"
    }
   }
  },
  {
   "cell_type": "code",
   "execution_count": 24,
   "outputs": [
    {
     "data": {
      "text/plain": "array([False, False, False, False, False, False, False, False, False,\n       False, False, False, False, False, False, False, False, False,\n        True, False, False, False, False, False, False, False, False,\n       False, False])"
     },
     "execution_count": 24,
     "metadata": {},
     "output_type": "execute_result"
    }
   ],
   "source": [
    "train2.columns.values == 'combined_shot_type_Tip Shot'"
   ],
   "metadata": {
    "collapsed": false,
    "pycharm": {
     "name": "#%%\n"
    }
   }
  },
  {
   "cell_type": "code",
   "execution_count": 25,
   "outputs": [
    {
     "data": {
      "text/plain": "array(['Jump Shot', 'Driving Dunk Shot', 'Layup Shot',\n       'Running Jump Shot', 'Reverse Dunk Shot', 'Slam Dunk Shot',\n       'Driving Layup Shot', 'Turnaround Jump Shot', 'Reverse Layup Shot',\n       'Tip Shot', 'Running Hook Shot', 'Alley Oop Dunk Shot',\n       'Dunk Shot', 'Alley Oop Layup shot', 'Running Dunk Shot',\n       'Driving Finger Roll Shot', 'Running Layup Shot',\n       'Finger Roll Shot', 'Fadeaway Jump Shot', 'Follow Up Dunk Shot',\n       'Hook Shot', 'Turnaround Hook Shot', 'Jump Hook Shot',\n       'Running Finger Roll Shot', 'Jump Bank Shot',\n       'Turnaround Finger Roll Shot', 'Hook Bank Shot',\n       'Driving Hook Shot', 'Running Tip Shot',\n       'Running Reverse Layup Shot', 'Driving Finger Roll Layup Shot',\n       'Fadeaway Bank shot', 'Pullup Jump shot', 'Finger Roll Layup Shot',\n       'Turnaround Fadeaway shot', 'Driving Reverse Layup Shot',\n       'Driving Slam Dunk Shot', 'Step Back Jump shot',\n       'Turnaround Bank shot', 'Reverse Slam Dunk Shot',\n       'Floating Jump shot', 'Putback Slam Dunk Shot',\n       'Running Bank shot', 'Driving Bank shot', 'Driving Jump shot',\n       'Putback Layup Shot', 'Putback Dunk Shot',\n       'Running Finger Roll Layup Shot', 'Pullup Bank shot',\n       'Running Slam Dunk Shot', 'Cutting Layup Shot',\n       'Driving Floating Jump Shot', 'Running Pull-Up Jump Shot',\n       'Tip Layup Shot', 'Driving Floating Bank Jump Shot'], dtype=object)"
     },
     "execution_count": 25,
     "metadata": {},
     "output_type": "execute_result"
    }
   ],
   "source": [
    "# train2.head()\n",
    "df.action_type.unique()"
   ],
   "metadata": {
    "collapsed": false,
    "pycharm": {
     "name": "#%%\n"
    }
   }
  },
  {
   "cell_type": "code",
   "execution_count": 26,
   "outputs": [],
   "source": [
    "train2.to_csv('../data/test_team.csv', index=False)\n",
    "test2.to_csv('../data/train_team.csv', index=False)"
   ],
   "metadata": {
    "collapsed": false,
    "pycharm": {
     "name": "#%%\n"
    }
   }
  },
  {
   "cell_type": "code",
   "execution_count": 26,
   "outputs": [],
   "source": [],
   "metadata": {
    "collapsed": false,
    "pycharm": {
     "name": "#%%\n"
    }
   }
  }
 ],
 "metadata": {
  "kernelspec": {
   "display_name": "Python 3 (ipykernel)",
   "language": "python",
   "name": "python3"
  },
  "language_info": {
   "codemirror_mode": {
    "name": "ipython",
    "version": 3
   },
   "file_extension": ".py",
   "mimetype": "text/x-python",
   "name": "python",
   "nbconvert_exporter": "python",
   "pygments_lexer": "ipython3",
   "version": "3.9.7"
  }
 },
 "nbformat": 4,
 "nbformat_minor": 1
}
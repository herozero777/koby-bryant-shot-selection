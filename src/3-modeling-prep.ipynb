{
 "cells": [
  {
   "cell_type": "code",
   "execution_count": 1,
   "metadata": {
    "pycharm": {
     "name": "#%%\n"
    }
   },
   "outputs": [],
   "source": [
    "import numpy as np\n",
    "import pandas as pd\n",
    "import matplotlib.pyplot as plt\n",
    "import seaborn as sns\n",
    "%matplotlib inline\n",
    "import datetime\n",
    "from sklearn.model_selection import train_test_split\n",
    "from feature_engineering import feature_engineering\n",
    "# from category_encoders import TargetEncoder"
   ]
  },
  {
   "cell_type": "code",
   "execution_count": 2,
   "metadata": {
    "pycharm": {
     "name": "#%%\n"
    }
   },
   "outputs": [],
   "source": [
    "df = pd.read_csv('../data/data2.csv')"
   ]
  },
  {
   "cell_type": "code",
   "execution_count": 3,
   "metadata": {
    "pycharm": {
     "name": "#%%\n"
    }
   },
   "outputs": [
    {
     "data": {
      "text/html": [
       "<div>\n",
       "<style scoped>\n",
       "    .dataframe tbody tr th:only-of-type {\n",
       "        vertical-align: middle;\n",
       "    }\n",
       "\n",
       "    .dataframe tbody tr th {\n",
       "        vertical-align: top;\n",
       "    }\n",
       "\n",
       "    .dataframe thead th {\n",
       "        text-align: right;\n",
       "    }\n",
       "</style>\n",
       "<table border=\"1\" class=\"dataframe\">\n",
       "  <thead>\n",
       "    <tr style=\"text-align: right;\">\n",
       "      <th></th>\n",
       "      <th>action_type</th>\n",
       "      <th>combined_shot_type</th>\n",
       "      <th>game_event_id</th>\n",
       "      <th>game_id</th>\n",
       "      <th>lat</th>\n",
       "      <th>loc_x</th>\n",
       "      <th>loc_y</th>\n",
       "      <th>lon</th>\n",
       "      <th>period</th>\n",
       "      <th>playoffs</th>\n",
       "      <th>...</th>\n",
       "      <th>game_date</th>\n",
       "      <th>matchup</th>\n",
       "      <th>opponent</th>\n",
       "      <th>shot_id</th>\n",
       "      <th>time_remaining</th>\n",
       "      <th>last_5_games_avg</th>\n",
       "      <th>streak_before_shot</th>\n",
       "      <th>points_before_shot</th>\n",
       "      <th>fgp_before_shot</th>\n",
       "      <th>month</th>\n",
       "    </tr>\n",
       "  </thead>\n",
       "  <tbody>\n",
       "    <tr>\n",
       "      <th>0</th>\n",
       "      <td>Jump Shot</td>\n",
       "      <td>Jump Shot</td>\n",
       "      <td>102</td>\n",
       "      <td>29600027</td>\n",
       "      <td>33.9283</td>\n",
       "      <td>-140</td>\n",
       "      <td>116</td>\n",
       "      <td>-118.4098</td>\n",
       "      <td>1</td>\n",
       "      <td>0</td>\n",
       "      <td>...</td>\n",
       "      <td>1996-11-03</td>\n",
       "      <td>home</td>\n",
       "      <td>MIN</td>\n",
       "      <td>22902</td>\n",
       "      <td>42</td>\n",
       "      <td>0.0</td>\n",
       "      <td>0</td>\n",
       "      <td>0</td>\n",
       "      <td>0.0</td>\n",
       "      <td>11</td>\n",
       "    </tr>\n",
       "    <tr>\n",
       "      <th>1</th>\n",
       "      <td>Jump Shot</td>\n",
       "      <td>Jump Shot</td>\n",
       "      <td>127</td>\n",
       "      <td>29600031</td>\n",
       "      <td>33.9473</td>\n",
       "      <td>-131</td>\n",
       "      <td>97</td>\n",
       "      <td>-118.4008</td>\n",
       "      <td>2</td>\n",
       "      <td>0</td>\n",
       "      <td>...</td>\n",
       "      <td>1996-11-05</td>\n",
       "      <td>away</td>\n",
       "      <td>NYK</td>\n",
       "      <td>22903</td>\n",
       "      <td>608</td>\n",
       "      <td>0.0</td>\n",
       "      <td>0</td>\n",
       "      <td>0</td>\n",
       "      <td>0.0</td>\n",
       "      <td>11</td>\n",
       "    </tr>\n",
       "    <tr>\n",
       "      <th>2</th>\n",
       "      <td>Jump Shot</td>\n",
       "      <td>Jump Shot</td>\n",
       "      <td>124</td>\n",
       "      <td>29600044</td>\n",
       "      <td>33.8633</td>\n",
       "      <td>-142</td>\n",
       "      <td>181</td>\n",
       "      <td>-118.4118</td>\n",
       "      <td>2</td>\n",
       "      <td>0</td>\n",
       "      <td>...</td>\n",
       "      <td>1996-11-06</td>\n",
       "      <td>away</td>\n",
       "      <td>CHA</td>\n",
       "      <td>22904</td>\n",
       "      <td>517</td>\n",
       "      <td>0.0</td>\n",
       "      <td>0</td>\n",
       "      <td>0</td>\n",
       "      <td>0.0</td>\n",
       "      <td>11</td>\n",
       "    </tr>\n",
       "    <tr>\n",
       "      <th>3</th>\n",
       "      <td>Jump Shot</td>\n",
       "      <td>Jump Shot</td>\n",
       "      <td>144</td>\n",
       "      <td>29600044</td>\n",
       "      <td>34.0443</td>\n",
       "      <td>0</td>\n",
       "      <td>0</td>\n",
       "      <td>-118.2698</td>\n",
       "      <td>2</td>\n",
       "      <td>0</td>\n",
       "      <td>...</td>\n",
       "      <td>1996-11-06</td>\n",
       "      <td>away</td>\n",
       "      <td>CHA</td>\n",
       "      <td>22905</td>\n",
       "      <td>394</td>\n",
       "      <td>0.0</td>\n",
       "      <td>1</td>\n",
       "      <td>3</td>\n",
       "      <td>1.0</td>\n",
       "      <td>11</td>\n",
       "    </tr>\n",
       "    <tr>\n",
       "      <th>4</th>\n",
       "      <td>Jump Shot</td>\n",
       "      <td>Jump Shot</td>\n",
       "      <td>151</td>\n",
       "      <td>29600044</td>\n",
       "      <td>33.9063</td>\n",
       "      <td>-10</td>\n",
       "      <td>138</td>\n",
       "      <td>-118.2798</td>\n",
       "      <td>2</td>\n",
       "      <td>0</td>\n",
       "      <td>...</td>\n",
       "      <td>1996-11-06</td>\n",
       "      <td>away</td>\n",
       "      <td>CHA</td>\n",
       "      <td>22906</td>\n",
       "      <td>327</td>\n",
       "      <td>0.0</td>\n",
       "      <td>0</td>\n",
       "      <td>3</td>\n",
       "      <td>0.5</td>\n",
       "      <td>11</td>\n",
       "    </tr>\n",
       "  </tbody>\n",
       "</table>\n",
       "<p>5 rows × 29 columns</p>\n",
       "</div>"
      ],
      "text/plain": [
       "  action_type combined_shot_type  game_event_id   game_id      lat  loc_x  \\\n",
       "0   Jump Shot          Jump Shot            102  29600027  33.9283   -140   \n",
       "1   Jump Shot          Jump Shot            127  29600031  33.9473   -131   \n",
       "2   Jump Shot          Jump Shot            124  29600044  33.8633   -142   \n",
       "3   Jump Shot          Jump Shot            144  29600044  34.0443      0   \n",
       "4   Jump Shot          Jump Shot            151  29600044  33.9063    -10   \n",
       "\n",
       "   loc_y       lon  period  playoffs  ...   game_date  matchup  opponent  \\\n",
       "0    116 -118.4098       1         0  ...  1996-11-03     home       MIN   \n",
       "1     97 -118.4008       2         0  ...  1996-11-05     away       NYK   \n",
       "2    181 -118.4118       2         0  ...  1996-11-06     away       CHA   \n",
       "3      0 -118.2698       2         0  ...  1996-11-06     away       CHA   \n",
       "4    138 -118.2798       2         0  ...  1996-11-06     away       CHA   \n",
       "\n",
       "  shot_id time_remaining last_5_games_avg streak_before_shot  \\\n",
       "0   22902             42              0.0                  0   \n",
       "1   22903            608              0.0                  0   \n",
       "2   22904            517              0.0                  0   \n",
       "3   22905            394              0.0                  1   \n",
       "4   22906            327              0.0                  0   \n",
       "\n",
       "   points_before_shot fgp_before_shot month  \n",
       "0                   0             0.0    11  \n",
       "1                   0             0.0    11  \n",
       "2                   0             0.0    11  \n",
       "3                   3             1.0    11  \n",
       "4                   3             0.5    11  \n",
       "\n",
       "[5 rows x 29 columns]"
      ]
     },
     "execution_count": 3,
     "metadata": {},
     "output_type": "execute_result"
    }
   ],
   "source": [
    "df.head()"
   ]
  },
  {
   "cell_type": "markdown",
   "metadata": {
    "pycharm": {
     "name": "#%% md\n"
    }
   },
   "source": [
    "***\n",
    "## Removing Redundant Columns\n",
    "There are some columns that have very high corelations with some other columns and some columns that\n",
    "\n",
    "Removing columns:\n",
    "- team_name, team_id - These have only a single value, so it doesn't add any value to the prediction\n",
    "- matchup - It has 1 to 1 corelation with the column \"opponent\""
   ]
  },
  {
   "cell_type": "code",
   "execution_count": 4,
   "metadata": {
    "pycharm": {
     "name": "#%%\n"
    }
   },
   "outputs": [],
   "source": [
    "def remove_columns(df):\n",
    "    columns_to_drop = ['game_event_id', 'lat', 'lon', 'team_name', 'team_id', 'game_id', 'shot_id', 'game_date',\n",
    "                       'season']\n",
    "    df = df.drop(labels=columns_to_drop, axis='columns')\n",
    "    print(f\"Total columns removed: {len(columns_to_drop)}\")\n",
    "    return df"
   ]
  },
  {
   "cell_type": "markdown",
   "metadata": {
    "pycharm": {
     "name": "#%% md\n"
    }
   },
   "source": [
    "# Preparing for modeling\n",
    "From the analyzed and preprocessed data, we continue the pre-processing in order to prepare it for the modeling phase"
   ]
  },
  {
   "cell_type": "code",
   "execution_count": 5,
   "metadata": {
    "pycharm": {
     "name": "#%%\n"
    }
   },
   "outputs": [],
   "source": [
    "def target_encoding(df, col_to_encode, target_col):\n",
    "    \"\"\"\n",
    "    Performs target-encoding on the specified column. That is to convert categorical column\n",
    "    to a numerical column. Drops the col_to_encode from the returned DataFrame.\n",
    "\n",
    "    Args:\n",
    "        df (DataFrame):\n",
    "        col_to_encode (str): Column to be converted to numerical one.\n",
    "        target_col (str): Target column of the data.\n",
    "\n",
    "    Returns:\n",
    "        DataFrame: DataFrame containing the new <col_to_encode>_te column.\n",
    "    \"\"\"\n",
    "\n",
    "    encoding = df.groupby(col_to_encode)[target_col].mean().reset_index()\n",
    "    encoding = encoding.rename(columns={target_col: f\"{col_to_encode}_te\"})\n",
    "    df = df.merge(right=encoding, how='left', on=col_to_encode)\n",
    "    df.drop(col_to_encode, axis=1, inplace=True)\n",
    "\n",
    "    return df"
   ]
  },
  {
   "cell_type": "code",
   "execution_count": 6,
   "metadata": {
    "pycharm": {
     "name": "#%%\n"
    }
   },
   "outputs": [],
   "source": [
    "def encode_and_bind(original_dataframe, feature_to_encode):\n",
    "    dummies = pd.get_dummies(original_dataframe[[feature_to_encode]])\n",
    "    res = pd.concat([original_dataframe, dummies], axis=1)\n",
    "    res = res.drop([feature_to_encode], axis=1)\n",
    "    return res\n",
    "\n",
    "def one_hot_encoding(df):\n",
    "#     df_new = df.copy(deep=True)\n",
    "#     features_to_encode = ['combined_shot_type', 'season', 'shot_type', 'shot_zone_area', 'shot_zone_basic', 'shot_zone_range', 'opponent', 'action_type', 'matchup']\n",
    "    features_to_encode = ['combined_shot_type', 'shot_type', 'shot_zone_area', 'matchup']\n",
    "    for feature in features_to_encode:\n",
    "        df = encode_and_bind(df, feature)\n",
    "\n",
    "    return df"
   ]
  },
  {
   "cell_type": "code",
   "execution_count": 7,
   "metadata": {},
   "outputs": [],
   "source": [
    "def ordinal_encoder(df: pd.DataFrame, col_to_encode, mapper: dict) -> pd.DataFrame:\n",
    "    \"\"\"\n",
    "    Performs ordinal encoding using the given mapper. It replaces the col_to_encode's values in\n",
    "    DataFrame.\n",
    "    Args:\n",
    "        df (DataFrame):\n",
    "        col_to_encode (str): column that needs to be encoded\n",
    "        mapper (dict): contains the mapping for the column in df. \n",
    "            e.g. \"col_val\" -> 1\n",
    "\n",
    "    Returns:\n",
    "        DataFrame: returns the DataFrame with mapped values in col: col_to_encode\n",
    "    \"\"\"\n",
    "    df[col_to_encode] = df[col_to_encode].apply(lambda x: mapper[x])\n",
    "    return df"
   ]
  },
  {
   "cell_type": "markdown",
   "metadata": {
    "pycharm": {
     "name": "#%% md\n"
    }
   },
   "source": [
    "#### Splitting features & label (target)"
   ]
  },
  {
   "cell_type": "code",
   "execution_count": 8,
   "metadata": {
    "pycharm": {
     "name": "#%%\n"
    }
   },
   "outputs": [],
   "source": [
    "def split_x_y(df, target):\n",
    "    y = df.loc[:, [target]]\n",
    "    x = df.drop([target], axis=1)\n",
    "    return x, y"
   ]
  },
  {
   "cell_type": "markdown",
   "metadata": {
    "pycharm": {
     "name": "#%% md\n"
    }
   },
   "source": [
    "## Random"
   ]
  },
  {
   "cell_type": "code",
   "execution_count": 9,
   "metadata": {
    "pycharm": {
     "name": "#%%\n"
    }
   },
   "outputs": [],
   "source": [
    "def split_random(df, train=None, test=None, validation=None):\n",
    "    # 80-20\n",
    "    train_data, rest_data = train_test_split(df, train_size=0.8, shuffle=False)\n",
    "    # test 10 val 10\n",
    "    validation_data, test_data = train_test_split(rest_data, test_size=0.5, shuffle=False)\n",
    "\n",
    "    print(f\"Size of training dataset {len(train_data)}\" )\n",
    "    print(f\"Size of validation dataset {len(validation_data)}\" )\n",
    "    print(f\"Size of test dataset {len(test_data)}\" )\n",
    "\n",
    "    # print(f\"Size of train vs test ratio {len(df_train) / (len(df_train) + len(df_test)) }\" )\n",
    "    return train_data, validation_data, test_data"
   ]
  },
  {
   "cell_type": "markdown",
   "metadata": {
    "pycharm": {
     "name": "#%% md\n"
    }
   },
   "source": [
    "## Regular (train), playoff (test)\n",
    "### Do we need train, test, validation here?"
   ]
  },
  {
   "cell_type": "code",
   "execution_count": 10,
   "metadata": {
    "pycharm": {
     "name": "#%%\n"
    }
   },
   "outputs": [],
   "source": [
    "def split_regular_playoff(df, season, train=None, test=None, validation=None, n_way_split=False):\n",
    "\n",
    "    # if(train + test + validation != 1):\n",
    "    #     print(\"Error dataset split\")\n",
    "    #     return None\n",
    "\n",
    "    df_validaiton = None\n",
    "\n",
    "    df_season = df[df['season'] == season]\n",
    "    isPlayoffs = df_season.playoffs == 1\n",
    "\n",
    "    df_train = df_season[~isPlayoffs]\n",
    "    df_test  = df_season[isPlayoffs]\n",
    "\n",
    "    print(f\"Size of training dataset {len(df_train)}\" )\n",
    "    print(f\"Size of test dataset {len(df_test)}\" )\n",
    "    print(f\"Size of train vs test ratio {len(df_train) / (len(df_train) + len(df_test)) }\" )\n",
    "\n",
    "    if (n_way_split == True):\n",
    "        train = split_x_y(df_train, 'shot_made_flag')\n",
    "        test = split_x_y(df_test, 'shot_made_flag')\n",
    "        return train[0], train[1], test[0], test[1]\n",
    "    else:\n",
    "        return df_train, df_test\n"
   ]
  },
  {
   "cell_type": "code",
   "execution_count": 11,
   "metadata": {
    "pycharm": {
     "name": "#%%\n"
    }
   },
   "outputs": [
    {
     "name": "stdout",
     "output_type": "stream",
     "text": [
      "Size of training dataset 1344\n",
      "Size of test dataset 428\n",
      "Size of train vs test ratio 0.7584650112866818\n"
     ]
    }
   ],
   "source": [
    "train, test = split_regular_playoff(df, '2009-10')"
   ]
  },
  {
   "cell_type": "code",
   "execution_count": 12,
   "metadata": {
    "pycharm": {
     "name": "#%%\n"
    }
   },
   "outputs": [
    {
     "name": "stdout",
     "output_type": "stream",
     "text": [
      "action_type: 36\n",
      "combined_shot_type: 6\n",
      "season: 1\n",
      "shot_type: 2\n",
      "shot_zone_area: 6\n",
      "shot_zone_basic: 7\n",
      "shot_zone_range: 5\n",
      "opponent: 29\n"
     ]
    }
   ],
   "source": [
    "for column in ['action_type', 'combined_shot_type', 'season', 'shot_type', 'shot_zone_area', 'shot_zone_basic', 'shot_zone_range', 'opponent']:\n",
    "    print(f\"{column}: {len(train[column].unique())}\")"
   ]
  },
  {
   "cell_type": "code",
   "execution_count": 13,
   "metadata": {
    "pycharm": {
     "name": "#%%\n"
    }
   },
   "outputs": [
    {
     "name": "stdout",
     "output_type": "stream",
     "text": [
      "Total columns removed: 9\n",
      "Total columns removed: 9\n"
     ]
    }
   ],
   "source": [
    "train = feature_engineering(train)\n",
    "train = remove_columns(train)\n",
    "# train.drop(['game_date'], axis=1, inplace=True)\n",
    "\n",
    "\n",
    "test = feature_engineering(test)\n",
    "test = remove_columns(test)\n",
    "# test.drop(['game_date'], axis=1, inplace=True)\n"
   ]
  },
  {
   "cell_type": "code",
   "execution_count": 14,
   "metadata": {
    "pycharm": {
     "name": "#%%\n"
    }
   },
   "outputs": [],
   "source": [
    "# drop game_date, season, playoffs\n",
    "# ordinal shot-zone-range, shot zone basic\n",
    "# one hot: shot_zone_area\n",
    "# opponent-t"
   ]
  },
  {
   "cell_type": "code",
   "execution_count": 15,
   "metadata": {},
   "outputs": [
    {
     "data": {
      "text/plain": [
       "Less Than 8 ft.    7857\n",
       "16-24 ft.          6907\n",
       "8-16 ft.           5580\n",
       "24+ ft.            5281\n",
       "Back Court Shot      72\n",
       "Name: shot_zone_range, dtype: int64"
      ]
     },
     "execution_count": 15,
     "metadata": {},
     "output_type": "execute_result"
    }
   ],
   "source": [
    "df.shot_zone_range.value_counts()"
   ]
  },
  {
   "cell_type": "code",
   "execution_count": 16,
   "metadata": {
    "pycharm": {
     "name": "#%%\n"
    }
   },
   "outputs": [
    {
     "data": {
      "text/html": [
       "<div>\n",
       "<style scoped>\n",
       "    .dataframe tbody tr th:only-of-type {\n",
       "        vertical-align: middle;\n",
       "    }\n",
       "\n",
       "    .dataframe tbody tr th {\n",
       "        vertical-align: top;\n",
       "    }\n",
       "\n",
       "    .dataframe thead th {\n",
       "        text-align: right;\n",
       "    }\n",
       "</style>\n",
       "<table border=\"1\" class=\"dataframe\">\n",
       "  <thead>\n",
       "    <tr style=\"text-align: right;\">\n",
       "      <th></th>\n",
       "      <th>action_type</th>\n",
       "      <th>combined_shot_type</th>\n",
       "      <th>loc_x</th>\n",
       "      <th>loc_y</th>\n",
       "      <th>period</th>\n",
       "      <th>playoffs</th>\n",
       "      <th>shot_distance</th>\n",
       "      <th>shot_made_flag</th>\n",
       "      <th>shot_type</th>\n",
       "      <th>shot_zone_area</th>\n",
       "      <th>...</th>\n",
       "      <th>shot_zone_range</th>\n",
       "      <th>matchup</th>\n",
       "      <th>opponent</th>\n",
       "      <th>time_remaining</th>\n",
       "      <th>last_5_games_avg</th>\n",
       "      <th>streak_before_shot</th>\n",
       "      <th>points_before_shot</th>\n",
       "      <th>fgp_before_shot</th>\n",
       "      <th>month</th>\n",
       "      <th>weekday</th>\n",
       "    </tr>\n",
       "  </thead>\n",
       "  <tbody>\n",
       "    <tr>\n",
       "      <th>18076</th>\n",
       "      <td>Driving Layup Shot</td>\n",
       "      <td>Layup</td>\n",
       "      <td>0</td>\n",
       "      <td>0</td>\n",
       "      <td>3</td>\n",
       "      <td>0</td>\n",
       "      <td>0</td>\n",
       "      <td>0.0</td>\n",
       "      <td>2PT Field Goal</td>\n",
       "      <td>Center(C)</td>\n",
       "      <td>...</td>\n",
       "      <td>Less Than 8 ft.</td>\n",
       "      <td>home</td>\n",
       "      <td>LAC</td>\n",
       "      <td>225</td>\n",
       "      <td>0</td>\n",
       "      <td>0</td>\n",
       "      <td>14</td>\n",
       "      <td>0.54</td>\n",
       "      <td>10</td>\n",
       "      <td>1</td>\n",
       "    </tr>\n",
       "    <tr>\n",
       "      <th>18095</th>\n",
       "      <td>Layup Shot</td>\n",
       "      <td>Layup</td>\n",
       "      <td>0</td>\n",
       "      <td>0</td>\n",
       "      <td>3</td>\n",
       "      <td>0</td>\n",
       "      <td>0</td>\n",
       "      <td>0.0</td>\n",
       "      <td>2PT Field Goal</td>\n",
       "      <td>Center(C)</td>\n",
       "      <td>...</td>\n",
       "      <td>Less Than 8 ft.</td>\n",
       "      <td>home</td>\n",
       "      <td>LAC</td>\n",
       "      <td>429</td>\n",
       "      <td>0</td>\n",
       "      <td>2</td>\n",
       "      <td>14</td>\n",
       "      <td>0.7</td>\n",
       "      <td>10</td>\n",
       "      <td>1</td>\n",
       "    </tr>\n",
       "    <tr>\n",
       "      <th>18094</th>\n",
       "      <td>Turnaround Fadeaway shot</td>\n",
       "      <td>Jump Shot</td>\n",
       "      <td>144</td>\n",
       "      <td>41</td>\n",
       "      <td>3</td>\n",
       "      <td>0</td>\n",
       "      <td>14</td>\n",
       "      <td>1.0</td>\n",
       "      <td>2PT Field Goal</td>\n",
       "      <td>Right Side(R)</td>\n",
       "      <td>...</td>\n",
       "      <td>8-16 ft.</td>\n",
       "      <td>home</td>\n",
       "      <td>LAC</td>\n",
       "      <td>159</td>\n",
       "      <td>0</td>\n",
       "      <td>0</td>\n",
       "      <td>14</td>\n",
       "      <td>0.5</td>\n",
       "      <td>10</td>\n",
       "      <td>1</td>\n",
       "    </tr>\n",
       "    <tr>\n",
       "      <th>18093</th>\n",
       "      <td>Jump Shot</td>\n",
       "      <td>Jump Shot</td>\n",
       "      <td>-161</td>\n",
       "      <td>132</td>\n",
       "      <td>3</td>\n",
       "      <td>0</td>\n",
       "      <td>20</td>\n",
       "      <td>0.0</td>\n",
       "      <td>2PT Field Goal</td>\n",
       "      <td>Left Side Center(LC)</td>\n",
       "      <td>...</td>\n",
       "      <td>16-24 ft.</td>\n",
       "      <td>home</td>\n",
       "      <td>LAC</td>\n",
       "      <td>49</td>\n",
       "      <td>0</td>\n",
       "      <td>1</td>\n",
       "      <td>16</td>\n",
       "      <td>0.53</td>\n",
       "      <td>10</td>\n",
       "      <td>1</td>\n",
       "    </tr>\n",
       "    <tr>\n",
       "      <th>18092</th>\n",
       "      <td>Jump Shot</td>\n",
       "      <td>Jump Shot</td>\n",
       "      <td>34</td>\n",
       "      <td>82</td>\n",
       "      <td>4</td>\n",
       "      <td>0</td>\n",
       "      <td>8</td>\n",
       "      <td>0.0</td>\n",
       "      <td>2PT Field Goal</td>\n",
       "      <td>Center(C)</td>\n",
       "      <td>...</td>\n",
       "      <td>8-16 ft.</td>\n",
       "      <td>home</td>\n",
       "      <td>LAC</td>\n",
       "      <td>596</td>\n",
       "      <td>0</td>\n",
       "      <td>0</td>\n",
       "      <td>16</td>\n",
       "      <td>0.5</td>\n",
       "      <td>10</td>\n",
       "      <td>1</td>\n",
       "    </tr>\n",
       "  </tbody>\n",
       "</table>\n",
       "<p>5 rows × 21 columns</p>\n",
       "</div>"
      ],
      "text/plain": [
       "                    action_type combined_shot_type  loc_x  loc_y  period  \\\n",
       "18076        Driving Layup Shot              Layup      0      0       3   \n",
       "18095                Layup Shot              Layup      0      0       3   \n",
       "18094  Turnaround Fadeaway shot          Jump Shot    144     41       3   \n",
       "18093                 Jump Shot          Jump Shot   -161    132       3   \n",
       "18092                 Jump Shot          Jump Shot     34     82       4   \n",
       "\n",
       "       playoffs  shot_distance  shot_made_flag       shot_type  \\\n",
       "18076         0              0             0.0  2PT Field Goal   \n",
       "18095         0              0             0.0  2PT Field Goal   \n",
       "18094         0             14             1.0  2PT Field Goal   \n",
       "18093         0             20             0.0  2PT Field Goal   \n",
       "18092         0              8             0.0  2PT Field Goal   \n",
       "\n",
       "             shot_zone_area  ...  shot_zone_range matchup opponent  \\\n",
       "18076             Center(C)  ...  Less Than 8 ft.    home      LAC   \n",
       "18095             Center(C)  ...  Less Than 8 ft.    home      LAC   \n",
       "18094         Right Side(R)  ...         8-16 ft.    home      LAC   \n",
       "18093  Left Side Center(LC)  ...        16-24 ft.    home      LAC   \n",
       "18092             Center(C)  ...         8-16 ft.    home      LAC   \n",
       "\n",
       "      time_remaining  last_5_games_avg streak_before_shot points_before_shot  \\\n",
       "18076            225                 0                  0                 14   \n",
       "18095            429                 0                  2                 14   \n",
       "18094            159                 0                  0                 14   \n",
       "18093             49                 0                  1                 16   \n",
       "18092            596                 0                  0                 16   \n",
       "\n",
       "      fgp_before_shot month  weekday  \n",
       "18076            0.54    10        1  \n",
       "18095             0.7    10        1  \n",
       "18094             0.5    10        1  \n",
       "18093            0.53    10        1  \n",
       "18092             0.5    10        1  \n",
       "\n",
       "[5 rows x 21 columns]"
      ]
     },
     "execution_count": 16,
     "metadata": {},
     "output_type": "execute_result"
    }
   ],
   "source": [
    "train.head()"
   ]
  },
  {
   "cell_type": "markdown",
   "metadata": {},
   "source": [
    "### Encoding"
   ]
  },
  {
   "cell_type": "code",
   "execution_count": 17,
   "metadata": {},
   "outputs": [],
   "source": [
    "shot_zone_basic_mapper = {    \n",
    "    \"Restricted Area\": 0,\n",
    "    \"In The Paint (Non-RA)\": 1,\n",
    "    \"Mid-Range\": 2,\n",
    "    \"Right Corner 3\": 3,\n",
    "    \"Above the Break 3\": 4,\n",
    "    \"Left Corner 3\": 5,\n",
    "    \"Backcourt\": 6\n",
    "}\n",
    "shot_zone_range_mapper = {\n",
    "    \"Less Than 8 ft.\": 0,\n",
    "    \"8-16 ft.\": 1,\n",
    "    \"16-24 ft.\": 2,\n",
    "    \"24+ ft.\": 3,\n",
    "    \"Back Court Shot\": 4\n",
    "}"
   ]
  },
  {
   "cell_type": "code",
   "execution_count": 18,
   "metadata": {
    "pycharm": {
     "name": "#%%\n"
    }
   },
   "outputs": [],
   "source": [
    "train = target_encoding(train, 'action_type', 'shot_made_flag')\n",
    "train = target_encoding(train, 'opponent', 'shot_made_flag')\n",
    "train = one_hot_encoding(train)\n",
    "train = ordinal_encoder(train, \"shot_zone_basic\", shot_zone_basic_mapper)\n",
    "train = ordinal_encoder(train, \"shot_zone_range\", shot_zone_range_mapper)\n",
    "\n",
    "test = target_encoding(test, 'action_type', 'shot_made_flag')\n",
    "test = target_encoding(test, 'opponent', 'shot_made_flag')\n",
    "test = one_hot_encoding(test)\n",
    "test = ordinal_encoder(test, \"shot_zone_basic\", shot_zone_basic_mapper)\n",
    "test = ordinal_encoder(test, \"shot_zone_range\", shot_zone_range_mapper)"
   ]
  },
  {
   "cell_type": "code",
   "execution_count": 26,
   "metadata": {
    "pycharm": {
     "name": "#%%\n"
    }
   },
   "outputs": [],
   "source": [
    "train.to_csv('../data/data3_train.csv', index=False)\n",
    "test.to_csv('../data/data3_test.csv', index=False)"
   ]
  },
  {
   "cell_type": "markdown",
   "metadata": {
    "pycharm": {
     "name": "#%% md\n"
    }
   },
   "source": [
    "## Pick one team, train seasons before, test seasons after\n",
    "### Should we train on multiple seasons?\n"
   ]
  },
  {
   "cell_type": "code",
   "execution_count": 69,
   "metadata": {
    "pycharm": {
     "name": "#%%\n"
    }
   },
   "outputs": [],
   "source": [
    "def split_team_season(df, opponent,  season_train, season_test, train=None, test=None, validation=None):\n",
    "\n",
    "    # if(train + test + validation != 1):\n",
    "    #     print(\"Error dataset split\")\n",
    "    #     return None\n",
    "\n",
    "    df_train = None\n",
    "    df_test = None\n",
    "    df_validaiton = None\n",
    "\n",
    "    if season_train == [] or season_test == []:\n",
    "        print(\"Empty seasons\")\n",
    "        return None\n",
    "\n",
    "    df_train = df[df['season'].isin(season_train)  & (df['opponent'] == opponent) ]\n",
    "    df_test = df[(df['season'].isin(season_test)) & (df['opponent'] == opponent) ]\n",
    "    print(f\"Testing vs {opponent}\\ntraining: {season_train}\\ntesting: {season_test}\" )\n",
    "    print(f\"Size of training dataset {len(df_train)}\" )\n",
    "    print(f\"Size of test dataset {len(df_test)}\" )\n",
    "    print(f\"Size of train vs test ratio {len(df_train) / (len(df_train) + len(df_test)) }\" )\n",
    "\n",
    "    train = split_x_y(df_train, 'shot_made_flag')\n",
    "    test = split_x_y(df_test, 'shot_made_flag')\n",
    "    return train[0], train[1], test[0], test[1]"
   ]
  },
  {
   "cell_type": "markdown",
   "metadata": {
    "pycharm": {
     "name": "#%% md\n"
    }
   },
   "source": [
    "## Pipeline for data modeling"
   ]
  },
  {
   "cell_type": "code",
   "execution_count": 70,
   "metadata": {
    "pycharm": {
     "name": "#%%\n"
    }
   },
   "outputs": [],
   "source": [
    "# df = feature_engineering(df)"
   ]
  },
  {
   "cell_type": "code",
   "execution_count": 72,
   "metadata": {
    "pycharm": {
     "name": "#%%\n"
    }
   },
   "outputs": [
    {
     "data": {
      "text/html": [
       "<div>\n",
       "<style scoped>\n",
       "    .dataframe tbody tr th:only-of-type {\n",
       "        vertical-align: middle;\n",
       "    }\n",
       "\n",
       "    .dataframe tbody tr th {\n",
       "        vertical-align: top;\n",
       "    }\n",
       "\n",
       "    .dataframe thead th {\n",
       "        text-align: right;\n",
       "    }\n",
       "</style>\n",
       "<table border=\"1\" class=\"dataframe\">\n",
       "  <thead>\n",
       "    <tr style=\"text-align: right;\">\n",
       "      <th></th>\n",
       "      <th>action_type</th>\n",
       "      <th>combined_shot_type</th>\n",
       "      <th>game_event_id</th>\n",
       "      <th>game_id</th>\n",
       "      <th>lat</th>\n",
       "      <th>loc_x</th>\n",
       "      <th>loc_y</th>\n",
       "      <th>lon</th>\n",
       "      <th>period</th>\n",
       "      <th>playoffs</th>\n",
       "      <th>...</th>\n",
       "      <th>game_date</th>\n",
       "      <th>matchup</th>\n",
       "      <th>opponent</th>\n",
       "      <th>shot_id</th>\n",
       "      <th>time_remaining</th>\n",
       "      <th>last_5_games_avg</th>\n",
       "      <th>streak_before_shot</th>\n",
       "      <th>points_before_shot</th>\n",
       "      <th>fgp_before_shot</th>\n",
       "      <th>month</th>\n",
       "    </tr>\n",
       "  </thead>\n",
       "  <tbody>\n",
       "    <tr>\n",
       "      <th>0</th>\n",
       "      <td>Jump Shot</td>\n",
       "      <td>Jump Shot</td>\n",
       "      <td>102</td>\n",
       "      <td>29600027</td>\n",
       "      <td>33.9283</td>\n",
       "      <td>-140</td>\n",
       "      <td>116</td>\n",
       "      <td>-118.4098</td>\n",
       "      <td>1</td>\n",
       "      <td>0</td>\n",
       "      <td>...</td>\n",
       "      <td>1996-11-03</td>\n",
       "      <td>home</td>\n",
       "      <td>MIN</td>\n",
       "      <td>22902</td>\n",
       "      <td>42</td>\n",
       "      <td>0</td>\n",
       "      <td>0</td>\n",
       "      <td>0</td>\n",
       "      <td>0.0</td>\n",
       "      <td>11</td>\n",
       "    </tr>\n",
       "    <tr>\n",
       "      <th>1</th>\n",
       "      <td>Jump Shot</td>\n",
       "      <td>Jump Shot</td>\n",
       "      <td>127</td>\n",
       "      <td>29600031</td>\n",
       "      <td>33.9473</td>\n",
       "      <td>-131</td>\n",
       "      <td>97</td>\n",
       "      <td>-118.4008</td>\n",
       "      <td>2</td>\n",
       "      <td>0</td>\n",
       "      <td>...</td>\n",
       "      <td>1996-11-05</td>\n",
       "      <td>away</td>\n",
       "      <td>NYK</td>\n",
       "      <td>22903</td>\n",
       "      <td>608</td>\n",
       "      <td>0.0</td>\n",
       "      <td>0</td>\n",
       "      <td>0</td>\n",
       "      <td>0.0</td>\n",
       "      <td>11</td>\n",
       "    </tr>\n",
       "    <tr>\n",
       "      <th>2</th>\n",
       "      <td>Jump Shot</td>\n",
       "      <td>Jump Shot</td>\n",
       "      <td>124</td>\n",
       "      <td>29600044</td>\n",
       "      <td>33.8633</td>\n",
       "      <td>-142</td>\n",
       "      <td>181</td>\n",
       "      <td>-118.4118</td>\n",
       "      <td>2</td>\n",
       "      <td>0</td>\n",
       "      <td>...</td>\n",
       "      <td>1996-11-06</td>\n",
       "      <td>away</td>\n",
       "      <td>CHA</td>\n",
       "      <td>22904</td>\n",
       "      <td>517</td>\n",
       "      <td>0.0</td>\n",
       "      <td>0</td>\n",
       "      <td>0</td>\n",
       "      <td>0.0</td>\n",
       "      <td>11</td>\n",
       "    </tr>\n",
       "    <tr>\n",
       "      <th>3</th>\n",
       "      <td>Jump Shot</td>\n",
       "      <td>Jump Shot</td>\n",
       "      <td>144</td>\n",
       "      <td>29600044</td>\n",
       "      <td>34.0443</td>\n",
       "      <td>0</td>\n",
       "      <td>0</td>\n",
       "      <td>-118.2698</td>\n",
       "      <td>2</td>\n",
       "      <td>0</td>\n",
       "      <td>...</td>\n",
       "      <td>1996-11-06</td>\n",
       "      <td>away</td>\n",
       "      <td>CHA</td>\n",
       "      <td>22905</td>\n",
       "      <td>394</td>\n",
       "      <td>0.0</td>\n",
       "      <td>1</td>\n",
       "      <td>3</td>\n",
       "      <td>1.0</td>\n",
       "      <td>11</td>\n",
       "    </tr>\n",
       "    <tr>\n",
       "      <th>4</th>\n",
       "      <td>Jump Shot</td>\n",
       "      <td>Jump Shot</td>\n",
       "      <td>151</td>\n",
       "      <td>29600044</td>\n",
       "      <td>33.9063</td>\n",
       "      <td>-10</td>\n",
       "      <td>138</td>\n",
       "      <td>-118.2798</td>\n",
       "      <td>2</td>\n",
       "      <td>0</td>\n",
       "      <td>...</td>\n",
       "      <td>1996-11-06</td>\n",
       "      <td>away</td>\n",
       "      <td>CHA</td>\n",
       "      <td>22906</td>\n",
       "      <td>327</td>\n",
       "      <td>0.0</td>\n",
       "      <td>0</td>\n",
       "      <td>3</td>\n",
       "      <td>0.5</td>\n",
       "      <td>11</td>\n",
       "    </tr>\n",
       "  </tbody>\n",
       "</table>\n",
       "<p>5 rows × 29 columns</p>\n",
       "</div>"
      ],
      "text/plain": [
       "  action_type combined_shot_type  game_event_id   game_id      lat  loc_x  \\\n",
       "0   Jump Shot          Jump Shot            102  29600027  33.9283   -140   \n",
       "1   Jump Shot          Jump Shot            127  29600031  33.9473   -131   \n",
       "2   Jump Shot          Jump Shot            124  29600044  33.8633   -142   \n",
       "3   Jump Shot          Jump Shot            144  29600044  34.0443      0   \n",
       "4   Jump Shot          Jump Shot            151  29600044  33.9063    -10   \n",
       "\n",
       "   loc_y       lon  period  playoffs  ...   game_date  matchup  opponent  \\\n",
       "0    116 -118.4098       1         0  ...  1996-11-03     home       MIN   \n",
       "1     97 -118.4008       2         0  ...  1996-11-05     away       NYK   \n",
       "2    181 -118.4118       2         0  ...  1996-11-06     away       CHA   \n",
       "3      0 -118.2698       2         0  ...  1996-11-06     away       CHA   \n",
       "4    138 -118.2798       2         0  ...  1996-11-06     away       CHA   \n",
       "\n",
       "  shot_id time_remaining last_5_games_avg streak_before_shot  \\\n",
       "0   22902             42                0                  0   \n",
       "1   22903            608              0.0                  0   \n",
       "2   22904            517              0.0                  0   \n",
       "3   22905            394              0.0                  1   \n",
       "4   22906            327              0.0                  0   \n",
       "\n",
       "   points_before_shot fgp_before_shot month  \n",
       "0                   0             0.0    11  \n",
       "1                   0             0.0    11  \n",
       "2                   0             0.0    11  \n",
       "3                   3             1.0    11  \n",
       "4                   3             0.5    11  \n",
       "\n",
       "[5 rows x 29 columns]"
      ]
     },
     "execution_count": 72,
     "metadata": {},
     "output_type": "execute_result"
    }
   ],
   "source": [
    "df.head()"
   ]
  },
  {
   "cell_type": "code",
   "execution_count": null,
   "metadata": {
    "pycharm": {
     "name": "#%%\n"
    }
   },
   "outputs": [],
   "source": []
  },
  {
   "cell_type": "code",
   "execution_count": null,
   "metadata": {
    "pycharm": {
     "name": "#%%\n"
    }
   },
   "outputs": [],
   "source": []
  }
 ],
 "metadata": {
  "kernelspec": {
   "display_name": "Python 3 (ipykernel)",
   "language": "python",
   "name": "python3"
  },
  "language_info": {
   "codemirror_mode": {
    "name": "ipython",
    "version": 3
   },
   "file_extension": ".py",
   "mimetype": "text/x-python",
   "name": "python",
   "nbconvert_exporter": "python",
   "pygments_lexer": "ipython3",
   "version": "3.9.7"
  }
 },
 "nbformat": 4,
 "nbformat_minor": 1
}

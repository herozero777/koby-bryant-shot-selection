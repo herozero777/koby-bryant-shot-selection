{
 "cells": [
  {
   "cell_type": "code",
   "execution_count": 1,
   "metadata": {
    "pycharm": {
     "name": "#%%\n"
    }
   },
   "outputs": [],
   "source": [
    "import numpy as np\n",
    "import pandas as pd\n",
    "import matplotlib.pyplot as plt\n",
    "import seaborn as sns\n",
    "%matplotlib inline\n",
    "import datetime\n",
    "from sklearn.model_selection import train_test_split\n",
    "from feature_engineering import feature_engineering\n",
    "# from category_encoders import TargetEncoder"
   ]
  },
  {
   "cell_type": "code",
   "execution_count": 2,
   "metadata": {
    "pycharm": {
     "name": "#%%\n"
    }
   },
   "outputs": [],
   "source": [
    "df = pd.read_csv('../data/data2.csv')\n",
    "\n",
    "SEASON = '2009-10'\n",
    "\n",
    "TRAIN_TEAM_SEASONS = ['2000-01', '2001-02', '2002-03']\n",
    "TEST_TEAM_SEASONS = ['2003-04']\n",
    "TEAM = 'PHX'"
   ]
  },
  {
   "cell_type": "code",
   "execution_count": 3,
   "metadata": {
    "pycharm": {
     "name": "#%%\n"
    }
   },
   "outputs": [
    {
     "data": {
      "text/html": [
       "<div>\n",
       "<style scoped>\n",
       "    .dataframe tbody tr th:only-of-type {\n",
       "        vertical-align: middle;\n",
       "    }\n",
       "\n",
       "    .dataframe tbody tr th {\n",
       "        vertical-align: top;\n",
       "    }\n",
       "\n",
       "    .dataframe thead th {\n",
       "        text-align: right;\n",
       "    }\n",
       "</style>\n",
       "<table border=\"1\" class=\"dataframe\">\n",
       "  <thead>\n",
       "    <tr style=\"text-align: right;\">\n",
       "      <th></th>\n",
       "      <th>action_type</th>\n",
       "      <th>combined_shot_type</th>\n",
       "      <th>game_event_id</th>\n",
       "      <th>game_id</th>\n",
       "      <th>lat</th>\n",
       "      <th>loc_x</th>\n",
       "      <th>loc_y</th>\n",
       "      <th>lon</th>\n",
       "      <th>period</th>\n",
       "      <th>playoffs</th>\n",
       "      <th>...</th>\n",
       "      <th>game_date</th>\n",
       "      <th>matchup</th>\n",
       "      <th>opponent</th>\n",
       "      <th>shot_id</th>\n",
       "      <th>time_remaining</th>\n",
       "      <th>last_5_games_avg</th>\n",
       "      <th>streak_before_shot</th>\n",
       "      <th>points_before_shot</th>\n",
       "      <th>fgp_before_shot</th>\n",
       "      <th>month</th>\n",
       "    </tr>\n",
       "  </thead>\n",
       "  <tbody>\n",
       "    <tr>\n",
       "      <th>0</th>\n",
       "      <td>Jump Shot</td>\n",
       "      <td>Jump Shot</td>\n",
       "      <td>102</td>\n",
       "      <td>29600027</td>\n",
       "      <td>33.9283</td>\n",
       "      <td>-140</td>\n",
       "      <td>116</td>\n",
       "      <td>-118.4098</td>\n",
       "      <td>1</td>\n",
       "      <td>0</td>\n",
       "      <td>...</td>\n",
       "      <td>1996-11-03</td>\n",
       "      <td>home</td>\n",
       "      <td>MIN</td>\n",
       "      <td>22902</td>\n",
       "      <td>42</td>\n",
       "      <td>0.0</td>\n",
       "      <td>0</td>\n",
       "      <td>0</td>\n",
       "      <td>0.0</td>\n",
       "      <td>11</td>\n",
       "    </tr>\n",
       "    <tr>\n",
       "      <th>1</th>\n",
       "      <td>Jump Shot</td>\n",
       "      <td>Jump Shot</td>\n",
       "      <td>127</td>\n",
       "      <td>29600031</td>\n",
       "      <td>33.9473</td>\n",
       "      <td>-131</td>\n",
       "      <td>97</td>\n",
       "      <td>-118.4008</td>\n",
       "      <td>2</td>\n",
       "      <td>0</td>\n",
       "      <td>...</td>\n",
       "      <td>1996-11-05</td>\n",
       "      <td>away</td>\n",
       "      <td>NYK</td>\n",
       "      <td>22903</td>\n",
       "      <td>608</td>\n",
       "      <td>0.0</td>\n",
       "      <td>0</td>\n",
       "      <td>0</td>\n",
       "      <td>0.0</td>\n",
       "      <td>11</td>\n",
       "    </tr>\n",
       "    <tr>\n",
       "      <th>2</th>\n",
       "      <td>Jump Shot</td>\n",
       "      <td>Jump Shot</td>\n",
       "      <td>124</td>\n",
       "      <td>29600044</td>\n",
       "      <td>33.8633</td>\n",
       "      <td>-142</td>\n",
       "      <td>181</td>\n",
       "      <td>-118.4118</td>\n",
       "      <td>2</td>\n",
       "      <td>0</td>\n",
       "      <td>...</td>\n",
       "      <td>1996-11-06</td>\n",
       "      <td>away</td>\n",
       "      <td>CHA</td>\n",
       "      <td>22904</td>\n",
       "      <td>517</td>\n",
       "      <td>0.0</td>\n",
       "      <td>0</td>\n",
       "      <td>0</td>\n",
       "      <td>0.0</td>\n",
       "      <td>11</td>\n",
       "    </tr>\n",
       "    <tr>\n",
       "      <th>3</th>\n",
       "      <td>Jump Shot</td>\n",
       "      <td>Jump Shot</td>\n",
       "      <td>144</td>\n",
       "      <td>29600044</td>\n",
       "      <td>34.0443</td>\n",
       "      <td>0</td>\n",
       "      <td>0</td>\n",
       "      <td>-118.2698</td>\n",
       "      <td>2</td>\n",
       "      <td>0</td>\n",
       "      <td>...</td>\n",
       "      <td>1996-11-06</td>\n",
       "      <td>away</td>\n",
       "      <td>CHA</td>\n",
       "      <td>22905</td>\n",
       "      <td>394</td>\n",
       "      <td>0.0</td>\n",
       "      <td>1</td>\n",
       "      <td>3</td>\n",
       "      <td>1.0</td>\n",
       "      <td>11</td>\n",
       "    </tr>\n",
       "    <tr>\n",
       "      <th>4</th>\n",
       "      <td>Jump Shot</td>\n",
       "      <td>Jump Shot</td>\n",
       "      <td>151</td>\n",
       "      <td>29600044</td>\n",
       "      <td>33.9063</td>\n",
       "      <td>-10</td>\n",
       "      <td>138</td>\n",
       "      <td>-118.2798</td>\n",
       "      <td>2</td>\n",
       "      <td>0</td>\n",
       "      <td>...</td>\n",
       "      <td>1996-11-06</td>\n",
       "      <td>away</td>\n",
       "      <td>CHA</td>\n",
       "      <td>22906</td>\n",
       "      <td>327</td>\n",
       "      <td>0.0</td>\n",
       "      <td>0</td>\n",
       "      <td>3</td>\n",
       "      <td>0.5</td>\n",
       "      <td>11</td>\n",
       "    </tr>\n",
       "  </tbody>\n",
       "</table>\n",
       "<p>5 rows × 29 columns</p>\n",
       "</div>"
      ],
      "text/plain": [
       "  action_type combined_shot_type  game_event_id   game_id      lat  loc_x  \\\n",
       "0   Jump Shot          Jump Shot            102  29600027  33.9283   -140   \n",
       "1   Jump Shot          Jump Shot            127  29600031  33.9473   -131   \n",
       "2   Jump Shot          Jump Shot            124  29600044  33.8633   -142   \n",
       "3   Jump Shot          Jump Shot            144  29600044  34.0443      0   \n",
       "4   Jump Shot          Jump Shot            151  29600044  33.9063    -10   \n",
       "\n",
       "   loc_y       lon  period  playoffs  ...   game_date  matchup  opponent  \\\n",
       "0    116 -118.4098       1         0  ...  1996-11-03     home       MIN   \n",
       "1     97 -118.4008       2         0  ...  1996-11-05     away       NYK   \n",
       "2    181 -118.4118       2         0  ...  1996-11-06     away       CHA   \n",
       "3      0 -118.2698       2         0  ...  1996-11-06     away       CHA   \n",
       "4    138 -118.2798       2         0  ...  1996-11-06     away       CHA   \n",
       "\n",
       "  shot_id time_remaining last_5_games_avg streak_before_shot  \\\n",
       "0   22902             42              0.0                  0   \n",
       "1   22903            608              0.0                  0   \n",
       "2   22904            517              0.0                  0   \n",
       "3   22905            394              0.0                  1   \n",
       "4   22906            327              0.0                  0   \n",
       "\n",
       "   points_before_shot fgp_before_shot month  \n",
       "0                   0             0.0    11  \n",
       "1                   0             0.0    11  \n",
       "2                   0             0.0    11  \n",
       "3                   3             1.0    11  \n",
       "4                   3             0.5    11  \n",
       "\n",
       "[5 rows x 29 columns]"
      ]
     },
     "execution_count": 3,
     "metadata": {},
     "output_type": "execute_result"
    }
   ],
   "source": [
    "df.head()"
   ]
  },
  {
   "cell_type": "markdown",
   "metadata": {
    "pycharm": {
     "name": "#%% md\n"
    }
   },
   "source": [
    "***\n",
    "## Removing Redundant Columns\n",
    "There are some columns that have very high corelations with some other columns and some columns that\n",
    "\n",
    "Removing columns:\n",
    "- team_name, team_id - These have only a single value, so it doesn't add any value to the prediction\n",
    "- matchup - It has 1 to 1 corelation with the column \"opponent\""
   ]
  },
  {
   "cell_type": "code",
   "execution_count": 4,
   "metadata": {
    "pycharm": {
     "name": "#%%\n"
    }
   },
   "outputs": [],
   "source": [
    "def remove_columns(df, remove_season=False):\n",
    "    columns_to_drop = ['game_event_id', 'lat', 'lon', 'team_name', 'team_id', 'game_id', 'shot_id', 'game_date',\n",
    "                       'season', 'loc_x', 'loc_y']\n",
    "    df = df.drop(labels=columns_to_drop, axis='columns')\n",
    "    if(type == True):\n",
    "        train.drop(['month', 'playoffs'], axis=1, inplace=True)\n",
    "    print(f\"Total columns removed: {len(columns_to_drop)}\")\n",
    "    return df"
   ]
  },
  {
   "cell_type": "markdown",
   "metadata": {},
   "source": [
    "#### Helper function"
   ]
  },
  {
   "cell_type": "code",
   "execution_count": 5,
   "metadata": {},
   "outputs": [],
   "source": [
    "def remove_na_rows(df: pd.DataFrame):\n",
    "    \"\"\"\n",
    "    :param pd.DataFrame df:\n",
    "    :return pd.DataFrame\n",
    "    \"\"\"\n",
    "    num_rows_before = len(df)\n",
    "    print(f'Number of rows: {num_rows_before}')\n",
    "    df = df.dropna()\n",
    "    num_rows_after = len(df)\n",
    "    print(f'Number of rows after dropping missing values: {num_rows_after}')\n",
    "    removed_rows = num_rows_before - num_rows_after\n",
    "    print(f'Percentage of data removed: {100 * (removed_rows / num_rows_before)} %')\n",
    "    return df"
   ]
  },
  {
   "cell_type": "markdown",
   "metadata": {
    "pycharm": {
     "name": "#%% md\n"
    }
   },
   "source": [
    "# Preparing for modeling\n",
    "From the analyzed and preprocessed data, we continue the pre-processing in order to prepare it for the modeling phase"
   ]
  },
  {
   "cell_type": "code",
   "execution_count": 6,
   "metadata": {
    "pycharm": {
     "name": "#%%\n"
    }
   },
   "outputs": [],
   "source": [
    "def target_encoding(df, col_to_encode, target_col, is_trainset=True, encoder=None):\n",
    "    \"\"\"\n",
    "    For trainset:\n",
    "        Performs target-encoding on the specified column. That is to convert categorical column\n",
    "        to a numerical column. Drops the col_to_encode from the returned DataFrame.\n",
    "    For test-set:\n",
    "        Performs target-encoding on the specified column using the encoding given from the trainset.\n",
    "        Drops the col_to_encode from the returned DataFrame.\n",
    "\n",
    "    Args:\n",
    "        df (DataFrame):\n",
    "        col_to_encode (str): Column to be converted to numerical one.\n",
    "        target_col (str): Target column of the data.\n",
    "        is_trainset (bool): Tells if the df is training-set or testing-set\n",
    "        encoding (dict): encoder that tells how to map the categorical values.\n",
    "\n",
    "    Returns: (pd.DataFrame, dict)\n",
    "        DataFrame: DataFrame containing the new <col_to_encode>_te column.\n",
    "        dict: is the encoder.\n",
    "    \"\"\"\n",
    "    if is_trainset:\n",
    "        encoder = df.groupby(col_to_encode)[target_col].mean().reset_index()\n",
    "        encoder = encoder.rename(columns={target_col: f\"{col_to_encode}_te\"})\n",
    "        df = df.merge(right=encoder, how='left', on=col_to_encode)\n",
    "        df.drop(col_to_encode, axis=1, inplace=True)\n",
    "        \n",
    "    elif is_trainset == False:\n",
    "        assert encoder is not None\n",
    "        \n",
    "        df = df.merge(right=encoder, how='left', on=col_to_encode)\n",
    "        df.drop(col_to_encode, axis=1, inplace=True)\n",
    "        \n",
    "    return df, encoder"
   ]
  },
  {
   "cell_type": "code",
   "execution_count": 7,
   "metadata": {
    "pycharm": {
     "name": "#%%\n"
    }
   },
   "outputs": [],
   "source": [
    "def encode_and_bind(original_dataframe, feature_to_encode):\n",
    "    dummies = pd.get_dummies(original_dataframe[[feature_to_encode]])\n",
    "    res = pd.concat([original_dataframe, dummies], axis=1)\n",
    "    res = res.drop([feature_to_encode], axis=1)\n",
    "    return res\n",
    "\n",
    "def one_hot_encoding(df):\n",
    "#     df_new = df.copy(deep=True)\n",
    "#     features_to_encode = ['combined_shot_type', 'season', 'shot_type', 'shot_zone_area', 'shot_zone_basic', 'shot_zone_range', 'opponent', 'action_type', 'matchup']\n",
    "    features_to_encode = ['combined_shot_type', 'shot_type', 'shot_zone_area', 'matchup']\n",
    "    for feature in features_to_encode:\n",
    "        df = encode_and_bind(df, feature)\n",
    "\n",
    "    return df"
   ]
  },
  {
   "cell_type": "code",
   "execution_count": 8,
   "metadata": {
    "pycharm": {
     "name": "#%%\n"
    }
   },
   "outputs": [],
   "source": [
    "def ordinal_encoder(df: pd.DataFrame, col_to_encode, mapper: dict) -> pd.DataFrame:\n",
    "    \"\"\"\n",
    "    Performs ordinal encoding using the given mapper. It replaces the col_to_encode's values in\n",
    "    DataFrame.\n",
    "    Args:\n",
    "        df (DataFrame):\n",
    "        col_to_encode (str): column that needs to be encoded\n",
    "        mapper (dict): contains the mapping for the column in df. \n",
    "            e.g. \"col_val\" -> 1\n",
    "\n",
    "    Returns:\n",
    "        DataFrame: returns the DataFrame with mapped values in col: col_to_encode\n",
    "    \"\"\"\n",
    "    df[col_to_encode] = df[col_to_encode].apply(lambda x: mapper[x])\n",
    "    return df"
   ]
  },
  {
   "cell_type": "markdown",
   "metadata": {
    "pycharm": {
     "name": "#%% md\n"
    }
   },
   "source": [
    "### Encoding"
   ]
  },
  {
   "cell_type": "code",
   "execution_count": 9,
   "metadata": {
    "pycharm": {
     "name": "#%%\n"
    }
   },
   "outputs": [],
   "source": [
    "shot_zone_basic_mapper = {    \n",
    "    \"Restricted Area\": 0,\n",
    "    \"In The Paint (Non-RA)\": 1,\n",
    "    \"Mid-Range\": 2,\n",
    "    \"Right Corner 3\": 3,\n",
    "    \"Above the Break 3\": 4,\n",
    "    \"Left Corner 3\": 5,\n",
    "    \"Backcourt\": 6\n",
    "}\n",
    "shot_zone_range_mapper = {\n",
    "    \"Less Than 8 ft.\": 0,\n",
    "    \"8-16 ft.\": 1,\n",
    "    \"16-24 ft.\": 2,\n",
    "    \"24+ ft.\": 3,\n",
    "    \"Back Court Shot\": 4\n",
    "}"
   ]
  },
  {
   "cell_type": "markdown",
   "metadata": {
    "pycharm": {
     "name": "#%% md\n"
    }
   },
   "source": [
    "#### Splitting features & label (target)"
   ]
  },
  {
   "cell_type": "code",
   "execution_count": 10,
   "metadata": {
    "pycharm": {
     "name": "#%%\n"
    }
   },
   "outputs": [],
   "source": [
    "def split_x_y(df, target):\n",
    "    y = df.loc[:, [target]]\n",
    "    x = df.drop([target], axis=1)\n",
    "    return x, y"
   ]
  },
  {
   "cell_type": "markdown",
   "metadata": {
    "pycharm": {
     "name": "#%% md\n"
    }
   },
   "source": [
    "# Regular (train), playoff (test)"
   ]
  },
  {
   "cell_type": "code",
   "execution_count": 84,
   "metadata": {
    "pycharm": {
     "name": "#%%\n"
    }
   },
   "outputs": [],
   "source": [
    "def split_regular_playoff(df, season, train=None, test=None, validation=None, n_way_split=False):\n",
    "\n",
    "    # if(train + test + validation != 1):\n",
    "    #     print(\"Error dataset split\")\n",
    "    #     return None\n",
    "\n",
    "    df_validaiton = None\n",
    "\n",
    "    df_season = df[df['season'] == season]\n",
    "    isPlayoffs = df_season.playoffs == 1\n",
    "\n",
    "    df_train = df_season[~isPlayoffs]\n",
    "    df_test  = df_season[isPlayoffs]\n",
    "\n",
    "    print(f\"Size of training dataset {len(df_train)}\" )\n",
    "    print(f\"Size of test dataset {len(df_test)}\" )\n",
    "    print(f\"Size of train vs test ratio {len(df_train) / (len(df_train) + len(df_test)) }\" )\n",
    "\n",
    "    if (n_way_split == True):\n",
    "        train = split_x_y(df_train, 'shot_made_flag')\n",
    "        test = split_x_y(df_test, 'shot_made_flag')\n",
    "        return train[0], train[1], test[0], test[1]\n",
    "    else:\n",
    "        return df_train, df_test"
   ]
  },
  {
   "cell_type": "code",
   "execution_count": 85,
   "metadata": {
    "pycharm": {
     "name": "#%%\n"
    }
   },
   "outputs": [
    {
     "name": "stdout",
     "output_type": "stream",
     "text": [
      "Size of training dataset 1344\n",
      "Size of test dataset 428\n",
      "Size of train vs test ratio 0.7584650112866818\n"
     ]
    }
   ],
   "source": [
    "train, test = split_regular_playoff(df, SEASON)"
   ]
  },
  {
   "cell_type": "code",
   "execution_count": 86,
   "metadata": {
    "pycharm": {
     "name": "#%%\n"
    }
   },
   "outputs": [
    {
     "name": "stdout",
     "output_type": "stream",
     "text": [
      "Total columns removed: 11\n"
     ]
    }
   ],
   "source": [
    "train = feature_engineering(train)\n",
    "train = remove_columns(train, remove_season=True)"
   ]
  },
  {
   "cell_type": "code",
   "execution_count": 87,
   "metadata": {
    "pycharm": {
     "name": "#%%\n"
    }
   },
   "outputs": [
    {
     "name": "stdout",
     "output_type": "stream",
     "text": [
      "Total columns removed: 11\n"
     ]
    }
   ],
   "source": [
    "test = feature_engineering(test)\n",
    "test = remove_columns(test, remove_season=True)"
   ]
  },
  {
   "cell_type": "code",
   "execution_count": null,
   "metadata": {
    "pycharm": {
     "name": "#%%\n"
    }
   },
   "outputs": [],
   "source": [
    "train, action_type_encoder = target_encoding(train, 'action_type', 'shot_made_flag')\n",
    "train, opponent_type_encoder = target_encoding(train, 'opponent', 'shot_made_flag')\n",
    "train = one_hot_encoding(train)\n",
    "train = ordinal_encoder(train, \"shot_zone_basic\", shot_zone_basic_mapper)\n",
    "train = ordinal_encoder(train, \"shot_zone_range\", shot_zone_range_mapper)"
   ]
  },
  {
   "cell_type": "code",
   "execution_count": 15,
   "metadata": {
    "pycharm": {
     "name": "#%%\n"
    }
   },
   "outputs": [
    {
     "name": "stdout",
     "output_type": "stream",
     "text": [
      "Number of rows: 428\n",
      "Number of rows after dropping missing values: 428\n",
      "Percentage of data removed: 0.0 %\n"
     ]
    }
   ],
   "source": [
    "test, _ = target_encoding(test, 'action_type', 'shot_made_flag', is_trainset=False, encoder=action_type_encoder)\n",
    "test, _ = target_encoding(test, 'opponent', 'shot_made_flag', is_trainset=False, encoder=opponent_type_encoder)\n",
    "test = one_hot_encoding(test)\n",
    "test = ordinal_encoder(test, \"shot_zone_basic\", shot_zone_basic_mapper)\n",
    "test = ordinal_encoder(test, \"shot_zone_range\", shot_zone_range_mapper)\n",
    "\n",
    "test = remove_na_rows(test)"
   ]
  },
  {
   "cell_type": "code",
   "execution_count": 16,
   "metadata": {
    "pycharm": {
     "name": "#%%\n"
    }
   },
   "outputs": [
    {
     "data": {
      "text/plain": [
       "array([0.29149233, 0.6779661 , 0.81176471, 1.        , 0.6       ,\n",
       "       0.9375    , 0.35766423, 0.67241379, 0.5974026 , 0.625     ,\n",
       "       0.79069767, 0.64285714, 0.75      , 0.66666667, 0.72727273,\n",
       "       0.45454545, 0.        , 0.5       ])"
      ]
     },
     "execution_count": 16,
     "metadata": {},
     "output_type": "execute_result"
    }
   ],
   "source": [
    "train.action_type_te.unique()\n",
    "test.action_type_te.unique()"
   ]
  },
  {
   "cell_type": "code",
   "execution_count": 17,
   "metadata": {
    "pycharm": {
     "name": "#%%\n"
    }
   },
   "outputs": [],
   "source": [
    "train.to_csv('../data/train_season.csv', index=False)\n",
    "test.to_csv('../data/test_season.csv', index=False)"
   ]
  },
  {
   "cell_type": "markdown",
   "metadata": {
    "pycharm": {
     "name": "#%% md\n"
    }
   },
   "source": [
    "# Pick one team, train seasons before, test seasons after"
   ]
  },
  {
   "cell_type": "markdown",
   "metadata": {
    "pycharm": {
     "name": "#%% md\n"
    }
   },
   "source": [
    "In this version of dataset we get all the matches played against a single team in one season e.g. season `2008-09` \n",
    "and then test the model against all the matches played against same team in the next season e.g. season `2009-10`"
   ]
  },
  {
   "cell_type": "code",
   "execution_count": 88,
   "metadata": {
    "pycharm": {
     "name": "#%%\n"
    }
   },
   "outputs": [],
   "source": [
    "def split_team_season(df, opponent,  season_train: list, season_test: list,\n",
    "                      train=None, test=None, validation=None):\n",
    "\n",
    "    # if(train + test + validation != 1):\n",
    "    #     print(\"Error dataset split\")\n",
    "    #     return None\n",
    "\n",
    "    df_train = None\n",
    "    df_test = None\n",
    "    df_validaiton = None\n",
    "\n",
    "    if season_train == [] or season_test == []:\n",
    "        print(\"Empty seasons\")\n",
    "        return None\n",
    "\n",
    "    df_train = df[(df['season'].isin(season_train))  & (df['opponent'] == opponent) ]\n",
    "    df_test = df[(df['season'].isin(season_test)) & (df['opponent'] == opponent) ]\n",
    "    print(f\"Testing vs {opponent}\\ntraining: {season_train}\\ntesting: {season_test}\" )\n",
    "    print(f\"Size of training dataset {len(df_train)}\" )\n",
    "    print(f\"Size of test dataset {len(df_test)}\" )\n",
    "    print(f\"Size of train vs test ratio {len(df_train) / (len(df_train) + len(df_test)) }\" )\n",
    "\n",
    "    return df_train, df_test"
   ]
  },
  {
   "cell_type": "code",
   "execution_count": 89,
   "metadata": {
    "pycharm": {
     "name": "#%%\n"
    }
   },
   "outputs": [
    {
     "name": "stdout",
     "output_type": "stream",
     "text": [
      "Testing vs PHX\n",
      "training: ['2000-01', '2001-02', '2002-03']\n",
      "testing: ['2003-04']\n",
      "Size of training dataset 198\n",
      "Size of test dataset 41\n",
      "Size of train vs test ratio 0.8284518828451883\n"
     ]
    }
   ],
   "source": [
    "train2, test2 = split_team_season(df, opponent=TEAM, season_train=TRAIN_TEAM_SEASONS, season_test=TEST_TEAM_SEASONS)"
   ]
  },
  {
   "cell_type": "code",
   "execution_count": 90,
   "metadata": {
    "pycharm": {
     "name": "#%%\n"
    }
   },
   "outputs": [
    {
     "name": "stdout",
     "output_type": "stream",
     "text": [
      "Total columns removed: 11\n"
     ]
    }
   ],
   "source": [
    "train2 = feature_engineering(train2)\n",
    "train2 = remove_columns(train2, remove_season=False)"
   ]
  },
  {
   "cell_type": "code",
   "execution_count": 91,
   "metadata": {
    "pycharm": {
     "name": "#%%\n"
    }
   },
   "outputs": [
    {
     "name": "stdout",
     "output_type": "stream",
     "text": [
      "Total columns removed: 11\n"
     ]
    }
   ],
   "source": [
    "test2 = feature_engineering(test2)\n",
    "test2 = remove_columns(test2, remove_season=False)"
   ]
  },
  {
   "cell_type": "code",
   "execution_count": 92,
   "metadata": {
    "pycharm": {
     "name": "#%%\n"
    }
   },
   "outputs": [],
   "source": [
    "train2, action_type_encoder = target_encoding(train2, 'action_type', 'shot_made_flag')\n",
    "train2, opponent_type_encoder = target_encoding(train2, 'opponent', 'shot_made_flag')\n",
    "train2 = one_hot_encoding(train2)\n",
    "train2 = ordinal_encoder(train2, \"shot_zone_basic\", shot_zone_basic_mapper)\n",
    "train2 = ordinal_encoder(train2, \"shot_zone_range\", shot_zone_range_mapper)"
   ]
  },
  {
   "cell_type": "code",
   "execution_count": 93,
   "metadata": {
    "pycharm": {
     "name": "#%%\n"
    }
   },
   "outputs": [
    {
     "name": "stdout",
     "output_type": "stream",
     "text": [
      "Number of rows: 41\n",
      "Number of rows after dropping missing values: 40\n",
      "Percentage of data removed: 2.4390243902439024 %\n"
     ]
    }
   ],
   "source": [
    "test2, _ = target_encoding(test2, 'action_type', 'shot_made_flag', is_trainset=False, encoder=action_type_encoder)\n",
    "test2, _ = target_encoding(test2, 'opponent', 'shot_made_flag', is_trainset=False, encoder=opponent_type_encoder)\n",
    "test2 = one_hot_encoding(test2)\n",
    "test2 = ordinal_encoder(test2, \"shot_zone_basic\", shot_zone_basic_mapper)\n",
    "test2 = ordinal_encoder(test2, \"shot_zone_range\", shot_zone_range_mapper)\n",
    "\n",
    "test2 = remove_na_rows(test2)"
   ]
  },
  {
   "cell_type": "code",
   "execution_count": 94,
   "metadata": {},
   "outputs": [
    {
     "name": "stdout",
     "output_type": "stream",
     "text": [
      "Rows in training-set: 198\n",
      "Rows in test-set: 40\n"
     ]
    }
   ],
   "source": [
    "print(f\"Rows in training-set: {len(train2)}\")\n",
    "print(f\"Rows in test-set: {len(test2)}\")"
   ]
  },
  {
   "cell_type": "markdown",
   "metadata": {
    "pycharm": {
     "name": "#%% md\n"
    }
   },
   "source": [
    "## missing features in train2 and test2"
   ]
  },
  {
   "cell_type": "code",
   "execution_count": 23,
   "metadata": {
    "pycharm": {
     "name": "#%%\n"
    }
   },
   "outputs": [
    {
     "name": "stdout",
     "output_type": "stream",
     "text": [
      "False\n"
     ]
    }
   ],
   "source": [
    "print(set(train2.columns.values) == (set(test2.columns.values)))"
   ]
  },
  {
   "cell_type": "code",
   "execution_count": 24,
   "metadata": {
    "pycharm": {
     "name": "#%%\n"
    }
   },
   "outputs": [
    {
     "name": "stdout",
     "output_type": "stream",
     "text": [
      "set()\n",
      "{'combined_shot_type_Tip Shot', 'shot_zone_area_Back Court(BC)'}\n"
     ]
    }
   ],
   "source": [
    "print(set(test2.columns.values).difference(set(train2.columns.values)))\n",
    "print(set(train2.columns.values).difference(set(test2.columns.values)))\n",
    "\n",
    "for train_features in set(test2.columns.values).difference(set(train2.columns.values)):\n",
    "    train2[train_features] = 0\n",
    "\n",
    "for test_features in set(train2.columns.values).difference(set(test2.columns.values)):\n",
    "    test2[test_features] = 0"
   ]
  },
  {
   "cell_type": "code",
   "execution_count": 25,
   "metadata": {
    "pycharm": {
     "name": "#%%\n"
    }
   },
   "outputs": [
    {
     "name": "stdout",
     "output_type": "stream",
     "text": [
      "True\n"
     ]
    }
   ],
   "source": [
    "print(set(train2.columns.values) == (set(test2.columns.values)))"
   ]
  },
  {
   "cell_type": "code",
   "execution_count": 26,
   "metadata": {
    "pycharm": {
     "name": "#%%\n"
    }
   },
   "outputs": [
    {
     "data": {
      "text/plain": [
       "array([False, False, False, False, False, False, False, False, False,\n",
       "       False, False, False, False, False, False, False, False, False,\n",
       "        True, False, False, False, False, False, False, False, False,\n",
       "       False, False])"
      ]
     },
     "execution_count": 26,
     "metadata": {},
     "output_type": "execute_result"
    }
   ],
   "source": [
    "train2.columns.values == 'combined_shot_type_Tip Shot'"
   ]
  },
  {
   "cell_type": "code",
   "execution_count": 28,
   "metadata": {
    "pycharm": {
     "name": "#%%\n"
    }
   },
   "outputs": [
    {
     "data": {
      "text/plain": [
       "array(['Jump Shot', 'Driving Layup Shot', 'Layup Shot', 'Dunk Shot',\n",
       "       'Driving Dunk Shot', 'Running Jump Shot', 'Slam Dunk Shot',\n",
       "       'Tip Shot', 'Hook Shot', 'Reverse Dunk Shot',\n",
       "       'Turnaround Jump Shot', 'Reverse Layup Shot', 'Running Hook Shot',\n",
       "       'Alley Oop Dunk Shot', 'Alley Oop Layup shot', 'Running Dunk Shot',\n",
       "       'Driving Finger Roll Shot', 'Running Layup Shot',\n",
       "       'Finger Roll Shot', 'Driving Hook Shot', 'Fadeaway Jump Shot',\n",
       "       'Follow Up Dunk Shot', 'Turnaround Hook Shot', 'Jump Hook Shot',\n",
       "       'Running Finger Roll Shot', 'Jump Bank Shot',\n",
       "       'Turnaround Finger Roll Shot', 'Hook Bank Shot',\n",
       "       'Running Tip Shot', 'Running Reverse Layup Shot',\n",
       "       'Driving Finger Roll Layup Shot', 'Fadeaway Bank shot',\n",
       "       'Pullup Jump shot', 'Finger Roll Layup Shot',\n",
       "       'Turnaround Fadeaway shot', 'Driving Reverse Layup Shot',\n",
       "       'Driving Slam Dunk Shot', 'Step Back Jump shot',\n",
       "       'Turnaround Bank shot', 'Reverse Slam Dunk Shot',\n",
       "       'Putback Slam Dunk Shot', 'Floating Jump shot',\n",
       "       'Running Bank shot', 'Driving Bank shot', 'Driving Jump shot',\n",
       "       'Putback Layup Shot', 'Putback Dunk Shot',\n",
       "       'Running Finger Roll Layup Shot', 'Pullup Bank shot',\n",
       "       'Running Slam Dunk Shot', 'Cutting Layup Shot',\n",
       "       'Driving Floating Jump Shot', 'Running Pull-Up Jump Shot',\n",
       "       'Tip Layup Shot', 'Driving Floating Bank Jump Shot'], dtype=object)"
      ]
     },
     "execution_count": 28,
     "metadata": {},
     "output_type": "execute_result"
    }
   ],
   "source": [
    "# train2.head()\n",
    "df.action_type.unique()"
   ]
  },
  {
   "cell_type": "code",
   "execution_count": 95,
   "metadata": {
    "pycharm": {
     "name": "#%%\n"
    }
   },
   "outputs": [],
   "source": [
    "train2.to_csv('../data/train_team.csv', index=False)\n",
    "test2.to_csv('../data/test_team.csv', index=False)"
   ]
  }
 ],
 "metadata": {
  "kernelspec": {
   "display_name": "Python 3 (ipykernel)",
   "language": "python",
   "name": "python3"
  },
  "language_info": {
   "codemirror_mode": {
    "name": "ipython",
    "version": 3
   },
   "file_extension": ".py",
   "mimetype": "text/x-python",
   "name": "python",
   "nbconvert_exporter": "python",
   "pygments_lexer": "ipython3",
   "version": "3.9.7"
  }
 },
 "nbformat": 4,
 "nbformat_minor": 1
}

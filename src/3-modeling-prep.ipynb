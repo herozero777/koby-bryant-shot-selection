{
 "cells": [
  {
   "cell_type": "code",
   "execution_count": 133,
   "metadata": {
    "pycharm": {
     "name": "#%%\n"
    }
   },
   "outputs": [],
   "source": [
    "import numpy as np\n",
    "import pandas as pd\n",
    "import matplotlib.pyplot as plt\n",
    "import seaborn as sns\n",
    "%matplotlib inline\n",
    "import datetime\n",
    "from sklearn.model_selection import train_test_split\n",
    "from feature_engineering import feature_engineering\n",
    "# from category_encoders import TargetEncoder"
   ]
  },
  {
   "cell_type": "code",
   "execution_count": 202,
   "outputs": [],
   "source": [
    "df = pd.read_csv('../data/data2.csv')\n"
   ],
   "metadata": {
    "collapsed": false,
    "pycharm": {
     "name": "#%%\n"
    }
   }
  },
  {
   "cell_type": "code",
   "execution_count": 203,
   "outputs": [
    {
     "data": {
      "text/plain": "         action_type combined_shot_type  game_event_id   game_id      lat  \\\n0          Jump Shot          Jump Shot             12  20000012  34.0443   \n1          Jump Shot          Jump Shot             35  20000012  33.9093   \n2          Jump Shot          Jump Shot             43  20000012  33.8693   \n3  Driving Dunk Shot               Dunk            155  20000012  34.0443   \n4          Jump Shot          Jump Shot            244  20000012  34.0553   \n\n   loc_x  loc_y       lon  period  playoffs  ...         shot_zone_area  \\\n0   -157      0 -118.4268       1         0  ...           Left Side(L)   \n1   -101    135 -118.3708       1         0  ...   Left Side Center(LC)   \n2    138    175 -118.1318       1         0  ...  Right Side Center(RC)   \n3      0      0 -118.2698       2         0  ...              Center(C)   \n4   -145    -11 -118.4148       3         0  ...           Left Side(L)   \n\n   shot_zone_basic  shot_zone_range     team_id           team_name  \\\n0        Mid-Range         8-16 ft.  1610612747  Los Angeles Lakers   \n1        Mid-Range        16-24 ft.  1610612747  Los Angeles Lakers   \n2        Mid-Range        16-24 ft.  1610612747  Los Angeles Lakers   \n3  Restricted Area  Less Than 8 ft.  1610612747  Los Angeles Lakers   \n4        Mid-Range         8-16 ft.  1610612747  Los Angeles Lakers   \n\n    game_date matchup  opponent shot_id time_remaining  \n0  2000-10-31    away       POR       2            622  \n1  2000-10-31    away       POR       3            465  \n2  2000-10-31    away       POR       4            412  \n3  2000-10-31    away       POR       5            379  \n4  2000-10-31    away       POR       6            572  \n\n[5 rows x 24 columns]",
      "text/html": "<div>\n<style scoped>\n    .dataframe tbody tr th:only-of-type {\n        vertical-align: middle;\n    }\n\n    .dataframe tbody tr th {\n        vertical-align: top;\n    }\n\n    .dataframe thead th {\n        text-align: right;\n    }\n</style>\n<table border=\"1\" class=\"dataframe\">\n  <thead>\n    <tr style=\"text-align: right;\">\n      <th></th>\n      <th>action_type</th>\n      <th>combined_shot_type</th>\n      <th>game_event_id</th>\n      <th>game_id</th>\n      <th>lat</th>\n      <th>loc_x</th>\n      <th>loc_y</th>\n      <th>lon</th>\n      <th>period</th>\n      <th>playoffs</th>\n      <th>...</th>\n      <th>shot_zone_area</th>\n      <th>shot_zone_basic</th>\n      <th>shot_zone_range</th>\n      <th>team_id</th>\n      <th>team_name</th>\n      <th>game_date</th>\n      <th>matchup</th>\n      <th>opponent</th>\n      <th>shot_id</th>\n      <th>time_remaining</th>\n    </tr>\n  </thead>\n  <tbody>\n    <tr>\n      <th>0</th>\n      <td>Jump Shot</td>\n      <td>Jump Shot</td>\n      <td>12</td>\n      <td>20000012</td>\n      <td>34.0443</td>\n      <td>-157</td>\n      <td>0</td>\n      <td>-118.4268</td>\n      <td>1</td>\n      <td>0</td>\n      <td>...</td>\n      <td>Left Side(L)</td>\n      <td>Mid-Range</td>\n      <td>8-16 ft.</td>\n      <td>1610612747</td>\n      <td>Los Angeles Lakers</td>\n      <td>2000-10-31</td>\n      <td>away</td>\n      <td>POR</td>\n      <td>2</td>\n      <td>622</td>\n    </tr>\n    <tr>\n      <th>1</th>\n      <td>Jump Shot</td>\n      <td>Jump Shot</td>\n      <td>35</td>\n      <td>20000012</td>\n      <td>33.9093</td>\n      <td>-101</td>\n      <td>135</td>\n      <td>-118.3708</td>\n      <td>1</td>\n      <td>0</td>\n      <td>...</td>\n      <td>Left Side Center(LC)</td>\n      <td>Mid-Range</td>\n      <td>16-24 ft.</td>\n      <td>1610612747</td>\n      <td>Los Angeles Lakers</td>\n      <td>2000-10-31</td>\n      <td>away</td>\n      <td>POR</td>\n      <td>3</td>\n      <td>465</td>\n    </tr>\n    <tr>\n      <th>2</th>\n      <td>Jump Shot</td>\n      <td>Jump Shot</td>\n      <td>43</td>\n      <td>20000012</td>\n      <td>33.8693</td>\n      <td>138</td>\n      <td>175</td>\n      <td>-118.1318</td>\n      <td>1</td>\n      <td>0</td>\n      <td>...</td>\n      <td>Right Side Center(RC)</td>\n      <td>Mid-Range</td>\n      <td>16-24 ft.</td>\n      <td>1610612747</td>\n      <td>Los Angeles Lakers</td>\n      <td>2000-10-31</td>\n      <td>away</td>\n      <td>POR</td>\n      <td>4</td>\n      <td>412</td>\n    </tr>\n    <tr>\n      <th>3</th>\n      <td>Driving Dunk Shot</td>\n      <td>Dunk</td>\n      <td>155</td>\n      <td>20000012</td>\n      <td>34.0443</td>\n      <td>0</td>\n      <td>0</td>\n      <td>-118.2698</td>\n      <td>2</td>\n      <td>0</td>\n      <td>...</td>\n      <td>Center(C)</td>\n      <td>Restricted Area</td>\n      <td>Less Than 8 ft.</td>\n      <td>1610612747</td>\n      <td>Los Angeles Lakers</td>\n      <td>2000-10-31</td>\n      <td>away</td>\n      <td>POR</td>\n      <td>5</td>\n      <td>379</td>\n    </tr>\n    <tr>\n      <th>4</th>\n      <td>Jump Shot</td>\n      <td>Jump Shot</td>\n      <td>244</td>\n      <td>20000012</td>\n      <td>34.0553</td>\n      <td>-145</td>\n      <td>-11</td>\n      <td>-118.4148</td>\n      <td>3</td>\n      <td>0</td>\n      <td>...</td>\n      <td>Left Side(L)</td>\n      <td>Mid-Range</td>\n      <td>8-16 ft.</td>\n      <td>1610612747</td>\n      <td>Los Angeles Lakers</td>\n      <td>2000-10-31</td>\n      <td>away</td>\n      <td>POR</td>\n      <td>6</td>\n      <td>572</td>\n    </tr>\n  </tbody>\n</table>\n<p>5 rows × 24 columns</p>\n</div>"
     },
     "execution_count": 203,
     "metadata": {},
     "output_type": "execute_result"
    }
   ],
   "source": [
    "df.head()"
   ],
   "metadata": {
    "collapsed": false,
    "pycharm": {
     "name": "#%%\n"
    }
   }
  },
  {
   "cell_type": "markdown",
   "source": [
    "***\n",
    "## Removing Redundant Columns\n",
    "There are some columns that have very high corelations with some other columns and some columns that\n",
    "\n",
    "Removing columns:\n",
    "- team_name, team_id - These have only a single value, so it doesn't add any value to the prediction\n",
    "- matchup - It has 1 to 1 corelation with the column \"opponent\""
   ],
   "metadata": {
    "collapsed": false,
    "pycharm": {
     "name": "#%% md\n"
    }
   }
  },
  {
   "cell_type": "code",
   "execution_count": 193,
   "outputs": [],
   "source": [
    "def remove_columns(df):\n",
    "    columns_to_drop = ['game_event_id', 'lat', 'lon', 'team_name', 'team_id', 'game_id', 'shot_id']\n",
    "    df = df.drop(labels=columns_to_drop, axis='columns')\n",
    "    print(f\"Total columns removed: {len(columns_to_drop)}\")\n",
    "    return df"
   ],
   "metadata": {
    "collapsed": false,
    "pycharm": {
     "name": "#%%\n"
    }
   }
  },
  {
   "cell_type": "code",
   "execution_count": 136,
   "outputs": [],
   "source": [],
   "metadata": {
    "collapsed": false,
    "pycharm": {
     "name": "#%%\n"
    }
   }
  },
  {
   "cell_type": "markdown",
   "metadata": {
    "pycharm": {
     "name": "#%% md\n"
    }
   },
   "source": [
    "# Preparing for modeling\n",
    "From the analyzed and preprocessed data, we continue the pre-processing in order to prepare it for the modeling phase"
   ]
  },
  {
   "cell_type": "code",
   "execution_count": 137,
   "outputs": [],
   "source": [
    "def target_encoding(df, col_to_encode, target_col):\n",
    "    \"\"\"\n",
    "    Performs target-encoding on the specified column. That is to convert categorical column\n",
    "    to a numerical column.\n",
    "\n",
    "    Args:\n",
    "        df (DataFrame):\n",
    "        col_to_encode (str): Column to be converted to numerical one.\n",
    "        target_col (str): Target column of the data.\n",
    "\n",
    "    Returns:\n",
    "        DataFrame: DataFrame containing the new <col_to_encode>_te column.\n",
    "    \"\"\"\n",
    "\n",
    "    encoding = df.groupby(col_to_encode)[target_col].mean().reset_index()\n",
    "    encoding = encoding.rename(columns={target_col: f\"{col_to_encode}_te\"})\n",
    "    df = df.merge(right=encoding, how='left', on=col_to_encode)\n",
    "    df.drop(col_to_encode, axis=1, inplace=True)\n",
    "\n",
    "    return df"
   ],
   "metadata": {
    "collapsed": false,
    "pycharm": {
     "name": "#%%\n"
    }
   }
  },
  {
   "cell_type": "code",
   "execution_count": 138,
   "outputs": [],
   "source": [
    "def encode_and_bind(original_dataframe, feature_to_encode):\n",
    "    dummies = pd.get_dummies(original_dataframe[[feature_to_encode]])\n",
    "    res = pd.concat([original_dataframe, dummies], axis=1)\n",
    "    res = res.drop([feature_to_encode], axis=1)\n",
    "    return res"
   ],
   "metadata": {
    "collapsed": false,
    "pycharm": {
     "name": "#%%\n"
    }
   }
  },
  {
   "cell_type": "code",
   "execution_count": 139,
   "outputs": [],
   "source": [
    "def one_hot_encoding(df):\n",
    "    df_new = df.copy(deep=True)\n",
    "    features_to_encode = ['combined_shot_type', 'season', 'shot_type', 'shot_zone_area', 'shot_zone_basic', 'shot_zone_range', 'opponent', 'action_type', 'matchup']\n",
    "    for feature in features_to_encode:\n",
    "        df_new = encode_and_bind(df_new, feature)\n",
    "\n",
    "    return df_new"
   ],
   "metadata": {
    "collapsed": false,
    "pycharm": {
     "name": "#%%\n"
    }
   }
  },
  {
   "cell_type": "markdown",
   "source": [
    "# Splitting the dataset"
   ],
   "metadata": {
    "collapsed": false,
    "pycharm": {
     "name": "#%% md\n"
    }
   }
  },
  {
   "cell_type": "code",
   "execution_count": 140,
   "outputs": [],
   "source": [
    "def split_x_y(df, target):\n",
    "    y = df.loc[:, [target]]\n",
    "    x = df.drop([target], axis=1)\n",
    "    return x, y"
   ],
   "metadata": {
    "collapsed": false,
    "pycharm": {
     "name": "#%%\n"
    }
   }
  },
  {
   "cell_type": "markdown",
   "source": [
    "## Random"
   ],
   "metadata": {
    "collapsed": false,
    "pycharm": {
     "name": "#%% md\n"
    }
   }
  },
  {
   "cell_type": "code",
   "execution_count": 204,
   "outputs": [],
   "source": [
    "def split_random(df, train=None, test=None, validation=None):\n",
    "    # 80-20\n",
    "    train_data, rest_data = train_test_split(df, train_size=0.8, shuffle=False)\n",
    "    # test 10 val 10\n",
    "    validation_data, test_data = train_test_split(rest_data, test_size=0.5, shuffle=False)\n",
    "\n",
    "    print(f\"Size of training dataset {len(train_data)}\" )\n",
    "    print(f\"Size of validation dataset {len(validation_data)}\" )\n",
    "    print(f\"Size of test dataset {len(test_data)}\" )\n",
    "\n",
    "    # print(f\"Size of train vs test ratio {len(df_train) / (len(df_train) + len(df_test)) }\" )\n",
    "    return train_data, validation_data, test_data"
   ],
   "metadata": {
    "collapsed": false,
    "pycharm": {
     "name": "#%%\n"
    }
   }
  },
  {
   "cell_type": "markdown",
   "source": [
    "## Regular (train), playoff (test)\n",
    "### Do we need train, test, validation here?"
   ],
   "metadata": {
    "collapsed": false,
    "pycharm": {
     "name": "#%% md\n"
    }
   }
  },
  {
   "cell_type": "code",
   "execution_count": 205,
   "outputs": [],
   "source": [
    "def split_regular_playoff(df, season, train=None, test=None, validation=None, n_way_split=False):\n",
    "\n",
    "    # if(train + test + validation != 1):\n",
    "    #     print(\"Error dataset split\")\n",
    "    #     return None\n",
    "\n",
    "    df_validaiton = None\n",
    "\n",
    "    df_season = df[df['season'] == season]\n",
    "    isPlayoffs = df_season.playoffs == 1\n",
    "\n",
    "    df_train = df_season[~isPlayoffs]\n",
    "    df_test  = df_season[isPlayoffs]\n",
    "\n",
    "    print(f\"Size of training dataset {len(df_train)}\" )\n",
    "    print(f\"Size of test dataset {len(df_test)}\" )\n",
    "    print(f\"Size of train vs test ratio {len(df_train) / (len(df_train) + len(df_test)) }\" )\n",
    "\n",
    "    if (n_way_split == True):\n",
    "        train = split_x_y(df_train, 'shot_made_flag')\n",
    "        test = split_x_y(df_test, 'shot_made_flag')\n",
    "        return train[0], train[1], test[0], test[1]\n",
    "    else:\n",
    "        return df_train, df_test\n"
   ],
   "metadata": {
    "collapsed": false,
    "pycharm": {
     "name": "#%%\n"
    }
   }
  },
  {
   "cell_type": "code",
   "execution_count": 206,
   "outputs": [
    {
     "name": "stdout",
     "output_type": "stream",
     "text": [
      "Size of training dataset 1344\n",
      "Size of test dataset 428\n",
      "Size of train vs test ratio 0.7584650112866818\n"
     ]
    }
   ],
   "source": [
    "train, test = split_regular_playoff(df, '2009-10')"
   ],
   "metadata": {
    "collapsed": false,
    "pycharm": {
     "name": "#%%\n"
    }
   }
  },
  {
   "cell_type": "code",
   "execution_count": 207,
   "outputs": [
    {
     "name": "stdout",
     "output_type": "stream",
     "text": [
      "action_type: 36\n",
      "combined_shot_type: 6\n",
      "season: 1\n",
      "shot_type: 2\n",
      "shot_zone_area: 6\n",
      "shot_zone_basic: 7\n",
      "shot_zone_range: 5\n",
      "opponent: 29\n"
     ]
    }
   ],
   "source": [
    "for column in ['action_type', 'combined_shot_type', 'season', 'shot_type', 'shot_zone_area', 'shot_zone_basic', 'shot_zone_range', 'opponent']:\n",
    "    print(f\"{column}: {len(train[column].unique())}\")"
   ],
   "metadata": {
    "collapsed": false,
    "pycharm": {
     "name": "#%%\n"
    }
   }
  },
  {
   "cell_type": "code",
   "execution_count": 208,
   "outputs": [
    {
     "name": "stdout",
     "output_type": "stream",
     "text": [
      "Total columns removed: 7\n",
      "Total columns removed: 7\n"
     ]
    }
   ],
   "source": [
    "train = feature_engineering(train)\n",
    "train = remove_columns(train)\n",
    "# train.drop(['game_date'], axis=1, inplace=True)\n",
    "\n",
    "\n",
    "test = feature_engineering(test)\n",
    "test = remove_columns(test)\n",
    "# test.drop(['game_date'], axis=1, inplace=True)\n"
   ],
   "metadata": {
    "collapsed": false,
    "pycharm": {
     "name": "#%%\n"
    }
   }
  },
  {
   "cell_type": "code",
   "execution_count": 209,
   "outputs": [],
   "source": [
    "# drop game_date, season, playoffs\n",
    "# ordinal shot-zone-range, shot zone basic\n",
    "# one hot: shot_zone_area\n",
    "# opponent-t"
   ],
   "metadata": {
    "collapsed": false,
    "pycharm": {
     "name": "#%%\n"
    }
   }
  },
  {
   "cell_type": "code",
   "execution_count": 200,
   "outputs": [
    {
     "data": {
      "text/plain": "                          action_type combined_shot_type  loc_x  loc_y  \\\n12441                      Layup Shot              Layup      0      0   \n12460  Driving Finger Roll Layup Shot              Layup      0      0   \n12459                       Jump Shot          Jump Shot    143     28   \n12458                       Jump Shot          Jump Shot    -56    279   \n12457                       Jump Shot          Jump Shot     34     82   \n\n       period  playoffs   season  shot_distance  shot_made_flag  \\\n12441       1         0  2009-10              0             0.0   \n12460       4         0  2009-10              0             1.0   \n12459       4         0  2009-10             14             0.0   \n12458       4         0  2009-10             28             0.0   \n12457       4         0  2009-10              8             0.0   \n\n            shot_type  ...        shot_zone_basic  shot_zone_range matchup  \\\n12441  2PT Field Goal  ...        Restricted Area  Less Than 8 ft.    home   \n12460  2PT Field Goal  ...        Restricted Area  Less Than 8 ft.    home   \n12459  2PT Field Goal  ...              Mid-Range         8-16 ft.    home   \n12458  3PT Field Goal  ...      Above the Break 3          24+ ft.    home   \n12457  2PT Field Goal  ...  In The Paint (Non-RA)         8-16 ft.    home   \n\n      opponent time_remaining  last_5_games_avg streak_before_shot  \\\n12441      LAC            660                 0                  0   \n12460      LAC            113                 0                  0   \n12459      LAC            216                 0                  0   \n12458      LAC            339                 0                  0   \n12457      LAC            596                 0                  0   \n\n      points_before_shot fgp_before_shot month  \n12441                  0             0.0    10  \n12460                 16            0.42    10  \n12459                 16            0.44    10  \n12458                 16            0.47    10  \n12457                 16             0.5    10  \n\n[5 rows x 21 columns]",
      "text/html": "<div>\n<style scoped>\n    .dataframe tbody tr th:only-of-type {\n        vertical-align: middle;\n    }\n\n    .dataframe tbody tr th {\n        vertical-align: top;\n    }\n\n    .dataframe thead th {\n        text-align: right;\n    }\n</style>\n<table border=\"1\" class=\"dataframe\">\n  <thead>\n    <tr style=\"text-align: right;\">\n      <th></th>\n      <th>action_type</th>\n      <th>combined_shot_type</th>\n      <th>loc_x</th>\n      <th>loc_y</th>\n      <th>period</th>\n      <th>playoffs</th>\n      <th>season</th>\n      <th>shot_distance</th>\n      <th>shot_made_flag</th>\n      <th>shot_type</th>\n      <th>...</th>\n      <th>shot_zone_basic</th>\n      <th>shot_zone_range</th>\n      <th>matchup</th>\n      <th>opponent</th>\n      <th>time_remaining</th>\n      <th>last_5_games_avg</th>\n      <th>streak_before_shot</th>\n      <th>points_before_shot</th>\n      <th>fgp_before_shot</th>\n      <th>month</th>\n    </tr>\n  </thead>\n  <tbody>\n    <tr>\n      <th>12441</th>\n      <td>Layup Shot</td>\n      <td>Layup</td>\n      <td>0</td>\n      <td>0</td>\n      <td>1</td>\n      <td>0</td>\n      <td>2009-10</td>\n      <td>0</td>\n      <td>0.0</td>\n      <td>2PT Field Goal</td>\n      <td>...</td>\n      <td>Restricted Area</td>\n      <td>Less Than 8 ft.</td>\n      <td>home</td>\n      <td>LAC</td>\n      <td>660</td>\n      <td>0</td>\n      <td>0</td>\n      <td>0</td>\n      <td>0.0</td>\n      <td>10</td>\n    </tr>\n    <tr>\n      <th>12460</th>\n      <td>Driving Finger Roll Layup Shot</td>\n      <td>Layup</td>\n      <td>0</td>\n      <td>0</td>\n      <td>4</td>\n      <td>0</td>\n      <td>2009-10</td>\n      <td>0</td>\n      <td>1.0</td>\n      <td>2PT Field Goal</td>\n      <td>...</td>\n      <td>Restricted Area</td>\n      <td>Less Than 8 ft.</td>\n      <td>home</td>\n      <td>LAC</td>\n      <td>113</td>\n      <td>0</td>\n      <td>0</td>\n      <td>16</td>\n      <td>0.42</td>\n      <td>10</td>\n    </tr>\n    <tr>\n      <th>12459</th>\n      <td>Jump Shot</td>\n      <td>Jump Shot</td>\n      <td>143</td>\n      <td>28</td>\n      <td>4</td>\n      <td>0</td>\n      <td>2009-10</td>\n      <td>14</td>\n      <td>0.0</td>\n      <td>2PT Field Goal</td>\n      <td>...</td>\n      <td>Mid-Range</td>\n      <td>8-16 ft.</td>\n      <td>home</td>\n      <td>LAC</td>\n      <td>216</td>\n      <td>0</td>\n      <td>0</td>\n      <td>16</td>\n      <td>0.44</td>\n      <td>10</td>\n    </tr>\n    <tr>\n      <th>12458</th>\n      <td>Jump Shot</td>\n      <td>Jump Shot</td>\n      <td>-56</td>\n      <td>279</td>\n      <td>4</td>\n      <td>0</td>\n      <td>2009-10</td>\n      <td>28</td>\n      <td>0.0</td>\n      <td>3PT Field Goal</td>\n      <td>...</td>\n      <td>Above the Break 3</td>\n      <td>24+ ft.</td>\n      <td>home</td>\n      <td>LAC</td>\n      <td>339</td>\n      <td>0</td>\n      <td>0</td>\n      <td>16</td>\n      <td>0.47</td>\n      <td>10</td>\n    </tr>\n    <tr>\n      <th>12457</th>\n      <td>Jump Shot</td>\n      <td>Jump Shot</td>\n      <td>34</td>\n      <td>82</td>\n      <td>4</td>\n      <td>0</td>\n      <td>2009-10</td>\n      <td>8</td>\n      <td>0.0</td>\n      <td>2PT Field Goal</td>\n      <td>...</td>\n      <td>In The Paint (Non-RA)</td>\n      <td>8-16 ft.</td>\n      <td>home</td>\n      <td>LAC</td>\n      <td>596</td>\n      <td>0</td>\n      <td>0</td>\n      <td>16</td>\n      <td>0.5</td>\n      <td>10</td>\n    </tr>\n  </tbody>\n</table>\n<p>5 rows × 21 columns</p>\n</div>"
     },
     "execution_count": 200,
     "metadata": {},
     "output_type": "execute_result"
    }
   ],
   "source": [
    "train.head()"
   ],
   "metadata": {
    "collapsed": false,
    "pycharm": {
     "name": "#%%\n"
    }
   }
  },
  {
   "cell_type": "code",
   "execution_count": 170,
   "outputs": [
    {
     "ename": "KeyError",
     "evalue": "'action_type'",
     "output_type": "error",
     "traceback": [
      "\u001B[0;31m---------------------------------------------------------------------------\u001B[0m",
      "\u001B[0;31mKeyError\u001B[0m                                  Traceback (most recent call last)",
      "Input \u001B[0;32mIn [170]\u001B[0m, in \u001B[0;36m<cell line: 1>\u001B[0;34m()\u001B[0m\n\u001B[0;32m----> 1\u001B[0m train \u001B[38;5;241m=\u001B[39m \u001B[43mtarget_encoding\u001B[49m\u001B[43m(\u001B[49m\u001B[43mtrain\u001B[49m\u001B[43m,\u001B[49m\u001B[43m \u001B[49m\u001B[38;5;124;43m'\u001B[39;49m\u001B[38;5;124;43maction_type\u001B[39;49m\u001B[38;5;124;43m'\u001B[39;49m\u001B[43m,\u001B[49m\u001B[43m \u001B[49m\u001B[38;5;124;43m'\u001B[39;49m\u001B[38;5;124;43mshot_made_flag\u001B[39;49m\u001B[38;5;124;43m'\u001B[39;49m\u001B[43m)\u001B[49m\n\u001B[1;32m      2\u001B[0m train \u001B[38;5;241m=\u001B[39m target_encoding(train, \u001B[38;5;124m'\u001B[39m\u001B[38;5;124mopponent\u001B[39m\u001B[38;5;124m'\u001B[39m, \u001B[38;5;124m'\u001B[39m\u001B[38;5;124mshot_made_flag\u001B[39m\u001B[38;5;124m'\u001B[39m)\n",
      "Input \u001B[0;32mIn [137]\u001B[0m, in \u001B[0;36mtarget_encoding\u001B[0;34m(df, col_to_encode, target_col)\u001B[0m\n\u001B[1;32m      1\u001B[0m \u001B[38;5;28;01mdef\u001B[39;00m \u001B[38;5;21mtarget_encoding\u001B[39m(df, col_to_encode, target_col):\n\u001B[1;32m      2\u001B[0m     \u001B[38;5;124;03m\"\"\"\u001B[39;00m\n\u001B[1;32m      3\u001B[0m \u001B[38;5;124;03m    Performs target-encoding on the specified column. That is to convert categorical column\u001B[39;00m\n\u001B[1;32m      4\u001B[0m \u001B[38;5;124;03m    to a numerical column.\u001B[39;00m\n\u001B[0;32m   (...)\u001B[0m\n\u001B[1;32m     12\u001B[0m \u001B[38;5;124;03m        DataFrame: DataFrame containing the new <col_to_encode>_te column.\u001B[39;00m\n\u001B[1;32m     13\u001B[0m \u001B[38;5;124;03m    \"\"\"\u001B[39;00m\n\u001B[0;32m---> 15\u001B[0m     encoding \u001B[38;5;241m=\u001B[39m \u001B[43mdf\u001B[49m\u001B[38;5;241;43m.\u001B[39;49m\u001B[43mgroupby\u001B[49m\u001B[43m(\u001B[49m\u001B[43mcol_to_encode\u001B[49m\u001B[43m)\u001B[49m[target_col]\u001B[38;5;241m.\u001B[39mmean()\u001B[38;5;241m.\u001B[39mreset_index()\n\u001B[1;32m     16\u001B[0m     encoding \u001B[38;5;241m=\u001B[39m encoding\u001B[38;5;241m.\u001B[39mrename(columns\u001B[38;5;241m=\u001B[39m{target_col: \u001B[38;5;124mf\u001B[39m\u001B[38;5;124m\"\u001B[39m\u001B[38;5;132;01m{\u001B[39;00mcol_to_encode\u001B[38;5;132;01m}\u001B[39;00m\u001B[38;5;124m_te\u001B[39m\u001B[38;5;124m\"\u001B[39m})\n\u001B[1;32m     17\u001B[0m     df \u001B[38;5;241m=\u001B[39m df\u001B[38;5;241m.\u001B[39mmerge(right\u001B[38;5;241m=\u001B[39mencoding, how\u001B[38;5;241m=\u001B[39m\u001B[38;5;124m'\u001B[39m\u001B[38;5;124mleft\u001B[39m\u001B[38;5;124m'\u001B[39m, on\u001B[38;5;241m=\u001B[39mcol_to_encode)\n",
      "File \u001B[0;32m~/lib/python3.8/site-packages/pandas/core/frame.py:7712\u001B[0m, in \u001B[0;36mDataFrame.groupby\u001B[0;34m(self, by, axis, level, as_index, sort, group_keys, squeeze, observed, dropna)\u001B[0m\n\u001B[1;32m   7707\u001B[0m axis \u001B[38;5;241m=\u001B[39m \u001B[38;5;28mself\u001B[39m\u001B[38;5;241m.\u001B[39m_get_axis_number(axis)\n\u001B[1;32m   7709\u001B[0m \u001B[38;5;66;03m# https://github.com/python/mypy/issues/7642\u001B[39;00m\n\u001B[1;32m   7710\u001B[0m \u001B[38;5;66;03m# error: Argument \"squeeze\" to \"DataFrameGroupBy\" has incompatible type\u001B[39;00m\n\u001B[1;32m   7711\u001B[0m \u001B[38;5;66;03m# \"Union[bool, NoDefault]\"; expected \"bool\"\u001B[39;00m\n\u001B[0;32m-> 7712\u001B[0m \u001B[38;5;28;01mreturn\u001B[39;00m \u001B[43mDataFrameGroupBy\u001B[49m\u001B[43m(\u001B[49m\n\u001B[1;32m   7713\u001B[0m \u001B[43m    \u001B[49m\u001B[43mobj\u001B[49m\u001B[38;5;241;43m=\u001B[39;49m\u001B[38;5;28;43mself\u001B[39;49m\u001B[43m,\u001B[49m\n\u001B[1;32m   7714\u001B[0m \u001B[43m    \u001B[49m\u001B[43mkeys\u001B[49m\u001B[38;5;241;43m=\u001B[39;49m\u001B[43mby\u001B[49m\u001B[43m,\u001B[49m\n\u001B[1;32m   7715\u001B[0m \u001B[43m    \u001B[49m\u001B[43maxis\u001B[49m\u001B[38;5;241;43m=\u001B[39;49m\u001B[43maxis\u001B[49m\u001B[43m,\u001B[49m\n\u001B[1;32m   7716\u001B[0m \u001B[43m    \u001B[49m\u001B[43mlevel\u001B[49m\u001B[38;5;241;43m=\u001B[39;49m\u001B[43mlevel\u001B[49m\u001B[43m,\u001B[49m\n\u001B[1;32m   7717\u001B[0m \u001B[43m    \u001B[49m\u001B[43mas_index\u001B[49m\u001B[38;5;241;43m=\u001B[39;49m\u001B[43mas_index\u001B[49m\u001B[43m,\u001B[49m\n\u001B[1;32m   7718\u001B[0m \u001B[43m    \u001B[49m\u001B[43msort\u001B[49m\u001B[38;5;241;43m=\u001B[39;49m\u001B[43msort\u001B[49m\u001B[43m,\u001B[49m\n\u001B[1;32m   7719\u001B[0m \u001B[43m    \u001B[49m\u001B[43mgroup_keys\u001B[49m\u001B[38;5;241;43m=\u001B[39;49m\u001B[43mgroup_keys\u001B[49m\u001B[43m,\u001B[49m\n\u001B[1;32m   7720\u001B[0m \u001B[43m    \u001B[49m\u001B[43msqueeze\u001B[49m\u001B[38;5;241;43m=\u001B[39;49m\u001B[43msqueeze\u001B[49m\u001B[43m,\u001B[49m\u001B[43m  \u001B[49m\u001B[38;5;66;43;03m# type: ignore[arg-type]\u001B[39;49;00m\n\u001B[1;32m   7721\u001B[0m \u001B[43m    \u001B[49m\u001B[43mobserved\u001B[49m\u001B[38;5;241;43m=\u001B[39;49m\u001B[43mobserved\u001B[49m\u001B[43m,\u001B[49m\n\u001B[1;32m   7722\u001B[0m \u001B[43m    \u001B[49m\u001B[43mdropna\u001B[49m\u001B[38;5;241;43m=\u001B[39;49m\u001B[43mdropna\u001B[49m\u001B[43m,\u001B[49m\n\u001B[1;32m   7723\u001B[0m \u001B[43m\u001B[49m\u001B[43m)\u001B[49m\n",
      "File \u001B[0;32m~/lib/python3.8/site-packages/pandas/core/groupby/groupby.py:882\u001B[0m, in \u001B[0;36mGroupBy.__init__\u001B[0;34m(self, obj, keys, axis, level, grouper, exclusions, selection, as_index, sort, group_keys, squeeze, observed, mutated, dropna)\u001B[0m\n\u001B[1;32m    879\u001B[0m \u001B[38;5;28;01mif\u001B[39;00m grouper \u001B[38;5;129;01mis\u001B[39;00m \u001B[38;5;28;01mNone\u001B[39;00m:\n\u001B[1;32m    880\u001B[0m     \u001B[38;5;28;01mfrom\u001B[39;00m \u001B[38;5;21;01mpandas\u001B[39;00m\u001B[38;5;21;01m.\u001B[39;00m\u001B[38;5;21;01mcore\u001B[39;00m\u001B[38;5;21;01m.\u001B[39;00m\u001B[38;5;21;01mgroupby\u001B[39;00m\u001B[38;5;21;01m.\u001B[39;00m\u001B[38;5;21;01mgrouper\u001B[39;00m \u001B[38;5;28;01mimport\u001B[39;00m get_grouper\n\u001B[0;32m--> 882\u001B[0m     grouper, exclusions, obj \u001B[38;5;241m=\u001B[39m \u001B[43mget_grouper\u001B[49m\u001B[43m(\u001B[49m\n\u001B[1;32m    883\u001B[0m \u001B[43m        \u001B[49m\u001B[43mobj\u001B[49m\u001B[43m,\u001B[49m\n\u001B[1;32m    884\u001B[0m \u001B[43m        \u001B[49m\u001B[43mkeys\u001B[49m\u001B[43m,\u001B[49m\n\u001B[1;32m    885\u001B[0m \u001B[43m        \u001B[49m\u001B[43maxis\u001B[49m\u001B[38;5;241;43m=\u001B[39;49m\u001B[43maxis\u001B[49m\u001B[43m,\u001B[49m\n\u001B[1;32m    886\u001B[0m \u001B[43m        \u001B[49m\u001B[43mlevel\u001B[49m\u001B[38;5;241;43m=\u001B[39;49m\u001B[43mlevel\u001B[49m\u001B[43m,\u001B[49m\n\u001B[1;32m    887\u001B[0m \u001B[43m        \u001B[49m\u001B[43msort\u001B[49m\u001B[38;5;241;43m=\u001B[39;49m\u001B[43msort\u001B[49m\u001B[43m,\u001B[49m\n\u001B[1;32m    888\u001B[0m \u001B[43m        \u001B[49m\u001B[43mobserved\u001B[49m\u001B[38;5;241;43m=\u001B[39;49m\u001B[43mobserved\u001B[49m\u001B[43m,\u001B[49m\n\u001B[1;32m    889\u001B[0m \u001B[43m        \u001B[49m\u001B[43mmutated\u001B[49m\u001B[38;5;241;43m=\u001B[39;49m\u001B[38;5;28;43mself\u001B[39;49m\u001B[38;5;241;43m.\u001B[39;49m\u001B[43mmutated\u001B[49m\u001B[43m,\u001B[49m\n\u001B[1;32m    890\u001B[0m \u001B[43m        \u001B[49m\u001B[43mdropna\u001B[49m\u001B[38;5;241;43m=\u001B[39;49m\u001B[38;5;28;43mself\u001B[39;49m\u001B[38;5;241;43m.\u001B[39;49m\u001B[43mdropna\u001B[49m\u001B[43m,\u001B[49m\n\u001B[1;32m    891\u001B[0m \u001B[43m    \u001B[49m\u001B[43m)\u001B[49m\n\u001B[1;32m    893\u001B[0m \u001B[38;5;28mself\u001B[39m\u001B[38;5;241m.\u001B[39mobj \u001B[38;5;241m=\u001B[39m obj\n\u001B[1;32m    894\u001B[0m \u001B[38;5;28mself\u001B[39m\u001B[38;5;241m.\u001B[39maxis \u001B[38;5;241m=\u001B[39m obj\u001B[38;5;241m.\u001B[39m_get_axis_number(axis)\n",
      "File \u001B[0;32m~/lib/python3.8/site-packages/pandas/core/groupby/grouper.py:882\u001B[0m, in \u001B[0;36mget_grouper\u001B[0;34m(obj, key, axis, level, sort, observed, mutated, validate, dropna)\u001B[0m\n\u001B[1;32m    880\u001B[0m         in_axis, level, gpr \u001B[38;5;241m=\u001B[39m \u001B[38;5;28;01mFalse\u001B[39;00m, gpr, \u001B[38;5;28;01mNone\u001B[39;00m\n\u001B[1;32m    881\u001B[0m     \u001B[38;5;28;01melse\u001B[39;00m:\n\u001B[0;32m--> 882\u001B[0m         \u001B[38;5;28;01mraise\u001B[39;00m \u001B[38;5;167;01mKeyError\u001B[39;00m(gpr)\n\u001B[1;32m    883\u001B[0m \u001B[38;5;28;01melif\u001B[39;00m \u001B[38;5;28misinstance\u001B[39m(gpr, Grouper) \u001B[38;5;129;01mand\u001B[39;00m gpr\u001B[38;5;241m.\u001B[39mkey \u001B[38;5;129;01mis\u001B[39;00m \u001B[38;5;129;01mnot\u001B[39;00m \u001B[38;5;28;01mNone\u001B[39;00m:\n\u001B[1;32m    884\u001B[0m     \u001B[38;5;66;03m# Add key to exclusions\u001B[39;00m\n\u001B[1;32m    885\u001B[0m     exclusions\u001B[38;5;241m.\u001B[39madd(gpr\u001B[38;5;241m.\u001B[39mkey)\n",
      "\u001B[0;31mKeyError\u001B[0m: 'action_type'"
     ]
    }
   ],
   "source": [
    "train = target_encoding(train, 'action_type', 'shot_made_flag')\n",
    "train = target_encoding(train, 'opponent', 'shot_made_flag')"
   ],
   "metadata": {
    "collapsed": false,
    "pycharm": {
     "name": "#%%\n"
    }
   }
  },
  {
   "cell_type": "code",
   "execution_count": 169,
   "outputs": [
    {
     "data": {
      "text/plain": "     combined_shot_type  loc_x  loc_y  period  playoffs   season  \\\n0                 Layup      0      0       1         0  2009-10   \n1                 Layup      0      0       4         0  2009-10   \n2             Jump Shot    143     28       4         0  2009-10   \n3             Jump Shot    -56    279       4         0  2009-10   \n4             Jump Shot     34     82       4         0  2009-10   \n...                 ...    ...    ...     ...       ...      ...   \n1339              Layup      0      0       1         0  2009-10   \n1340          Jump Shot   -109    110       1         0  2009-10   \n1341          Jump Shot    -87    290       4         0  2009-10   \n1342          Jump Shot     70    132       3         0  2009-10   \n1343              Layup      0      0       4         0  2009-10   \n\n      shot_distance  shot_made_flag       shot_type shot_zone_area  ...  \\\n0                 0             0.0  2PT Field Goal      Center(C)  ...   \n1                 0             1.0  2PT Field Goal      Center(C)  ...   \n2                14             0.0  2PT Field Goal  Right Side(R)  ...   \n3                28             0.0  3PT Field Goal      Center(C)  ...   \n4                 8             0.0  2PT Field Goal      Center(C)  ...   \n...             ...             ...             ...            ...  ...   \n1339              0             1.0  2PT Field Goal      Center(C)  ...   \n1340             15             0.0  2PT Field Goal   Left Side(L)  ...   \n1341             30             1.0  3PT Field Goal      Center(C)  ...   \n1342             14             0.0  2PT Field Goal      Center(C)  ...   \n1343              0             1.0  2PT Field Goal      Center(C)  ...   \n\n      shot_zone_range matchup opponent time_remaining  last_5_games_avg  \\\n0     Less Than 8 ft.    home      LAC            660                 0   \n1     Less Than 8 ft.    home      LAC            113                 0   \n2            8-16 ft.    home      LAC            216                 0   \n3             24+ ft.    home      LAC            339                 0   \n4            8-16 ft.    home      LAC            596                 0   \n...               ...     ...      ...            ...               ...   \n1339  Less Than 8 ft.    home      POR            386              0.43   \n1340         8-16 ft.    home      POR            641              0.43   \n1341          24+ ft.    home      POR             49              0.43   \n1342         8-16 ft.    home      POR            622              0.43   \n1343  Less Than 8 ft.    home      POR             31              0.43   \n\n     streak_before_shot points_before_shot fgp_before_shot month  \\\n0                     0                  0             0.0    10   \n1                     0                 16            0.42    10   \n2                     0                 16            0.44    10   \n3                     0                 16            0.47    10   \n4                     0                 16             0.5    10   \n...                 ...                ...             ...   ...   \n1339                  0                  0             0.0     4   \n1340                  0                  0             0.0     4   \n1341                  0                 12            0.31     4   \n1342                  0                  7            0.43     4   \n1343                  1                 15            0.35     4   \n\n      action_type_te  \n0           0.357664  \n1           0.727273  \n2           0.291492  \n3           0.291492  \n4           0.291492  \n...              ...  \n1339        0.666667  \n1340        0.291492  \n1341        0.291492  \n1342        0.291492  \n1343        0.727273  \n\n[1344 rows x 21 columns]",
      "text/html": "<div>\n<style scoped>\n    .dataframe tbody tr th:only-of-type {\n        vertical-align: middle;\n    }\n\n    .dataframe tbody tr th {\n        vertical-align: top;\n    }\n\n    .dataframe thead th {\n        text-align: right;\n    }\n</style>\n<table border=\"1\" class=\"dataframe\">\n  <thead>\n    <tr style=\"text-align: right;\">\n      <th></th>\n      <th>combined_shot_type</th>\n      <th>loc_x</th>\n      <th>loc_y</th>\n      <th>period</th>\n      <th>playoffs</th>\n      <th>season</th>\n      <th>shot_distance</th>\n      <th>shot_made_flag</th>\n      <th>shot_type</th>\n      <th>shot_zone_area</th>\n      <th>...</th>\n      <th>shot_zone_range</th>\n      <th>matchup</th>\n      <th>opponent</th>\n      <th>time_remaining</th>\n      <th>last_5_games_avg</th>\n      <th>streak_before_shot</th>\n      <th>points_before_shot</th>\n      <th>fgp_before_shot</th>\n      <th>month</th>\n      <th>action_type_te</th>\n    </tr>\n  </thead>\n  <tbody>\n    <tr>\n      <th>0</th>\n      <td>Layup</td>\n      <td>0</td>\n      <td>0</td>\n      <td>1</td>\n      <td>0</td>\n      <td>2009-10</td>\n      <td>0</td>\n      <td>0.0</td>\n      <td>2PT Field Goal</td>\n      <td>Center(C)</td>\n      <td>...</td>\n      <td>Less Than 8 ft.</td>\n      <td>home</td>\n      <td>LAC</td>\n      <td>660</td>\n      <td>0</td>\n      <td>0</td>\n      <td>0</td>\n      <td>0.0</td>\n      <td>10</td>\n      <td>0.357664</td>\n    </tr>\n    <tr>\n      <th>1</th>\n      <td>Layup</td>\n      <td>0</td>\n      <td>0</td>\n      <td>4</td>\n      <td>0</td>\n      <td>2009-10</td>\n      <td>0</td>\n      <td>1.0</td>\n      <td>2PT Field Goal</td>\n      <td>Center(C)</td>\n      <td>...</td>\n      <td>Less Than 8 ft.</td>\n      <td>home</td>\n      <td>LAC</td>\n      <td>113</td>\n      <td>0</td>\n      <td>0</td>\n      <td>16</td>\n      <td>0.42</td>\n      <td>10</td>\n      <td>0.727273</td>\n    </tr>\n    <tr>\n      <th>2</th>\n      <td>Jump Shot</td>\n      <td>143</td>\n      <td>28</td>\n      <td>4</td>\n      <td>0</td>\n      <td>2009-10</td>\n      <td>14</td>\n      <td>0.0</td>\n      <td>2PT Field Goal</td>\n      <td>Right Side(R)</td>\n      <td>...</td>\n      <td>8-16 ft.</td>\n      <td>home</td>\n      <td>LAC</td>\n      <td>216</td>\n      <td>0</td>\n      <td>0</td>\n      <td>16</td>\n      <td>0.44</td>\n      <td>10</td>\n      <td>0.291492</td>\n    </tr>\n    <tr>\n      <th>3</th>\n      <td>Jump Shot</td>\n      <td>-56</td>\n      <td>279</td>\n      <td>4</td>\n      <td>0</td>\n      <td>2009-10</td>\n      <td>28</td>\n      <td>0.0</td>\n      <td>3PT Field Goal</td>\n      <td>Center(C)</td>\n      <td>...</td>\n      <td>24+ ft.</td>\n      <td>home</td>\n      <td>LAC</td>\n      <td>339</td>\n      <td>0</td>\n      <td>0</td>\n      <td>16</td>\n      <td>0.47</td>\n      <td>10</td>\n      <td>0.291492</td>\n    </tr>\n    <tr>\n      <th>4</th>\n      <td>Jump Shot</td>\n      <td>34</td>\n      <td>82</td>\n      <td>4</td>\n      <td>0</td>\n      <td>2009-10</td>\n      <td>8</td>\n      <td>0.0</td>\n      <td>2PT Field Goal</td>\n      <td>Center(C)</td>\n      <td>...</td>\n      <td>8-16 ft.</td>\n      <td>home</td>\n      <td>LAC</td>\n      <td>596</td>\n      <td>0</td>\n      <td>0</td>\n      <td>16</td>\n      <td>0.5</td>\n      <td>10</td>\n      <td>0.291492</td>\n    </tr>\n    <tr>\n      <th>...</th>\n      <td>...</td>\n      <td>...</td>\n      <td>...</td>\n      <td>...</td>\n      <td>...</td>\n      <td>...</td>\n      <td>...</td>\n      <td>...</td>\n      <td>...</td>\n      <td>...</td>\n      <td>...</td>\n      <td>...</td>\n      <td>...</td>\n      <td>...</td>\n      <td>...</td>\n      <td>...</td>\n      <td>...</td>\n      <td>...</td>\n      <td>...</td>\n      <td>...</td>\n      <td>...</td>\n    </tr>\n    <tr>\n      <th>1339</th>\n      <td>Layup</td>\n      <td>0</td>\n      <td>0</td>\n      <td>1</td>\n      <td>0</td>\n      <td>2009-10</td>\n      <td>0</td>\n      <td>1.0</td>\n      <td>2PT Field Goal</td>\n      <td>Center(C)</td>\n      <td>...</td>\n      <td>Less Than 8 ft.</td>\n      <td>home</td>\n      <td>POR</td>\n      <td>386</td>\n      <td>0.43</td>\n      <td>0</td>\n      <td>0</td>\n      <td>0.0</td>\n      <td>4</td>\n      <td>0.666667</td>\n    </tr>\n    <tr>\n      <th>1340</th>\n      <td>Jump Shot</td>\n      <td>-109</td>\n      <td>110</td>\n      <td>1</td>\n      <td>0</td>\n      <td>2009-10</td>\n      <td>15</td>\n      <td>0.0</td>\n      <td>2PT Field Goal</td>\n      <td>Left Side(L)</td>\n      <td>...</td>\n      <td>8-16 ft.</td>\n      <td>home</td>\n      <td>POR</td>\n      <td>641</td>\n      <td>0.43</td>\n      <td>0</td>\n      <td>0</td>\n      <td>0.0</td>\n      <td>4</td>\n      <td>0.291492</td>\n    </tr>\n    <tr>\n      <th>1341</th>\n      <td>Jump Shot</td>\n      <td>-87</td>\n      <td>290</td>\n      <td>4</td>\n      <td>0</td>\n      <td>2009-10</td>\n      <td>30</td>\n      <td>1.0</td>\n      <td>3PT Field Goal</td>\n      <td>Center(C)</td>\n      <td>...</td>\n      <td>24+ ft.</td>\n      <td>home</td>\n      <td>POR</td>\n      <td>49</td>\n      <td>0.43</td>\n      <td>0</td>\n      <td>12</td>\n      <td>0.31</td>\n      <td>4</td>\n      <td>0.291492</td>\n    </tr>\n    <tr>\n      <th>1342</th>\n      <td>Jump Shot</td>\n      <td>70</td>\n      <td>132</td>\n      <td>3</td>\n      <td>0</td>\n      <td>2009-10</td>\n      <td>14</td>\n      <td>0.0</td>\n      <td>2PT Field Goal</td>\n      <td>Center(C)</td>\n      <td>...</td>\n      <td>8-16 ft.</td>\n      <td>home</td>\n      <td>POR</td>\n      <td>622</td>\n      <td>0.43</td>\n      <td>0</td>\n      <td>7</td>\n      <td>0.43</td>\n      <td>4</td>\n      <td>0.291492</td>\n    </tr>\n    <tr>\n      <th>1343</th>\n      <td>Layup</td>\n      <td>0</td>\n      <td>0</td>\n      <td>4</td>\n      <td>0</td>\n      <td>2009-10</td>\n      <td>0</td>\n      <td>1.0</td>\n      <td>2PT Field Goal</td>\n      <td>Center(C)</td>\n      <td>...</td>\n      <td>Less Than 8 ft.</td>\n      <td>home</td>\n      <td>POR</td>\n      <td>31</td>\n      <td>0.43</td>\n      <td>1</td>\n      <td>15</td>\n      <td>0.35</td>\n      <td>4</td>\n      <td>0.727273</td>\n    </tr>\n  </tbody>\n</table>\n<p>1344 rows × 21 columns</p>\n</div>"
     },
     "execution_count": 169,
     "metadata": {},
     "output_type": "execute_result"
    }
   ],
   "source": [
    "train"
   ],
   "metadata": {
    "collapsed": false,
    "pycharm": {
     "name": "#%%\n"
    }
   }
  },
  {
   "cell_type": "code",
   "execution_count": 162,
   "outputs": [
    {
     "ename": "KeyError",
     "evalue": "'action_type'",
     "output_type": "error",
     "traceback": [
      "\u001B[0;31m---------------------------------------------------------------------------\u001B[0m",
      "\u001B[0;31mKeyError\u001B[0m                                  Traceback (most recent call last)",
      "File \u001B[0;32m~/lib/python3.8/site-packages/pandas/core/indexes/base.py:3621\u001B[0m, in \u001B[0;36mIndex.get_loc\u001B[0;34m(self, key, method, tolerance)\u001B[0m\n\u001B[1;32m   3620\u001B[0m \u001B[38;5;28;01mtry\u001B[39;00m:\n\u001B[0;32m-> 3621\u001B[0m     \u001B[38;5;28;01mreturn\u001B[39;00m \u001B[38;5;28;43mself\u001B[39;49m\u001B[38;5;241;43m.\u001B[39;49m\u001B[43m_engine\u001B[49m\u001B[38;5;241;43m.\u001B[39;49m\u001B[43mget_loc\u001B[49m\u001B[43m(\u001B[49m\u001B[43mcasted_key\u001B[49m\u001B[43m)\u001B[49m\n\u001B[1;32m   3622\u001B[0m \u001B[38;5;28;01mexcept\u001B[39;00m \u001B[38;5;167;01mKeyError\u001B[39;00m \u001B[38;5;28;01mas\u001B[39;00m err:\n",
      "File \u001B[0;32m~/lib/python3.8/site-packages/pandas/_libs/index.pyx:136\u001B[0m, in \u001B[0;36mpandas._libs.index.IndexEngine.get_loc\u001B[0;34m()\u001B[0m\n",
      "File \u001B[0;32m~/lib/python3.8/site-packages/pandas/_libs/index.pyx:163\u001B[0m, in \u001B[0;36mpandas._libs.index.IndexEngine.get_loc\u001B[0;34m()\u001B[0m\n",
      "File \u001B[0;32mpandas/_libs/hashtable_class_helper.pxi:5198\u001B[0m, in \u001B[0;36mpandas._libs.hashtable.PyObjectHashTable.get_item\u001B[0;34m()\u001B[0m\n",
      "File \u001B[0;32mpandas/_libs/hashtable_class_helper.pxi:5206\u001B[0m, in \u001B[0;36mpandas._libs.hashtable.PyObjectHashTable.get_item\u001B[0;34m()\u001B[0m\n",
      "\u001B[0;31mKeyError\u001B[0m: 'action_type'",
      "\nThe above exception was the direct cause of the following exception:\n",
      "\u001B[0;31mKeyError\u001B[0m                                  Traceback (most recent call last)",
      "Input \u001B[0;32mIn [162]\u001B[0m, in \u001B[0;36m<cell line: 1>\u001B[0;34m()\u001B[0m\n\u001B[1;32m      1\u001B[0m \u001B[38;5;28;01mfor\u001B[39;00m column \u001B[38;5;129;01min\u001B[39;00m [\u001B[38;5;124m'\u001B[39m\u001B[38;5;124maction_type\u001B[39m\u001B[38;5;124m'\u001B[39m, \u001B[38;5;124m'\u001B[39m\u001B[38;5;124mcombined_shot_type\u001B[39m\u001B[38;5;124m'\u001B[39m, \u001B[38;5;124m'\u001B[39m\u001B[38;5;124mseason\u001B[39m\u001B[38;5;124m'\u001B[39m, \u001B[38;5;124m'\u001B[39m\u001B[38;5;124mshot_type\u001B[39m\u001B[38;5;124m'\u001B[39m, \u001B[38;5;124m'\u001B[39m\u001B[38;5;124mshot_zone_area\u001B[39m\u001B[38;5;124m'\u001B[39m, \u001B[38;5;124m'\u001B[39m\u001B[38;5;124mshot_zone_basic\u001B[39m\u001B[38;5;124m'\u001B[39m, \u001B[38;5;124m'\u001B[39m\u001B[38;5;124mshot_zone_range\u001B[39m\u001B[38;5;124m'\u001B[39m, \u001B[38;5;124m'\u001B[39m\u001B[38;5;124mopponent\u001B[39m\u001B[38;5;124m'\u001B[39m]:\n\u001B[0;32m----> 2\u001B[0m     \u001B[38;5;28mprint\u001B[39m(\u001B[38;5;124mf\u001B[39m\u001B[38;5;124m\"\u001B[39m\u001B[38;5;132;01m{\u001B[39;00mcolumn\u001B[38;5;132;01m}\u001B[39;00m\u001B[38;5;124m: \u001B[39m\u001B[38;5;132;01m{\u001B[39;00m\u001B[38;5;28mlen\u001B[39m(train[column]\u001B[38;5;241m.\u001B[39munique())\u001B[38;5;132;01m}\u001B[39;00m\u001B[38;5;124m\"\u001B[39m)\n",
      "File \u001B[0;32m~/lib/python3.8/site-packages/pandas/core/frame.py:3505\u001B[0m, in \u001B[0;36mDataFrame.__getitem__\u001B[0;34m(self, key)\u001B[0m\n\u001B[1;32m   3503\u001B[0m \u001B[38;5;28;01mif\u001B[39;00m \u001B[38;5;28mself\u001B[39m\u001B[38;5;241m.\u001B[39mcolumns\u001B[38;5;241m.\u001B[39mnlevels \u001B[38;5;241m>\u001B[39m \u001B[38;5;241m1\u001B[39m:\n\u001B[1;32m   3504\u001B[0m     \u001B[38;5;28;01mreturn\u001B[39;00m \u001B[38;5;28mself\u001B[39m\u001B[38;5;241m.\u001B[39m_getitem_multilevel(key)\n\u001B[0;32m-> 3505\u001B[0m indexer \u001B[38;5;241m=\u001B[39m \u001B[38;5;28;43mself\u001B[39;49m\u001B[38;5;241;43m.\u001B[39;49m\u001B[43mcolumns\u001B[49m\u001B[38;5;241;43m.\u001B[39;49m\u001B[43mget_loc\u001B[49m\u001B[43m(\u001B[49m\u001B[43mkey\u001B[49m\u001B[43m)\u001B[49m\n\u001B[1;32m   3506\u001B[0m \u001B[38;5;28;01mif\u001B[39;00m is_integer(indexer):\n\u001B[1;32m   3507\u001B[0m     indexer \u001B[38;5;241m=\u001B[39m [indexer]\n",
      "File \u001B[0;32m~/lib/python3.8/site-packages/pandas/core/indexes/base.py:3623\u001B[0m, in \u001B[0;36mIndex.get_loc\u001B[0;34m(self, key, method, tolerance)\u001B[0m\n\u001B[1;32m   3621\u001B[0m     \u001B[38;5;28;01mreturn\u001B[39;00m \u001B[38;5;28mself\u001B[39m\u001B[38;5;241m.\u001B[39m_engine\u001B[38;5;241m.\u001B[39mget_loc(casted_key)\n\u001B[1;32m   3622\u001B[0m \u001B[38;5;28;01mexcept\u001B[39;00m \u001B[38;5;167;01mKeyError\u001B[39;00m \u001B[38;5;28;01mas\u001B[39;00m err:\n\u001B[0;32m-> 3623\u001B[0m     \u001B[38;5;28;01mraise\u001B[39;00m \u001B[38;5;167;01mKeyError\u001B[39;00m(key) \u001B[38;5;28;01mfrom\u001B[39;00m \u001B[38;5;21;01merr\u001B[39;00m\n\u001B[1;32m   3624\u001B[0m \u001B[38;5;28;01mexcept\u001B[39;00m \u001B[38;5;167;01mTypeError\u001B[39;00m:\n\u001B[1;32m   3625\u001B[0m     \u001B[38;5;66;03m# If we have a listlike key, _check_indexing_error will raise\u001B[39;00m\n\u001B[1;32m   3626\u001B[0m     \u001B[38;5;66;03m#  InvalidIndexError. Otherwise we fall through and re-raise\u001B[39;00m\n\u001B[1;32m   3627\u001B[0m     \u001B[38;5;66;03m#  the TypeError.\u001B[39;00m\n\u001B[1;32m   3628\u001B[0m     \u001B[38;5;28mself\u001B[39m\u001B[38;5;241m.\u001B[39m_check_indexing_error(key)\n",
      "\u001B[0;31mKeyError\u001B[0m: 'action_type'"
     ]
    }
   ],
   "source": [],
   "metadata": {
    "collapsed": false,
    "pycharm": {
     "name": "#%%\n"
    }
   }
  },
  {
   "cell_type": "code",
   "execution_count": 124,
   "outputs": [
    {
     "data": {
      "text/plain": "array(['2009-10'], dtype=object)"
     },
     "execution_count": 124,
     "metadata": {},
     "output_type": "execute_result"
    }
   ],
   "source": [
    "train.season.unique()"
   ],
   "metadata": {
    "collapsed": false,
    "pycharm": {
     "name": "#%%\n"
    }
   }
  },
  {
   "cell_type": "markdown",
   "source": [
    "## Pick one team, train seasons before, test seasons after\n",
    "### Should we train on multiple seasons?\n"
   ],
   "metadata": {
    "collapsed": false,
    "pycharm": {
     "name": "#%% md\n"
    }
   }
  },
  {
   "cell_type": "code",
   "execution_count": 69,
   "outputs": [],
   "source": [
    "def split_team_season(df, opponent,  season_train, season_test, train=None, test=None, validation=None):\n",
    "\n",
    "    # if(train + test + validation != 1):\n",
    "    #     print(\"Error dataset split\")\n",
    "    #     return None\n",
    "\n",
    "    df_train = None\n",
    "    df_test = None\n",
    "    df_validaiton = None\n",
    "\n",
    "    if season_train == [] or season_test == []:\n",
    "        print(\"Empty seasons\")\n",
    "        return None\n",
    "\n",
    "    df_train = df[df['season'].isin(season_train)  & (df['opponent'] == opponent) ]\n",
    "    df_test = df[(df['season'].isin(season_test)) & (df['opponent'] == opponent) ]\n",
    "    print(f\"Testing vs {opponent}\\ntraining: {season_train}\\ntesting: {season_test}\" )\n",
    "    print(f\"Size of training dataset {len(df_train)}\" )\n",
    "    print(f\"Size of test dataset {len(df_test)}\" )\n",
    "    print(f\"Size of train vs test ratio {len(df_train) / (len(df_train) + len(df_test)) }\" )\n",
    "\n",
    "    train = split_x_y(df_train, 'shot_made_flag')\n",
    "    test = split_x_y(df_test, 'shot_made_flag')\n",
    "    return train[0], train[1], test[0], test[1]"
   ],
   "metadata": {
    "collapsed": false,
    "pycharm": {
     "name": "#%%\n"
    }
   }
  },
  {
   "cell_type": "markdown",
   "source": [
    "## Pipeline for data modeling"
   ],
   "metadata": {
    "collapsed": false,
    "pycharm": {
     "name": "#%% md\n"
    }
   }
  },
  {
   "cell_type": "code",
   "execution_count": 70,
   "outputs": [],
   "source": [
    "# df = feature_engineering(df)"
   ],
   "metadata": {
    "collapsed": false,
    "pycharm": {
     "name": "#%%\n"
    }
   }
  },
  {
   "cell_type": "code",
   "execution_count": 72,
   "outputs": [
    {
     "data": {
      "text/plain": "  action_type combined_shot_type  game_event_id   game_id      lat  loc_x  \\\n0   Jump Shot          Jump Shot            102  29600027  33.9283   -140   \n1   Jump Shot          Jump Shot            127  29600031  33.9473   -131   \n2   Jump Shot          Jump Shot            124  29600044  33.8633   -142   \n3   Jump Shot          Jump Shot            144  29600044  34.0443      0   \n4   Jump Shot          Jump Shot            151  29600044  33.9063    -10   \n\n   loc_y       lon  period  playoffs  ...   game_date  matchup  opponent  \\\n0    116 -118.4098       1         0  ...  1996-11-03     home       MIN   \n1     97 -118.4008       2         0  ...  1996-11-05     away       NYK   \n2    181 -118.4118       2         0  ...  1996-11-06     away       CHA   \n3      0 -118.2698       2         0  ...  1996-11-06     away       CHA   \n4    138 -118.2798       2         0  ...  1996-11-06     away       CHA   \n\n  shot_id time_remaining last_5_games_avg streak_before_shot  \\\n0   22902             42                0                  0   \n1   22903            608              0.0                  0   \n2   22904            517              0.0                  0   \n3   22905            394              0.0                  1   \n4   22906            327              0.0                  0   \n\n   points_before_shot fgp_before_shot month  \n0                   0             0.0    11  \n1                   0             0.0    11  \n2                   0             0.0    11  \n3                   3             1.0    11  \n4                   3             0.5    11  \n\n[5 rows x 29 columns]",
      "text/html": "<div>\n<style scoped>\n    .dataframe tbody tr th:only-of-type {\n        vertical-align: middle;\n    }\n\n    .dataframe tbody tr th {\n        vertical-align: top;\n    }\n\n    .dataframe thead th {\n        text-align: right;\n    }\n</style>\n<table border=\"1\" class=\"dataframe\">\n  <thead>\n    <tr style=\"text-align: right;\">\n      <th></th>\n      <th>action_type</th>\n      <th>combined_shot_type</th>\n      <th>game_event_id</th>\n      <th>game_id</th>\n      <th>lat</th>\n      <th>loc_x</th>\n      <th>loc_y</th>\n      <th>lon</th>\n      <th>period</th>\n      <th>playoffs</th>\n      <th>...</th>\n      <th>game_date</th>\n      <th>matchup</th>\n      <th>opponent</th>\n      <th>shot_id</th>\n      <th>time_remaining</th>\n      <th>last_5_games_avg</th>\n      <th>streak_before_shot</th>\n      <th>points_before_shot</th>\n      <th>fgp_before_shot</th>\n      <th>month</th>\n    </tr>\n  </thead>\n  <tbody>\n    <tr>\n      <th>0</th>\n      <td>Jump Shot</td>\n      <td>Jump Shot</td>\n      <td>102</td>\n      <td>29600027</td>\n      <td>33.9283</td>\n      <td>-140</td>\n      <td>116</td>\n      <td>-118.4098</td>\n      <td>1</td>\n      <td>0</td>\n      <td>...</td>\n      <td>1996-11-03</td>\n      <td>home</td>\n      <td>MIN</td>\n      <td>22902</td>\n      <td>42</td>\n      <td>0</td>\n      <td>0</td>\n      <td>0</td>\n      <td>0.0</td>\n      <td>11</td>\n    </tr>\n    <tr>\n      <th>1</th>\n      <td>Jump Shot</td>\n      <td>Jump Shot</td>\n      <td>127</td>\n      <td>29600031</td>\n      <td>33.9473</td>\n      <td>-131</td>\n      <td>97</td>\n      <td>-118.4008</td>\n      <td>2</td>\n      <td>0</td>\n      <td>...</td>\n      <td>1996-11-05</td>\n      <td>away</td>\n      <td>NYK</td>\n      <td>22903</td>\n      <td>608</td>\n      <td>0.0</td>\n      <td>0</td>\n      <td>0</td>\n      <td>0.0</td>\n      <td>11</td>\n    </tr>\n    <tr>\n      <th>2</th>\n      <td>Jump Shot</td>\n      <td>Jump Shot</td>\n      <td>124</td>\n      <td>29600044</td>\n      <td>33.8633</td>\n      <td>-142</td>\n      <td>181</td>\n      <td>-118.4118</td>\n      <td>2</td>\n      <td>0</td>\n      <td>...</td>\n      <td>1996-11-06</td>\n      <td>away</td>\n      <td>CHA</td>\n      <td>22904</td>\n      <td>517</td>\n      <td>0.0</td>\n      <td>0</td>\n      <td>0</td>\n      <td>0.0</td>\n      <td>11</td>\n    </tr>\n    <tr>\n      <th>3</th>\n      <td>Jump Shot</td>\n      <td>Jump Shot</td>\n      <td>144</td>\n      <td>29600044</td>\n      <td>34.0443</td>\n      <td>0</td>\n      <td>0</td>\n      <td>-118.2698</td>\n      <td>2</td>\n      <td>0</td>\n      <td>...</td>\n      <td>1996-11-06</td>\n      <td>away</td>\n      <td>CHA</td>\n      <td>22905</td>\n      <td>394</td>\n      <td>0.0</td>\n      <td>1</td>\n      <td>3</td>\n      <td>1.0</td>\n      <td>11</td>\n    </tr>\n    <tr>\n      <th>4</th>\n      <td>Jump Shot</td>\n      <td>Jump Shot</td>\n      <td>151</td>\n      <td>29600044</td>\n      <td>33.9063</td>\n      <td>-10</td>\n      <td>138</td>\n      <td>-118.2798</td>\n      <td>2</td>\n      <td>0</td>\n      <td>...</td>\n      <td>1996-11-06</td>\n      <td>away</td>\n      <td>CHA</td>\n      <td>22906</td>\n      <td>327</td>\n      <td>0.0</td>\n      <td>0</td>\n      <td>3</td>\n      <td>0.5</td>\n      <td>11</td>\n    </tr>\n  </tbody>\n</table>\n<p>5 rows × 29 columns</p>\n</div>"
     },
     "execution_count": 72,
     "metadata": {},
     "output_type": "execute_result"
    }
   ],
   "source": [
    "df.head()"
   ],
   "metadata": {
    "collapsed": false,
    "pycharm": {
     "name": "#%%\n"
    }
   }
  },
  {
   "cell_type": "code",
   "execution_count": null,
   "outputs": [],
   "source": [],
   "metadata": {
    "collapsed": false,
    "pycharm": {
     "name": "#%%\n"
    }
   }
  },
  {
   "cell_type": "code",
   "execution_count": null,
   "outputs": [],
   "source": [],
   "metadata": {
    "collapsed": false,
    "pycharm": {
     "name": "#%%\n"
    }
   }
  }
 ],
 "metadata": {
  "kernelspec": {
   "display_name": "Python 3 (ipykernel)",
   "language": "python",
   "name": "python3"
  },
  "language_info": {
   "codemirror_mode": {
    "name": "ipython",
    "version": 3
   },
   "file_extension": ".py",
   "mimetype": "text/x-python",
   "name": "python",
   "nbconvert_exporter": "python",
   "pygments_lexer": "ipython3",
   "version": "3.9.7"
  }
 },
 "nbformat": 4,
 "nbformat_minor": 1
}
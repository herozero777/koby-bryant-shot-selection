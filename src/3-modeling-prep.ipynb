{
 "cells": [
  {
   "cell_type": "code",
   "execution_count": 131,
   "metadata": {
    "collapsed": true,
    "pycharm": {
     "name": "#%%\n"
    }
   },
   "outputs": [],
   "source": [
    "import numpy as np\n",
    "import pandas as pd\n",
    "import matplotlib.pyplot as plt\n",
    "import seaborn as sns\n",
    "%matplotlib inline\n",
    "import datetime\n",
    "from sklearn.model_selection import train_test_split"
   ]
  },
  {
   "cell_type": "markdown",
   "source": [
    "# Preparing for modeling\n",
    "From the analyzed and preprocessed data, we continue the pre-processing in order to prepare it for the modeling phase"
   ],
   "metadata": {
    "collapsed": false,
    "pycharm": {
     "name": "#%% md\n"
    }
   }
  },
  {
   "cell_type": "code",
   "execution_count": 3,
   "outputs": [],
   "source": [],
   "metadata": {
    "collapsed": false,
    "pycharm": {
     "name": "#%%\n"
    }
   }
  },
  {
   "cell_type": "code",
   "execution_count": 29,
   "outputs": [],
   "source": [
    "df = pd.read_csv('../data/data2.csv')\n"
   ],
   "metadata": {
    "collapsed": false,
    "pycharm": {
     "name": "#%%\n"
    }
   }
  },
  {
   "cell_type": "code",
   "execution_count": 5,
   "outputs": [
    {
     "data": {
      "text/plain": "         action_type combined_shot_type  game_event_id   game_id      lat  \\\n0          Jump Shot          Jump Shot             12  20000012  34.0443   \n1          Jump Shot          Jump Shot             35  20000012  33.9093   \n2          Jump Shot          Jump Shot             43  20000012  33.8693   \n3  Driving Dunk Shot               Dunk            155  20000012  34.0443   \n4          Jump Shot          Jump Shot            244  20000012  34.0553   \n\n   loc_x  loc_y       lon  period  playoffs  ...   game_date  matchup  \\\n0   -157      0 -118.4268       1         0  ...  2000-10-31     away   \n1   -101    135 -118.3708       1         0  ...  2000-10-31     away   \n2    138    175 -118.1318       1         0  ...  2000-10-31     away   \n3      0      0 -118.2698       2         0  ...  2000-10-31     away   \n4   -145    -11 -118.4148       3         0  ...  2000-10-31     away   \n\n   opponent shot_id time_remaining points season_avg  plus_minus    FGP month  \n0       POR       2            622      8      18.26      -10.26  0.444    10  \n1       POR       3            465      8      18.26      -10.26  0.444    10  \n2       POR       4            412      8      18.26      -10.26  0.444    10  \n3       POR       5            379      8      18.26      -10.26  0.444    10  \n4       POR       6            572      8      18.26      -10.26  0.444    10  \n\n[5 rows x 29 columns]",
      "text/html": "<div>\n<style scoped>\n    .dataframe tbody tr th:only-of-type {\n        vertical-align: middle;\n    }\n\n    .dataframe tbody tr th {\n        vertical-align: top;\n    }\n\n    .dataframe thead th {\n        text-align: right;\n    }\n</style>\n<table border=\"1\" class=\"dataframe\">\n  <thead>\n    <tr style=\"text-align: right;\">\n      <th></th>\n      <th>action_type</th>\n      <th>combined_shot_type</th>\n      <th>game_event_id</th>\n      <th>game_id</th>\n      <th>lat</th>\n      <th>loc_x</th>\n      <th>loc_y</th>\n      <th>lon</th>\n      <th>period</th>\n      <th>playoffs</th>\n      <th>...</th>\n      <th>game_date</th>\n      <th>matchup</th>\n      <th>opponent</th>\n      <th>shot_id</th>\n      <th>time_remaining</th>\n      <th>points</th>\n      <th>season_avg</th>\n      <th>plus_minus</th>\n      <th>FGP</th>\n      <th>month</th>\n    </tr>\n  </thead>\n  <tbody>\n    <tr>\n      <th>0</th>\n      <td>Jump Shot</td>\n      <td>Jump Shot</td>\n      <td>12</td>\n      <td>20000012</td>\n      <td>34.0443</td>\n      <td>-157</td>\n      <td>0</td>\n      <td>-118.4268</td>\n      <td>1</td>\n      <td>0</td>\n      <td>...</td>\n      <td>2000-10-31</td>\n      <td>away</td>\n      <td>POR</td>\n      <td>2</td>\n      <td>622</td>\n      <td>8</td>\n      <td>18.26</td>\n      <td>-10.26</td>\n      <td>0.444</td>\n      <td>10</td>\n    </tr>\n    <tr>\n      <th>1</th>\n      <td>Jump Shot</td>\n      <td>Jump Shot</td>\n      <td>35</td>\n      <td>20000012</td>\n      <td>33.9093</td>\n      <td>-101</td>\n      <td>135</td>\n      <td>-118.3708</td>\n      <td>1</td>\n      <td>0</td>\n      <td>...</td>\n      <td>2000-10-31</td>\n      <td>away</td>\n      <td>POR</td>\n      <td>3</td>\n      <td>465</td>\n      <td>8</td>\n      <td>18.26</td>\n      <td>-10.26</td>\n      <td>0.444</td>\n      <td>10</td>\n    </tr>\n    <tr>\n      <th>2</th>\n      <td>Jump Shot</td>\n      <td>Jump Shot</td>\n      <td>43</td>\n      <td>20000012</td>\n      <td>33.8693</td>\n      <td>138</td>\n      <td>175</td>\n      <td>-118.1318</td>\n      <td>1</td>\n      <td>0</td>\n      <td>...</td>\n      <td>2000-10-31</td>\n      <td>away</td>\n      <td>POR</td>\n      <td>4</td>\n      <td>412</td>\n      <td>8</td>\n      <td>18.26</td>\n      <td>-10.26</td>\n      <td>0.444</td>\n      <td>10</td>\n    </tr>\n    <tr>\n      <th>3</th>\n      <td>Driving Dunk Shot</td>\n      <td>Dunk</td>\n      <td>155</td>\n      <td>20000012</td>\n      <td>34.0443</td>\n      <td>0</td>\n      <td>0</td>\n      <td>-118.2698</td>\n      <td>2</td>\n      <td>0</td>\n      <td>...</td>\n      <td>2000-10-31</td>\n      <td>away</td>\n      <td>POR</td>\n      <td>5</td>\n      <td>379</td>\n      <td>8</td>\n      <td>18.26</td>\n      <td>-10.26</td>\n      <td>0.444</td>\n      <td>10</td>\n    </tr>\n    <tr>\n      <th>4</th>\n      <td>Jump Shot</td>\n      <td>Jump Shot</td>\n      <td>244</td>\n      <td>20000012</td>\n      <td>34.0553</td>\n      <td>-145</td>\n      <td>-11</td>\n      <td>-118.4148</td>\n      <td>3</td>\n      <td>0</td>\n      <td>...</td>\n      <td>2000-10-31</td>\n      <td>away</td>\n      <td>POR</td>\n      <td>6</td>\n      <td>572</td>\n      <td>8</td>\n      <td>18.26</td>\n      <td>-10.26</td>\n      <td>0.444</td>\n      <td>10</td>\n    </tr>\n  </tbody>\n</table>\n<p>5 rows × 29 columns</p>\n</div>"
     },
     "execution_count": 5,
     "metadata": {},
     "output_type": "execute_result"
    }
   ],
   "source": [
    "df.head()"
   ],
   "metadata": {
    "collapsed": false,
    "pycharm": {
     "name": "#%%\n"
    }
   }
  },
  {
   "cell_type": "code",
   "execution_count": 6,
   "outputs": [],
   "source": [
    "# def convert_matchup(df):\n",
    "#     df['isHome'] = df.matchup.apply(lambda x: 1 if  x==\"home\" else 0)\n",
    "#     df = df.drop(['matchup'], axis=1)\n",
    "#     return df\n",
    "# df = convert_matchup(df)"
   ],
   "metadata": {
    "collapsed": false,
    "pycharm": {
     "name": "#%%\n"
    }
   }
  },
  {
   "cell_type": "code",
   "execution_count": 7,
   "outputs": [
    {
     "data": {
      "text/plain": "         action_type combined_shot_type  game_event_id   game_id      lat  \\\n0          Jump Shot          Jump Shot             12  20000012  34.0443   \n1          Jump Shot          Jump Shot             35  20000012  33.9093   \n2          Jump Shot          Jump Shot             43  20000012  33.8693   \n3  Driving Dunk Shot               Dunk            155  20000012  34.0443   \n4          Jump Shot          Jump Shot            244  20000012  34.0553   \n\n   loc_x  loc_y       lon  period  playoffs  ...   game_date  matchup  \\\n0   -157      0 -118.4268       1         0  ...  2000-10-31     away   \n1   -101    135 -118.3708       1         0  ...  2000-10-31     away   \n2    138    175 -118.1318       1         0  ...  2000-10-31     away   \n3      0      0 -118.2698       2         0  ...  2000-10-31     away   \n4   -145    -11 -118.4148       3         0  ...  2000-10-31     away   \n\n   opponent shot_id time_remaining points season_avg  plus_minus    FGP month  \n0       POR       2            622      8      18.26      -10.26  0.444    10  \n1       POR       3            465      8      18.26      -10.26  0.444    10  \n2       POR       4            412      8      18.26      -10.26  0.444    10  \n3       POR       5            379      8      18.26      -10.26  0.444    10  \n4       POR       6            572      8      18.26      -10.26  0.444    10  \n\n[5 rows x 29 columns]",
      "text/html": "<div>\n<style scoped>\n    .dataframe tbody tr th:only-of-type {\n        vertical-align: middle;\n    }\n\n    .dataframe tbody tr th {\n        vertical-align: top;\n    }\n\n    .dataframe thead th {\n        text-align: right;\n    }\n</style>\n<table border=\"1\" class=\"dataframe\">\n  <thead>\n    <tr style=\"text-align: right;\">\n      <th></th>\n      <th>action_type</th>\n      <th>combined_shot_type</th>\n      <th>game_event_id</th>\n      <th>game_id</th>\n      <th>lat</th>\n      <th>loc_x</th>\n      <th>loc_y</th>\n      <th>lon</th>\n      <th>period</th>\n      <th>playoffs</th>\n      <th>...</th>\n      <th>game_date</th>\n      <th>matchup</th>\n      <th>opponent</th>\n      <th>shot_id</th>\n      <th>time_remaining</th>\n      <th>points</th>\n      <th>season_avg</th>\n      <th>plus_minus</th>\n      <th>FGP</th>\n      <th>month</th>\n    </tr>\n  </thead>\n  <tbody>\n    <tr>\n      <th>0</th>\n      <td>Jump Shot</td>\n      <td>Jump Shot</td>\n      <td>12</td>\n      <td>20000012</td>\n      <td>34.0443</td>\n      <td>-157</td>\n      <td>0</td>\n      <td>-118.4268</td>\n      <td>1</td>\n      <td>0</td>\n      <td>...</td>\n      <td>2000-10-31</td>\n      <td>away</td>\n      <td>POR</td>\n      <td>2</td>\n      <td>622</td>\n      <td>8</td>\n      <td>18.26</td>\n      <td>-10.26</td>\n      <td>0.444</td>\n      <td>10</td>\n    </tr>\n    <tr>\n      <th>1</th>\n      <td>Jump Shot</td>\n      <td>Jump Shot</td>\n      <td>35</td>\n      <td>20000012</td>\n      <td>33.9093</td>\n      <td>-101</td>\n      <td>135</td>\n      <td>-118.3708</td>\n      <td>1</td>\n      <td>0</td>\n      <td>...</td>\n      <td>2000-10-31</td>\n      <td>away</td>\n      <td>POR</td>\n      <td>3</td>\n      <td>465</td>\n      <td>8</td>\n      <td>18.26</td>\n      <td>-10.26</td>\n      <td>0.444</td>\n      <td>10</td>\n    </tr>\n    <tr>\n      <th>2</th>\n      <td>Jump Shot</td>\n      <td>Jump Shot</td>\n      <td>43</td>\n      <td>20000012</td>\n      <td>33.8693</td>\n      <td>138</td>\n      <td>175</td>\n      <td>-118.1318</td>\n      <td>1</td>\n      <td>0</td>\n      <td>...</td>\n      <td>2000-10-31</td>\n      <td>away</td>\n      <td>POR</td>\n      <td>4</td>\n      <td>412</td>\n      <td>8</td>\n      <td>18.26</td>\n      <td>-10.26</td>\n      <td>0.444</td>\n      <td>10</td>\n    </tr>\n    <tr>\n      <th>3</th>\n      <td>Driving Dunk Shot</td>\n      <td>Dunk</td>\n      <td>155</td>\n      <td>20000012</td>\n      <td>34.0443</td>\n      <td>0</td>\n      <td>0</td>\n      <td>-118.2698</td>\n      <td>2</td>\n      <td>0</td>\n      <td>...</td>\n      <td>2000-10-31</td>\n      <td>away</td>\n      <td>POR</td>\n      <td>5</td>\n      <td>379</td>\n      <td>8</td>\n      <td>18.26</td>\n      <td>-10.26</td>\n      <td>0.444</td>\n      <td>10</td>\n    </tr>\n    <tr>\n      <th>4</th>\n      <td>Jump Shot</td>\n      <td>Jump Shot</td>\n      <td>244</td>\n      <td>20000012</td>\n      <td>34.0553</td>\n      <td>-145</td>\n      <td>-11</td>\n      <td>-118.4148</td>\n      <td>3</td>\n      <td>0</td>\n      <td>...</td>\n      <td>2000-10-31</td>\n      <td>away</td>\n      <td>POR</td>\n      <td>6</td>\n      <td>572</td>\n      <td>8</td>\n      <td>18.26</td>\n      <td>-10.26</td>\n      <td>0.444</td>\n      <td>10</td>\n    </tr>\n  </tbody>\n</table>\n<p>5 rows × 29 columns</p>\n</div>"
     },
     "execution_count": 7,
     "metadata": {},
     "output_type": "execute_result"
    }
   ],
   "source": [
    "df.head()"
   ],
   "metadata": {
    "collapsed": false,
    "pycharm": {
     "name": "#%%\n"
    }
   }
  },
  {
   "cell_type": "code",
   "execution_count": 8,
   "outputs": [],
   "source": [
    "def encode_and_bind(original_dataframe, feature_to_encode):\n",
    "    dummies = pd.get_dummies(original_dataframe[[feature_to_encode]])\n",
    "    res = pd.concat([original_dataframe, dummies], axis=1)\n",
    "    res = res.drop([feature_to_encode], axis=1)\n",
    "    return res"
   ],
   "metadata": {
    "collapsed": false,
    "pycharm": {
     "name": "#%%\n"
    }
   }
  },
  {
   "cell_type": "code",
   "execution_count": 9,
   "outputs": [],
   "source": [
    "def one_hot_encoding(df):\n",
    "    df_new = df.copy(deep=True)\n",
    "    features_to_encode = ['combined_shot_type', 'season', 'shot_type', 'shot_zone_area', 'shot_zone_basic', 'shot_zone_range', 'opponent', 'action_type', 'matchup']\n",
    "    for feature in features_to_encode:\n",
    "        df_new = encode_and_bind(df_new, feature)\n",
    "\n",
    "    return df_new"
   ],
   "metadata": {
    "collapsed": false,
    "pycharm": {
     "name": "#%%\n"
    }
   }
  },
  {
   "cell_type": "code",
   "execution_count": 10,
   "outputs": [],
   "source": [
    "df = one_hot_encoding(df)"
   ],
   "metadata": {
    "collapsed": false,
    "pycharm": {
     "name": "#%%\n"
    }
   }
  },
  {
   "cell_type": "code",
   "execution_count": 11,
   "outputs": [
    {
     "data": {
      "text/plain": "   game_event_id   game_id      lat  loc_x  loc_y       lon  period  playoffs  \\\n0             12  20000012  34.0443   -157      0 -118.4268       1         0   \n1             35  20000012  33.9093   -101    135 -118.3708       1         0   \n2             43  20000012  33.8693    138    175 -118.1318       1         0   \n3            155  20000012  34.0443      0      0 -118.2698       2         0   \n4            244  20000012  34.0553   -145    -11 -118.4148       3         0   \n\n   shot_distance  shot_made_flag  ...  action_type_Step Back Jump shot  \\\n0             15             0.0  ...                                0   \n1             16             1.0  ...                                0   \n2             22             0.0  ...                                0   \n3              0             1.0  ...                                0   \n4             14             0.0  ...                                0   \n\n  action_type_Tip Layup Shot action_type_Tip Shot  \\\n0                          0                    0   \n1                          0                    0   \n2                          0                    0   \n3                          0                    0   \n4                          0                    0   \n\n   action_type_Turnaround Bank shot  action_type_Turnaround Fadeaway shot  \\\n0                                 0                                     0   \n1                                 0                                     0   \n2                                 0                                     0   \n3                                 0                                     0   \n4                                 0                                     0   \n\n   action_type_Turnaround Finger Roll Shot  action_type_Turnaround Hook Shot  \\\n0                                        0                                 0   \n1                                        0                                 0   \n2                                        0                                 0   \n3                                        0                                 0   \n4                                        0                                 0   \n\n   action_type_Turnaround Jump Shot  matchup_away  matchup_home  \n0                                 0             1             0  \n1                                 0             1             0  \n2                                 0             1             0  \n3                                 0             1             0  \n4                                 0             1             0  \n\n[5 rows x 156 columns]",
      "text/html": "<div>\n<style scoped>\n    .dataframe tbody tr th:only-of-type {\n        vertical-align: middle;\n    }\n\n    .dataframe tbody tr th {\n        vertical-align: top;\n    }\n\n    .dataframe thead th {\n        text-align: right;\n    }\n</style>\n<table border=\"1\" class=\"dataframe\">\n  <thead>\n    <tr style=\"text-align: right;\">\n      <th></th>\n      <th>game_event_id</th>\n      <th>game_id</th>\n      <th>lat</th>\n      <th>loc_x</th>\n      <th>loc_y</th>\n      <th>lon</th>\n      <th>period</th>\n      <th>playoffs</th>\n      <th>shot_distance</th>\n      <th>shot_made_flag</th>\n      <th>...</th>\n      <th>action_type_Step Back Jump shot</th>\n      <th>action_type_Tip Layup Shot</th>\n      <th>action_type_Tip Shot</th>\n      <th>action_type_Turnaround Bank shot</th>\n      <th>action_type_Turnaround Fadeaway shot</th>\n      <th>action_type_Turnaround Finger Roll Shot</th>\n      <th>action_type_Turnaround Hook Shot</th>\n      <th>action_type_Turnaround Jump Shot</th>\n      <th>matchup_away</th>\n      <th>matchup_home</th>\n    </tr>\n  </thead>\n  <tbody>\n    <tr>\n      <th>0</th>\n      <td>12</td>\n      <td>20000012</td>\n      <td>34.0443</td>\n      <td>-157</td>\n      <td>0</td>\n      <td>-118.4268</td>\n      <td>1</td>\n      <td>0</td>\n      <td>15</td>\n      <td>0.0</td>\n      <td>...</td>\n      <td>0</td>\n      <td>0</td>\n      <td>0</td>\n      <td>0</td>\n      <td>0</td>\n      <td>0</td>\n      <td>0</td>\n      <td>0</td>\n      <td>1</td>\n      <td>0</td>\n    </tr>\n    <tr>\n      <th>1</th>\n      <td>35</td>\n      <td>20000012</td>\n      <td>33.9093</td>\n      <td>-101</td>\n      <td>135</td>\n      <td>-118.3708</td>\n      <td>1</td>\n      <td>0</td>\n      <td>16</td>\n      <td>1.0</td>\n      <td>...</td>\n      <td>0</td>\n      <td>0</td>\n      <td>0</td>\n      <td>0</td>\n      <td>0</td>\n      <td>0</td>\n      <td>0</td>\n      <td>0</td>\n      <td>1</td>\n      <td>0</td>\n    </tr>\n    <tr>\n      <th>2</th>\n      <td>43</td>\n      <td>20000012</td>\n      <td>33.8693</td>\n      <td>138</td>\n      <td>175</td>\n      <td>-118.1318</td>\n      <td>1</td>\n      <td>0</td>\n      <td>22</td>\n      <td>0.0</td>\n      <td>...</td>\n      <td>0</td>\n      <td>0</td>\n      <td>0</td>\n      <td>0</td>\n      <td>0</td>\n      <td>0</td>\n      <td>0</td>\n      <td>0</td>\n      <td>1</td>\n      <td>0</td>\n    </tr>\n    <tr>\n      <th>3</th>\n      <td>155</td>\n      <td>20000012</td>\n      <td>34.0443</td>\n      <td>0</td>\n      <td>0</td>\n      <td>-118.2698</td>\n      <td>2</td>\n      <td>0</td>\n      <td>0</td>\n      <td>1.0</td>\n      <td>...</td>\n      <td>0</td>\n      <td>0</td>\n      <td>0</td>\n      <td>0</td>\n      <td>0</td>\n      <td>0</td>\n      <td>0</td>\n      <td>0</td>\n      <td>1</td>\n      <td>0</td>\n    </tr>\n    <tr>\n      <th>4</th>\n      <td>244</td>\n      <td>20000012</td>\n      <td>34.0553</td>\n      <td>-145</td>\n      <td>-11</td>\n      <td>-118.4148</td>\n      <td>3</td>\n      <td>0</td>\n      <td>14</td>\n      <td>0.0</td>\n      <td>...</td>\n      <td>0</td>\n      <td>0</td>\n      <td>0</td>\n      <td>0</td>\n      <td>0</td>\n      <td>0</td>\n      <td>0</td>\n      <td>0</td>\n      <td>1</td>\n      <td>0</td>\n    </tr>\n  </tbody>\n</table>\n<p>5 rows × 156 columns</p>\n</div>"
     },
     "execution_count": 11,
     "metadata": {},
     "output_type": "execute_result"
    }
   ],
   "source": [
    "df.head()"
   ],
   "metadata": {
    "collapsed": false,
    "pycharm": {
     "name": "#%%\n"
    }
   }
  },
  {
   "cell_type": "markdown",
   "source": [
    "# Splitting the dataset"
   ],
   "metadata": {
    "collapsed": false,
    "pycharm": {
     "name": "#%% md\n"
    }
   }
  },
  {
   "cell_type": "markdown",
   "source": [
    "## Random\n",
    "### Like this?"
   ],
   "metadata": {
    "collapsed": false,
    "pycharm": {
     "name": "#%% md\n"
    }
   }
  },
  {
   "cell_type": "code",
   "execution_count": 136,
   "outputs": [],
   "source": [
    "def split_random(df, train=None, test=None, validation=None):\n",
    "    # 80-20\n",
    "    train_data, rest_data = train_test_split(df, train_size=0.8, shuffle=False)\n",
    "    # test 10 val 10\n",
    "    validation_data, test_data = train_test_split(rest_data, test_size=0.5, shuffle=False)\n",
    "\n",
    "    print(f\"Size of training dataset {len(train_data)}\" )\n",
    "    print(f\"Size of validation dataset {len(validation_data)}\" )\n",
    "    print(f\"Size of test dataset {len(test_data)}\" )\n",
    "\n",
    "    # print(f\"Size of train vs test ratio {len(df_train) / (len(df_train) + len(df_test)) }\" )\n",
    "    return train_data, validation_data, test_data"
   ],
   "metadata": {
    "collapsed": false,
    "pycharm": {
     "name": "#%%\n"
    }
   }
  },
  {
   "cell_type": "code",
   "execution_count": 137,
   "outputs": [
    {
     "name": "stdout",
     "output_type": "stream",
     "text": [
      "Size of training dataset 20557\n",
      "Size of validation dataset 2570\n",
      "Size of test dataset 2570\n"
     ]
    }
   ],
   "source": [
    "a,b,c = split_random(df)"
   ],
   "metadata": {
    "collapsed": false,
    "pycharm": {
     "name": "#%%\n"
    }
   }
  },
  {
   "cell_type": "markdown",
   "source": [
    "## Regular (train), playoff (test)\n",
    "### Do we need train, test, validation here?"
   ],
   "metadata": {
    "collapsed": false,
    "pycharm": {
     "name": "#%% md\n"
    }
   }
  },
  {
   "cell_type": "code",
   "execution_count": 133,
   "outputs": [],
   "source": [
    "def split_regular_playoff(df, season, train=None, test=None, validation=None):\n",
    "\n",
    "    # if(train + test + validation != 1):\n",
    "    #     print(\"Error dataset split\")\n",
    "    #     return None\n",
    "\n",
    "    df_validaiton = None\n",
    "\n",
    "    df_season = df[df['season'] == season]\n",
    "    isPlayoffs = df_season.playoffs == 1\n",
    "\n",
    "    df_train = df_season[~isPlayoffs]\n",
    "    df_test  = df_season[isPlayoffs]\n",
    "\n",
    "    print(f\"Size of training dataset {len(df_train)}\" )\n",
    "    print(f\"Size of test dataset {len(df_test)}\" )\n",
    "    print(f\"Size of train vs test ratio {len(df_train) / (len(df_train) + len(df_test)) }\" )\n",
    "\n",
    "    return df_train, df_test"
   ],
   "metadata": {
    "collapsed": false,
    "pycharm": {
     "name": "#%%\n"
    }
   }
  },
  {
   "cell_type": "code",
   "execution_count": 95,
   "outputs": [
    {
     "name": "stdout",
     "output_type": "stream",
     "text": [
      "Size of training dataset 1360\n",
      "Size of test dataset 161\n",
      "Size of train vs test ratio 0.8941485864562788\n"
     ]
    }
   ],
   "source": [
    "a,b = split_regular_playoff(df, '2010-11')"
   ],
   "metadata": {
    "collapsed": false,
    "pycharm": {
     "name": "#%%\n"
    }
   }
  },
  {
   "cell_type": "markdown",
   "source": [
    "## Pick one team, train seasons before, test seasons after\n",
    "### Should we train on multiple seasons?\n"
   ],
   "metadata": {
    "collapsed": false,
    "pycharm": {
     "name": "#%% md\n"
    }
   }
  },
  {
   "cell_type": "code",
   "execution_count": 96,
   "outputs": [
    {
     "data": {
      "text/plain": "0    21939\n1     3758\nName: playoffs, dtype: int64"
     },
     "execution_count": 96,
     "metadata": {},
     "output_type": "execute_result"
    }
   ],
   "source": [
    "df.playoffs.value_counts()"
   ],
   "metadata": {
    "collapsed": false,
    "pycharm": {
     "name": "#%%\n"
    }
   }
  },
  {
   "cell_type": "code",
   "execution_count": 129,
   "outputs": [],
   "source": [
    "def split_team_season(df, opponent,  season_train, season_test, train=None, test=None, validation=None):\n",
    "\n",
    "    # if(train + test + validation != 1):\n",
    "    #     print(\"Error dataset split\")\n",
    "    #     return None\n",
    "\n",
    "    df_train = None\n",
    "    df_test = None\n",
    "    df_validaiton = None\n",
    "\n",
    "    if season_train == [] or season_test == []:\n",
    "        print(\"Empty seasons\")\n",
    "        return None\n",
    "\n",
    "    df_train = df[df['season'].isin(season_train)  & (df['opponent'] == opponent) ]\n",
    "    df_test = df[(df['season'].isin(season_test)) & (df['opponent'] == opponent) ]\n",
    "    print(f\"Testing vs {opponent}\\ntraining: {season_train}\\ntesting: {season_test}\" )\n",
    "    print(f\"Size of training dataset {len(df_train)}\" )\n",
    "    print(f\"Size of test dataset {len(df_test)}\" )\n",
    "    print(f\"Size of train vs test ratio {len(df_train) / (len(df_train) + len(df_test)) }\" )\n",
    "\n",
    "    return df_train, df_test"
   ],
   "metadata": {
    "collapsed": false,
    "pycharm": {
     "name": "#%%\n"
    }
   }
  },
  {
   "cell_type": "code",
   "execution_count": 134,
   "outputs": [
    {
     "name": "stdout",
     "output_type": "stream",
     "text": [
      "Testing vs POR\n",
      "training: ['2000-01']\n",
      "testing: ['2002-03', '2003-04']\n",
      "Size of training dataset 109\n",
      "Size of test dataset 152\n",
      "Size of train vs test ratio 0.41762452107279696\n"
     ]
    }
   ],
   "source": [
    "a,b = split_team_season(df, 'POR', ['2000-01'], ['2002-03', '2003-04'] )"
   ],
   "metadata": {
    "collapsed": false,
    "pycharm": {
     "name": "#%%\n"
    }
   }
  },
  {
   "cell_type": "code",
   "execution_count": null,
   "outputs": [],
   "source": [],
   "metadata": {
    "collapsed": false,
    "pycharm": {
     "name": "#%%\n"
    }
   }
  },
  {
   "cell_type": "code",
   "execution_count": null,
   "outputs": [],
   "source": [],
   "metadata": {
    "collapsed": false,
    "pycharm": {
     "name": "#%%\n"
    }
   }
  },
  {
   "cell_type": "code",
   "execution_count": null,
   "outputs": [],
   "source": [],
   "metadata": {
    "collapsed": false,
    "pycharm": {
     "name": "#%%\n"
    }
   }
  },
  {
   "cell_type": "code",
   "execution_count": null,
   "outputs": [],
   "source": [],
   "metadata": {
    "collapsed": false,
    "pycharm": {
     "name": "#%%\n"
    }
   }
  },
  {
   "cell_type": "code",
   "execution_count": null,
   "outputs": [],
   "source": [
    "# df.to_csv('../data/data3.csv', index=False)"
   ],
   "metadata": {
    "collapsed": false,
    "pycharm": {
     "name": "#%%\n"
    }
   }
  }
 ],
 "metadata": {
  "kernelspec": {
   "display_name": "Python 3",
   "language": "python",
   "name": "python3"
  },
  "language_info": {
   "codemirror_mode": {
    "name": "ipython",
    "version": 2
   },
   "file_extension": ".py",
   "mimetype": "text/x-python",
   "name": "python",
   "nbconvert_exporter": "python",
   "pygments_lexer": "ipython2",
   "version": "2.7.6"
  }
 },
 "nbformat": 4,
 "nbformat_minor": 0
}
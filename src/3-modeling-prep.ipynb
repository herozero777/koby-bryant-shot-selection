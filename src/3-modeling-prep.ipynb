{
 "cells": [
  {
   "cell_type": "code",
   "execution_count": 2,
   "metadata": {
    "collapsed": true,
    "pycharm": {
     "name": "#%%\n"
    }
   },
   "outputs": [],
   "source": [
    "import numpy as np\n",
    "import pandas as pd\n",
    "import matplotlib.pyplot as plt\n",
    "import seaborn as sns\n",
    "%matplotlib inline\n",
    "import datetime\n",
    "from sklearn.model_selection import train_test_split\n",
    "from category_encoders import TargetEncoder"
   ]
  },
  {
   "cell_type": "markdown",
   "source": [
    "# Preparing for modeling\n",
    "From the analyzed and preprocessed data, we continue the pre-processing in order to prepare it for the modeling phase"
   ],
   "metadata": {
    "collapsed": false,
    "pycharm": {
     "name": "#%% md\n"
    }
   }
  },
  {
   "cell_type": "code",
   "execution_count": 2,
   "outputs": [],
   "source": [],
   "metadata": {
    "collapsed": false,
    "pycharm": {
     "name": "#%%\n"
    }
   }
  },
  {
   "cell_type": "code",
   "execution_count": 3,
   "outputs": [],
   "source": [
    "df = pd.read_csv('../data/data2.csv')\n"
   ],
   "metadata": {
    "collapsed": false,
    "pycharm": {
     "name": "#%%\n"
    }
   }
  },
  {
   "cell_type": "code",
   "execution_count": 4,
   "outputs": [
    {
     "data": {
      "text/plain": "         action_type combined_shot_type  game_event_id   game_id      lat  \\\n0          Jump Shot          Jump Shot             12  20000012  34.0443   \n1          Jump Shot          Jump Shot             35  20000012  33.9093   \n2          Jump Shot          Jump Shot             43  20000012  33.8693   \n3  Driving Dunk Shot               Dunk            155  20000012  34.0443   \n4          Jump Shot          Jump Shot            244  20000012  34.0553   \n\n   loc_x  loc_y       lon  period  playoffs  ...   game_date  matchup  \\\n0   -157      0 -118.4268       1         0  ...  2000-10-31     away   \n1   -101    135 -118.3708       1         0  ...  2000-10-31     away   \n2    138    175 -118.1318       1         0  ...  2000-10-31     away   \n3      0      0 -118.2698       2         0  ...  2000-10-31     away   \n4   -145    -11 -118.4148       3         0  ...  2000-10-31     away   \n\n   opponent shot_id time_remaining points season_avg  plus_minus    FGP month  \n0       POR       2            622      8      18.26      -10.26  0.444    10  \n1       POR       3            465      8      18.26      -10.26  0.444    10  \n2       POR       4            412      8      18.26      -10.26  0.444    10  \n3       POR       5            379      8      18.26      -10.26  0.444    10  \n4       POR       6            572      8      18.26      -10.26  0.444    10  \n\n[5 rows x 29 columns]",
      "text/html": "<div>\n<style scoped>\n    .dataframe tbody tr th:only-of-type {\n        vertical-align: middle;\n    }\n\n    .dataframe tbody tr th {\n        vertical-align: top;\n    }\n\n    .dataframe thead th {\n        text-align: right;\n    }\n</style>\n<table border=\"1\" class=\"dataframe\">\n  <thead>\n    <tr style=\"text-align: right;\">\n      <th></th>\n      <th>action_type</th>\n      <th>combined_shot_type</th>\n      <th>game_event_id</th>\n      <th>game_id</th>\n      <th>lat</th>\n      <th>loc_x</th>\n      <th>loc_y</th>\n      <th>lon</th>\n      <th>period</th>\n      <th>playoffs</th>\n      <th>...</th>\n      <th>game_date</th>\n      <th>matchup</th>\n      <th>opponent</th>\n      <th>shot_id</th>\n      <th>time_remaining</th>\n      <th>points</th>\n      <th>season_avg</th>\n      <th>plus_minus</th>\n      <th>FGP</th>\n      <th>month</th>\n    </tr>\n  </thead>\n  <tbody>\n    <tr>\n      <th>0</th>\n      <td>Jump Shot</td>\n      <td>Jump Shot</td>\n      <td>12</td>\n      <td>20000012</td>\n      <td>34.0443</td>\n      <td>-157</td>\n      <td>0</td>\n      <td>-118.4268</td>\n      <td>1</td>\n      <td>0</td>\n      <td>...</td>\n      <td>2000-10-31</td>\n      <td>away</td>\n      <td>POR</td>\n      <td>2</td>\n      <td>622</td>\n      <td>8</td>\n      <td>18.26</td>\n      <td>-10.26</td>\n      <td>0.444</td>\n      <td>10</td>\n    </tr>\n    <tr>\n      <th>1</th>\n      <td>Jump Shot</td>\n      <td>Jump Shot</td>\n      <td>35</td>\n      <td>20000012</td>\n      <td>33.9093</td>\n      <td>-101</td>\n      <td>135</td>\n      <td>-118.3708</td>\n      <td>1</td>\n      <td>0</td>\n      <td>...</td>\n      <td>2000-10-31</td>\n      <td>away</td>\n      <td>POR</td>\n      <td>3</td>\n      <td>465</td>\n      <td>8</td>\n      <td>18.26</td>\n      <td>-10.26</td>\n      <td>0.444</td>\n      <td>10</td>\n    </tr>\n    <tr>\n      <th>2</th>\n      <td>Jump Shot</td>\n      <td>Jump Shot</td>\n      <td>43</td>\n      <td>20000012</td>\n      <td>33.8693</td>\n      <td>138</td>\n      <td>175</td>\n      <td>-118.1318</td>\n      <td>1</td>\n      <td>0</td>\n      <td>...</td>\n      <td>2000-10-31</td>\n      <td>away</td>\n      <td>POR</td>\n      <td>4</td>\n      <td>412</td>\n      <td>8</td>\n      <td>18.26</td>\n      <td>-10.26</td>\n      <td>0.444</td>\n      <td>10</td>\n    </tr>\n    <tr>\n      <th>3</th>\n      <td>Driving Dunk Shot</td>\n      <td>Dunk</td>\n      <td>155</td>\n      <td>20000012</td>\n      <td>34.0443</td>\n      <td>0</td>\n      <td>0</td>\n      <td>-118.2698</td>\n      <td>2</td>\n      <td>0</td>\n      <td>...</td>\n      <td>2000-10-31</td>\n      <td>away</td>\n      <td>POR</td>\n      <td>5</td>\n      <td>379</td>\n      <td>8</td>\n      <td>18.26</td>\n      <td>-10.26</td>\n      <td>0.444</td>\n      <td>10</td>\n    </tr>\n    <tr>\n      <th>4</th>\n      <td>Jump Shot</td>\n      <td>Jump Shot</td>\n      <td>244</td>\n      <td>20000012</td>\n      <td>34.0553</td>\n      <td>-145</td>\n      <td>-11</td>\n      <td>-118.4148</td>\n      <td>3</td>\n      <td>0</td>\n      <td>...</td>\n      <td>2000-10-31</td>\n      <td>away</td>\n      <td>POR</td>\n      <td>6</td>\n      <td>572</td>\n      <td>8</td>\n      <td>18.26</td>\n      <td>-10.26</td>\n      <td>0.444</td>\n      <td>10</td>\n    </tr>\n  </tbody>\n</table>\n<p>5 rows × 29 columns</p>\n</div>"
     },
     "execution_count": 4,
     "metadata": {},
     "output_type": "execute_result"
    }
   ],
   "source": [
    "df.head()"
   ],
   "metadata": {
    "collapsed": false,
    "pycharm": {
     "name": "#%%\n"
    }
   }
  },
  {
   "cell_type": "code",
   "execution_count": 5,
   "outputs": [],
   "source": [
    "# def convert_matchup(df):\n",
    "#     df['isHome'] = df.matchup.apply(lambda x: 1 if  x==\"home\" else 0)\n",
    "#     df = df.drop(['matchup'], axis=1)\n",
    "#     return df\n",
    "# df = convert_matchup(df)"
   ],
   "metadata": {
    "collapsed": false,
    "pycharm": {
     "name": "#%%\n"
    }
   }
  },
  {
   "cell_type": "code",
   "execution_count": 6,
   "outputs": [],
   "source": [],
   "metadata": {
    "collapsed": false,
    "pycharm": {
     "name": "#%%\n"
    }
   }
  },
  {
   "cell_type": "code",
   "execution_count": 7,
   "outputs": [],
   "source": [
    "def encode_and_bind(original_dataframe, feature_to_encode):\n",
    "    dummies = pd.get_dummies(original_dataframe[[feature_to_encode]])\n",
    "    res = pd.concat([original_dataframe, dummies], axis=1)\n",
    "    res = res.drop([feature_to_encode], axis=1)\n",
    "    return res"
   ],
   "metadata": {
    "collapsed": false,
    "pycharm": {
     "name": "#%%\n"
    }
   }
  },
  {
   "cell_type": "code",
   "execution_count": 166,
   "outputs": [],
   "source": [
    "def one_hot_encoding(df):\n",
    "    df_new = df.copy(deep=True)\n",
    "    features_to_encode = ['combined_shot_type', 'season', 'shot_type', 'shot_zone_area', 'shot_zone_basic', 'shot_zone_range', 'opponent', 'action_type', 'matchup']\n",
    "    for feature in features_to_encode:\n",
    "        df_new = encode_and_bind(df_new, feature)\n",
    "\n",
    "    return df_new"
   ],
   "metadata": {
    "collapsed": false,
    "pycharm": {
     "name": "#%%\n"
    }
   }
  },
  {
   "cell_type": "code",
   "execution_count": 143,
   "outputs": [],
   "source": [
    "def target_encoding(df_x, df_y):\n",
    "    encoder = TargetEncoder()\n",
    "    features_to_encode = ['season', 'shot_type', 'shot_zone_area', 'shot_zone_basic', 'shot_zone_range', 'opponent', 'action_type', 'matchup']\n",
    "    # print(df_x.columns)\n",
    "    # print(type(df_y))\n",
    "    # for feature in features_to_encode:\n",
    "    df_x[f'encoded {feature}'] = encoder.fit_transform(df_x, df_y)\n",
    "    df_x.drop([feature], axis=1, inplace=True)\n",
    "    return df_x, df_y\n",
    "\n",
    "    # return df"
   ],
   "metadata": {
    "collapsed": false,
    "pycharm": {
     "name": "#%%\n"
    }
   }
  },
  {
   "cell_type": "code",
   "execution_count": 16,
   "outputs": [
    {
     "name": "stdout",
     "output_type": "stream",
     "text": [
      "Testing vs POR\n",
      "training: ['2000-01']\n",
      "testing: ['2002-03', '2003-04']\n",
      "Size of training dataset 109\n",
      "Size of test dataset 152\n",
      "Size of train vs test ratio 0.41762452107279696\n"
     ]
    }
   ],
   "source": [
    "x_train, y_train, x_test, y_test = split_team_season(df, 'POR', ['2000-01'], ['2002-03', '2003-04'] )"
   ],
   "metadata": {
    "collapsed": false,
    "pycharm": {
     "name": "#%%\n"
    }
   }
  },
  {
   "cell_type": "code",
   "execution_count": 60,
   "outputs": [
    {
     "data": {
      "text/plain": "             City  Years OF Exp  Yearly Salary in Thousands\n0  Salt Lake City            10                         120\n1         Seattle             5                         120\n2  San Franscisco             5                         140\n3         Seattle             3                         100\n4         Seattle             1                          70\n5  San Franscisco             2                         100\n6  Salt Lake City             1                          60\n7  San Franscisco             2                         110\n8         Seattle             4                         100\n9  Salt Lake City             2                          70",
      "text/html": "<div>\n<style scoped>\n    .dataframe tbody tr th:only-of-type {\n        vertical-align: middle;\n    }\n\n    .dataframe tbody tr th {\n        vertical-align: top;\n    }\n\n    .dataframe thead th {\n        text-align: right;\n    }\n</style>\n<table border=\"1\" class=\"dataframe\">\n  <thead>\n    <tr style=\"text-align: right;\">\n      <th></th>\n      <th>City</th>\n      <th>Years OF Exp</th>\n      <th>Yearly Salary in Thousands</th>\n    </tr>\n  </thead>\n  <tbody>\n    <tr>\n      <th>0</th>\n      <td>Salt Lake City</td>\n      <td>10</td>\n      <td>120</td>\n    </tr>\n    <tr>\n      <th>1</th>\n      <td>Seattle</td>\n      <td>5</td>\n      <td>120</td>\n    </tr>\n    <tr>\n      <th>2</th>\n      <td>San Franscisco</td>\n      <td>5</td>\n      <td>140</td>\n    </tr>\n    <tr>\n      <th>3</th>\n      <td>Seattle</td>\n      <td>3</td>\n      <td>100</td>\n    </tr>\n    <tr>\n      <th>4</th>\n      <td>Seattle</td>\n      <td>1</td>\n      <td>70</td>\n    </tr>\n    <tr>\n      <th>5</th>\n      <td>San Franscisco</td>\n      <td>2</td>\n      <td>100</td>\n    </tr>\n    <tr>\n      <th>6</th>\n      <td>Salt Lake City</td>\n      <td>1</td>\n      <td>60</td>\n    </tr>\n    <tr>\n      <th>7</th>\n      <td>San Franscisco</td>\n      <td>2</td>\n      <td>110</td>\n    </tr>\n    <tr>\n      <th>8</th>\n      <td>Seattle</td>\n      <td>4</td>\n      <td>100</td>\n    </tr>\n    <tr>\n      <th>9</th>\n      <td>Salt Lake City</td>\n      <td>2</td>\n      <td>70</td>\n    </tr>\n  </tbody>\n</table>\n</div>"
     },
     "execution_count": 60,
     "metadata": {},
     "output_type": "execute_result"
    }
   ],
   "source": [],
   "metadata": {
    "collapsed": false,
    "pycharm": {
     "name": "#%%\n"
    }
   }
  },
  {
   "cell_type": "code",
   "execution_count": 78,
   "outputs": [],
   "source": [],
   "metadata": {
    "collapsed": false,
    "pycharm": {
     "name": "#%%\n"
    }
   }
  },
  {
   "cell_type": "code",
   "execution_count": 79,
   "outputs": [],
   "source": [
    "x,y = split_x_y(df, 'Yearly Salary in Thousands')"
   ],
   "metadata": {
    "collapsed": false,
    "pycharm": {
     "name": "#%%\n"
    }
   }
  },
  {
   "cell_type": "code",
   "execution_count": 82,
   "outputs": [
    {
     "name": "stdout",
     "output_type": "stream",
     "text": [
      "in\n",
      "out\n",
      "in\n"
     ]
    },
    {
     "ename": "KeyError",
     "evalue": "'team_name'",
     "output_type": "error",
     "traceback": [
      "\u001B[0;31m---------------------------------------------------------------------------\u001B[0m",
      "\u001B[0;31mKeyError\u001B[0m                                  Traceback (most recent call last)",
      "File \u001B[0;32m~/lib/python3.8/site-packages/pandas/core/indexes/base.py:3621\u001B[0m, in \u001B[0;36mIndex.get_loc\u001B[0;34m(self, key, method, tolerance)\u001B[0m\n\u001B[1;32m   3620\u001B[0m \u001B[38;5;28;01mtry\u001B[39;00m:\n\u001B[0;32m-> 3621\u001B[0m     \u001B[38;5;28;01mreturn\u001B[39;00m \u001B[38;5;28;43mself\u001B[39;49m\u001B[38;5;241;43m.\u001B[39;49m\u001B[43m_engine\u001B[49m\u001B[38;5;241;43m.\u001B[39;49m\u001B[43mget_loc\u001B[49m\u001B[43m(\u001B[49m\u001B[43mcasted_key\u001B[49m\u001B[43m)\u001B[49m\n\u001B[1;32m   3622\u001B[0m \u001B[38;5;28;01mexcept\u001B[39;00m \u001B[38;5;167;01mKeyError\u001B[39;00m \u001B[38;5;28;01mas\u001B[39;00m err:\n",
      "File \u001B[0;32m~/lib/python3.8/site-packages/pandas/_libs/index.pyx:136\u001B[0m, in \u001B[0;36mpandas._libs.index.IndexEngine.get_loc\u001B[0;34m()\u001B[0m\n",
      "File \u001B[0;32m~/lib/python3.8/site-packages/pandas/_libs/index.pyx:163\u001B[0m, in \u001B[0;36mpandas._libs.index.IndexEngine.get_loc\u001B[0;34m()\u001B[0m\n",
      "File \u001B[0;32mpandas/_libs/hashtable_class_helper.pxi:5198\u001B[0m, in \u001B[0;36mpandas._libs.hashtable.PyObjectHashTable.get_item\u001B[0;34m()\u001B[0m\n",
      "File \u001B[0;32mpandas/_libs/hashtable_class_helper.pxi:5206\u001B[0m, in \u001B[0;36mpandas._libs.hashtable.PyObjectHashTable.get_item\u001B[0;34m()\u001B[0m\n",
      "\u001B[0;31mKeyError\u001B[0m: 'team_name'",
      "\nThe above exception was the direct cause of the following exception:\n",
      "\u001B[0;31mKeyError\u001B[0m                                  Traceback (most recent call last)",
      "Input \u001B[0;32mIn [82]\u001B[0m, in \u001B[0;36m<cell line: 3>\u001B[0;34m()\u001B[0m\n\u001B[1;32m      3\u001B[0m \u001B[38;5;28;01mfor\u001B[39;00m column \u001B[38;5;129;01min\u001B[39;00m [\u001B[38;5;124m'\u001B[39m\u001B[38;5;124mteam_name\u001B[39m\u001B[38;5;124m'\u001B[39m, \u001B[38;5;124m'\u001B[39m\u001B[38;5;124mopponent\u001B[39m\u001B[38;5;124m'\u001B[39m]:\n\u001B[1;32m      4\u001B[0m     \u001B[38;5;28mprint\u001B[39m(\u001B[38;5;124m\"\u001B[39m\u001B[38;5;124min\u001B[39m\u001B[38;5;124m\"\u001B[39m)\n\u001B[0;32m----> 5\u001B[0m     x_train[\u001B[38;5;124mf\u001B[39m\u001B[38;5;124m'\u001B[39m\u001B[38;5;124mencoded_\u001B[39m\u001B[38;5;132;01m{\u001B[39;00mcolumn\u001B[38;5;132;01m}\u001B[39;00m\u001B[38;5;124m'\u001B[39m] \u001B[38;5;241m=\u001B[39m \u001B[43mencoder\u001B[49m\u001B[38;5;241;43m.\u001B[39;49m\u001B[43mfit_transform\u001B[49m\u001B[43m(\u001B[49m\u001B[43mx_train\u001B[49m\u001B[43m[\u001B[49m\u001B[43mcolumn\u001B[49m\u001B[43m]\u001B[49m\u001B[43m,\u001B[49m\u001B[43m \u001B[49m\u001B[43my_train\u001B[49m\u001B[43m)\u001B[49m\n\u001B[1;32m      6\u001B[0m     \u001B[38;5;28mprint\u001B[39m(\u001B[38;5;124m\"\u001B[39m\u001B[38;5;124mout\u001B[39m\u001B[38;5;124m\"\u001B[39m)\n",
      "File \u001B[0;32m~/lib/python3.8/site-packages/category_encoders/utils.py:188\u001B[0m, in \u001B[0;36mTransformerWithTargetMixin.fit_transform\u001B[0;34m(self, X, y, **fit_params)\u001B[0m\n\u001B[1;32m    186\u001B[0m \u001B[38;5;28;01mif\u001B[39;00m y \u001B[38;5;129;01mis\u001B[39;00m \u001B[38;5;28;01mNone\u001B[39;00m:\n\u001B[1;32m    187\u001B[0m     \u001B[38;5;28;01mraise\u001B[39;00m \u001B[38;5;167;01mTypeError\u001B[39;00m(\u001B[38;5;124m'\u001B[39m\u001B[38;5;124mfit_transform() missing argument: \u001B[39m\u001B[38;5;124m'\u001B[39m\u001B[38;5;124m'\u001B[39m\u001B[38;5;124my\u001B[39m\u001B[38;5;124m'\u001B[39m\u001B[38;5;124m'\u001B[39m\u001B[38;5;124m'\u001B[39m)\n\u001B[0;32m--> 188\u001B[0m \u001B[38;5;28;01mreturn\u001B[39;00m \u001B[38;5;28;43mself\u001B[39;49m\u001B[38;5;241;43m.\u001B[39;49m\u001B[43mfit\u001B[49m\u001B[43m(\u001B[49m\u001B[43mX\u001B[49m\u001B[43m,\u001B[49m\u001B[43m \u001B[49m\u001B[43my\u001B[49m\u001B[43m,\u001B[49m\u001B[43m \u001B[49m\u001B[38;5;241;43m*\u001B[39;49m\u001B[38;5;241;43m*\u001B[39;49m\u001B[43mfit_params\u001B[49m\u001B[43m)\u001B[49m\u001B[38;5;241m.\u001B[39mtransform(X, y)\n",
      "File \u001B[0;32m~/lib/python3.8/site-packages/category_encoders/target_encoder.py:138\u001B[0m, in \u001B[0;36mTargetEncoder.fit\u001B[0;34m(self, X, y, **kwargs)\u001B[0m\n\u001B[1;32m    130\u001B[0m         \u001B[38;5;28;01mraise\u001B[39;00m \u001B[38;5;167;01mValueError\u001B[39;00m(\u001B[38;5;124m'\u001B[39m\u001B[38;5;124mColumns to be encoded can not contain null\u001B[39m\u001B[38;5;124m'\u001B[39m)\n\u001B[1;32m    132\u001B[0m \u001B[38;5;28mself\u001B[39m\u001B[38;5;241m.\u001B[39mordinal_encoder \u001B[38;5;241m=\u001B[39m OrdinalEncoder(\n\u001B[1;32m    133\u001B[0m     verbose\u001B[38;5;241m=\u001B[39m\u001B[38;5;28mself\u001B[39m\u001B[38;5;241m.\u001B[39mverbose,\n\u001B[1;32m    134\u001B[0m     cols\u001B[38;5;241m=\u001B[39m\u001B[38;5;28mself\u001B[39m\u001B[38;5;241m.\u001B[39mcols,\n\u001B[1;32m    135\u001B[0m     handle_unknown\u001B[38;5;241m=\u001B[39m\u001B[38;5;124m'\u001B[39m\u001B[38;5;124mvalue\u001B[39m\u001B[38;5;124m'\u001B[39m,\n\u001B[1;32m    136\u001B[0m     handle_missing\u001B[38;5;241m=\u001B[39m\u001B[38;5;124m'\u001B[39m\u001B[38;5;124mvalue\u001B[39m\u001B[38;5;124m'\u001B[39m\n\u001B[1;32m    137\u001B[0m )\n\u001B[0;32m--> 138\u001B[0m \u001B[38;5;28mself\u001B[39m\u001B[38;5;241m.\u001B[39mordinal_encoder \u001B[38;5;241m=\u001B[39m \u001B[38;5;28;43mself\u001B[39;49m\u001B[38;5;241;43m.\u001B[39;49m\u001B[43mordinal_encoder\u001B[49m\u001B[38;5;241;43m.\u001B[39;49m\u001B[43mfit\u001B[49m\u001B[43m(\u001B[49m\u001B[43mX\u001B[49m\u001B[43m)\u001B[49m\n\u001B[1;32m    139\u001B[0m X_ordinal \u001B[38;5;241m=\u001B[39m \u001B[38;5;28mself\u001B[39m\u001B[38;5;241m.\u001B[39mordinal_encoder\u001B[38;5;241m.\u001B[39mtransform(X)\n\u001B[1;32m    140\u001B[0m \u001B[38;5;28mself\u001B[39m\u001B[38;5;241m.\u001B[39mmapping \u001B[38;5;241m=\u001B[39m \u001B[38;5;28mself\u001B[39m\u001B[38;5;241m.\u001B[39mfit_target_encoding(X_ordinal, y)\n",
      "File \u001B[0;32m~/lib/python3.8/site-packages/category_encoders/ordinal.py:139\u001B[0m, in \u001B[0;36mOrdinalEncoder.fit\u001B[0;34m(self, X, y, **kwargs)\u001B[0m\n\u001B[1;32m    136\u001B[0m     \u001B[38;5;28;01mif\u001B[39;00m X[\u001B[38;5;28mself\u001B[39m\u001B[38;5;241m.\u001B[39mcols]\u001B[38;5;241m.\u001B[39misnull()\u001B[38;5;241m.\u001B[39many()\u001B[38;5;241m.\u001B[39many():\n\u001B[1;32m    137\u001B[0m         \u001B[38;5;28;01mraise\u001B[39;00m \u001B[38;5;167;01mValueError\u001B[39;00m(\u001B[38;5;124m'\u001B[39m\u001B[38;5;124mColumns to be encoded can not contain null\u001B[39m\u001B[38;5;124m'\u001B[39m)\n\u001B[0;32m--> 139\u001B[0m _, categories \u001B[38;5;241m=\u001B[39m \u001B[38;5;28;43mself\u001B[39;49m\u001B[38;5;241;43m.\u001B[39;49m\u001B[43mordinal_encoding\u001B[49m\u001B[43m(\u001B[49m\n\u001B[1;32m    140\u001B[0m \u001B[43m    \u001B[49m\u001B[43mX\u001B[49m\u001B[43m,\u001B[49m\n\u001B[1;32m    141\u001B[0m \u001B[43m    \u001B[49m\u001B[43mmapping\u001B[49m\u001B[38;5;241;43m=\u001B[39;49m\u001B[38;5;28;43mself\u001B[39;49m\u001B[38;5;241;43m.\u001B[39;49m\u001B[43mmapping\u001B[49m\u001B[43m,\u001B[49m\n\u001B[1;32m    142\u001B[0m \u001B[43m    \u001B[49m\u001B[43mcols\u001B[49m\u001B[38;5;241;43m=\u001B[39;49m\u001B[38;5;28;43mself\u001B[39;49m\u001B[38;5;241;43m.\u001B[39;49m\u001B[43mcols\u001B[49m\u001B[43m,\u001B[49m\n\u001B[1;32m    143\u001B[0m \u001B[43m    \u001B[49m\u001B[43mhandle_unknown\u001B[49m\u001B[38;5;241;43m=\u001B[39;49m\u001B[38;5;28;43mself\u001B[39;49m\u001B[38;5;241;43m.\u001B[39;49m\u001B[43mhandle_unknown\u001B[49m\u001B[43m,\u001B[49m\n\u001B[1;32m    144\u001B[0m \u001B[43m    \u001B[49m\u001B[43mhandle_missing\u001B[49m\u001B[38;5;241;43m=\u001B[39;49m\u001B[38;5;28;43mself\u001B[39;49m\u001B[38;5;241;43m.\u001B[39;49m\u001B[43mhandle_missing\u001B[49m\n\u001B[1;32m    145\u001B[0m \u001B[43m\u001B[49m\u001B[43m)\u001B[49m\n\u001B[1;32m    146\u001B[0m \u001B[38;5;28mself\u001B[39m\u001B[38;5;241m.\u001B[39mmapping \u001B[38;5;241m=\u001B[39m categories\n\u001B[1;32m    148\u001B[0m X_temp \u001B[38;5;241m=\u001B[39m \u001B[38;5;28mself\u001B[39m\u001B[38;5;241m.\u001B[39mtransform(X, override_return_df\u001B[38;5;241m=\u001B[39m\u001B[38;5;28;01mTrue\u001B[39;00m)\n",
      "File \u001B[0;32m~/lib/python3.8/site-packages/category_encoders/ordinal.py:321\u001B[0m, in \u001B[0;36mOrdinalEncoder.ordinal_encoding\u001B[0;34m(X_in, mapping, cols, handle_unknown, handle_missing)\u001B[0m\n\u001B[1;32m    317\u001B[0m \u001B[38;5;28;01mfor\u001B[39;00m col \u001B[38;5;129;01min\u001B[39;00m cols:\n\u001B[1;32m    319\u001B[0m     nan_identity \u001B[38;5;241m=\u001B[39m np\u001B[38;5;241m.\u001B[39mnan\n\u001B[0;32m--> 321\u001B[0m     categories \u001B[38;5;241m=\u001B[39m \u001B[38;5;28mlist\u001B[39m(\u001B[43mX\u001B[49m\u001B[43m[\u001B[49m\u001B[43mcol\u001B[49m\u001B[43m]\u001B[49m\u001B[38;5;241m.\u001B[39munique())\n\u001B[1;32m    322\u001B[0m     \u001B[38;5;28;01mif\u001B[39;00m util\u001B[38;5;241m.\u001B[39mis_category(X[col]\u001B[38;5;241m.\u001B[39mdtype):\n\u001B[1;32m    323\u001B[0m         \u001B[38;5;66;03m# Avoid using pandas category dtype meta-data if possible, see #235, #238.\u001B[39;00m\n\u001B[1;32m    324\u001B[0m         \u001B[38;5;28;01mif\u001B[39;00m X[col]\u001B[38;5;241m.\u001B[39mdtype\u001B[38;5;241m.\u001B[39mordered:\n",
      "File \u001B[0;32m~/lib/python3.8/site-packages/pandas/core/frame.py:3505\u001B[0m, in \u001B[0;36mDataFrame.__getitem__\u001B[0;34m(self, key)\u001B[0m\n\u001B[1;32m   3503\u001B[0m \u001B[38;5;28;01mif\u001B[39;00m \u001B[38;5;28mself\u001B[39m\u001B[38;5;241m.\u001B[39mcolumns\u001B[38;5;241m.\u001B[39mnlevels \u001B[38;5;241m>\u001B[39m \u001B[38;5;241m1\u001B[39m:\n\u001B[1;32m   3504\u001B[0m     \u001B[38;5;28;01mreturn\u001B[39;00m \u001B[38;5;28mself\u001B[39m\u001B[38;5;241m.\u001B[39m_getitem_multilevel(key)\n\u001B[0;32m-> 3505\u001B[0m indexer \u001B[38;5;241m=\u001B[39m \u001B[38;5;28;43mself\u001B[39;49m\u001B[38;5;241;43m.\u001B[39;49m\u001B[43mcolumns\u001B[49m\u001B[38;5;241;43m.\u001B[39;49m\u001B[43mget_loc\u001B[49m\u001B[43m(\u001B[49m\u001B[43mkey\u001B[49m\u001B[43m)\u001B[49m\n\u001B[1;32m   3506\u001B[0m \u001B[38;5;28;01mif\u001B[39;00m is_integer(indexer):\n\u001B[1;32m   3507\u001B[0m     indexer \u001B[38;5;241m=\u001B[39m [indexer]\n",
      "File \u001B[0;32m~/lib/python3.8/site-packages/pandas/core/indexes/base.py:3623\u001B[0m, in \u001B[0;36mIndex.get_loc\u001B[0;34m(self, key, method, tolerance)\u001B[0m\n\u001B[1;32m   3621\u001B[0m     \u001B[38;5;28;01mreturn\u001B[39;00m \u001B[38;5;28mself\u001B[39m\u001B[38;5;241m.\u001B[39m_engine\u001B[38;5;241m.\u001B[39mget_loc(casted_key)\n\u001B[1;32m   3622\u001B[0m \u001B[38;5;28;01mexcept\u001B[39;00m \u001B[38;5;167;01mKeyError\u001B[39;00m \u001B[38;5;28;01mas\u001B[39;00m err:\n\u001B[0;32m-> 3623\u001B[0m     \u001B[38;5;28;01mraise\u001B[39;00m \u001B[38;5;167;01mKeyError\u001B[39;00m(key) \u001B[38;5;28;01mfrom\u001B[39;00m \u001B[38;5;21;01merr\u001B[39;00m\n\u001B[1;32m   3624\u001B[0m \u001B[38;5;28;01mexcept\u001B[39;00m \u001B[38;5;167;01mTypeError\u001B[39;00m:\n\u001B[1;32m   3625\u001B[0m     \u001B[38;5;66;03m# If we have a listlike key, _check_indexing_error will raise\u001B[39;00m\n\u001B[1;32m   3626\u001B[0m     \u001B[38;5;66;03m#  InvalidIndexError. Otherwise we fall through and re-raise\u001B[39;00m\n\u001B[1;32m   3627\u001B[0m     \u001B[38;5;66;03m#  the TypeError.\u001B[39;00m\n\u001B[1;32m   3628\u001B[0m     \u001B[38;5;28mself\u001B[39m\u001B[38;5;241m.\u001B[39m_check_indexing_error(key)\n",
      "\u001B[0;31mKeyError\u001B[0m: 'team_name'"
     ]
    }
   ],
   "source": [
    "# error when in for\n",
    "encoder = TargetEncoder()\n",
    "for column in ['team_name', 'opponent']:\n",
    "    print(\"in\")\n",
    "    x_train[f'encoded_{column}'] = encoder.fit_transform(x_train[column], y_train)\n",
    "    print(\"out\")\n",
    "    # x_train.drop(['season'], axis=1, inplace=True)"
   ],
   "metadata": {
    "collapsed": false,
    "pycharm": {
     "name": "#%%\n"
    }
   }
  },
  {
   "cell_type": "code",
   "execution_count": 22,
   "outputs": [
    {
     "data": {
      "text/plain": "                action_type combined_shot_type  game_event_id   game_id  \\\n0                 Jump Shot          Jump Shot             12  20000012   \n1                 Jump Shot          Jump Shot             35  20000012   \n2                 Jump Shot          Jump Shot             43  20000012   \n3         Driving Dunk Shot               Dunk            155  20000012   \n4                 Jump Shot          Jump Shot            244  20000012   \n...                     ...                ...            ...       ...   \n21978     Running Jump Shot          Jump Shot            214  40000022   \n21979             Jump Shot          Jump Shot            261  40000022   \n21980             Jump Shot          Jump Shot            336  40000022   \n21981  Turnaround Jump Shot          Jump Shot            385  40000022   \n21982             Jump Shot          Jump Shot            411  40000022   \n\n           lat  loc_x  loc_y       lon  period  playoffs  ...  opponent  \\\n0      34.0443   -157      0 -118.4268       1         0  ...       POR   \n1      33.9093   -101    135 -118.3708       1         0  ...       POR   \n2      33.8693    138    175 -118.1318       1         0  ...       POR   \n3      34.0443      0      0 -118.2698       2         0  ...       POR   \n4      34.0553   -145    -11 -118.4148       3         0  ...       POR   \n...        ...    ...    ...       ...     ...       ...  ...       ...   \n21978  34.0353     41      9 -118.2288       2         1  ...       POR   \n21979  33.9953   -202     49 -118.4718       3         1  ...       POR   \n21980  34.0403   -195      4 -118.4648       3         1  ...       POR   \n21981  33.9573   -166     87 -118.4358       4         1  ...       POR   \n21982  33.8443    153    200 -118.1168       4         1  ...       POR   \n\n      shot_id time_remaining points season_avg  plus_minus    FGP month  \\\n0           2            622      8      18.26      -10.26  0.444    10   \n1           3            465      8      18.26      -10.26  0.444    10   \n2           4            412      8      18.26      -10.26  0.444    10   \n3           5            379      8      18.26      -10.26  0.444    10   \n4           6            572      8      18.26      -10.26  0.444    10   \n...       ...            ...    ...        ...         ...    ...   ...   \n21978   26245             88     14      18.26       -4.26  0.389     4   \n21979   26247            584     14      18.26       -4.26  0.389     4   \n21980   26250             33     14      18.26       -4.26  0.389     4   \n21981   26251            457     14      18.26       -4.26  0.389     4   \n21982   26252            301     14      18.26       -4.26  0.389     4   \n\n        encoded encoded_team_name  \n0      0.477064          0.477064  \n1      0.477064          0.477064  \n2      0.477064          0.477064  \n3      0.477064          0.477064  \n4      0.477064          0.477064  \n...         ...               ...  \n21978  0.477064          0.477064  \n21979  0.477064          0.477064  \n21980  0.477064          0.477064  \n21981  0.477064          0.477064  \n21982  0.477064          0.477064  \n\n[109 rows x 29 columns]",
      "text/html": "<div>\n<style scoped>\n    .dataframe tbody tr th:only-of-type {\n        vertical-align: middle;\n    }\n\n    .dataframe tbody tr th {\n        vertical-align: top;\n    }\n\n    .dataframe thead th {\n        text-align: right;\n    }\n</style>\n<table border=\"1\" class=\"dataframe\">\n  <thead>\n    <tr style=\"text-align: right;\">\n      <th></th>\n      <th>action_type</th>\n      <th>combined_shot_type</th>\n      <th>game_event_id</th>\n      <th>game_id</th>\n      <th>lat</th>\n      <th>loc_x</th>\n      <th>loc_y</th>\n      <th>lon</th>\n      <th>period</th>\n      <th>playoffs</th>\n      <th>...</th>\n      <th>opponent</th>\n      <th>shot_id</th>\n      <th>time_remaining</th>\n      <th>points</th>\n      <th>season_avg</th>\n      <th>plus_minus</th>\n      <th>FGP</th>\n      <th>month</th>\n      <th>encoded</th>\n      <th>encoded_team_name</th>\n    </tr>\n  </thead>\n  <tbody>\n    <tr>\n      <th>0</th>\n      <td>Jump Shot</td>\n      <td>Jump Shot</td>\n      <td>12</td>\n      <td>20000012</td>\n      <td>34.0443</td>\n      <td>-157</td>\n      <td>0</td>\n      <td>-118.4268</td>\n      <td>1</td>\n      <td>0</td>\n      <td>...</td>\n      <td>POR</td>\n      <td>2</td>\n      <td>622</td>\n      <td>8</td>\n      <td>18.26</td>\n      <td>-10.26</td>\n      <td>0.444</td>\n      <td>10</td>\n      <td>0.477064</td>\n      <td>0.477064</td>\n    </tr>\n    <tr>\n      <th>1</th>\n      <td>Jump Shot</td>\n      <td>Jump Shot</td>\n      <td>35</td>\n      <td>20000012</td>\n      <td>33.9093</td>\n      <td>-101</td>\n      <td>135</td>\n      <td>-118.3708</td>\n      <td>1</td>\n      <td>0</td>\n      <td>...</td>\n      <td>POR</td>\n      <td>3</td>\n      <td>465</td>\n      <td>8</td>\n      <td>18.26</td>\n      <td>-10.26</td>\n      <td>0.444</td>\n      <td>10</td>\n      <td>0.477064</td>\n      <td>0.477064</td>\n    </tr>\n    <tr>\n      <th>2</th>\n      <td>Jump Shot</td>\n      <td>Jump Shot</td>\n      <td>43</td>\n      <td>20000012</td>\n      <td>33.8693</td>\n      <td>138</td>\n      <td>175</td>\n      <td>-118.1318</td>\n      <td>1</td>\n      <td>0</td>\n      <td>...</td>\n      <td>POR</td>\n      <td>4</td>\n      <td>412</td>\n      <td>8</td>\n      <td>18.26</td>\n      <td>-10.26</td>\n      <td>0.444</td>\n      <td>10</td>\n      <td>0.477064</td>\n      <td>0.477064</td>\n    </tr>\n    <tr>\n      <th>3</th>\n      <td>Driving Dunk Shot</td>\n      <td>Dunk</td>\n      <td>155</td>\n      <td>20000012</td>\n      <td>34.0443</td>\n      <td>0</td>\n      <td>0</td>\n      <td>-118.2698</td>\n      <td>2</td>\n      <td>0</td>\n      <td>...</td>\n      <td>POR</td>\n      <td>5</td>\n      <td>379</td>\n      <td>8</td>\n      <td>18.26</td>\n      <td>-10.26</td>\n      <td>0.444</td>\n      <td>10</td>\n      <td>0.477064</td>\n      <td>0.477064</td>\n    </tr>\n    <tr>\n      <th>4</th>\n      <td>Jump Shot</td>\n      <td>Jump Shot</td>\n      <td>244</td>\n      <td>20000012</td>\n      <td>34.0553</td>\n      <td>-145</td>\n      <td>-11</td>\n      <td>-118.4148</td>\n      <td>3</td>\n      <td>0</td>\n      <td>...</td>\n      <td>POR</td>\n      <td>6</td>\n      <td>572</td>\n      <td>8</td>\n      <td>18.26</td>\n      <td>-10.26</td>\n      <td>0.444</td>\n      <td>10</td>\n      <td>0.477064</td>\n      <td>0.477064</td>\n    </tr>\n    <tr>\n      <th>...</th>\n      <td>...</td>\n      <td>...</td>\n      <td>...</td>\n      <td>...</td>\n      <td>...</td>\n      <td>...</td>\n      <td>...</td>\n      <td>...</td>\n      <td>...</td>\n      <td>...</td>\n      <td>...</td>\n      <td>...</td>\n      <td>...</td>\n      <td>...</td>\n      <td>...</td>\n      <td>...</td>\n      <td>...</td>\n      <td>...</td>\n      <td>...</td>\n      <td>...</td>\n      <td>...</td>\n    </tr>\n    <tr>\n      <th>21978</th>\n      <td>Running Jump Shot</td>\n      <td>Jump Shot</td>\n      <td>214</td>\n      <td>40000022</td>\n      <td>34.0353</td>\n      <td>41</td>\n      <td>9</td>\n      <td>-118.2288</td>\n      <td>2</td>\n      <td>1</td>\n      <td>...</td>\n      <td>POR</td>\n      <td>26245</td>\n      <td>88</td>\n      <td>14</td>\n      <td>18.26</td>\n      <td>-4.26</td>\n      <td>0.389</td>\n      <td>4</td>\n      <td>0.477064</td>\n      <td>0.477064</td>\n    </tr>\n    <tr>\n      <th>21979</th>\n      <td>Jump Shot</td>\n      <td>Jump Shot</td>\n      <td>261</td>\n      <td>40000022</td>\n      <td>33.9953</td>\n      <td>-202</td>\n      <td>49</td>\n      <td>-118.4718</td>\n      <td>3</td>\n      <td>1</td>\n      <td>...</td>\n      <td>POR</td>\n      <td>26247</td>\n      <td>584</td>\n      <td>14</td>\n      <td>18.26</td>\n      <td>-4.26</td>\n      <td>0.389</td>\n      <td>4</td>\n      <td>0.477064</td>\n      <td>0.477064</td>\n    </tr>\n    <tr>\n      <th>21980</th>\n      <td>Jump Shot</td>\n      <td>Jump Shot</td>\n      <td>336</td>\n      <td>40000022</td>\n      <td>34.0403</td>\n      <td>-195</td>\n      <td>4</td>\n      <td>-118.4648</td>\n      <td>3</td>\n      <td>1</td>\n      <td>...</td>\n      <td>POR</td>\n      <td>26250</td>\n      <td>33</td>\n      <td>14</td>\n      <td>18.26</td>\n      <td>-4.26</td>\n      <td>0.389</td>\n      <td>4</td>\n      <td>0.477064</td>\n      <td>0.477064</td>\n    </tr>\n    <tr>\n      <th>21981</th>\n      <td>Turnaround Jump Shot</td>\n      <td>Jump Shot</td>\n      <td>385</td>\n      <td>40000022</td>\n      <td>33.9573</td>\n      <td>-166</td>\n      <td>87</td>\n      <td>-118.4358</td>\n      <td>4</td>\n      <td>1</td>\n      <td>...</td>\n      <td>POR</td>\n      <td>26251</td>\n      <td>457</td>\n      <td>14</td>\n      <td>18.26</td>\n      <td>-4.26</td>\n      <td>0.389</td>\n      <td>4</td>\n      <td>0.477064</td>\n      <td>0.477064</td>\n    </tr>\n    <tr>\n      <th>21982</th>\n      <td>Jump Shot</td>\n      <td>Jump Shot</td>\n      <td>411</td>\n      <td>40000022</td>\n      <td>33.8443</td>\n      <td>153</td>\n      <td>200</td>\n      <td>-118.1168</td>\n      <td>4</td>\n      <td>1</td>\n      <td>...</td>\n      <td>POR</td>\n      <td>26252</td>\n      <td>301</td>\n      <td>14</td>\n      <td>18.26</td>\n      <td>-4.26</td>\n      <td>0.389</td>\n      <td>4</td>\n      <td>0.477064</td>\n      <td>0.477064</td>\n    </tr>\n  </tbody>\n</table>\n<p>109 rows × 29 columns</p>\n</div>"
     },
     "execution_count": 22,
     "metadata": {},
     "output_type": "execute_result"
    }
   ],
   "source": [
    "x_train"
   ],
   "metadata": {
    "collapsed": false,
    "pycharm": {
     "name": "#%%\n"
    }
   }
  },
  {
   "cell_type": "code",
   "execution_count": 170,
   "outputs": [
    {
     "ename": "ValueError",
     "evalue": "Expected a 1D array, got an array with shape (109, 28)",
     "output_type": "error",
     "traceback": [
      "\u001B[0;31m---------------------------------------------------------------------------\u001B[0m",
      "\u001B[0;31mKeyError\u001B[0m                                  Traceback (most recent call last)",
      "File \u001B[0;32m~/lib/python3.8/site-packages/pandas/core/indexes/base.py:3621\u001B[0m, in \u001B[0;36mIndex.get_loc\u001B[0;34m(self, key, method, tolerance)\u001B[0m\n\u001B[1;32m   3620\u001B[0m \u001B[38;5;28;01mtry\u001B[39;00m:\n\u001B[0;32m-> 3621\u001B[0m     \u001B[38;5;28;01mreturn\u001B[39;00m \u001B[38;5;28;43mself\u001B[39;49m\u001B[38;5;241;43m.\u001B[39;49m\u001B[43m_engine\u001B[49m\u001B[38;5;241;43m.\u001B[39;49m\u001B[43mget_loc\u001B[49m\u001B[43m(\u001B[49m\u001B[43mcasted_key\u001B[49m\u001B[43m)\u001B[49m\n\u001B[1;32m   3622\u001B[0m \u001B[38;5;28;01mexcept\u001B[39;00m \u001B[38;5;167;01mKeyError\u001B[39;00m \u001B[38;5;28;01mas\u001B[39;00m err:\n",
      "File \u001B[0;32m~/lib/python3.8/site-packages/pandas/_libs/index.pyx:136\u001B[0m, in \u001B[0;36mpandas._libs.index.IndexEngine.get_loc\u001B[0;34m()\u001B[0m\n",
      "File \u001B[0;32m~/lib/python3.8/site-packages/pandas/_libs/index.pyx:163\u001B[0m, in \u001B[0;36mpandas._libs.index.IndexEngine.get_loc\u001B[0;34m()\u001B[0m\n",
      "File \u001B[0;32mpandas/_libs/hashtable_class_helper.pxi:5198\u001B[0m, in \u001B[0;36mpandas._libs.hashtable.PyObjectHashTable.get_item\u001B[0;34m()\u001B[0m\n",
      "File \u001B[0;32mpandas/_libs/hashtable_class_helper.pxi:5206\u001B[0m, in \u001B[0;36mpandas._libs.hashtable.PyObjectHashTable.get_item\u001B[0;34m()\u001B[0m\n",
      "\u001B[0;31mKeyError\u001B[0m: 'encoded shot_type'",
      "\nThe above exception was the direct cause of the following exception:\n",
      "\u001B[0;31mKeyError\u001B[0m                                  Traceback (most recent call last)",
      "File \u001B[0;32m~/lib/python3.8/site-packages/pandas/core/frame.py:3799\u001B[0m, in \u001B[0;36mDataFrame._set_item_mgr\u001B[0;34m(self, key, value)\u001B[0m\n\u001B[1;32m   3798\u001B[0m \u001B[38;5;28;01mtry\u001B[39;00m:\n\u001B[0;32m-> 3799\u001B[0m     loc \u001B[38;5;241m=\u001B[39m \u001B[38;5;28;43mself\u001B[39;49m\u001B[38;5;241;43m.\u001B[39;49m\u001B[43m_info_axis\u001B[49m\u001B[38;5;241;43m.\u001B[39;49m\u001B[43mget_loc\u001B[49m\u001B[43m(\u001B[49m\u001B[43mkey\u001B[49m\u001B[43m)\u001B[49m\n\u001B[1;32m   3800\u001B[0m \u001B[38;5;28;01mexcept\u001B[39;00m \u001B[38;5;167;01mKeyError\u001B[39;00m:\n\u001B[1;32m   3801\u001B[0m     \u001B[38;5;66;03m# This item wasn't present, just insert at end\u001B[39;00m\n",
      "File \u001B[0;32m~/lib/python3.8/site-packages/pandas/core/indexes/base.py:3623\u001B[0m, in \u001B[0;36mIndex.get_loc\u001B[0;34m(self, key, method, tolerance)\u001B[0m\n\u001B[1;32m   3622\u001B[0m \u001B[38;5;28;01mexcept\u001B[39;00m \u001B[38;5;167;01mKeyError\u001B[39;00m \u001B[38;5;28;01mas\u001B[39;00m err:\n\u001B[0;32m-> 3623\u001B[0m     \u001B[38;5;28;01mraise\u001B[39;00m \u001B[38;5;167;01mKeyError\u001B[39;00m(key) \u001B[38;5;28;01mfrom\u001B[39;00m \u001B[38;5;21;01merr\u001B[39;00m\n\u001B[1;32m   3624\u001B[0m \u001B[38;5;28;01mexcept\u001B[39;00m \u001B[38;5;167;01mTypeError\u001B[39;00m:\n\u001B[1;32m   3625\u001B[0m     \u001B[38;5;66;03m# If we have a listlike key, _check_indexing_error will raise\u001B[39;00m\n\u001B[1;32m   3626\u001B[0m     \u001B[38;5;66;03m#  InvalidIndexError. Otherwise we fall through and re-raise\u001B[39;00m\n\u001B[1;32m   3627\u001B[0m     \u001B[38;5;66;03m#  the TypeError.\u001B[39;00m\n",
      "\u001B[0;31mKeyError\u001B[0m: 'encoded shot_type'",
      "\nDuring handling of the above exception, another exception occurred:\n",
      "\u001B[0;31mValueError\u001B[0m                                Traceback (most recent call last)",
      "Input \u001B[0;32mIn [170]\u001B[0m, in \u001B[0;36m<cell line: 1>\u001B[0;34m()\u001B[0m\n\u001B[0;32m----> 1\u001B[0m \u001B[43mtarget_encoding\u001B[49m\u001B[43m(\u001B[49m\u001B[43mx_train\u001B[49m\u001B[43m,\u001B[49m\u001B[43m \u001B[49m\u001B[43my_train\u001B[49m\u001B[43m)\u001B[49m\n",
      "Input \u001B[0;32mIn [143]\u001B[0m, in \u001B[0;36mtarget_encoding\u001B[0;34m(df_x, df_y)\u001B[0m\n\u001B[1;32m      3\u001B[0m features_to_encode \u001B[38;5;241m=\u001B[39m [\u001B[38;5;124m'\u001B[39m\u001B[38;5;124mseason\u001B[39m\u001B[38;5;124m'\u001B[39m, \u001B[38;5;124m'\u001B[39m\u001B[38;5;124mshot_type\u001B[39m\u001B[38;5;124m'\u001B[39m, \u001B[38;5;124m'\u001B[39m\u001B[38;5;124mshot_zone_area\u001B[39m\u001B[38;5;124m'\u001B[39m, \u001B[38;5;124m'\u001B[39m\u001B[38;5;124mshot_zone_basic\u001B[39m\u001B[38;5;124m'\u001B[39m, \u001B[38;5;124m'\u001B[39m\u001B[38;5;124mshot_zone_range\u001B[39m\u001B[38;5;124m'\u001B[39m, \u001B[38;5;124m'\u001B[39m\u001B[38;5;124mopponent\u001B[39m\u001B[38;5;124m'\u001B[39m, \u001B[38;5;124m'\u001B[39m\u001B[38;5;124maction_type\u001B[39m\u001B[38;5;124m'\u001B[39m, \u001B[38;5;124m'\u001B[39m\u001B[38;5;124mmatchup\u001B[39m\u001B[38;5;124m'\u001B[39m]\n\u001B[1;32m      4\u001B[0m \u001B[38;5;66;03m# print(df_x.columns)\u001B[39;00m\n\u001B[1;32m      5\u001B[0m \u001B[38;5;66;03m# print(type(df_y))\u001B[39;00m\n\u001B[1;32m      6\u001B[0m \u001B[38;5;66;03m# for feature in features_to_encode:\u001B[39;00m\n\u001B[0;32m----> 7\u001B[0m df_x[\u001B[38;5;124mf\u001B[39m\u001B[38;5;124m'\u001B[39m\u001B[38;5;124mencoded \u001B[39m\u001B[38;5;132;01m{\u001B[39;00mfeature\u001B[38;5;132;01m}\u001B[39;00m\u001B[38;5;124m'\u001B[39m] \u001B[38;5;241m=\u001B[39m encoder\u001B[38;5;241m.\u001B[39mfit_transform(df_x, df_y)\n\u001B[1;32m      8\u001B[0m df_x\u001B[38;5;241m.\u001B[39mdrop([feature], axis\u001B[38;5;241m=\u001B[39m\u001B[38;5;241m1\u001B[39m, inplace\u001B[38;5;241m=\u001B[39m\u001B[38;5;28;01mTrue\u001B[39;00m)\n\u001B[1;32m      9\u001B[0m \u001B[38;5;28;01mreturn\u001B[39;00m df_x, df_y\n",
      "File \u001B[0;32m~/lib/python3.8/site-packages/pandas/core/frame.py:3645\u001B[0m, in \u001B[0;36mDataFrame.__setitem__\u001B[0;34m(self, key, value)\u001B[0m\n\u001B[1;32m   3643\u001B[0m     \u001B[38;5;28mself\u001B[39m\u001B[38;5;241m.\u001B[39m_setitem_array(key, value)\n\u001B[1;32m   3644\u001B[0m \u001B[38;5;28;01melif\u001B[39;00m \u001B[38;5;28misinstance\u001B[39m(value, DataFrame):\n\u001B[0;32m-> 3645\u001B[0m     \u001B[38;5;28;43mself\u001B[39;49m\u001B[38;5;241;43m.\u001B[39;49m\u001B[43m_set_item_frame_value\u001B[49m\u001B[43m(\u001B[49m\u001B[43mkey\u001B[49m\u001B[43m,\u001B[49m\u001B[43m \u001B[49m\u001B[43mvalue\u001B[49m\u001B[43m)\u001B[49m\n\u001B[1;32m   3646\u001B[0m \u001B[38;5;28;01melif\u001B[39;00m (\n\u001B[1;32m   3647\u001B[0m     is_list_like(value)\n\u001B[1;32m   3648\u001B[0m     \u001B[38;5;129;01mand\u001B[39;00m \u001B[38;5;129;01mnot\u001B[39;00m \u001B[38;5;28mself\u001B[39m\u001B[38;5;241m.\u001B[39mcolumns\u001B[38;5;241m.\u001B[39mis_unique\n\u001B[1;32m   3649\u001B[0m     \u001B[38;5;129;01mand\u001B[39;00m \u001B[38;5;241m1\u001B[39m \u001B[38;5;241m<\u001B[39m \u001B[38;5;28mlen\u001B[39m(\u001B[38;5;28mself\u001B[39m\u001B[38;5;241m.\u001B[39mcolumns\u001B[38;5;241m.\u001B[39mget_indexer_for([key])) \u001B[38;5;241m==\u001B[39m \u001B[38;5;28mlen\u001B[39m(value)\n\u001B[1;32m   3650\u001B[0m ):\n\u001B[1;32m   3651\u001B[0m     \u001B[38;5;66;03m# Column to set is duplicated\u001B[39;00m\n\u001B[1;32m   3652\u001B[0m     \u001B[38;5;28mself\u001B[39m\u001B[38;5;241m.\u001B[39m_setitem_array([key], value)\n",
      "File \u001B[0;32m~/lib/python3.8/site-packages/pandas/core/frame.py:3788\u001B[0m, in \u001B[0;36mDataFrame._set_item_frame_value\u001B[0;34m(self, key, value)\u001B[0m\n\u001B[1;32m   3786\u001B[0m \u001B[38;5;66;03m# now align rows\u001B[39;00m\n\u001B[1;32m   3787\u001B[0m arraylike \u001B[38;5;241m=\u001B[39m _reindex_for_setitem(value, \u001B[38;5;28mself\u001B[39m\u001B[38;5;241m.\u001B[39mindex)\n\u001B[0;32m-> 3788\u001B[0m \u001B[38;5;28;43mself\u001B[39;49m\u001B[38;5;241;43m.\u001B[39;49m\u001B[43m_set_item_mgr\u001B[49m\u001B[43m(\u001B[49m\u001B[43mkey\u001B[49m\u001B[43m,\u001B[49m\u001B[43m \u001B[49m\u001B[43marraylike\u001B[49m\u001B[43m)\u001B[49m\n",
      "File \u001B[0;32m~/lib/python3.8/site-packages/pandas/core/frame.py:3802\u001B[0m, in \u001B[0;36mDataFrame._set_item_mgr\u001B[0;34m(self, key, value)\u001B[0m\n\u001B[1;32m   3799\u001B[0m     loc \u001B[38;5;241m=\u001B[39m \u001B[38;5;28mself\u001B[39m\u001B[38;5;241m.\u001B[39m_info_axis\u001B[38;5;241m.\u001B[39mget_loc(key)\n\u001B[1;32m   3800\u001B[0m \u001B[38;5;28;01mexcept\u001B[39;00m \u001B[38;5;167;01mKeyError\u001B[39;00m:\n\u001B[1;32m   3801\u001B[0m     \u001B[38;5;66;03m# This item wasn't present, just insert at end\u001B[39;00m\n\u001B[0;32m-> 3802\u001B[0m     \u001B[38;5;28;43mself\u001B[39;49m\u001B[38;5;241;43m.\u001B[39;49m\u001B[43m_mgr\u001B[49m\u001B[38;5;241;43m.\u001B[39;49m\u001B[43minsert\u001B[49m\u001B[43m(\u001B[49m\u001B[38;5;28;43mlen\u001B[39;49m\u001B[43m(\u001B[49m\u001B[38;5;28;43mself\u001B[39;49m\u001B[38;5;241;43m.\u001B[39;49m\u001B[43m_info_axis\u001B[49m\u001B[43m)\u001B[49m\u001B[43m,\u001B[49m\u001B[43m \u001B[49m\u001B[43mkey\u001B[49m\u001B[43m,\u001B[49m\u001B[43m \u001B[49m\u001B[43mvalue\u001B[49m\u001B[43m)\u001B[49m\n\u001B[1;32m   3803\u001B[0m \u001B[38;5;28;01melse\u001B[39;00m:\n\u001B[1;32m   3804\u001B[0m     \u001B[38;5;28mself\u001B[39m\u001B[38;5;241m.\u001B[39m_iset_item_mgr(loc, value)\n",
      "File \u001B[0;32m~/lib/python3.8/site-packages/pandas/core/internals/managers.py:1235\u001B[0m, in \u001B[0;36mBlockManager.insert\u001B[0;34m(self, loc, item, value)\u001B[0m\n\u001B[1;32m   1233\u001B[0m     value \u001B[38;5;241m=\u001B[39m value\u001B[38;5;241m.\u001B[39mT\n\u001B[1;32m   1234\u001B[0m     \u001B[38;5;28;01mif\u001B[39;00m \u001B[38;5;28mlen\u001B[39m(value) \u001B[38;5;241m>\u001B[39m \u001B[38;5;241m1\u001B[39m:\n\u001B[0;32m-> 1235\u001B[0m         \u001B[38;5;28;01mraise\u001B[39;00m \u001B[38;5;167;01mValueError\u001B[39;00m(\n\u001B[1;32m   1236\u001B[0m             \u001B[38;5;124mf\u001B[39m\u001B[38;5;124m\"\u001B[39m\u001B[38;5;124mExpected a 1D array, got an array with shape \u001B[39m\u001B[38;5;132;01m{\u001B[39;00mvalue\u001B[38;5;241m.\u001B[39mT\u001B[38;5;241m.\u001B[39mshape\u001B[38;5;132;01m}\u001B[39;00m\u001B[38;5;124m\"\u001B[39m\n\u001B[1;32m   1237\u001B[0m         )\n\u001B[1;32m   1238\u001B[0m \u001B[38;5;28;01melse\u001B[39;00m:\n\u001B[1;32m   1239\u001B[0m     value \u001B[38;5;241m=\u001B[39m ensure_block_shape(value, ndim\u001B[38;5;241m=\u001B[39m\u001B[38;5;28mself\u001B[39m\u001B[38;5;241m.\u001B[39mndim)\n",
      "\u001B[0;31mValueError\u001B[0m: Expected a 1D array, got an array with shape (109, 28)"
     ]
    }
   ],
   "source": [
    "target_encoding(x_train, y_train)"
   ],
   "metadata": {
    "collapsed": false,
    "pycharm": {
     "name": "#%%\n"
    }
   }
  },
  {
   "cell_type": "code",
   "execution_count": 82,
   "outputs": [],
   "source": [],
   "metadata": {
    "collapsed": false,
    "pycharm": {
     "name": "#%%\n"
    }
   }
  },
  {
   "cell_type": "markdown",
   "source": [
    "# Splitting the dataset"
   ],
   "metadata": {
    "collapsed": false,
    "pycharm": {
     "name": "#%% md\n"
    }
   }
  },
  {
   "cell_type": "code",
   "execution_count": 158,
   "outputs": [
    {
     "data": {
      "text/plain": "                   action_type combined_shot_type  game_event_id   game_id  \\\n2650                 Dunk Shot               Dunk              3  20200014   \n2651      Turnaround Jump Shot          Jump Shot             17  20200014   \n2652                 Jump Shot          Jump Shot             65  20200014   \n2653      Alley Oop Layup shot              Layup             71  20200014   \n2654                 Jump Shot          Jump Shot            115  20200014   \n...                        ...                ...            ...       ...   \n5208  Driving Finger Roll Shot              Layup            525  20301187   \n5209        Fadeaway Jump Shot          Jump Shot            532  20301187   \n5210                 Jump Shot          Jump Shot            538  20301187   \n5211                 Jump Shot          Jump Shot            546  20301187   \n5212                 Jump Shot          Jump Shot            558  20301187   \n\n          lat  loc_x  loc_y       lon  period  playoffs  ...  opponent  \\\n2650  34.0443      0      0 -118.2698       1         0  ...       POR   \n2651  34.0443    174      0 -118.0958       1         0  ...       POR   \n2652  33.8023     49    242 -118.2208       1         0  ...       POR   \n2653  34.0443      0      0 -118.2698       1         0  ...       POR   \n2654  33.8303      0    214 -118.2698       2         0  ...       POR   \n...       ...    ...    ...       ...     ...       ...  ...       ...   \n5208  34.0443      0      0 -118.2698       6         0  ...       POR   \n5209  33.9293    146    115 -118.1238       6         0  ...       POR   \n5210  33.7973     15    247 -118.2548       6         0  ...       POR   \n5211  33.8523   -133    192 -118.4028       6         0  ...       POR   \n5212  33.8833   -200    161 -118.4698       6         0  ...       POR   \n\n     shot_id time_remaining points  season_avg plus_minus    FGP month  \\\n2650    3137            710     17       18.49      -1.49  0.438    10   \n2651    3139            574     17       18.49      -1.49  0.438    10   \n2652    3140            232     17       18.49      -1.49  0.438    10   \n2653    3142            178     17       18.49      -1.49  0.438    10   \n2654    3143            710     17       18.49      -1.49  0.438    10   \n...      ...            ...    ...         ...        ...    ...   ...   \n5208    6205            211     30       14.76      15.24  0.481     4   \n5209    6206            147     30       14.76      15.24  0.481     4   \n5210    6207            102     30       14.76      15.24  0.481     4   \n5211    6208              9     30       14.76      15.24  0.481     4   \n5212    6209              0     30       14.76      15.24  0.481     4   \n\n     encoded season  encoded shot_type  \n2650       0.533333           0.557522  \n2651       0.533333           0.557522  \n2652       0.533333           0.307692  \n2653       0.533333           0.557522  \n2654       0.533333           0.557522  \n...             ...                ...  \n5208       0.454545           0.557522  \n5209       0.454545           0.557522  \n5210       0.454545           0.307692  \n5211       0.454545           0.557522  \n5212       0.454545           0.307692  \n\n[152 rows x 28 columns]",
      "text/html": "<div>\n<style scoped>\n    .dataframe tbody tr th:only-of-type {\n        vertical-align: middle;\n    }\n\n    .dataframe tbody tr th {\n        vertical-align: top;\n    }\n\n    .dataframe thead th {\n        text-align: right;\n    }\n</style>\n<table border=\"1\" class=\"dataframe\">\n  <thead>\n    <tr style=\"text-align: right;\">\n      <th></th>\n      <th>action_type</th>\n      <th>combined_shot_type</th>\n      <th>game_event_id</th>\n      <th>game_id</th>\n      <th>lat</th>\n      <th>loc_x</th>\n      <th>loc_y</th>\n      <th>lon</th>\n      <th>period</th>\n      <th>playoffs</th>\n      <th>...</th>\n      <th>opponent</th>\n      <th>shot_id</th>\n      <th>time_remaining</th>\n      <th>points</th>\n      <th>season_avg</th>\n      <th>plus_minus</th>\n      <th>FGP</th>\n      <th>month</th>\n      <th>encoded season</th>\n      <th>encoded shot_type</th>\n    </tr>\n  </thead>\n  <tbody>\n    <tr>\n      <th>2650</th>\n      <td>Dunk Shot</td>\n      <td>Dunk</td>\n      <td>3</td>\n      <td>20200014</td>\n      <td>34.0443</td>\n      <td>0</td>\n      <td>0</td>\n      <td>-118.2698</td>\n      <td>1</td>\n      <td>0</td>\n      <td>...</td>\n      <td>POR</td>\n      <td>3137</td>\n      <td>710</td>\n      <td>17</td>\n      <td>18.49</td>\n      <td>-1.49</td>\n      <td>0.438</td>\n      <td>10</td>\n      <td>0.533333</td>\n      <td>0.557522</td>\n    </tr>\n    <tr>\n      <th>2651</th>\n      <td>Turnaround Jump Shot</td>\n      <td>Jump Shot</td>\n      <td>17</td>\n      <td>20200014</td>\n      <td>34.0443</td>\n      <td>174</td>\n      <td>0</td>\n      <td>-118.0958</td>\n      <td>1</td>\n      <td>0</td>\n      <td>...</td>\n      <td>POR</td>\n      <td>3139</td>\n      <td>574</td>\n      <td>17</td>\n      <td>18.49</td>\n      <td>-1.49</td>\n      <td>0.438</td>\n      <td>10</td>\n      <td>0.533333</td>\n      <td>0.557522</td>\n    </tr>\n    <tr>\n      <th>2652</th>\n      <td>Jump Shot</td>\n      <td>Jump Shot</td>\n      <td>65</td>\n      <td>20200014</td>\n      <td>33.8023</td>\n      <td>49</td>\n      <td>242</td>\n      <td>-118.2208</td>\n      <td>1</td>\n      <td>0</td>\n      <td>...</td>\n      <td>POR</td>\n      <td>3140</td>\n      <td>232</td>\n      <td>17</td>\n      <td>18.49</td>\n      <td>-1.49</td>\n      <td>0.438</td>\n      <td>10</td>\n      <td>0.533333</td>\n      <td>0.307692</td>\n    </tr>\n    <tr>\n      <th>2653</th>\n      <td>Alley Oop Layup shot</td>\n      <td>Layup</td>\n      <td>71</td>\n      <td>20200014</td>\n      <td>34.0443</td>\n      <td>0</td>\n      <td>0</td>\n      <td>-118.2698</td>\n      <td>1</td>\n      <td>0</td>\n      <td>...</td>\n      <td>POR</td>\n      <td>3142</td>\n      <td>178</td>\n      <td>17</td>\n      <td>18.49</td>\n      <td>-1.49</td>\n      <td>0.438</td>\n      <td>10</td>\n      <td>0.533333</td>\n      <td>0.557522</td>\n    </tr>\n    <tr>\n      <th>2654</th>\n      <td>Jump Shot</td>\n      <td>Jump Shot</td>\n      <td>115</td>\n      <td>20200014</td>\n      <td>33.8303</td>\n      <td>0</td>\n      <td>214</td>\n      <td>-118.2698</td>\n      <td>2</td>\n      <td>0</td>\n      <td>...</td>\n      <td>POR</td>\n      <td>3143</td>\n      <td>710</td>\n      <td>17</td>\n      <td>18.49</td>\n      <td>-1.49</td>\n      <td>0.438</td>\n      <td>10</td>\n      <td>0.533333</td>\n      <td>0.557522</td>\n    </tr>\n    <tr>\n      <th>...</th>\n      <td>...</td>\n      <td>...</td>\n      <td>...</td>\n      <td>...</td>\n      <td>...</td>\n      <td>...</td>\n      <td>...</td>\n      <td>...</td>\n      <td>...</td>\n      <td>...</td>\n      <td>...</td>\n      <td>...</td>\n      <td>...</td>\n      <td>...</td>\n      <td>...</td>\n      <td>...</td>\n      <td>...</td>\n      <td>...</td>\n      <td>...</td>\n      <td>...</td>\n      <td>...</td>\n    </tr>\n    <tr>\n      <th>5208</th>\n      <td>Driving Finger Roll Shot</td>\n      <td>Layup</td>\n      <td>525</td>\n      <td>20301187</td>\n      <td>34.0443</td>\n      <td>0</td>\n      <td>0</td>\n      <td>-118.2698</td>\n      <td>6</td>\n      <td>0</td>\n      <td>...</td>\n      <td>POR</td>\n      <td>6205</td>\n      <td>211</td>\n      <td>30</td>\n      <td>14.76</td>\n      <td>15.24</td>\n      <td>0.481</td>\n      <td>4</td>\n      <td>0.454545</td>\n      <td>0.557522</td>\n    </tr>\n    <tr>\n      <th>5209</th>\n      <td>Fadeaway Jump Shot</td>\n      <td>Jump Shot</td>\n      <td>532</td>\n      <td>20301187</td>\n      <td>33.9293</td>\n      <td>146</td>\n      <td>115</td>\n      <td>-118.1238</td>\n      <td>6</td>\n      <td>0</td>\n      <td>...</td>\n      <td>POR</td>\n      <td>6206</td>\n      <td>147</td>\n      <td>30</td>\n      <td>14.76</td>\n      <td>15.24</td>\n      <td>0.481</td>\n      <td>4</td>\n      <td>0.454545</td>\n      <td>0.557522</td>\n    </tr>\n    <tr>\n      <th>5210</th>\n      <td>Jump Shot</td>\n      <td>Jump Shot</td>\n      <td>538</td>\n      <td>20301187</td>\n      <td>33.7973</td>\n      <td>15</td>\n      <td>247</td>\n      <td>-118.2548</td>\n      <td>6</td>\n      <td>0</td>\n      <td>...</td>\n      <td>POR</td>\n      <td>6207</td>\n      <td>102</td>\n      <td>30</td>\n      <td>14.76</td>\n      <td>15.24</td>\n      <td>0.481</td>\n      <td>4</td>\n      <td>0.454545</td>\n      <td>0.307692</td>\n    </tr>\n    <tr>\n      <th>5211</th>\n      <td>Jump Shot</td>\n      <td>Jump Shot</td>\n      <td>546</td>\n      <td>20301187</td>\n      <td>33.8523</td>\n      <td>-133</td>\n      <td>192</td>\n      <td>-118.4028</td>\n      <td>6</td>\n      <td>0</td>\n      <td>...</td>\n      <td>POR</td>\n      <td>6208</td>\n      <td>9</td>\n      <td>30</td>\n      <td>14.76</td>\n      <td>15.24</td>\n      <td>0.481</td>\n      <td>4</td>\n      <td>0.454545</td>\n      <td>0.557522</td>\n    </tr>\n    <tr>\n      <th>5212</th>\n      <td>Jump Shot</td>\n      <td>Jump Shot</td>\n      <td>558</td>\n      <td>20301187</td>\n      <td>33.8833</td>\n      <td>-200</td>\n      <td>161</td>\n      <td>-118.4698</td>\n      <td>6</td>\n      <td>0</td>\n      <td>...</td>\n      <td>POR</td>\n      <td>6209</td>\n      <td>0</td>\n      <td>30</td>\n      <td>14.76</td>\n      <td>15.24</td>\n      <td>0.481</td>\n      <td>4</td>\n      <td>0.454545</td>\n      <td>0.307692</td>\n    </tr>\n  </tbody>\n</table>\n<p>152 rows × 28 columns</p>\n</div>"
     },
     "execution_count": 158,
     "metadata": {},
     "output_type": "execute_result"
    }
   ],
   "source": [
    "x_test"
   ],
   "metadata": {
    "collapsed": false,
    "pycharm": {
     "name": "#%%\n"
    }
   }
  },
  {
   "cell_type": "markdown",
   "source": [
    "## Random\n",
    "### Like this?"
   ],
   "metadata": {
    "collapsed": false,
    "pycharm": {
     "name": "#%% md\n"
    }
   }
  },
  {
   "cell_type": "code",
   "execution_count": 54,
   "outputs": [],
   "source": [
    "def split_random(df, train=None, test=None, validation=None):\n",
    "    # 80-20\n",
    "    train_data, rest_data = train_test_split(df, train_size=0.8, shuffle=False)\n",
    "    # test 10 val 10\n",
    "    validation_data, test_data = train_test_split(rest_data, test_size=0.5, shuffle=False)\n",
    "\n",
    "    print(f\"Size of training dataset {len(train_data)}\" )\n",
    "    print(f\"Size of validation dataset {len(validation_data)}\" )\n",
    "    print(f\"Size of test dataset {len(test_data)}\" )\n",
    "\n",
    "    # print(f\"Size of train vs test ratio {len(df_train) / (len(df_train) + len(df_test)) }\" )\n",
    "    return train_data, validation_data, test_data"
   ],
   "metadata": {
    "collapsed": false,
    "pycharm": {
     "name": "#%%\n"
    }
   }
  },
  {
   "cell_type": "code",
   "execution_count": 55,
   "outputs": [
    {
     "name": "stdout",
     "output_type": "stream",
     "text": [
      "Size of training dataset 20557\n",
      "Size of validation dataset 2570\n",
      "Size of test dataset 2570\n"
     ]
    }
   ],
   "source": [
    "a,b,c = split_random(df)"
   ],
   "metadata": {
    "collapsed": false,
    "pycharm": {
     "name": "#%%\n"
    }
   }
  },
  {
   "cell_type": "markdown",
   "source": [
    "## Regular (train), playoff (test)\n",
    "### Do we need train, test, validation here?"
   ],
   "metadata": {
    "collapsed": false,
    "pycharm": {
     "name": "#%% md\n"
    }
   }
  },
  {
   "cell_type": "code",
   "execution_count": 15,
   "outputs": [],
   "source": [
    "def split_x_y(df, target):\n",
    "    y = df.loc[:, [target]]\n",
    "    x = df.drop([target], axis=1)\n",
    "\n",
    "    return x, y\n"
   ],
   "metadata": {
    "collapsed": false,
    "pycharm": {
     "name": "#%%\n"
    }
   }
  },
  {
   "cell_type": "code",
   "execution_count": 57,
   "outputs": [],
   "source": [
    "def split_regular_playoff(df, season, train=None, test=None, validation=None):\n",
    "\n",
    "    # if(train + test + validation != 1):\n",
    "    #     print(\"Error dataset split\")\n",
    "    #     return None\n",
    "\n",
    "    df_validaiton = None\n",
    "\n",
    "    df_season = df[df['season'] == season]\n",
    "    isPlayoffs = df_season.playoffs == 1\n",
    "\n",
    "    df_train = df_season[~isPlayoffs]\n",
    "    df_test  = df_season[isPlayoffs]\n",
    "\n",
    "    print(f\"Size of training dataset {len(df_train)}\" )\n",
    "    print(f\"Size of test dataset {len(df_test)}\" )\n",
    "    print(f\"Size of train vs test ratio {len(df_train) / (len(df_train) + len(df_test)) }\" )\n",
    "\n",
    "    train = split_x_y(df_train, 'shot_made_flag')\n",
    "    test = split_x_y(df_test, 'shot_made_flag')\n",
    "    return train[0], train[1], test[0], test[1]"
   ],
   "metadata": {
    "collapsed": false,
    "pycharm": {
     "name": "#%%\n"
    }
   }
  },
  {
   "cell_type": "code",
   "execution_count": 58,
   "outputs": [
    {
     "name": "stdout",
     "output_type": "stream",
     "text": [
      "Size of training dataset 1360\n",
      "Size of test dataset 161\n",
      "Size of train vs test ratio 0.8941485864562788\n"
     ]
    }
   ],
   "source": [
    "x_train, y_train, x_test, y_test = split_regular_playoff(df, '2010-11')"
   ],
   "metadata": {
    "collapsed": false,
    "pycharm": {
     "name": "#%%\n"
    }
   }
  },
  {
   "cell_type": "markdown",
   "source": [
    "## Pick one team, train seasons before, test seasons after\n",
    "### Should we train on multiple seasons?\n"
   ],
   "metadata": {
    "collapsed": false,
    "pycharm": {
     "name": "#%% md\n"
    }
   }
  },
  {
   "cell_type": "code",
   "execution_count": 11,
   "outputs": [],
   "source": [
    "def split_team_season(df, opponent,  season_train, season_test, train=None, test=None, validation=None):\n",
    "\n",
    "    # if(train + test + validation != 1):\n",
    "    #     print(\"Error dataset split\")\n",
    "    #     return None\n",
    "\n",
    "    df_train = None\n",
    "    df_test = None\n",
    "    df_validaiton = None\n",
    "\n",
    "    if season_train == [] or season_test == []:\n",
    "        print(\"Empty seasons\")\n",
    "        return None\n",
    "\n",
    "    df_train = df[df['season'].isin(season_train)  & (df['opponent'] == opponent) ]\n",
    "    df_test = df[(df['season'].isin(season_test)) & (df['opponent'] == opponent) ]\n",
    "    print(f\"Testing vs {opponent}\\ntraining: {season_train}\\ntesting: {season_test}\" )\n",
    "    print(f\"Size of training dataset {len(df_train)}\" )\n",
    "    print(f\"Size of test dataset {len(df_test)}\" )\n",
    "    print(f\"Size of train vs test ratio {len(df_train) / (len(df_train) + len(df_test)) }\" )\n",
    "\n",
    "    train = split_x_y(df_train, 'shot_made_flag')\n",
    "    test = split_x_y(df_test, 'shot_made_flag')\n",
    "    return train[0], train[1], test[0], test[1]"
   ],
   "metadata": {
    "collapsed": false,
    "pycharm": {
     "name": "#%%\n"
    }
   }
  },
  {
   "cell_type": "code",
   "execution_count": 61,
   "outputs": [
    {
     "name": "stdout",
     "output_type": "stream",
     "text": [
      "Testing vs POR\n",
      "training: ['2000-01']\n",
      "testing: ['2002-03', '2003-04']\n",
      "Size of training dataset 109\n",
      "Size of test dataset 152\n",
      "Size of train vs test ratio 0.41762452107279696\n"
     ]
    }
   ],
   "source": [
    "x_train, y_train, x_test, y_test = split_team_season(df, 'POR', ['2000-01'], ['2002-03', '2003-04'] )\n"
   ],
   "metadata": {
    "collapsed": false,
    "pycharm": {
     "name": "#%%\n"
    }
   }
  },
  {
   "cell_type": "code",
   "execution_count": null,
   "outputs": [],
   "source": [],
   "metadata": {
    "collapsed": false,
    "pycharm": {
     "name": "#%%\n"
    }
   }
  },
  {
   "cell_type": "code",
   "execution_count": null,
   "outputs": [],
   "source": [],
   "metadata": {
    "collapsed": false,
    "pycharm": {
     "name": "#%%\n"
    }
   }
  },
  {
   "cell_type": "code",
   "execution_count": null,
   "outputs": [],
   "source": [],
   "metadata": {
    "collapsed": false,
    "pycharm": {
     "name": "#%%\n"
    }
   }
  },
  {
   "cell_type": "code",
   "execution_count": 110,
   "outputs": [
    {
     "ename": "KeyError",
     "evalue": "\"'season'\"",
     "output_type": "error",
     "traceback": [
      "\u001B[0;31m---------------------------------------------------------------------------\u001B[0m",
      "\u001B[0;31mKeyError\u001B[0m                                  Traceback (most recent call last)",
      "File \u001B[0;32m~/lib/python3.8/site-packages/pandas/core/indexes/base.py:3621\u001B[0m, in \u001B[0;36mIndex.get_loc\u001B[0;34m(self, key, method, tolerance)\u001B[0m\n\u001B[1;32m   3620\u001B[0m \u001B[38;5;28;01mtry\u001B[39;00m:\n\u001B[0;32m-> 3621\u001B[0m     \u001B[38;5;28;01mreturn\u001B[39;00m \u001B[38;5;28;43mself\u001B[39;49m\u001B[38;5;241;43m.\u001B[39;49m\u001B[43m_engine\u001B[49m\u001B[38;5;241;43m.\u001B[39;49m\u001B[43mget_loc\u001B[49m\u001B[43m(\u001B[49m\u001B[43mcasted_key\u001B[49m\u001B[43m)\u001B[49m\n\u001B[1;32m   3622\u001B[0m \u001B[38;5;28;01mexcept\u001B[39;00m \u001B[38;5;167;01mKeyError\u001B[39;00m \u001B[38;5;28;01mas\u001B[39;00m err:\n",
      "File \u001B[0;32m~/lib/python3.8/site-packages/pandas/_libs/index.pyx:136\u001B[0m, in \u001B[0;36mpandas._libs.index.IndexEngine.get_loc\u001B[0;34m()\u001B[0m\n",
      "File \u001B[0;32m~/lib/python3.8/site-packages/pandas/_libs/index.pyx:163\u001B[0m, in \u001B[0;36mpandas._libs.index.IndexEngine.get_loc\u001B[0;34m()\u001B[0m\n",
      "File \u001B[0;32mpandas/_libs/hashtable_class_helper.pxi:5198\u001B[0m, in \u001B[0;36mpandas._libs.hashtable.PyObjectHashTable.get_item\u001B[0;34m()\u001B[0m\n",
      "File \u001B[0;32mpandas/_libs/hashtable_class_helper.pxi:5206\u001B[0m, in \u001B[0;36mpandas._libs.hashtable.PyObjectHashTable.get_item\u001B[0;34m()\u001B[0m\n",
      "\u001B[0;31mKeyError\u001B[0m: \"'season'\"",
      "\nThe above exception was the direct cause of the following exception:\n",
      "\u001B[0;31mKeyError\u001B[0m                                  Traceback (most recent call last)",
      "Input \u001B[0;32mIn [110]\u001B[0m, in \u001B[0;36m<cell line: 1>\u001B[0;34m()\u001B[0m\n\u001B[0;32m----> 1\u001B[0m \u001B[43mtarget_encoding\u001B[49m\u001B[43m(\u001B[49m\u001B[43mx_train\u001B[49m\u001B[43m,\u001B[49m\u001B[43m \u001B[49m\u001B[43my_train\u001B[49m\u001B[43m)\u001B[49m\n",
      "Input \u001B[0;32mIn [108]\u001B[0m, in \u001B[0;36mtarget_encoding\u001B[0;34m(df_x, df_y)\u001B[0m\n\u001B[1;32m      4\u001B[0m features_to_encode \u001B[38;5;241m=\u001B[39m [\u001B[38;5;124m'\u001B[39m\u001B[38;5;124mseason\u001B[39m\u001B[38;5;124m'\u001B[39m, \u001B[38;5;124m'\u001B[39m\u001B[38;5;124mshot_type\u001B[39m\u001B[38;5;124m'\u001B[39m, \u001B[38;5;124m'\u001B[39m\u001B[38;5;124mshot_zone_area\u001B[39m\u001B[38;5;124m'\u001B[39m, \u001B[38;5;124m'\u001B[39m\u001B[38;5;124mshot_zone_basic\u001B[39m\u001B[38;5;124m'\u001B[39m, \u001B[38;5;124m'\u001B[39m\u001B[38;5;124mshot_zone_range\u001B[39m\u001B[38;5;124m'\u001B[39m, \u001B[38;5;124m'\u001B[39m\u001B[38;5;124mopponent\u001B[39m\u001B[38;5;124m'\u001B[39m, \u001B[38;5;124m'\u001B[39m\u001B[38;5;124maction_type\u001B[39m\u001B[38;5;124m'\u001B[39m, \u001B[38;5;124m'\u001B[39m\u001B[38;5;124mmatchup\u001B[39m\u001B[38;5;124m'\u001B[39m]\n\u001B[1;32m      6\u001B[0m \u001B[38;5;28;01mfor\u001B[39;00m feature \u001B[38;5;129;01min\u001B[39;00m features_to_encode:\n\u001B[1;32m      7\u001B[0m     \u001B[38;5;66;03m# df_x[feature]\u001B[39;00m\n\u001B[0;32m----> 8\u001B[0m     \u001B[43mdf_x\u001B[49m\u001B[43m[\u001B[49m\u001B[38;5;124;43mf\u001B[39;49m\u001B[38;5;124;43m\"\u001B[39;49m\u001B[38;5;124;43m'\u001B[39;49m\u001B[38;5;132;43;01m{\u001B[39;49;00m\u001B[43mfeature\u001B[49m\u001B[38;5;132;43;01m}\u001B[39;49;00m\u001B[38;5;124;43m'\u001B[39;49m\u001B[38;5;124;43m\"\u001B[39;49m\u001B[43m]\u001B[49m\n",
      "File \u001B[0;32m~/lib/python3.8/site-packages/pandas/core/frame.py:3505\u001B[0m, in \u001B[0;36mDataFrame.__getitem__\u001B[0;34m(self, key)\u001B[0m\n\u001B[1;32m   3503\u001B[0m \u001B[38;5;28;01mif\u001B[39;00m \u001B[38;5;28mself\u001B[39m\u001B[38;5;241m.\u001B[39mcolumns\u001B[38;5;241m.\u001B[39mnlevels \u001B[38;5;241m>\u001B[39m \u001B[38;5;241m1\u001B[39m:\n\u001B[1;32m   3504\u001B[0m     \u001B[38;5;28;01mreturn\u001B[39;00m \u001B[38;5;28mself\u001B[39m\u001B[38;5;241m.\u001B[39m_getitem_multilevel(key)\n\u001B[0;32m-> 3505\u001B[0m indexer \u001B[38;5;241m=\u001B[39m \u001B[38;5;28;43mself\u001B[39;49m\u001B[38;5;241;43m.\u001B[39;49m\u001B[43mcolumns\u001B[49m\u001B[38;5;241;43m.\u001B[39;49m\u001B[43mget_loc\u001B[49m\u001B[43m(\u001B[49m\u001B[43mkey\u001B[49m\u001B[43m)\u001B[49m\n\u001B[1;32m   3506\u001B[0m \u001B[38;5;28;01mif\u001B[39;00m is_integer(indexer):\n\u001B[1;32m   3507\u001B[0m     indexer \u001B[38;5;241m=\u001B[39m [indexer]\n",
      "File \u001B[0;32m~/lib/python3.8/site-packages/pandas/core/indexes/base.py:3623\u001B[0m, in \u001B[0;36mIndex.get_loc\u001B[0;34m(self, key, method, tolerance)\u001B[0m\n\u001B[1;32m   3621\u001B[0m     \u001B[38;5;28;01mreturn\u001B[39;00m \u001B[38;5;28mself\u001B[39m\u001B[38;5;241m.\u001B[39m_engine\u001B[38;5;241m.\u001B[39mget_loc(casted_key)\n\u001B[1;32m   3622\u001B[0m \u001B[38;5;28;01mexcept\u001B[39;00m \u001B[38;5;167;01mKeyError\u001B[39;00m \u001B[38;5;28;01mas\u001B[39;00m err:\n\u001B[0;32m-> 3623\u001B[0m     \u001B[38;5;28;01mraise\u001B[39;00m \u001B[38;5;167;01mKeyError\u001B[39;00m(key) \u001B[38;5;28;01mfrom\u001B[39;00m \u001B[38;5;21;01merr\u001B[39;00m\n\u001B[1;32m   3624\u001B[0m \u001B[38;5;28;01mexcept\u001B[39;00m \u001B[38;5;167;01mTypeError\u001B[39;00m:\n\u001B[1;32m   3625\u001B[0m     \u001B[38;5;66;03m# If we have a listlike key, _check_indexing_error will raise\u001B[39;00m\n\u001B[1;32m   3626\u001B[0m     \u001B[38;5;66;03m#  InvalidIndexError. Otherwise we fall through and re-raise\u001B[39;00m\n\u001B[1;32m   3627\u001B[0m     \u001B[38;5;66;03m#  the TypeError.\u001B[39;00m\n\u001B[1;32m   3628\u001B[0m     \u001B[38;5;28mself\u001B[39m\u001B[38;5;241m.\u001B[39m_check_indexing_error(key)\n",
      "\u001B[0;31mKeyError\u001B[0m: \"'season'\""
     ]
    }
   ],
   "source": [],
   "metadata": {
    "collapsed": false,
    "pycharm": {
     "name": "#%%\n"
    }
   }
  },
  {
   "cell_type": "code",
   "execution_count": null,
   "outputs": [],
   "source": [
    "# df.to_csv('../data/data3.csv', index=False)"
   ],
   "metadata": {
    "collapsed": false,
    "pycharm": {
     "name": "#%%\n"
    }
   }
  }
 ],
 "metadata": {
  "kernelspec": {
   "display_name": "Python 3",
   "language": "python",
   "name": "python3"
  },
  "language_info": {
   "codemirror_mode": {
    "name": "ipython",
    "version": 2
   },
   "file_extension": ".py",
   "mimetype": "text/x-python",
   "name": "python",
   "nbconvert_exporter": "python",
   "pygments_lexer": "ipython2",
   "version": "2.7.6"
  }
 },
 "nbformat": 4,
 "nbformat_minor": 0
}